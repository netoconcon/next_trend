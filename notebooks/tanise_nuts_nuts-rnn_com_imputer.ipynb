{
 "cells": [
  {
   "cell_type": "code",
   "execution_count": 92,
   "id": "63cefc91",
   "metadata": {},
   "outputs": [],
   "source": [
    "# import toolkit\n",
    "# import seaborn as sns\n",
    "import numpy as np\n",
    "import matplotlib.pyplot as plt\n",
    "from datetime import date\n",
    "import pandas as pd"
   ]
  },
  {
   "cell_type": "code",
   "execution_count": 93,
   "id": "0e8d2c49",
   "metadata": {},
   "outputs": [],
   "source": [
    "# import sentimental data\n",
    "amazon_df = pd.read_csv('amazon_df.csv')\n",
    "gme_df = pd.read_csv('gme_df.csv')\n",
    "kodak_df = pd.read_csv('kodak_df.csv')\n",
    "facebook_df = pd.read_csv('fb_df.csv')"
   ]
  },
  {
   "cell_type": "code",
   "execution_count": 94,
   "id": "72949c5d",
   "metadata": {},
   "outputs": [],
   "source": [
    "# renaming columns\n",
    "amazon_df.rename({'0':'Date', '1':'Positive', '2':'Neutral', '3':'Negative', '4':'Sentimental Score'}, axis=1, inplace=True)\n",
    "gme_df.rename({'0':'Date', '1':'Positive', '2':'Neutral', '3':'Negative', '4':'Sentimental Score'}, axis=1, inplace=True)\n",
    "kodak_df.rename({'0':'Date', '1':'Positive', '2':'Neutral', '3':'Negative', '4':'Sentimental Score'}, axis=1, inplace=True)\n",
    "facebook_df.rename({'0':'Date', '1':'Positive', '2':'Neutral', '3':'Negative', '4':'Sentimental Score'}, axis=1, inplace=True)\n",
    "\n",
    "# dropping columns\n",
    "\n",
    "amazon_df.drop(columns=['Unnamed: 0'], inplace=True)\n",
    "gme_df.drop(columns=['Unnamed: 0'], inplace=True)\n",
    "kodak_df.drop(columns=['Unnamed: 0'], inplace=True)\n",
    "facebook_df.drop(columns=['Unnamed: 0'], inplace=True)\n"
   ]
  },
  {
   "cell_type": "code",
   "execution_count": 95,
   "id": "61bfdb74",
   "metadata": {},
   "outputs": [],
   "source": [
    "# import price data\n",
    "amazon_price_df = pd.read_csv('price/AMZN_1.csv')\n",
    "gme_price_df = pd.read_csv('price/GME_1.csv')\n",
    "kodak_price_df = pd.read_csv('price/KODK_1.csv')\n",
    "facebook_price_df = pd.read_csv('price/FB_1.csv')"
   ]
  },
  {
   "cell_type": "markdown",
   "id": "e88b355a",
   "metadata": {},
   "source": []
  },
  {
   "cell_type": "code",
   "execution_count": 96,
   "id": "cf6d9313",
   "metadata": {},
   "outputs": [
    {
     "name": "stdout",
     "output_type": "stream",
     "text": [
      "(862, 11)\n",
      "(653, 11)\n",
      "(726, 11)\n",
      "(855, 11)\n"
     ]
    }
   ],
   "source": [
    "# merging DB\n",
    "\n",
    "amazon_df = pd.merge(amazon_df, amazon_price_df, how=\"outer\", on=[\"Date\", \"Date\"])\n",
    "gme_df = pd.merge(gme_df, gme_price_df, how=\"outer\", on=[\"Date\", \"Date\"] )\n",
    "kodak_df = pd.merge(kodak_df, kodak_price_df, how=\"outer\", on=[\"Date\", \"Date\"] )\n",
    "facebook_df = pd.merge(facebook_df, facebook_price_df, how=\"outer\", on=[\"Date\", \"Date\"] )\n",
    "\n",
    "\n",
    "print(amazon_df.shape)\n",
    "print(kodak_df.shape)\n",
    "print(gme_df.shape)\n",
    "print(facebook_df.shape)"
   ]
  },
  {
   "cell_type": "code",
   "execution_count": 97,
   "id": "3491f80e",
   "metadata": {},
   "outputs": [],
   "source": [
    "facebook_df.drop(columns=['Date'],inplace=True)\n",
    "kodak_df.drop(columns=['Date'],inplace=True)\n",
    "gme_df.drop(columns=['Date'],inplace=True)\n",
    "amazon_df.drop(columns=['Date'],inplace=True)"
   ]
  },
  {
   "cell_type": "code",
   "execution_count": 98,
   "id": "09900575",
   "metadata": {},
   "outputs": [],
   "source": [
    "facebook_df['retorno'] = facebook_df['Close'].pct_change()\n",
    "kodak_df['retorno'] = kodak_df['Close'].pct_change()\n",
    "gme_df['retorno'] = gme_df['Close'].pct_change()\n",
    "amazon_df['retorno'] = amazon_df['Close'].pct_change()"
   ]
  },
  {
   "cell_type": "code",
   "execution_count": 105,
   "id": "9490c24d",
   "metadata": {},
   "outputs": [],
   "source": [
    "from sklearn.impute import KNNImputer, SimpleImputer"
   ]
  },
  {
   "cell_type": "code",
   "execution_count": 106,
   "id": "0958d19b",
   "metadata": {},
   "outputs": [],
   "source": [
    "from sklearn.compose import ColumnTransformer\n",
    "from sklearn.pipeline import Pipeline\n",
    "preprocessor = ColumnTransformer([('imputer',  KNNImputer(n_neighbors=1),['Open','Low','Close','Adj Close', 'Volume'])], remainder='passthrough')\n",
    "filling_na = SimpleImputer(strategy=\"constant\", fill_value=-1000)\n",
    "my_pipeline = Pipeline(steps=[('preprocessor', preprocessor),('fill_na', filling_na)])"
   ]
  },
  {
   "cell_type": "code",
   "execution_count": 69,
   "id": "6e06b9be",
   "metadata": {},
   "outputs": [
    {
     "data": {
      "text/plain": [
       "Positive               8\n",
       "Neutral                8\n",
       "Negative               8\n",
       "Sentimental Score      8\n",
       "Open                 219\n",
       "High                 219\n",
       "Low                  219\n",
       "Close                219\n",
       "Adj Close            219\n",
       "Volume               219\n",
       "retorno                2\n",
       "dtype: int64"
      ]
     },
     "execution_count": 69,
     "metadata": {},
     "output_type": "execute_result"
    }
   ],
   "source": [
    "facebook_df.isna().sum()"
   ]
  },
  {
   "cell_type": "code",
   "execution_count": 115,
   "id": "14f157ee",
   "metadata": {},
   "outputs": [
    {
     "data": {
      "text/plain": [
       "array([[ 1.60000000e+02,  1.58009995e+02,  1.66820007e+02, ...,\n",
       "        -6.67000000e-01,  1.71990005e+02, -1.00000000e+03],\n",
       "       [ 1.80490005e+02,  1.65070007e+02,  1.67619995e+02, ...,\n",
       "         5.00000000e-01,  1.82380005e+02,  4.79551592e-03],\n",
       "       [ 1.87679993e+02,  1.79000000e+02,  1.80059998e+02, ...,\n",
       "         1.30000000e+00,  1.88789993e+02,  7.42155075e-02],\n",
       "       ...,\n",
       "       [ 1.85300003e+02,  1.76149994e+02,  1.78850006e+02, ...,\n",
       "        -1.00000000e+03,  1.87690002e+02, -3.74575753e-02],\n",
       "       [ 1.81000000e+02,  1.73839996e+02,  1.80360001e+02, ...,\n",
       "        -1.00000000e+03,  1.81600006e+02,  8.44280095e-03],\n",
       "       [ 1.80360001e+02,  1.78759995e+02,  1.83940002e+02, ...,\n",
       "        -1.00000000e+03,  1.86039993e+02,  1.98491959e-02]])"
      ]
     },
     "execution_count": 115,
     "metadata": {},
     "output_type": "execute_result"
    }
   ],
   "source": [
    "#facebook_df = facebook_df[['Open','Low','Close','Adj Close', 'Volume']].apply(lambda x:preprocessor.fit_transform(x))\n",
    "gme_np = my_pipeline.fit_transform(gme_df) \n",
    "gme_np"
   ]
  },
  {
   "cell_type": "code",
   "execution_count": 116,
   "id": "94cf230f",
   "metadata": {},
   "outputs": [],
   "source": [
    "gme_np = my_pipeline.fit_transform(gme_df) \n",
    "kodak_np = my_pipeline.fit_transform(kodak_df)\n",
    "facebook_np = my_pipeline.fit_transform(facebook_df)\n",
    "amazon_np = my_pipeline.fit_transform(amazon_df)"
   ]
  },
  {
   "cell_type": "code",
   "execution_count": 117,
   "id": "a46032ad",
   "metadata": {},
   "outputs": [
    {
     "name": "stderr",
     "output_type": "stream",
     "text": [
      "/var/folders/g9/dk8kk1tn5ys_km_c5w3rh3380000gp/T/ipykernel_90208/2229301694.py:1: VisibleDeprecationWarning: Creating an ndarray from ragged nested sequences (which is a list-or-tuple of lists-or-tuples-or ndarrays with different lengths or shapes) is deprecated. If you meant to do this, you must specify 'dtype=object' when creating the ndarray\n",
      "  news_stock_np = np.array([gme_np,kodak_np,amazon_np,facebook_np])\n"
     ]
    }
   ],
   "source": [
    "news_stock_np = np.array([gme_np,kodak_np,amazon_np,facebook_np])"
   ]
  },
  {
   "cell_type": "code",
   "execution_count": 118,
   "id": "e7435abd",
   "metadata": {},
   "outputs": [],
   "source": [
    "#reddit_day.fillna(-1000,inplace=True)\n",
    "from tensorflow.keras.preprocessing.sequence import pad_sequences"
   ]
  },
  {
   "cell_type": "code",
   "execution_count": 119,
   "id": "bccff8f1",
   "metadata": {},
   "outputs": [
    {
     "data": {
      "text/plain": [
       "(4,)"
      ]
     },
     "execution_count": 119,
     "metadata": {},
     "output_type": "execute_result"
    }
   ],
   "source": [
    "news_stock_np.shape"
   ]
  },
  {
   "cell_type": "code",
   "execution_count": 120,
   "id": "20f9960d",
   "metadata": {},
   "outputs": [
    {
     "data": {
      "text/plain": [
       "array([[[-1.0000000e+03, -1.0000000e+03, -1.0000000e+03, ...,\n",
       "         -1.0000000e+03, -1.0000000e+03, -1.0000000e+03],\n",
       "        [-1.0000000e+03, -1.0000000e+03, -1.0000000e+03, ...,\n",
       "         -1.0000000e+03, -1.0000000e+03, -1.0000000e+03],\n",
       "        [-1.0000000e+03, -1.0000000e+03, -1.0000000e+03, ...,\n",
       "         -1.0000000e+03, -1.0000000e+03, -1.0000000e+03],\n",
       "        ...,\n",
       "        [ 1.8530000e+02,  1.7614999e+02,  1.7885001e+02, ...,\n",
       "         -1.0000000e+03,  1.8769000e+02, -3.7457574e-02],\n",
       "        [ 1.8100000e+02,  1.7384000e+02,  1.8036000e+02, ...,\n",
       "         -1.0000000e+03,  1.8160001e+02,  8.4428005e-03],\n",
       "        [ 1.8036000e+02,  1.7875999e+02,  1.8394000e+02, ...,\n",
       "         -1.0000000e+03,  1.8603999e+02,  1.9849196e-02]],\n",
       "\n",
       "       [[-1.0000000e+03, -1.0000000e+03, -1.0000000e+03, ...,\n",
       "         -1.0000000e+03, -1.0000000e+03, -1.0000000e+03],\n",
       "        [-1.0000000e+03, -1.0000000e+03, -1.0000000e+03, ...,\n",
       "         -1.0000000e+03, -1.0000000e+03, -1.0000000e+03],\n",
       "        [-1.0000000e+03, -1.0000000e+03, -1.0000000e+03, ...,\n",
       "         -1.0000000e+03, -1.0000000e+03, -1.0000000e+03],\n",
       "        ...,\n",
       "        [ 7.7800002e+00,  7.3400002e+00,  7.3499999e+00, ...,\n",
       "         -1.0000000e+03,  7.7800002e+00, -5.6482669e-02],\n",
       "        [ 7.3600001e+00,  7.0500002e+00,  7.2700000e+00, ...,\n",
       "         -1.0000000e+03,  7.4200001e+00, -1.0884354e-02],\n",
       "        [ 7.2399998e+00,  7.1700001e+00,  7.2800002e+00, ...,\n",
       "         -1.0000000e+03,  7.4299998e+00,  1.3755158e-03]],\n",
       "\n",
       "       [[ 3.6942000e+03,  3.6209199e+03,  3.6312000e+03, ...,\n",
       "          6.7900002e-01,  3.6953999e+03, -1.0000000e+03],\n",
       "        [ 3.7088501e+03,  3.6608301e+03,  3.6816799e+03, ...,\n",
       "          2.1400000e-01,  3.7176599e+03,  1.3901736e-02],\n",
       "        [ 3.7021001e+03,  3.6713201e+03,  3.6773601e+03, ...,\n",
       "          3.5699999e-01,  3.7730801e+03, -1.1733299e-03],\n",
       "        ...,\n",
       "        [ 3.5872300e+03,  3.5822700e+03,  3.6380300e+03, ...,\n",
       "         -1.0000000e+03,  3.6400200e+03,  1.4735602e-02],\n",
       "        [ 3.6400000e+03,  3.6220400e+03,  3.6566399e+03, ...,\n",
       "         -1.0000000e+03,  3.6661101e+03,  5.1153684e-03],\n",
       "        [ 3.6731699e+03,  3.6472500e+03,  3.6998201e+03, ...,\n",
       "         -1.0000000e+03,  3.7120801e+03,  1.1808703e-02]],\n",
       "\n",
       "       [[-1.0000000e+03, -1.0000000e+03, -1.0000000e+03, ...,\n",
       "         -1.0000000e+03, -1.0000000e+03, -1.0000000e+03],\n",
       "        [-1.0000000e+03, -1.0000000e+03, -1.0000000e+03, ...,\n",
       "         -1.0000000e+03, -1.0000000e+03, -1.0000000e+03],\n",
       "        [-1.0000000e+03, -1.0000000e+03, -1.0000000e+03, ...,\n",
       "         -1.0000000e+03, -1.0000000e+03, -1.0000000e+03],\n",
       "        ...,\n",
       "        [ 1.6058000e+02,  1.6031000e+02,  1.6189000e+02, ...,\n",
       "         -1.0000000e+03,  1.6241000e+02, -3.7538523e-03],\n",
       "        [ 1.6389999e+02,  1.6383000e+02,  1.6737000e+02, ...,\n",
       "         -1.0000000e+03,  1.6750000e+02,  3.3850122e-02],\n",
       "        [ 3.6957999e+02,  3.6822000e+02,  3.7245999e+02, ...,\n",
       "         -1.0000000e+03,  3.7444000e+02,  1.2253690e+00]]], dtype=float32)"
      ]
     },
     "execution_count": 120,
     "metadata": {},
     "output_type": "execute_result"
    }
   ],
   "source": [
    "news_stock_np_pad = pad_sequences(news_stock_np,value=-1000, dtype='float32') # int32 by default\n",
    "news_stock_np_pad"
   ]
  },
  {
   "cell_type": "code",
   "execution_count": 121,
   "id": "46d9106d",
   "metadata": {},
   "outputs": [
    {
     "data": {
      "text/plain": [
       "(4, 862, 11)"
      ]
     },
     "execution_count": 121,
     "metadata": {},
     "output_type": "execute_result"
    }
   ],
   "source": [
    "news_stock_np_pad.shape"
   ]
  },
  {
   "cell_type": "code",
   "execution_count": 122,
   "id": "f544daa7",
   "metadata": {},
   "outputs": [
    {
     "data": {
      "text/plain": [
       "(4, 861, 11)"
      ]
     },
     "execution_count": 122,
     "metadata": {},
     "output_type": "execute_result"
    }
   ],
   "source": [
    "x=news_stock_np_pad[:,:-1,:]\n",
    "x.shape"
   ]
  },
  {
   "cell_type": "code",
   "execution_count": 123,
   "id": "7ab3b3d7",
   "metadata": {},
   "outputs": [
    {
     "data": {
      "text/plain": [
       "(4,)"
      ]
     },
     "execution_count": 123,
     "metadata": {},
     "output_type": "execute_result"
    }
   ],
   "source": [
    "y=news_stock_np_pad[:,-1,-1]\n",
    "y.shape"
   ]
  },
  {
   "cell_type": "code",
   "execution_count": 124,
   "id": "8f56fe4d",
   "metadata": {},
   "outputs": [],
   "source": [
    "y_train =y[0:3]\n",
    "y_test = y[-1:]"
   ]
  },
  {
   "cell_type": "code",
   "execution_count": 125,
   "id": "fbb07725",
   "metadata": {},
   "outputs": [],
   "source": [
    "x_train = x[0:3,:,:]\n",
    "x_test = x[-1:,:,:]"
   ]
  },
  {
   "cell_type": "code",
   "execution_count": 126,
   "id": "60707137",
   "metadata": {},
   "outputs": [
    {
     "data": {
      "text/plain": [
       "array([0.0198492 , 0.00137552, 0.0118087 , 1.225369  ], dtype=float32)"
      ]
     },
     "execution_count": 126,
     "metadata": {},
     "output_type": "execute_result"
    }
   ],
   "source": [
    "y"
   ]
  },
  {
   "cell_type": "code",
   "execution_count": 127,
   "id": "493111f2",
   "metadata": {},
   "outputs": [],
   "source": [
    "from tensorflow.keras import models\n",
    "from tensorflow.keras import layers\n",
    "from tensorflow.keras.optimizers import RMSprop\n",
    "from tensorflow.keras.layers.experimental.preprocessing import Normalization\n",
    "def init_model():\n",
    "    #normalizar o x train\n",
    "    normalizer = Normalization()\n",
    "    model = models.Sequential()\n",
    "    model.add(layers.Masking(mask_value=-1000.))\n",
    "    normalizer.adapt(x_train)\n",
    "    model.add(layers.LSTM(20, return_sequences=True, activation='tanh'))\n",
    "    model.add(layers.LSTM(10, return_sequences=False, activation='tanh'))\n",
    "    model.add(layers.Dense(5, activation='relu'))\n",
    "    model.add(layers.Dense(10, activation='linear'))\n",
    "    \n",
    "  #  model.compile(loss='mse', \n",
    "  #                optimizer='rmsprop', \n",
    "  #                metrics=['mae'])\n",
    "    model.compile(loss='mse', \n",
    "                  optimizer=RMSprop(learning_rate=0.0003), \n",
    "                  metrics=['mae'])\n",
    "    \n",
    "    return model\n",
    "\n",
    "#init_model().summary()"
   ]
  },
  {
   "cell_type": "code",
   "execution_count": 128,
   "id": "d1cdd35e",
   "metadata": {},
   "outputs": [
    {
     "name": "stderr",
     "output_type": "stream",
     "text": [
      "2021-07-31 11:17:47.448022: I tensorflow/core/platform/cpu_feature_guard.cc:142] This TensorFlow binary is optimized with oneAPI Deep Neural Network Library (oneDNN) to use the following CPU instructions in performance-critical operations:  AVX2 FMA\n",
      "To enable them in other operations, rebuild TensorFlow with the appropriate compiler flags.\n",
      "2021-07-31 11:17:47.650083: I tensorflow/compiler/mlir/mlir_graph_optimization_pass.cc:176] None of the MLIR Optimization Passes are enabled (registered 2)\n"
     ]
    }
   ],
   "source": [
    "model=init_model()"
   ]
  },
  {
   "cell_type": "code",
   "execution_count": 132,
   "id": "10bb2fed",
   "metadata": {},
   "outputs": [
    {
     "name": "stdout",
     "output_type": "stream",
     "text": [
      "Epoch 1/20\n",
      "1/1 [==============================] - 3s 3s/step - loss: 0.0144 - mae: 0.1042\n",
      "Epoch 2/20\n",
      "1/1 [==============================] - 5s 5s/step - loss: 0.0132 - mae: 0.0994\n",
      "Epoch 3/20\n",
      "1/1 [==============================] - 3s 3s/step - loss: 0.0121 - mae: 0.0952\n",
      "Epoch 4/20\n",
      "1/1 [==============================] - 2s 2s/step - loss: 0.0112 - mae: 0.0914\n",
      "Epoch 5/20\n",
      "1/1 [==============================] - 2s 2s/step - loss: 0.0103 - mae: 0.0878\n",
      "Epoch 6/20\n",
      "1/1 [==============================] - 3s 3s/step - loss: 0.0096 - mae: 0.0845\n",
      "Epoch 7/20\n",
      "1/1 [==============================] - 3s 3s/step - loss: 0.0089 - mae: 0.0814\n",
      "Epoch 8/20\n",
      "1/1 [==============================] - 2s 2s/step - loss: 0.0083 - mae: 0.0784\n",
      "Epoch 9/20\n",
      "1/1 [==============================] - 2s 2s/step - loss: 0.0077 - mae: 0.0755\n",
      "Epoch 10/20\n",
      "1/1 [==============================] - 3s 3s/step - loss: 0.0071 - mae: 0.0727\n",
      "Epoch 11/20\n",
      "1/1 [==============================] - 2s 2s/step - loss: 0.0066 - mae: 0.0700\n",
      "Epoch 12/20\n",
      "1/1 [==============================] - 2s 2s/step - loss: 0.0062 - mae: 0.0674\n",
      "Epoch 13/20\n",
      "1/1 [==============================] - 2s 2s/step - loss: 0.0057 - mae: 0.0648\n",
      "Epoch 14/20\n",
      "1/1 [==============================] - 2s 2s/step - loss: 0.0053 - mae: 0.0624\n",
      "Epoch 15/20\n",
      "1/1 [==============================] - 2s 2s/step - loss: 0.0050 - mae: 0.0602\n",
      "Epoch 16/20\n",
      "1/1 [==============================] - 2s 2s/step - loss: 0.0046 - mae: 0.0580\n",
      "Epoch 17/20\n",
      "1/1 [==============================] - 2s 2s/step - loss: 0.0043 - mae: 0.0557\n",
      "Epoch 18/20\n",
      "1/1 [==============================] - 2s 2s/step - loss: 0.0040 - mae: 0.0536\n",
      "Epoch 19/20\n",
      "1/1 [==============================] - 2s 2s/step - loss: 0.0037 - mae: 0.0515\n",
      "Epoch 20/20\n",
      "1/1 [==============================] - 2s 2s/step - loss: 0.0034 - mae: 0.0495\n"
     ]
    },
    {
     "data": {
      "text/plain": [
       "<tensorflow.python.keras.callbacks.History at 0x15bb06520>"
      ]
     },
     "execution_count": 132,
     "metadata": {},
     "output_type": "execute_result"
    }
   ],
   "source": [
    "model.fit(x_train,y_train,epochs=20)"
   ]
  },
  {
   "cell_type": "code",
   "execution_count": 130,
   "id": "6fdb836e",
   "metadata": {},
   "outputs": [
    {
     "data": {
      "text/plain": [
       "array([[ 0.19145155, -0.04493175,  0.1359333 , -0.1457363 ,  0.17241699,\n",
       "        -0.04693845, -0.16149047,  0.0534225 ,  0.09431215,  0.01208889]],\n",
       "      dtype=float32)"
      ]
     },
     "execution_count": 130,
     "metadata": {},
     "output_type": "execute_result"
    }
   ],
   "source": [
    "model.predict(x_test)"
   ]
  }
 ],
 "metadata": {
  "kernelspec": {
   "display_name": "Python 3 (ipykernel)",
   "language": "python",
   "name": "python3"
  },
  "language_info": {
   "codemirror_mode": {
    "name": "ipython",
    "version": 3
   },
   "file_extension": ".py",
   "mimetype": "text/x-python",
   "name": "python",
   "nbconvert_exporter": "python",
   "pygments_lexer": "ipython3",
   "version": "3.8.6"
  }
 },
 "nbformat": 4,
 "nbformat_minor": 5
}
