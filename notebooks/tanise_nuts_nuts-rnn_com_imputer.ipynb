{
 "cells": [
  {
   "cell_type": "code",
   "execution_count": null,
   "id": "cb2436cd",
   "metadata": {},
   "outputs": [],
   "source": [
    "# !pip install seaborn"
   ]
  },
  {
   "cell_type": "code",
   "execution_count": 1,
   "id": "63cefc91",
   "metadata": {},
   "outputs": [],
   "source": [
    "# import toolkit\n",
    "import seaborn as sns\n",
    "import numpy as np\n",
    "import matplotlib.pyplot as plt\n",
    "from datetime import date\n",
    "import pandas as pd"
   ]
  },
  {
   "cell_type": "code",
   "execution_count": 2,
   "id": "0e8d2c49",
   "metadata": {},
   "outputs": [],
   "source": [
    "# import sentimental data\n",
    "amazon_df = pd.read_csv('amazon_df.csv')\n",
    "gme_df = pd.read_csv('gme_df.csv')\n",
    "kodak_df = pd.read_csv('kodak_df.csv')\n",
    "facebook_df = pd.read_csv('fb_df.csv')\n",
    "apple_df = pd.read_csv('new_data/aapl_df.csv')\n",
    "baba_df = pd.read_csv('new_data/baba_df.csv')\n",
    "goog_df = pd.read_csv('new_data/goog_df.csv')\n",
    "jnj_df = pd.read_csv('new_data/jnj_df.csv')\n",
    "pfe_df = pd.read_csv('new_data/pfe_df.csv')\n",
    "tsla_df = pd.read_csv('new_data/tsla_df.csv')"
   ]
  },
  {
   "cell_type": "code",
   "execution_count": 3,
   "id": "72949c5d",
   "metadata": {},
   "outputs": [],
   "source": [
    "# renaming columns\n",
    "amazon_df.rename({'0':'Date', '1':'Positive', '2':'Neutral', '3':'Negative', '4':'Sentimental Score'}, axis=1, inplace=True)\n",
    "gme_df.rename({'0':'Date', '1':'Positive', '2':'Neutral', '3':'Negative', '4':'Sentimental Score'}, axis=1, inplace=True)\n",
    "kodak_df.rename({'0':'Date', '1':'Positive', '2':'Neutral', '3':'Negative', '4':'Sentimental Score'}, axis=1, inplace=True)\n",
    "facebook_df.rename({'0':'Date', '1':'Positive', '2':'Neutral', '3':'Negative', '4':'Sentimental Score'}, axis=1, inplace=True)\n",
    "goog_df.rename({'0':'Date', '1':'Positive', '2':'Neutral', '3':'Negative', '4':'Sentimental Score'}, axis=1, inplace=True)\n",
    "apple_df.rename({'0':'Date', '1':'Positive', '2':'Neutral', '3':'Negative', '4':'Sentimental Score'}, axis=1, inplace=True)\n",
    "baba_df.rename({'0':'Date', '1':'Positive', '2':'Neutral', '3':'Negative', '4':'Sentimental Score'}, axis=1, inplace=True)\n",
    "jnj_df.rename({'0':'Date', '1':'Positive', '2':'Neutral', '3':'Negative', '4':'Sentimental Score'}, axis=1, inplace=True)\n",
    "pfe_df.rename({'0':'Date', '1':'Positive', '2':'Neutral', '3':'Negative', '4':'Sentimental Score'}, axis=1, inplace=True)\n",
    "tsla_df.rename({'0':'Date', '1':'Positive', '2':'Neutral', '3':'Negative', '4':'Sentimental Score'}, axis=1, inplace=True)\n",
    "\n",
    "# dropping columns\n",
    "\n",
    "amazon_df.drop(columns=['Unnamed: 0'], inplace=True)\n",
    "gme_df.drop(columns=['Unnamed: 0'], inplace=True)\n",
    "kodak_df.drop(columns=['Unnamed: 0'], inplace=True)\n",
    "facebook_df.drop(columns=['Unnamed: 0'], inplace=True)\n",
    "apple_df.drop(columns=['Unnamed: 0'], inplace=True)\n",
    "goog_df.drop(columns=['Unnamed: 0'], inplace=True)\n",
    "baba_df.drop(columns=['Unnamed: 0'], inplace=True)\n",
    "jnj_df.drop(columns=['Unnamed: 0'], inplace=True)\n",
    "pfe_df.drop(columns=['Unnamed: 0'], inplace=True)\n",
    "tsla_df.drop(columns=['Unnamed: 0'], inplace=True)"
   ]
  },
  {
   "cell_type": "code",
   "execution_count": 4,
   "id": "61bfdb74",
   "metadata": {},
   "outputs": [],
   "source": [
    "# import price data\n",
    "amazon_price_df = pd.read_csv('price/AMZN_1.csv')\n",
    "gme_price_df = pd.read_csv('price/GME_1.csv')\n",
    "kodak_price_df = pd.read_csv('price/KODK_1.csv')\n",
    "facebook_price_df = pd.read_csv('price/FB_1.csv')\n",
    "apple_price_df = pd.read_csv('price/AAPL.csv')\n",
    "baba_price_df = pd.read_csv('price/BABA.csv')\n",
    "goog_price_df = pd.read_csv('price/GOOG.csv')\n",
    "jnj_price_df = pd.read_csv('price/JNJ.csv')\n",
    "pfe_price_df = pd.read_csv('price/PFE.csv')\n",
    "tsla_price_df = pd.read_csv('price/TSLA.csv')"
   ]
  },
  {
   "cell_type": "markdown",
   "id": "e88b355a",
   "metadata": {},
   "source": []
  },
  {
   "cell_type": "code",
   "execution_count": 5,
   "id": "cf6d9313",
   "metadata": {},
   "outputs": [
    {
     "name": "stdout",
     "output_type": "stream",
     "text": [
      "(862, 11)\n",
      "(653, 11)\n",
      "(726, 11)\n",
      "(855, 11)\n"
     ]
    }
   ],
   "source": [
    "# merging DB\n",
    "\n",
    "amazon_df = pd.merge(amazon_df, amazon_price_df, how=\"outer\", on=[\"Date\", \"Date\"])\n",
    "gme_df = pd.merge(gme_df, gme_price_df, how=\"outer\", on=[\"Date\", \"Date\"] )\n",
    "kodak_df = pd.merge(kodak_df, kodak_price_df, how=\"outer\", on=[\"Date\", \"Date\"] )\n",
    "facebook_df = pd.merge(facebook_df, facebook_price_df, how=\"outer\", on=[\"Date\", \"Date\"] )\n",
    "apple_df = pd.merge(apple_df, apple_price_df, how=\"outer\", on=[\"Date\", \"Date\"] )\n",
    "baba_df = pd.merge(baba_df, baba_price_df, how=\"outer\", on=[\"Date\", \"Date\"] )\n",
    "goog_df = pd.merge(goog_df, goog_price_df, how=\"outer\", on=[\"Date\", \"Date\"] )\n",
    "jnj_df = pd.merge(jnj_df, jnj_price_df, how=\"outer\", on=[\"Date\", \"Date\"] )\n",
    "pfe_df = pd.merge(pfe_df, pfe_price_df, how=\"outer\", on=[\"Date\", \"Date\"] )\n",
    "tsla_df = pd.merge(tsla_df, tsla_price_df, how=\"outer\", on=[\"Date\", \"Date\"] )\n",
    "\n",
    "\n",
    "print(amazon_df.shape)\n",
    "print(kodak_df.shape)\n",
    "print(gme_df.shape)\n",
    "print(facebook_df.shape)"
   ]
  },
  {
   "cell_type": "code",
   "execution_count": 6,
   "id": "3491f80e",
   "metadata": {},
   "outputs": [],
   "source": [
    "facebook_df.drop(columns=['Date'],inplace=True)\n",
    "kodak_df.drop(columns=['Date'],inplace=True)\n",
    "gme_df.drop(columns=['Date'],inplace=True)\n",
    "amazon_df.drop(columns=['Date'],inplace=True)\n",
    "apple_df.drop(columns=['Date'],inplace=True)\n",
    "goog_df.drop(columns=['Date'],inplace=True)\n",
    "baba_df.drop(columns=['Date'],inplace=True)\n",
    "jnj_df.drop(columns=['Date'],inplace=True)\n",
    "pfe_df.drop(columns=['Date'],inplace=True)\n",
    "tsla_df.drop(columns=['Date'],inplace=True)\n"
   ]
  },
  {
   "cell_type": "code",
   "execution_count": 7,
   "id": "09900575",
   "metadata": {},
   "outputs": [],
   "source": [
    "facebook_df['retorno'] = facebook_df['Close'].pct_change()\n",
    "kodak_df['retorno'] = kodak_df['Close'].pct_change()\n",
    "gme_df['retorno'] = gme_df['Close'].pct_change()\n",
    "amazon_df['retorno'] = amazon_df['Close'].pct_change()\n",
    "apple_df['retorno'] = apple_df['Close'].pct_change()\n",
    "goog_df['retorno'] = goog_df['Close'].pct_change()\n",
    "baba_df['retorno'] = baba_df['Close'].pct_change()\n",
    "jnj_df['retorno'] = jnj_df['Close'].pct_change()\n",
    "pfe_df['retorno'] = pfe_df['Close'].pct_change()"
   ]
  },
  {
   "cell_type": "code",
   "execution_count": 8,
   "id": "9490c24d",
   "metadata": {},
   "outputs": [],
   "source": [
    "from sklearn.impute import KNNImputer, SimpleImputer"
   ]
  },
  {
   "cell_type": "code",
   "execution_count": 9,
   "id": "0958d19b",
   "metadata": {},
   "outputs": [],
   "source": [
    "from sklearn.compose import ColumnTransformer\n",
    "from sklearn.pipeline import Pipeline\n",
    "preprocessor = ColumnTransformer([('imputer',  KNNImputer(n_neighbors=1),['Open','Low','Close','Adj Close', 'Volume'])], remainder='passthrough')\n",
    "filling_na = SimpleImputer(strategy=\"constant\", fill_value=-1000)\n",
    "my_pipeline = Pipeline(steps=[('preprocessor', preprocessor),('fill_na', filling_na)])"
   ]
  },
  {
   "cell_type": "code",
   "execution_count": 10,
   "id": "6e06b9be",
   "metadata": {},
   "outputs": [
    {
     "data": {
      "text/plain": [
       "Positive               8\n",
       "Neutral                8\n",
       "Negative               8\n",
       "Sentimental Score      8\n",
       "Open                 219\n",
       "High                 219\n",
       "Low                  219\n",
       "Close                219\n",
       "Adj Close            219\n",
       "Volume               219\n",
       "retorno                2\n",
       "dtype: int64"
      ]
     },
     "execution_count": 10,
     "metadata": {},
     "output_type": "execute_result"
    }
   ],
   "source": [
    "facebook_df.isna().sum()"
   ]
  },
  {
   "cell_type": "code",
   "execution_count": 11,
   "id": "14f157ee",
   "metadata": {},
   "outputs": [
    {
     "data": {
      "text/plain": [
       "array([[ 1.60000000e+02,  1.58009995e+02,  1.66820007e+02, ...,\n",
       "        -6.67000000e-01,  1.71990005e+02, -1.00000000e+03],\n",
       "       [ 1.80490005e+02,  1.65070007e+02,  1.67619995e+02, ...,\n",
       "         5.00000000e-01,  1.82380005e+02,  4.79551592e-03],\n",
       "       [ 1.87679993e+02,  1.79000000e+02,  1.80059998e+02, ...,\n",
       "         1.30000000e+00,  1.88789993e+02,  7.42155075e-02],\n",
       "       ...,\n",
       "       [ 1.85300003e+02,  1.76149994e+02,  1.78850006e+02, ...,\n",
       "        -1.00000000e+03,  1.87690002e+02, -3.74575753e-02],\n",
       "       [ 1.81000000e+02,  1.73839996e+02,  1.80360001e+02, ...,\n",
       "        -1.00000000e+03,  1.81600006e+02,  8.44280095e-03],\n",
       "       [ 1.80360001e+02,  1.78759995e+02,  1.83940002e+02, ...,\n",
       "        -1.00000000e+03,  1.86039993e+02,  1.98491959e-02]])"
      ]
     },
     "execution_count": 11,
     "metadata": {},
     "output_type": "execute_result"
    }
   ],
   "source": [
    "#facebook_df = facebook_df[['Open','Low','Close','Adj Close', 'Volume']].apply(lambda x:preprocessor.fit_transform(x))\n",
    "gme_np = my_pipeline.fit_transform(gme_df) \n",
    "gme_np"
   ]
  },
  {
   "cell_type": "code",
   "execution_count": 25,
   "id": "94cf230f",
   "metadata": {},
   "outputs": [],
   "source": [
    "gme_np = my_pipeline.fit_transform(gme_df) \n",
    "kodak_np = my_pipeline.fit_transform(kodak_df)\n",
    "facebook_np = my_pipeline.fit_transform(facebook_df)\n",
    "amazon_np = my_pipeline.fit_transform(amazon_df)\n",
    "apple_np = my_pipeline.fit_transform(apple_df)\n",
    "google_np = my_pipeline.fit_transform(goog_df)\n",
    "baba_np = my_pipeline.fit_transform(baba_df)\n",
    "jnj_np = my_pipeline.fit_transform(jnj_df)\n",
    "pfe_np = my_pipeline.fit_transform(pfe_df)\n"
   ]
  },
  {
   "cell_type": "code",
   "execution_count": null,
   "id": "2c77bd96",
   "metadata": {},
   "outputs": [],
   "source": []
  },
  {
   "cell_type": "code",
   "execution_count": 26,
   "id": "a46032ad",
   "metadata": {},
   "outputs": [
    {
     "name": "stderr",
     "output_type": "stream",
     "text": [
      "/var/folders/rl/l0hlsnhd3_zcy_9mm8jb32n00000gn/T/ipykernel_25005/2297827910.py:1: VisibleDeprecationWarning: Creating an ndarray from ragged nested sequences (which is a list-or-tuple of lists-or-tuples-or ndarrays with different lengths or shapes) is deprecated. If you meant to do this, you must specify 'dtype=object' when creating the ndarray\n",
      "  news_stock_np = np.array([gme_np,kodak_np,amazon_np,facebook_np, apple_np, google_np, baba_np, jnj_np, pfe_np])\n"
     ]
    }
   ],
   "source": [
    "news_stock_np = np.array([gme_np,kodak_np,amazon_np,facebook_np, apple_np, google_np, baba_np, jnj_np, pfe_np])"
   ]
  },
  {
   "cell_type": "code",
   "execution_count": 27,
   "id": "8b64c10a",
   "metadata": {},
   "outputs": [
    {
     "data": {
      "text/plain": [
       "array([array([[ 1.60000000e+02,  1.58009995e+02,  1.66820007e+02, ...,\n",
       "        -6.67000000e-01,  1.71990005e+02, -1.00000000e+03],\n",
       "       [ 1.80490005e+02,  1.65070007e+02,  1.67619995e+02, ...,\n",
       "         5.00000000e-01,  1.82380005e+02,  4.79551592e-03],\n",
       "       [ 1.87679993e+02,  1.79000000e+02,  1.80059998e+02, ...,\n",
       "         1.30000000e+00,  1.88789993e+02,  7.42155075e-02],\n",
       "       ...,\n",
       "       [ 1.85300003e+02,  1.76149994e+02,  1.78850006e+02, ...,\n",
       "        -1.00000000e+03,  1.87690002e+02, -3.74575753e-02],\n",
       "       [ 1.81000000e+02,  1.73839996e+02,  1.80360001e+02, ...,\n",
       "        -1.00000000e+03,  1.81600006e+02,  8.44280095e-03],\n",
       "       [ 1.80360001e+02,  1.78759995e+02,  1.83940002e+02, ...,\n",
       "        -1.00000000e+03,  1.86039993e+02,  1.98491959e-02]]),\n",
       "       array([[ 7.41000000e+00,  7.25000000e+00,  7.39000000e+00, ...,\n",
       "        -1.50000000e+00,  7.76000000e+00, -1.00000000e+03],\n",
       "       [ 8.14000000e+00,  7.86000000e+00,  7.98000000e+00, ...,\n",
       "         1.00000000e+00,  8.16000000e+00,  7.98376184e-02],\n",
       "       [ 8.61000000e+00,  8.58000000e+00,  9.11000000e+00, ...,\n",
       "         1.00000000e+00,  9.16000000e+00,  1.41604010e-01],\n",
       "       ...,\n",
       "       [ 7.78000000e+00,  7.34000000e+00,  7.35000000e+00, ...,\n",
       "        -1.00000000e+03,  7.78000000e+00, -5.64826701e-02],\n",
       "       [ 7.36000000e+00,  7.05000000e+00,  7.27000000e+00, ...,\n",
       "        -1.00000000e+03,  7.42000000e+00, -1.08843537e-02],\n",
       "       [ 7.24000000e+00,  7.17000000e+00,  7.28000000e+00, ...,\n",
       "        -1.00000000e+03,  7.43000000e+00,  1.37551582e-03]]),\n",
       "       array([[ 3.69419995e+03,  3.62091992e+03,  3.63119995e+03, ...,\n",
       "         6.79000000e-01,  3.69539990e+03, -1.00000000e+03],\n",
       "       [ 3.70885010e+03,  3.66083008e+03,  3.68167993e+03, ...,\n",
       "         2.14000000e-01,  3.71765991e+03,  1.39017354e-02],\n",
       "       [ 3.70210010e+03,  3.67132007e+03,  3.67736011e+03, ...,\n",
       "         3.57000000e-01,  3.77308008e+03, -1.17332986e-03],\n",
       "       ...,\n",
       "       [ 3.58722998e+03,  3.58227002e+03,  3.63803003e+03, ...,\n",
       "        -1.00000000e+03,  3.64002002e+03,  1.47356016e-02],\n",
       "       [ 3.64000000e+03,  3.62204004e+03,  3.65663989e+03, ...,\n",
       "        -1.00000000e+03,  3.66611011e+03,  5.11536844e-03],\n",
       "       [ 3.67316992e+03,  3.64725000e+03,  3.69982007e+03, ...,\n",
       "        -1.00000000e+03,  3.71208008e+03,  1.18087031e-02]]),\n",
       "       array([[ 2.29901273e+02,  2.26988475e+02,  2.30035047e+02, ...,\n",
       "         1.50000000e+00, -1.00000000e+03, -1.00000000e+03],\n",
       "       [ 3.60910004e+02,  3.57190002e+02,  3.69790009e+02, ...,\n",
       "         5.40000000e-01,  3.75329987e+02, -1.00000000e+03],\n",
       "       [ 3.46679993e+02,  3.45209991e+02,  3.51190002e+02, ...,\n",
       "         9.44000000e-01,  3.51540009e+02, -5.02988360e-02],\n",
       "       ...,\n",
       "       [ 1.60580002e+02,  1.60309998e+02,  1.61889999e+02, ...,\n",
       "        -1.00000000e+03,  1.62410004e+02, -3.75385231e-03],\n",
       "       [ 1.63899994e+02,  1.63830002e+02,  1.67369995e+02, ...,\n",
       "        -1.00000000e+03,  1.67500000e+02,  3.38501207e-02],\n",
       "       [ 3.69579987e+02,  3.68220001e+02,  3.72459991e+02, ...,\n",
       "        -1.00000000e+03,  3.74440002e+02,  1.22536896e+00]]),\n",
       "       array([[ 1.49240005e+02,  1.47089996e+02,  1.48479996e+02, ...,\n",
       "         1.41200000e+00,  1.50000000e+02, -1.00000000e+03],\n",
       "       [ 1.48100006e+02,  1.47679993e+02,  1.49149994e+02, ...,\n",
       "         1.28900000e+00,  1.49570007e+02,  4.51238004e-03],\n",
       "       [ 1.44029999e+02,  1.43630005e+02,  1.45639999e+02, ...,\n",
       "         1.20800000e+00,  1.47460007e+02, -2.35333198e-02],\n",
       "       ...,\n",
       "       [ 1.45529999e+02,  1.44630005e+02,  1.45399994e+02, ...,\n",
       "        -1.00000000e+03,  1.46130005e+02, -5.13171421e-03],\n",
       "       [ 1.45940002e+02,  1.45809998e+02,  1.46800003e+02, ...,\n",
       "        -1.00000000e+03,  1.48199997e+02,  9.62867410e-03],\n",
       "       [ 1.47550003e+02,  1.46919998e+02,  1.48559998e+02, ...,\n",
       "        -1.00000000e+03,  1.48720001e+02,  1.19890631e-02]]),\n",
       "       array([[ 2.65000000e+03,  2.61195996e+03,  2.62533008e+03, ...,\n",
       "         3.33000000e-01,  2.65189990e+03, -1.00000000e+03],\n",
       "       [ 2.63803003e+03,  2.63795996e+03,  2.64164990e+03, ...,\n",
       "         1.50000000e+00,  2.65991992e+03,  6.21629423e-03],\n",
       "       [ 2.61762988e+03,  2.61273999e+03,  2.61988989e+03, ...,\n",
       "        -8.70000000e-01,  2.64084009e+03, -8.23727995e-03],\n",
       "       ...,\n",
       "       [ 2.61573999e+03,  2.61203003e+03,  2.65201001e+03, ...,\n",
       "        -1.00000000e+03,  2.65234497e+03,  1.14338814e-02],\n",
       "       [ 2.65300000e+03,  2.64800000e+03,  2.66657007e+03, ...,\n",
       "        -1.00000000e+03,  2.67009009e+03,  5.49019745e-03],\n",
       "       [ 2.70519995e+03,  2.69401001e+03,  2.75632007e+03, ...,\n",
       "        -1.00000000e+03,  2.77616992e+03,  3.36574692e-02]]),\n",
       "       array([[ 2.15110001e+02,  2.13160995e+02,  2.14759995e+02, ...,\n",
       "        -4.00000000e-01,  2.16600006e+02, -1.00000000e+03],\n",
       "       [ 2.15500000e+02,  2.11029999e+02,  2.11500000e+02, ...,\n",
       "         1.06300000e+00,  2.16350006e+02, -1.51797103e-02],\n",
       "       [ 2.09229996e+02,  2.08190002e+02,  2.09509995e+02, ...,\n",
       "         5.63000000e-01,  2.12809998e+02, -9.40900942e-03],\n",
       "       ...,\n",
       "       [ 2.09149994e+02,  2.08419998e+02,  2.11080002e+02, ...,\n",
       "        -1.00000000e+03,  2.11850006e+02,  2.32682227e-03],\n",
       "       [ 2.12639999e+02,  2.12600006e+02,  2.14039993e+02, ...,\n",
       "        -1.00000000e+03,  2.16389999e+02,  1.40230786e-02],\n",
       "       [ 2.06289993e+02,  2.03559998e+02,  2.06529999e+02, ...,\n",
       "        -1.00000000e+03,  2.06889999e+02, -3.50868751e-02]]),\n",
       "       array([[ 1.69979996e+02,  1.69529999e+02,  1.70449997e+02, ...,\n",
       "         8.00000000e-01,  1.71369995e+02, -1.00000000e+03],\n",
       "       [ 1.70399994e+02,  1.70309998e+02,  1.70389999e+02, ...,\n",
       "         1.25000000e+00,  1.71889999e+02, -3.51995070e-04],\n",
       "       [ 1.46815411e+02,  1.45556969e+02,  1.46794658e+02, ...,\n",
       "         1.50000000e+00, -1.00000000e+03,  0.00000000e+00],\n",
       "       ...,\n",
       "       [ 1.69300003e+02,  1.67479996e+02,  1.69490005e+02, ...,\n",
       "        -1.00000000e+03,  1.69690002e+02,  6.17398969e-03],\n",
       "       [ 1.69360001e+02,  1.68649994e+02,  1.69979996e+02, ...,\n",
       "        -1.00000000e+03,  1.71070007e+02,  2.89096831e-03],\n",
       "       [ 1.71000000e+02,  1.70380005e+02,  1.71789993e+02, ...,\n",
       "        -1.00000000e+03,  1.72179993e+02,  1.06482975e-02]]),\n",
       "       array([[ 3.99500008e+01,  3.98600006e+01,  4.00900002e+01, ...,\n",
       "         1.00000000e+00,  4.01899986e+01, -1.00000000e+03],\n",
       "       [ 3.97200012e+01,  3.96599998e+01,  3.99500008e+01, ...,\n",
       "         1.00000000e+00,  4.00299988e+01, -3.49212744e-03],\n",
       "       [ 3.97700005e+01,  3.95299988e+01,  3.96500015e+01, ...,\n",
       "         1.10000000e+00,  3.97999992e+01, -7.50936749e-03],\n",
       "       ...,\n",
       "       [ 4.12400017e+01,  4.05200005e+01,  4.10200005e+01, ...,\n",
       "        -1.00000000e+03,  4.12400017e+01, -7.30786355e-04],\n",
       "       [ 4.11199989e+01,  4.09000015e+01,  4.14700012e+01, ...,\n",
       "        -1.00000000e+03,  4.15499992e+01,  1.09702769e-02],\n",
       "       [ 4.14599991e+01,  4.14199982e+01,  4.16800003e+01, ...,\n",
       "        -1.00000000e+03,  4.18300018e+01,  5.06387939e-03]])],\n",
       "      dtype=object)"
      ]
     },
     "execution_count": 27,
     "metadata": {},
     "output_type": "execute_result"
    }
   ],
   "source": [
    "news_stock_np"
   ]
  },
  {
   "cell_type": "code",
   "execution_count": 28,
   "id": "e7435abd",
   "metadata": {},
   "outputs": [],
   "source": [
    "#reddit_day.fillna(-1000,inplace=True)\n",
    "from tensorflow.keras.preprocessing.sequence import pad_sequences"
   ]
  },
  {
   "cell_type": "code",
   "execution_count": 29,
   "id": "bccff8f1",
   "metadata": {},
   "outputs": [
    {
     "data": {
      "text/plain": [
       "(9,)"
      ]
     },
     "execution_count": 29,
     "metadata": {},
     "output_type": "execute_result"
    }
   ],
   "source": [
    "news_stock_np.shape"
   ]
  },
  {
   "cell_type": "code",
   "execution_count": 30,
   "id": "20f9960d",
   "metadata": {},
   "outputs": [
    {
     "data": {
      "text/plain": [
       "array([[[-1.0000000e+03, -1.0000000e+03, -1.0000000e+03, ...,\n",
       "         -1.0000000e+03, -1.0000000e+03, -1.0000000e+03],\n",
       "        [-1.0000000e+03, -1.0000000e+03, -1.0000000e+03, ...,\n",
       "         -1.0000000e+03, -1.0000000e+03, -1.0000000e+03],\n",
       "        [-1.0000000e+03, -1.0000000e+03, -1.0000000e+03, ...,\n",
       "         -1.0000000e+03, -1.0000000e+03, -1.0000000e+03],\n",
       "        ...,\n",
       "        [ 1.8530000e+02,  1.7614999e+02,  1.7885001e+02, ...,\n",
       "         -1.0000000e+03,  1.8769000e+02, -3.7457574e-02],\n",
       "        [ 1.8100000e+02,  1.7384000e+02,  1.8036000e+02, ...,\n",
       "         -1.0000000e+03,  1.8160001e+02,  8.4428005e-03],\n",
       "        [ 1.8036000e+02,  1.7875999e+02,  1.8394000e+02, ...,\n",
       "         -1.0000000e+03,  1.8603999e+02,  1.9849196e-02]],\n",
       "\n",
       "       [[-1.0000000e+03, -1.0000000e+03, -1.0000000e+03, ...,\n",
       "         -1.0000000e+03, -1.0000000e+03, -1.0000000e+03],\n",
       "        [-1.0000000e+03, -1.0000000e+03, -1.0000000e+03, ...,\n",
       "         -1.0000000e+03, -1.0000000e+03, -1.0000000e+03],\n",
       "        [-1.0000000e+03, -1.0000000e+03, -1.0000000e+03, ...,\n",
       "         -1.0000000e+03, -1.0000000e+03, -1.0000000e+03],\n",
       "        ...,\n",
       "        [ 7.7800002e+00,  7.3400002e+00,  7.3499999e+00, ...,\n",
       "         -1.0000000e+03,  7.7800002e+00, -5.6482669e-02],\n",
       "        [ 7.3600001e+00,  7.0500002e+00,  7.2700000e+00, ...,\n",
       "         -1.0000000e+03,  7.4200001e+00, -1.0884354e-02],\n",
       "        [ 7.2399998e+00,  7.1700001e+00,  7.2800002e+00, ...,\n",
       "         -1.0000000e+03,  7.4299998e+00,  1.3755158e-03]],\n",
       "\n",
       "       [[ 3.6942000e+03,  3.6209199e+03,  3.6312000e+03, ...,\n",
       "          6.7900002e-01,  3.6953999e+03, -1.0000000e+03],\n",
       "        [ 3.7088501e+03,  3.6608301e+03,  3.6816799e+03, ...,\n",
       "          2.1400000e-01,  3.7176599e+03,  1.3901736e-02],\n",
       "        [ 3.7021001e+03,  3.6713201e+03,  3.6773601e+03, ...,\n",
       "          3.5699999e-01,  3.7730801e+03, -1.1733299e-03],\n",
       "        ...,\n",
       "        [ 3.5872300e+03,  3.5822700e+03,  3.6380300e+03, ...,\n",
       "         -1.0000000e+03,  3.6400200e+03,  1.4735602e-02],\n",
       "        [ 3.6400000e+03,  3.6220400e+03,  3.6566399e+03, ...,\n",
       "         -1.0000000e+03,  3.6661101e+03,  5.1153684e-03],\n",
       "        [ 3.6731699e+03,  3.6472500e+03,  3.6998201e+03, ...,\n",
       "         -1.0000000e+03,  3.7120801e+03,  1.1808703e-02]],\n",
       "\n",
       "       ...,\n",
       "\n",
       "       [[-1.0000000e+03, -1.0000000e+03, -1.0000000e+03, ...,\n",
       "         -1.0000000e+03, -1.0000000e+03, -1.0000000e+03],\n",
       "        [-1.0000000e+03, -1.0000000e+03, -1.0000000e+03, ...,\n",
       "         -1.0000000e+03, -1.0000000e+03, -1.0000000e+03],\n",
       "        [-1.0000000e+03, -1.0000000e+03, -1.0000000e+03, ...,\n",
       "         -1.0000000e+03, -1.0000000e+03, -1.0000000e+03],\n",
       "        ...,\n",
       "        [ 2.0914999e+02,  2.0842000e+02,  2.1108000e+02, ...,\n",
       "         -1.0000000e+03,  2.1185001e+02,  2.3268224e-03],\n",
       "        [ 2.1264000e+02,  2.1260001e+02,  2.1403999e+02, ...,\n",
       "         -1.0000000e+03,  2.1639000e+02,  1.4023079e-02],\n",
       "        [ 2.0628999e+02,  2.0356000e+02,  2.0653000e+02, ...,\n",
       "         -1.0000000e+03,  2.0689000e+02, -3.5086874e-02]],\n",
       "\n",
       "       [[-1.0000000e+03, -1.0000000e+03, -1.0000000e+03, ...,\n",
       "         -1.0000000e+03, -1.0000000e+03, -1.0000000e+03],\n",
       "        [-1.0000000e+03, -1.0000000e+03, -1.0000000e+03, ...,\n",
       "         -1.0000000e+03, -1.0000000e+03, -1.0000000e+03],\n",
       "        [-1.0000000e+03, -1.0000000e+03, -1.0000000e+03, ...,\n",
       "         -1.0000000e+03, -1.0000000e+03, -1.0000000e+03],\n",
       "        ...,\n",
       "        [ 1.6930000e+02,  1.6748000e+02,  1.6949001e+02, ...,\n",
       "         -1.0000000e+03,  1.6969000e+02,  6.1739897e-03],\n",
       "        [ 1.6936000e+02,  1.6864999e+02,  1.6998000e+02, ...,\n",
       "         -1.0000000e+03,  1.7107001e+02,  2.8909682e-03],\n",
       "        [ 1.7100000e+02,  1.7038000e+02,  1.7178999e+02, ...,\n",
       "         -1.0000000e+03,  1.7217999e+02,  1.0648297e-02]],\n",
       "\n",
       "       [[-1.0000000e+03, -1.0000000e+03, -1.0000000e+03, ...,\n",
       "         -1.0000000e+03, -1.0000000e+03, -1.0000000e+03],\n",
       "        [-1.0000000e+03, -1.0000000e+03, -1.0000000e+03, ...,\n",
       "         -1.0000000e+03, -1.0000000e+03, -1.0000000e+03],\n",
       "        [-1.0000000e+03, -1.0000000e+03, -1.0000000e+03, ...,\n",
       "         -1.0000000e+03, -1.0000000e+03, -1.0000000e+03],\n",
       "        ...,\n",
       "        [ 4.1240002e+01,  4.0520000e+01,  4.1020000e+01, ...,\n",
       "         -1.0000000e+03,  4.1240002e+01, -7.3078636e-04],\n",
       "        [ 4.1119999e+01,  4.0900002e+01,  4.1470001e+01, ...,\n",
       "         -1.0000000e+03,  4.1549999e+01,  1.0970277e-02],\n",
       "        [ 4.1459999e+01,  4.1419998e+01,  4.1680000e+01, ...,\n",
       "         -1.0000000e+03,  4.1830002e+01,  5.0638793e-03]]], dtype=float32)"
      ]
     },
     "execution_count": 30,
     "metadata": {},
     "output_type": "execute_result"
    }
   ],
   "source": [
    "news_stock_np_pad = pad_sequences(news_stock_np,value=-1000, dtype='float32') # int32 by default\n",
    "news_stock_np_pad"
   ]
  },
  {
   "cell_type": "code",
   "execution_count": 31,
   "id": "46d9106d",
   "metadata": {},
   "outputs": [
    {
     "data": {
      "text/plain": [
       "(9, 862, 11)"
      ]
     },
     "execution_count": 31,
     "metadata": {},
     "output_type": "execute_result"
    }
   ],
   "source": [
    "news_stock_np_pad.shape"
   ]
  },
  {
   "cell_type": "code",
   "execution_count": 32,
   "id": "f544daa7",
   "metadata": {},
   "outputs": [
    {
     "data": {
      "text/plain": [
       "(9, 861, 11)"
      ]
     },
     "execution_count": 32,
     "metadata": {},
     "output_type": "execute_result"
    }
   ],
   "source": [
    "x=news_stock_np_pad[:,:-1,:]\n",
    "x.shape"
   ]
  },
  {
   "cell_type": "code",
   "execution_count": 33,
   "id": "7ab3b3d7",
   "metadata": {},
   "outputs": [
    {
     "data": {
      "text/plain": [
       "(9,)"
      ]
     },
     "execution_count": 33,
     "metadata": {},
     "output_type": "execute_result"
    }
   ],
   "source": [
    "y=news_stock_np_pad[:,-1,-1]\n",
    "y.shape"
   ]
  },
  {
   "cell_type": "code",
   "execution_count": null,
   "id": "ad87254e",
   "metadata": {},
   "outputs": [],
   "source": []
  },
  {
   "cell_type": "code",
   "execution_count": 43,
   "id": "8f56fe4d",
   "metadata": {},
   "outputs": [],
   "source": [
    "y_train =y[0:6]\n",
    "y_test = y[-3:]"
   ]
  },
  {
   "cell_type": "code",
   "execution_count": 44,
   "id": "fbb07725",
   "metadata": {},
   "outputs": [],
   "source": [
    "x_train = x[0:6,:,:]\n",
    "x_test = x[-3:,:,:]"
   ]
  },
  {
   "cell_type": "code",
   "execution_count": 45,
   "id": "60707137",
   "metadata": {},
   "outputs": [
    {
     "data": {
      "text/plain": [
       "array([-0.03508687,  0.0106483 ,  0.00506388], dtype=float32)"
      ]
     },
     "execution_count": 45,
     "metadata": {},
     "output_type": "execute_result"
    }
   ],
   "source": [
    "y_test"
   ]
  },
  {
   "cell_type": "code",
   "execution_count": 46,
   "id": "493111f2",
   "metadata": {},
   "outputs": [],
   "source": [
    "from tensorflow.keras import models\n",
    "from tensorflow.keras import layers\n",
    "from tensorflow.keras.optimizers import RMSprop\n",
    "from tensorflow.keras.layers.experimental.preprocessing import Normalization\n",
    "def init_model():\n",
    "    #normalizar o x train\n",
    "    normalizer = Normalization()\n",
    "    model = models.Sequential()\n",
    "    model.add(layers.Masking(mask_value=-1000.))\n",
    "    normalizer.adapt(x_train)\n",
    "    model.add(layers.LSTM(20, return_sequences=True, activation='tanh'))\n",
    "    model.add(layers.LSTM(10, return_sequences=False, activation='tanh'))\n",
    "    model.add(layers.Dense(5, activation='relu'))\n",
    "    model.add(layers.Dense(10, activation='linear'))\n",
    "    \n",
    "  #  model.compile(loss='mse', \n",
    "  #                optimizer='rmsprop', \n",
    "  #                metrics=['mae'])\n",
    "    model.compile(loss='mse', \n",
    "                  optimizer=RMSprop(learning_rate=0.0003), \n",
    "                  metrics=['mae'])\n",
    "    \n",
    "    return model\n",
    "\n",
    "#init_model().summary()"
   ]
  },
  {
   "cell_type": "code",
   "execution_count": 47,
   "id": "d1cdd35e",
   "metadata": {},
   "outputs": [
    {
     "name": "stderr",
     "output_type": "stream",
     "text": [
      "2021-07-31 16:11:01.654534: I tensorflow/compiler/mlir/mlir_graph_optimization_pass.cc:176] None of the MLIR Optimization Passes are enabled (registered 2)\n"
     ]
    }
   ],
   "source": [
    "model=init_model()"
   ]
  },
  {
   "cell_type": "code",
   "execution_count": 48,
   "id": "10bb2fed",
   "metadata": {},
   "outputs": [
    {
     "name": "stdout",
     "output_type": "stream",
     "text": [
      "Epoch 1/20\n",
      "1/1 [==============================] - 16s 16s/step - loss: 0.2409 - mae: 0.2439\n",
      "Epoch 2/20\n",
      "1/1 [==============================] - 1s 1s/step - loss: 0.2501 - mae: 0.2164\n",
      "Epoch 3/20\n",
      "1/1 [==============================] - 1s 1s/step - loss: 0.2498 - mae: 0.2158\n",
      "Epoch 4/20\n",
      "1/1 [==============================] - 1s 1s/step - loss: 0.2496 - mae: 0.2154\n",
      "Epoch 5/20\n",
      "1/1 [==============================] - 1s 1s/step - loss: 0.2494 - mae: 0.2150\n",
      "Epoch 6/20\n",
      "1/1 [==============================] - 1s 1s/step - loss: 0.2492 - mae: 0.2147\n",
      "Epoch 7/20\n",
      "1/1 [==============================] - 1s 1s/step - loss: 0.2490 - mae: 0.2144\n",
      "Epoch 8/20\n",
      "1/1 [==============================] - 2s 2s/step - loss: 0.2488 - mae: 0.2141\n",
      "Epoch 9/20\n",
      "1/1 [==============================] - 1s 1s/step - loss: 0.2486 - mae: 0.2139\n",
      "Epoch 10/20\n",
      "1/1 [==============================] - 1s 1s/step - loss: 0.2485 - mae: 0.2136\n",
      "Epoch 11/20\n",
      "1/1 [==============================] - 1s 1s/step - loss: 0.2483 - mae: 0.2134\n",
      "Epoch 12/20\n",
      "1/1 [==============================] - 1s 1s/step - loss: 0.2481 - mae: 0.2131\n",
      "Epoch 13/20\n",
      "1/1 [==============================] - 1s 1s/step - loss: 0.2480 - mae: 0.2129\n",
      "Epoch 14/20\n",
      "1/1 [==============================] - 1s 1s/step - loss: 0.2478 - mae: 0.2127\n",
      "Epoch 15/20\n",
      "1/1 [==============================] - 1s 1s/step - loss: 0.2477 - mae: 0.2124\n",
      "Epoch 16/20\n",
      "1/1 [==============================] - 1s 1s/step - loss: 0.2476 - mae: 0.2122\n",
      "Epoch 17/20\n",
      "1/1 [==============================] - 1s 1s/step - loss: 0.2474 - mae: 0.2120\n",
      "Epoch 18/20\n",
      "1/1 [==============================] - 1s 1s/step - loss: 0.2473 - mae: 0.2118\n",
      "Epoch 19/20\n",
      "1/1 [==============================] - 1s 1s/step - loss: 0.2472 - mae: 0.2116\n",
      "Epoch 20/20\n",
      "1/1 [==============================] - 1s 1s/step - loss: 0.2470 - mae: 0.2114\n"
     ]
    },
    {
     "data": {
      "text/plain": [
       "<tensorflow.python.keras.callbacks.History at 0x152f39ee0>"
      ]
     },
     "execution_count": 48,
     "metadata": {},
     "output_type": "execute_result"
    }
   ],
   "source": [
    "model.fit(x_train,y_train,epochs=20)"
   ]
  },
  {
   "cell_type": "code",
   "execution_count": 74,
   "id": "2b2aea13",
   "metadata": {},
   "outputs": [
    {
     "data": {
      "text/html": [
       "<div>\n",
       "<style scoped>\n",
       "    .dataframe tbody tr th:only-of-type {\n",
       "        vertical-align: middle;\n",
       "    }\n",
       "\n",
       "    .dataframe tbody tr th {\n",
       "        vertical-align: top;\n",
       "    }\n",
       "\n",
       "    .dataframe thead th {\n",
       "        text-align: right;\n",
       "    }\n",
       "</style>\n",
       "<table border=\"1\" class=\"dataframe\">\n",
       "  <thead>\n",
       "    <tr style=\"text-align: right;\">\n",
       "      <th></th>\n",
       "      <th>Positive</th>\n",
       "      <th>Neutral</th>\n",
       "      <th>Negative</th>\n",
       "      <th>Sentimental Score</th>\n",
       "      <th>Open</th>\n",
       "      <th>High</th>\n",
       "      <th>Low</th>\n",
       "      <th>Close</th>\n",
       "      <th>Adj Close</th>\n",
       "      <th>Volume</th>\n",
       "      <th>retorno</th>\n",
       "    </tr>\n",
       "  </thead>\n",
       "  <tbody>\n",
       "    <tr>\n",
       "      <th>0</th>\n",
       "      <td>0.0</td>\n",
       "      <td>4.0</td>\n",
       "      <td>8.0</td>\n",
       "      <td>-0.667</td>\n",
       "      <td>160.000000</td>\n",
       "      <td>171.990005</td>\n",
       "      <td>158.009995</td>\n",
       "      <td>166.820007</td>\n",
       "      <td>166.820007</td>\n",
       "      <td>4298600.0</td>\n",
       "      <td>NaN</td>\n",
       "    </tr>\n",
       "    <tr>\n",
       "      <th>1</th>\n",
       "      <td>2.0</td>\n",
       "      <td>0.0</td>\n",
       "      <td>1.0</td>\n",
       "      <td>0.500</td>\n",
       "      <td>180.490005</td>\n",
       "      <td>182.380005</td>\n",
       "      <td>165.070007</td>\n",
       "      <td>167.619995</td>\n",
       "      <td>167.619995</td>\n",
       "      <td>3913800.0</td>\n",
       "      <td>0.004796</td>\n",
       "    </tr>\n",
       "    <tr>\n",
       "      <th>2</th>\n",
       "      <td>3.0</td>\n",
       "      <td>2.0</td>\n",
       "      <td>0.0</td>\n",
       "      <td>1.300</td>\n",
       "      <td>187.679993</td>\n",
       "      <td>188.789993</td>\n",
       "      <td>179.000000</td>\n",
       "      <td>180.059998</td>\n",
       "      <td>180.059998</td>\n",
       "      <td>2397900.0</td>\n",
       "      <td>0.074216</td>\n",
       "    </tr>\n",
       "    <tr>\n",
       "      <th>3</th>\n",
       "      <td>2.0</td>\n",
       "      <td>0.0</td>\n",
       "      <td>0.0</td>\n",
       "      <td>1.500</td>\n",
       "      <td>191.419998</td>\n",
       "      <td>197.750000</td>\n",
       "      <td>187.419998</td>\n",
       "      <td>189.250000</td>\n",
       "      <td>189.250000</td>\n",
       "      <td>1636300.0</td>\n",
       "      <td>0.051039</td>\n",
       "    </tr>\n",
       "    <tr>\n",
       "      <th>4</th>\n",
       "      <td>0.0</td>\n",
       "      <td>0.0</td>\n",
       "      <td>1.0</td>\n",
       "      <td>-1.500</td>\n",
       "      <td>NaN</td>\n",
       "      <td>NaN</td>\n",
       "      <td>NaN</td>\n",
       "      <td>NaN</td>\n",
       "      <td>NaN</td>\n",
       "      <td>NaN</td>\n",
       "      <td>0.000000</td>\n",
       "    </tr>\n",
       "    <tr>\n",
       "      <th>...</th>\n",
       "      <td>...</td>\n",
       "      <td>...</td>\n",
       "      <td>...</td>\n",
       "      <td>...</td>\n",
       "      <td>...</td>\n",
       "      <td>...</td>\n",
       "      <td>...</td>\n",
       "      <td>...</td>\n",
       "      <td>...</td>\n",
       "      <td>...</td>\n",
       "      <td>...</td>\n",
       "    </tr>\n",
       "    <tr>\n",
       "      <th>721</th>\n",
       "      <td>NaN</td>\n",
       "      <td>NaN</td>\n",
       "      <td>NaN</td>\n",
       "      <td>NaN</td>\n",
       "      <td>173.899994</td>\n",
       "      <td>193.639999</td>\n",
       "      <td>172.419998</td>\n",
       "      <td>191.179993</td>\n",
       "      <td>191.179993</td>\n",
       "      <td>3101100.0</td>\n",
       "      <td>0.101965</td>\n",
       "    </tr>\n",
       "    <tr>\n",
       "      <th>722</th>\n",
       "      <td>NaN</td>\n",
       "      <td>NaN</td>\n",
       "      <td>NaN</td>\n",
       "      <td>NaN</td>\n",
       "      <td>187.789993</td>\n",
       "      <td>195.509995</td>\n",
       "      <td>182.110001</td>\n",
       "      <td>185.809998</td>\n",
       "      <td>185.809998</td>\n",
       "      <td>2229200.0</td>\n",
       "      <td>-0.028089</td>\n",
       "    </tr>\n",
       "    <tr>\n",
       "      <th>723</th>\n",
       "      <td>NaN</td>\n",
       "      <td>NaN</td>\n",
       "      <td>NaN</td>\n",
       "      <td>NaN</td>\n",
       "      <td>185.300003</td>\n",
       "      <td>187.690002</td>\n",
       "      <td>176.149994</td>\n",
       "      <td>178.850006</td>\n",
       "      <td>178.850006</td>\n",
       "      <td>1413000.0</td>\n",
       "      <td>-0.037458</td>\n",
       "    </tr>\n",
       "    <tr>\n",
       "      <th>724</th>\n",
       "      <td>NaN</td>\n",
       "      <td>NaN</td>\n",
       "      <td>NaN</td>\n",
       "      <td>NaN</td>\n",
       "      <td>181.000000</td>\n",
       "      <td>181.600006</td>\n",
       "      <td>173.839996</td>\n",
       "      <td>180.360001</td>\n",
       "      <td>180.360001</td>\n",
       "      <td>1312900.0</td>\n",
       "      <td>0.008443</td>\n",
       "    </tr>\n",
       "    <tr>\n",
       "      <th>725</th>\n",
       "      <td>NaN</td>\n",
       "      <td>NaN</td>\n",
       "      <td>NaN</td>\n",
       "      <td>NaN</td>\n",
       "      <td>180.360001</td>\n",
       "      <td>186.039993</td>\n",
       "      <td>178.759995</td>\n",
       "      <td>183.940002</td>\n",
       "      <td>183.940002</td>\n",
       "      <td>1255400.0</td>\n",
       "      <td>0.019849</td>\n",
       "    </tr>\n",
       "  </tbody>\n",
       "</table>\n",
       "<p>726 rows × 11 columns</p>\n",
       "</div>"
      ],
      "text/plain": [
       "     Positive  Neutral  Negative  Sentimental Score        Open        High  \\\n",
       "0         0.0      4.0       8.0             -0.667  160.000000  171.990005   \n",
       "1         2.0      0.0       1.0              0.500  180.490005  182.380005   \n",
       "2         3.0      2.0       0.0              1.300  187.679993  188.789993   \n",
       "3         2.0      0.0       0.0              1.500  191.419998  197.750000   \n",
       "4         0.0      0.0       1.0             -1.500         NaN         NaN   \n",
       "..        ...      ...       ...                ...         ...         ...   \n",
       "721       NaN      NaN       NaN                NaN  173.899994  193.639999   \n",
       "722       NaN      NaN       NaN                NaN  187.789993  195.509995   \n",
       "723       NaN      NaN       NaN                NaN  185.300003  187.690002   \n",
       "724       NaN      NaN       NaN                NaN  181.000000  181.600006   \n",
       "725       NaN      NaN       NaN                NaN  180.360001  186.039993   \n",
       "\n",
       "            Low       Close   Adj Close     Volume   retorno  \n",
       "0    158.009995  166.820007  166.820007  4298600.0       NaN  \n",
       "1    165.070007  167.619995  167.619995  3913800.0  0.004796  \n",
       "2    179.000000  180.059998  180.059998  2397900.0  0.074216  \n",
       "3    187.419998  189.250000  189.250000  1636300.0  0.051039  \n",
       "4           NaN         NaN         NaN        NaN  0.000000  \n",
       "..          ...         ...         ...        ...       ...  \n",
       "721  172.419998  191.179993  191.179993  3101100.0  0.101965  \n",
       "722  182.110001  185.809998  185.809998  2229200.0 -0.028089  \n",
       "723  176.149994  178.850006  178.850006  1413000.0 -0.037458  \n",
       "724  173.839996  180.360001  180.360001  1312900.0  0.008443  \n",
       "725  178.759995  183.940002  183.940002  1255400.0  0.019849  \n",
       "\n",
       "[726 rows x 11 columns]"
      ]
     },
     "execution_count": 74,
     "metadata": {},
     "output_type": "execute_result"
    }
   ],
   "source": []
  },
  {
   "cell_type": "code",
   "execution_count": null,
   "id": "5aa32204",
   "metadata": {},
   "outputs": [],
   "source": []
  },
  {
   "cell_type": "code",
   "execution_count": 75,
   "id": "6fdb836e",
   "metadata": {},
   "outputs": [
    {
     "name": "stdout",
     "output_type": "stream",
     "text": [
      "WARNING:tensorflow:Model was constructed with shape (None, 861, 11) for input KerasTensor(type_spec=TensorSpec(shape=(None, 861, 11), dtype=tf.float32, name='masking_input'), name='masking_input', description=\"created by layer 'masking_input'\"), but it was called on an input with incompatible shape (None, 11).\n"
     ]
    },
    {
     "ename": "ValueError",
     "evalue": "in user code:\n\n    /Users/netoconcon/.pyenv/versions/3.8.6/envs/next_trend/lib/python3.8/site-packages/tensorflow/python/keras/engine/training.py:1569 predict_function  *\n        return step_function(self, iterator)\n    /Users/netoconcon/.pyenv/versions/3.8.6/envs/next_trend/lib/python3.8/site-packages/tensorflow/python/keras/engine/training.py:1559 step_function  **\n        outputs = model.distribute_strategy.run(run_step, args=(data,))\n    /Users/netoconcon/.pyenv/versions/3.8.6/envs/next_trend/lib/python3.8/site-packages/tensorflow/python/distribute/distribute_lib.py:1285 run\n        return self._extended.call_for_each_replica(fn, args=args, kwargs=kwargs)\n    /Users/netoconcon/.pyenv/versions/3.8.6/envs/next_trend/lib/python3.8/site-packages/tensorflow/python/distribute/distribute_lib.py:2833 call_for_each_replica\n        return self._call_for_each_replica(fn, args, kwargs)\n    /Users/netoconcon/.pyenv/versions/3.8.6/envs/next_trend/lib/python3.8/site-packages/tensorflow/python/distribute/distribute_lib.py:3608 _call_for_each_replica\n        return fn(*args, **kwargs)\n    /Users/netoconcon/.pyenv/versions/3.8.6/envs/next_trend/lib/python3.8/site-packages/tensorflow/python/keras/engine/training.py:1552 run_step  **\n        outputs = model.predict_step(data)\n    /Users/netoconcon/.pyenv/versions/3.8.6/envs/next_trend/lib/python3.8/site-packages/tensorflow/python/keras/engine/training.py:1525 predict_step\n        return self(x, training=False)\n    /Users/netoconcon/.pyenv/versions/3.8.6/envs/next_trend/lib/python3.8/site-packages/tensorflow/python/keras/engine/base_layer.py:1030 __call__\n        outputs = call_fn(inputs, *args, **kwargs)\n    /Users/netoconcon/.pyenv/versions/3.8.6/envs/next_trend/lib/python3.8/site-packages/tensorflow/python/keras/engine/sequential.py:380 call\n        return super(Sequential, self).call(inputs, training=training, mask=mask)\n    /Users/netoconcon/.pyenv/versions/3.8.6/envs/next_trend/lib/python3.8/site-packages/tensorflow/python/keras/engine/functional.py:420 call\n        return self._run_internal_graph(\n    /Users/netoconcon/.pyenv/versions/3.8.6/envs/next_trend/lib/python3.8/site-packages/tensorflow/python/keras/engine/functional.py:556 _run_internal_graph\n        outputs = node.layer(*args, **kwargs)\n    /Users/netoconcon/.pyenv/versions/3.8.6/envs/next_trend/lib/python3.8/site-packages/tensorflow/python/keras/layers/recurrent.py:668 __call__\n        return super(RNN, self).__call__(inputs, **kwargs)\n    /Users/netoconcon/.pyenv/versions/3.8.6/envs/next_trend/lib/python3.8/site-packages/tensorflow/python/keras/engine/base_layer.py:1013 __call__\n        input_spec.assert_input_compatibility(self.input_spec, inputs, self.name)\n    /Users/netoconcon/.pyenv/versions/3.8.6/envs/next_trend/lib/python3.8/site-packages/tensorflow/python/keras/engine/input_spec.py:215 assert_input_compatibility\n        raise ValueError('Input ' + str(input_index) + ' of layer ' +\n\n    ValueError: Input 0 of layer lstm is incompatible with the layer: expected ndim=3, found ndim=2. Full shape received: (None, 11)\n",
     "output_type": "error",
     "traceback": [
      "\u001b[0;31m---------------------------------------------------------------------------\u001b[0m",
      "\u001b[0;31mValueError\u001b[0m                                Traceback (most recent call last)",
      "\u001b[0;32m/var/folders/rl/l0hlsnhd3_zcy_9mm8jb32n00000gn/T/ipykernel_25005/290269603.py\u001b[0m in \u001b[0;36m<module>\u001b[0;34m\u001b[0m\n\u001b[0;32m----> 1\u001b[0;31m \u001b[0mpredict_y\u001b[0m \u001b[0;34m=\u001b[0m \u001b[0mmodel\u001b[0m\u001b[0;34m.\u001b[0m\u001b[0mpredict\u001b[0m\u001b[0;34m(\u001b[0m\u001b[0mgme_df\u001b[0m\u001b[0;34m)\u001b[0m\u001b[0;34m\u001b[0m\u001b[0;34m\u001b[0m\u001b[0m\n\u001b[0m",
      "\u001b[0;32m~/.pyenv/versions/3.8.6/envs/next_trend/lib/python3.8/site-packages/tensorflow/python/keras/engine/training.py\u001b[0m in \u001b[0;36mpredict\u001b[0;34m(self, x, batch_size, verbose, steps, callbacks, max_queue_size, workers, use_multiprocessing)\u001b[0m\n\u001b[1;32m   1725\u001b[0m           \u001b[0;32mfor\u001b[0m \u001b[0mstep\u001b[0m \u001b[0;32min\u001b[0m \u001b[0mdata_handler\u001b[0m\u001b[0;34m.\u001b[0m\u001b[0msteps\u001b[0m\u001b[0;34m(\u001b[0m\u001b[0;34m)\u001b[0m\u001b[0;34m:\u001b[0m\u001b[0;34m\u001b[0m\u001b[0;34m\u001b[0m\u001b[0m\n\u001b[1;32m   1726\u001b[0m             \u001b[0mcallbacks\u001b[0m\u001b[0;34m.\u001b[0m\u001b[0mon_predict_batch_begin\u001b[0m\u001b[0;34m(\u001b[0m\u001b[0mstep\u001b[0m\u001b[0;34m)\u001b[0m\u001b[0;34m\u001b[0m\u001b[0;34m\u001b[0m\u001b[0m\n\u001b[0;32m-> 1727\u001b[0;31m             \u001b[0mtmp_batch_outputs\u001b[0m \u001b[0;34m=\u001b[0m \u001b[0mself\u001b[0m\u001b[0;34m.\u001b[0m\u001b[0mpredict_function\u001b[0m\u001b[0;34m(\u001b[0m\u001b[0miterator\u001b[0m\u001b[0;34m)\u001b[0m\u001b[0;34m\u001b[0m\u001b[0;34m\u001b[0m\u001b[0m\n\u001b[0m\u001b[1;32m   1728\u001b[0m             \u001b[0;32mif\u001b[0m \u001b[0mdata_handler\u001b[0m\u001b[0;34m.\u001b[0m\u001b[0mshould_sync\u001b[0m\u001b[0;34m:\u001b[0m\u001b[0;34m\u001b[0m\u001b[0;34m\u001b[0m\u001b[0m\n\u001b[1;32m   1729\u001b[0m               \u001b[0mcontext\u001b[0m\u001b[0;34m.\u001b[0m\u001b[0masync_wait\u001b[0m\u001b[0;34m(\u001b[0m\u001b[0;34m)\u001b[0m\u001b[0;34m\u001b[0m\u001b[0;34m\u001b[0m\u001b[0m\n",
      "\u001b[0;32m~/.pyenv/versions/3.8.6/envs/next_trend/lib/python3.8/site-packages/tensorflow/python/eager/def_function.py\u001b[0m in \u001b[0;36m__call__\u001b[0;34m(self, *args, **kwds)\u001b[0m\n\u001b[1;32m    887\u001b[0m \u001b[0;34m\u001b[0m\u001b[0m\n\u001b[1;32m    888\u001b[0m       \u001b[0;32mwith\u001b[0m \u001b[0mOptionalXlaContext\u001b[0m\u001b[0;34m(\u001b[0m\u001b[0mself\u001b[0m\u001b[0;34m.\u001b[0m\u001b[0m_jit_compile\u001b[0m\u001b[0;34m)\u001b[0m\u001b[0;34m:\u001b[0m\u001b[0;34m\u001b[0m\u001b[0;34m\u001b[0m\u001b[0m\n\u001b[0;32m--> 889\u001b[0;31m         \u001b[0mresult\u001b[0m \u001b[0;34m=\u001b[0m \u001b[0mself\u001b[0m\u001b[0;34m.\u001b[0m\u001b[0m_call\u001b[0m\u001b[0;34m(\u001b[0m\u001b[0;34m*\u001b[0m\u001b[0margs\u001b[0m\u001b[0;34m,\u001b[0m \u001b[0;34m**\u001b[0m\u001b[0mkwds\u001b[0m\u001b[0;34m)\u001b[0m\u001b[0;34m\u001b[0m\u001b[0;34m\u001b[0m\u001b[0m\n\u001b[0m\u001b[1;32m    890\u001b[0m \u001b[0;34m\u001b[0m\u001b[0m\n\u001b[1;32m    891\u001b[0m       \u001b[0mnew_tracing_count\u001b[0m \u001b[0;34m=\u001b[0m \u001b[0mself\u001b[0m\u001b[0;34m.\u001b[0m\u001b[0mexperimental_get_tracing_count\u001b[0m\u001b[0;34m(\u001b[0m\u001b[0;34m)\u001b[0m\u001b[0;34m\u001b[0m\u001b[0;34m\u001b[0m\u001b[0m\n",
      "\u001b[0;32m~/.pyenv/versions/3.8.6/envs/next_trend/lib/python3.8/site-packages/tensorflow/python/eager/def_function.py\u001b[0m in \u001b[0;36m_call\u001b[0;34m(self, *args, **kwds)\u001b[0m\n\u001b[1;32m    922\u001b[0m       \u001b[0;31m# In this case we have not created variables on the first call. So we can\u001b[0m\u001b[0;34m\u001b[0m\u001b[0;34m\u001b[0m\u001b[0;34m\u001b[0m\u001b[0m\n\u001b[1;32m    923\u001b[0m       \u001b[0;31m# run the first trace but we should fail if variables are created.\u001b[0m\u001b[0;34m\u001b[0m\u001b[0;34m\u001b[0m\u001b[0;34m\u001b[0m\u001b[0m\n\u001b[0;32m--> 924\u001b[0;31m       \u001b[0mresults\u001b[0m \u001b[0;34m=\u001b[0m \u001b[0mself\u001b[0m\u001b[0;34m.\u001b[0m\u001b[0m_stateful_fn\u001b[0m\u001b[0;34m(\u001b[0m\u001b[0;34m*\u001b[0m\u001b[0margs\u001b[0m\u001b[0;34m,\u001b[0m \u001b[0;34m**\u001b[0m\u001b[0mkwds\u001b[0m\u001b[0;34m)\u001b[0m\u001b[0;34m\u001b[0m\u001b[0;34m\u001b[0m\u001b[0m\n\u001b[0m\u001b[1;32m    925\u001b[0m       \u001b[0;32mif\u001b[0m \u001b[0mself\u001b[0m\u001b[0;34m.\u001b[0m\u001b[0m_created_variables\u001b[0m\u001b[0;34m:\u001b[0m\u001b[0;34m\u001b[0m\u001b[0;34m\u001b[0m\u001b[0m\n\u001b[1;32m    926\u001b[0m         raise ValueError(\"Creating variables on a non-first call to a function\"\n",
      "\u001b[0;32m~/.pyenv/versions/3.8.6/envs/next_trend/lib/python3.8/site-packages/tensorflow/python/eager/function.py\u001b[0m in \u001b[0;36m__call__\u001b[0;34m(self, *args, **kwargs)\u001b[0m\n\u001b[1;32m   3020\u001b[0m     \u001b[0;32mwith\u001b[0m \u001b[0mself\u001b[0m\u001b[0;34m.\u001b[0m\u001b[0m_lock\u001b[0m\u001b[0;34m:\u001b[0m\u001b[0;34m\u001b[0m\u001b[0;34m\u001b[0m\u001b[0m\n\u001b[1;32m   3021\u001b[0m       (graph_function,\n\u001b[0;32m-> 3022\u001b[0;31m        filtered_flat_args) = self._maybe_define_function(args, kwargs)\n\u001b[0m\u001b[1;32m   3023\u001b[0m     return graph_function._call_flat(\n\u001b[1;32m   3024\u001b[0m         filtered_flat_args, captured_inputs=graph_function.captured_inputs)  # pylint: disable=protected-access\n",
      "\u001b[0;32m~/.pyenv/versions/3.8.6/envs/next_trend/lib/python3.8/site-packages/tensorflow/python/eager/function.py\u001b[0m in \u001b[0;36m_maybe_define_function\u001b[0;34m(self, args, kwargs)\u001b[0m\n\u001b[1;32m   3438\u001b[0m               \u001b[0mself\u001b[0m\u001b[0;34m.\u001b[0m\u001b[0minput_signature\u001b[0m \u001b[0;32mis\u001b[0m \u001b[0;32mNone\u001b[0m \u001b[0;32mand\u001b[0m\u001b[0;34m\u001b[0m\u001b[0;34m\u001b[0m\u001b[0m\n\u001b[1;32m   3439\u001b[0m               call_context_key in self._function_cache.missed):\n\u001b[0;32m-> 3440\u001b[0;31m             return self._define_function_with_shape_relaxation(\n\u001b[0m\u001b[1;32m   3441\u001b[0m                 args, kwargs, flat_args, filtered_flat_args, cache_key_context)\n\u001b[1;32m   3442\u001b[0m \u001b[0;34m\u001b[0m\u001b[0m\n",
      "\u001b[0;32m~/.pyenv/versions/3.8.6/envs/next_trend/lib/python3.8/site-packages/tensorflow/python/eager/function.py\u001b[0m in \u001b[0;36m_define_function_with_shape_relaxation\u001b[0;34m(self, args, kwargs, flat_args, filtered_flat_args, cache_key_context)\u001b[0m\n\u001b[1;32m   3360\u001b[0m           expand_composites=True)\n\u001b[1;32m   3361\u001b[0m \u001b[0;34m\u001b[0m\u001b[0m\n\u001b[0;32m-> 3362\u001b[0;31m     graph_function = self._create_graph_function(\n\u001b[0m\u001b[1;32m   3363\u001b[0m         args, kwargs, override_flat_arg_shapes=relaxed_arg_shapes)\n\u001b[1;32m   3364\u001b[0m     \u001b[0mself\u001b[0m\u001b[0;34m.\u001b[0m\u001b[0m_function_cache\u001b[0m\u001b[0;34m.\u001b[0m\u001b[0marg_relaxed\u001b[0m\u001b[0;34m[\u001b[0m\u001b[0mrank_only_cache_key\u001b[0m\u001b[0;34m]\u001b[0m \u001b[0;34m=\u001b[0m \u001b[0mgraph_function\u001b[0m\u001b[0;34m\u001b[0m\u001b[0;34m\u001b[0m\u001b[0m\n",
      "\u001b[0;32m~/.pyenv/versions/3.8.6/envs/next_trend/lib/python3.8/site-packages/tensorflow/python/eager/function.py\u001b[0m in \u001b[0;36m_create_graph_function\u001b[0;34m(self, args, kwargs, override_flat_arg_shapes)\u001b[0m\n\u001b[1;32m   3277\u001b[0m     \u001b[0marg_names\u001b[0m \u001b[0;34m=\u001b[0m \u001b[0mbase_arg_names\u001b[0m \u001b[0;34m+\u001b[0m \u001b[0mmissing_arg_names\u001b[0m\u001b[0;34m\u001b[0m\u001b[0;34m\u001b[0m\u001b[0m\n\u001b[1;32m   3278\u001b[0m     graph_function = ConcreteFunction(\n\u001b[0;32m-> 3279\u001b[0;31m         func_graph_module.func_graph_from_py_func(\n\u001b[0m\u001b[1;32m   3280\u001b[0m             \u001b[0mself\u001b[0m\u001b[0;34m.\u001b[0m\u001b[0m_name\u001b[0m\u001b[0;34m,\u001b[0m\u001b[0;34m\u001b[0m\u001b[0;34m\u001b[0m\u001b[0m\n\u001b[1;32m   3281\u001b[0m             \u001b[0mself\u001b[0m\u001b[0;34m.\u001b[0m\u001b[0m_python_function\u001b[0m\u001b[0;34m,\u001b[0m\u001b[0;34m\u001b[0m\u001b[0;34m\u001b[0m\u001b[0m\n",
      "\u001b[0;32m~/.pyenv/versions/3.8.6/envs/next_trend/lib/python3.8/site-packages/tensorflow/python/framework/func_graph.py\u001b[0m in \u001b[0;36mfunc_graph_from_py_func\u001b[0;34m(name, python_func, args, kwargs, signature, func_graph, autograph, autograph_options, add_control_dependencies, arg_names, op_return_value, collections, capture_by_value, override_flat_arg_shapes)\u001b[0m\n\u001b[1;32m    997\u001b[0m         \u001b[0m_\u001b[0m\u001b[0;34m,\u001b[0m \u001b[0moriginal_func\u001b[0m \u001b[0;34m=\u001b[0m \u001b[0mtf_decorator\u001b[0m\u001b[0;34m.\u001b[0m\u001b[0munwrap\u001b[0m\u001b[0;34m(\u001b[0m\u001b[0mpython_func\u001b[0m\u001b[0;34m)\u001b[0m\u001b[0;34m\u001b[0m\u001b[0;34m\u001b[0m\u001b[0m\n\u001b[1;32m    998\u001b[0m \u001b[0;34m\u001b[0m\u001b[0m\n\u001b[0;32m--> 999\u001b[0;31m       \u001b[0mfunc_outputs\u001b[0m \u001b[0;34m=\u001b[0m \u001b[0mpython_func\u001b[0m\u001b[0;34m(\u001b[0m\u001b[0;34m*\u001b[0m\u001b[0mfunc_args\u001b[0m\u001b[0;34m,\u001b[0m \u001b[0;34m**\u001b[0m\u001b[0mfunc_kwargs\u001b[0m\u001b[0;34m)\u001b[0m\u001b[0;34m\u001b[0m\u001b[0;34m\u001b[0m\u001b[0m\n\u001b[0m\u001b[1;32m   1000\u001b[0m \u001b[0;34m\u001b[0m\u001b[0m\n\u001b[1;32m   1001\u001b[0m       \u001b[0;31m# invariant: `func_outputs` contains only Tensors, CompositeTensors,\u001b[0m\u001b[0;34m\u001b[0m\u001b[0;34m\u001b[0m\u001b[0;34m\u001b[0m\u001b[0m\n",
      "\u001b[0;32m~/.pyenv/versions/3.8.6/envs/next_trend/lib/python3.8/site-packages/tensorflow/python/eager/def_function.py\u001b[0m in \u001b[0;36mwrapped_fn\u001b[0;34m(*args, **kwds)\u001b[0m\n\u001b[1;32m    670\u001b[0m         \u001b[0;31m# the function a weak reference to itself to avoid a reference cycle.\u001b[0m\u001b[0;34m\u001b[0m\u001b[0;34m\u001b[0m\u001b[0;34m\u001b[0m\u001b[0m\n\u001b[1;32m    671\u001b[0m         \u001b[0;32mwith\u001b[0m \u001b[0mOptionalXlaContext\u001b[0m\u001b[0;34m(\u001b[0m\u001b[0mcompile_with_xla\u001b[0m\u001b[0;34m)\u001b[0m\u001b[0;34m:\u001b[0m\u001b[0;34m\u001b[0m\u001b[0;34m\u001b[0m\u001b[0m\n\u001b[0;32m--> 672\u001b[0;31m           \u001b[0mout\u001b[0m \u001b[0;34m=\u001b[0m \u001b[0mweak_wrapped_fn\u001b[0m\u001b[0;34m(\u001b[0m\u001b[0;34m)\u001b[0m\u001b[0;34m.\u001b[0m\u001b[0m__wrapped__\u001b[0m\u001b[0;34m(\u001b[0m\u001b[0;34m*\u001b[0m\u001b[0margs\u001b[0m\u001b[0;34m,\u001b[0m \u001b[0;34m**\u001b[0m\u001b[0mkwds\u001b[0m\u001b[0;34m)\u001b[0m\u001b[0;34m\u001b[0m\u001b[0;34m\u001b[0m\u001b[0m\n\u001b[0m\u001b[1;32m    673\u001b[0m         \u001b[0;32mreturn\u001b[0m \u001b[0mout\u001b[0m\u001b[0;34m\u001b[0m\u001b[0;34m\u001b[0m\u001b[0m\n\u001b[1;32m    674\u001b[0m \u001b[0;34m\u001b[0m\u001b[0m\n",
      "\u001b[0;32m~/.pyenv/versions/3.8.6/envs/next_trend/lib/python3.8/site-packages/tensorflow/python/framework/func_graph.py\u001b[0m in \u001b[0;36mwrapper\u001b[0;34m(*args, **kwargs)\u001b[0m\n\u001b[1;32m    984\u001b[0m           \u001b[0;32mexcept\u001b[0m \u001b[0mException\u001b[0m \u001b[0;32mas\u001b[0m \u001b[0me\u001b[0m\u001b[0;34m:\u001b[0m  \u001b[0;31m# pylint:disable=broad-except\u001b[0m\u001b[0;34m\u001b[0m\u001b[0;34m\u001b[0m\u001b[0m\n\u001b[1;32m    985\u001b[0m             \u001b[0;32mif\u001b[0m \u001b[0mhasattr\u001b[0m\u001b[0;34m(\u001b[0m\u001b[0me\u001b[0m\u001b[0;34m,\u001b[0m \u001b[0;34m\"ag_error_metadata\"\u001b[0m\u001b[0;34m)\u001b[0m\u001b[0;34m:\u001b[0m\u001b[0;34m\u001b[0m\u001b[0;34m\u001b[0m\u001b[0m\n\u001b[0;32m--> 986\u001b[0;31m               \u001b[0;32mraise\u001b[0m \u001b[0me\u001b[0m\u001b[0;34m.\u001b[0m\u001b[0mag_error_metadata\u001b[0m\u001b[0;34m.\u001b[0m\u001b[0mto_exception\u001b[0m\u001b[0;34m(\u001b[0m\u001b[0me\u001b[0m\u001b[0;34m)\u001b[0m\u001b[0;34m\u001b[0m\u001b[0;34m\u001b[0m\u001b[0m\n\u001b[0m\u001b[1;32m    987\u001b[0m             \u001b[0;32melse\u001b[0m\u001b[0;34m:\u001b[0m\u001b[0;34m\u001b[0m\u001b[0;34m\u001b[0m\u001b[0m\n\u001b[1;32m    988\u001b[0m               \u001b[0;32mraise\u001b[0m\u001b[0;34m\u001b[0m\u001b[0;34m\u001b[0m\u001b[0m\n",
      "\u001b[0;31mValueError\u001b[0m: in user code:\n\n    /Users/netoconcon/.pyenv/versions/3.8.6/envs/next_trend/lib/python3.8/site-packages/tensorflow/python/keras/engine/training.py:1569 predict_function  *\n        return step_function(self, iterator)\n    /Users/netoconcon/.pyenv/versions/3.8.6/envs/next_trend/lib/python3.8/site-packages/tensorflow/python/keras/engine/training.py:1559 step_function  **\n        outputs = model.distribute_strategy.run(run_step, args=(data,))\n    /Users/netoconcon/.pyenv/versions/3.8.6/envs/next_trend/lib/python3.8/site-packages/tensorflow/python/distribute/distribute_lib.py:1285 run\n        return self._extended.call_for_each_replica(fn, args=args, kwargs=kwargs)\n    /Users/netoconcon/.pyenv/versions/3.8.6/envs/next_trend/lib/python3.8/site-packages/tensorflow/python/distribute/distribute_lib.py:2833 call_for_each_replica\n        return self._call_for_each_replica(fn, args, kwargs)\n    /Users/netoconcon/.pyenv/versions/3.8.6/envs/next_trend/lib/python3.8/site-packages/tensorflow/python/distribute/distribute_lib.py:3608 _call_for_each_replica\n        return fn(*args, **kwargs)\n    /Users/netoconcon/.pyenv/versions/3.8.6/envs/next_trend/lib/python3.8/site-packages/tensorflow/python/keras/engine/training.py:1552 run_step  **\n        outputs = model.predict_step(data)\n    /Users/netoconcon/.pyenv/versions/3.8.6/envs/next_trend/lib/python3.8/site-packages/tensorflow/python/keras/engine/training.py:1525 predict_step\n        return self(x, training=False)\n    /Users/netoconcon/.pyenv/versions/3.8.6/envs/next_trend/lib/python3.8/site-packages/tensorflow/python/keras/engine/base_layer.py:1030 __call__\n        outputs = call_fn(inputs, *args, **kwargs)\n    /Users/netoconcon/.pyenv/versions/3.8.6/envs/next_trend/lib/python3.8/site-packages/tensorflow/python/keras/engine/sequential.py:380 call\n        return super(Sequential, self).call(inputs, training=training, mask=mask)\n    /Users/netoconcon/.pyenv/versions/3.8.6/envs/next_trend/lib/python3.8/site-packages/tensorflow/python/keras/engine/functional.py:420 call\n        return self._run_internal_graph(\n    /Users/netoconcon/.pyenv/versions/3.8.6/envs/next_trend/lib/python3.8/site-packages/tensorflow/python/keras/engine/functional.py:556 _run_internal_graph\n        outputs = node.layer(*args, **kwargs)\n    /Users/netoconcon/.pyenv/versions/3.8.6/envs/next_trend/lib/python3.8/site-packages/tensorflow/python/keras/layers/recurrent.py:668 __call__\n        return super(RNN, self).__call__(inputs, **kwargs)\n    /Users/netoconcon/.pyenv/versions/3.8.6/envs/next_trend/lib/python3.8/site-packages/tensorflow/python/keras/engine/base_layer.py:1013 __call__\n        input_spec.assert_input_compatibility(self.input_spec, inputs, self.name)\n    /Users/netoconcon/.pyenv/versions/3.8.6/envs/next_trend/lib/python3.8/site-packages/tensorflow/python/keras/engine/input_spec.py:215 assert_input_compatibility\n        raise ValueError('Input ' + str(input_index) + ' of layer ' +\n\n    ValueError: Input 0 of layer lstm is incompatible with the layer: expected ndim=3, found ndim=2. Full shape received: (None, 11)\n"
     ]
    }
   ],
   "source": [
    "predict_y = model.predict(gme_df)"
   ]
  },
  {
   "cell_type": "code",
   "execution_count": 54,
   "id": "9c103aea",
   "metadata": {},
   "outputs": [
    {
     "data": {
      "text/plain": [
       "array([[0.00873057, 0.00833398, 0.00869733, 0.00836744, 0.00824956,\n",
       "        0.00880485, 0.00888902, 0.00889627, 0.00873687, 0.00844089],\n",
       "       [0.00873057, 0.00833398, 0.00869733, 0.00836744, 0.00824956,\n",
       "        0.00880485, 0.00888902, 0.00889627, 0.00873687, 0.00844089],\n",
       "       [0.00873057, 0.00833398, 0.00869733, 0.00836744, 0.00824956,\n",
       "        0.00880485, 0.00888902, 0.00889627, 0.00873687, 0.00844089]],\n",
       "      dtype=float32)"
      ]
     },
     "execution_count": 54,
     "metadata": {},
     "output_type": "execute_result"
    }
   ],
   "source": [
    "predict_y"
   ]
  },
  {
   "cell_type": "code",
   "execution_count": 55,
   "id": "52d732d1",
   "metadata": {},
   "outputs": [
    {
     "data": {
      "text/plain": [
       "array([-0.03508687,  0.0106483 ,  0.00506388], dtype=float32)"
      ]
     },
     "execution_count": 55,
     "metadata": {},
     "output_type": "execute_result"
    }
   ],
   "source": [
    "y_test"
   ]
  },
  {
   "cell_type": "markdown",
   "id": "9e0b1594",
   "metadata": {},
   "source": [
    "new approach"
   ]
  },
  {
   "cell_type": "code",
   "execution_count": 76,
   "id": "98da0ce0",
   "metadata": {},
   "outputs": [],
   "source": [
    "from keras.preprocessing.sequence import TimeseriesGenerator"
   ]
  },
  {
   "cell_type": "code",
   "execution_count": 80,
   "id": "f606e163",
   "metadata": {},
   "outputs": [],
   "source": [
    "data_gen = TimeseriesGenerator(gme_df.drop(columns=['retorno']).to_numpy(), gme_df['retorno'].to_numpy(),\n",
    "                               length=10, sampling_rate=2,\n",
    "                               batch_size=2)"
   ]
  },
  {
   "cell_type": "code",
   "execution_count": 85,
   "id": "0947c1db",
   "metadata": {},
   "outputs": [
    {
     "data": {
      "text/plain": [
       "(2, 5, 10)"
      ]
     },
     "execution_count": 85,
     "metadata": {},
     "output_type": "execute_result"
    }
   ],
   "source": [
    "data_gen[0][0].shape\n",
    "# (batch size, tamanho, features)"
   ]
  },
  {
   "cell_type": "code",
   "execution_count": 88,
   "id": "474b6860",
   "metadata": {},
   "outputs": [
    {
     "name": "stderr",
     "output_type": "stream",
     "text": [
      "/Users/netoconcon/.pyenv/versions/3.8.6/envs/next_trend/lib/python3.8/site-packages/tensorflow/python/keras/engine/training.py:1940: UserWarning: `Model.fit_generator` is deprecated and will be removed in a future version. Please use `Model.fit`, which supports generators.\n",
      "  warnings.warn('`Model.fit_generator` is deprecated and '\n"
     ]
    },
    {
     "ename": "ValueError",
     "evalue": "Failed to find data adapter that can handle input: <class 'keras.preprocessing.sequence.TimeseriesGenerator'>, <class 'NoneType'>",
     "output_type": "error",
     "traceback": [
      "\u001b[0;31m---------------------------------------------------------------------------\u001b[0m",
      "\u001b[0;31mValueError\u001b[0m                                Traceback (most recent call last)",
      "\u001b[0;32m/var/folders/rl/l0hlsnhd3_zcy_9mm8jb32n00000gn/T/ipykernel_25005/1498248180.py\u001b[0m in \u001b[0;36m<module>\u001b[0;34m\u001b[0m\n\u001b[1;32m      1\u001b[0m \u001b[0mmodel2\u001b[0m \u001b[0;34m=\u001b[0m \u001b[0minit_model\u001b[0m\u001b[0;34m(\u001b[0m\u001b[0;34m)\u001b[0m\u001b[0;34m\u001b[0m\u001b[0;34m\u001b[0m\u001b[0m\n\u001b[1;32m      2\u001b[0m \u001b[0;34m\u001b[0m\u001b[0m\n\u001b[0;32m----> 3\u001b[0;31m \u001b[0mmodel2\u001b[0m\u001b[0;34m.\u001b[0m\u001b[0mfit_generator\u001b[0m\u001b[0;34m(\u001b[0m\u001b[0mdata_gen\u001b[0m\u001b[0;34m)\u001b[0m\u001b[0;34m\u001b[0m\u001b[0;34m\u001b[0m\u001b[0m\n\u001b[0m",
      "\u001b[0;32m~/.pyenv/versions/3.8.6/envs/next_trend/lib/python3.8/site-packages/tensorflow/python/keras/engine/training.py\u001b[0m in \u001b[0;36mfit_generator\u001b[0;34m(self, generator, steps_per_epoch, epochs, verbose, callbacks, validation_data, validation_steps, validation_freq, class_weight, max_queue_size, workers, use_multiprocessing, shuffle, initial_epoch)\u001b[0m\n\u001b[1;32m   1941\u001b[0m                   \u001b[0;34m'will be removed in a future version. '\u001b[0m\u001b[0;34m\u001b[0m\u001b[0;34m\u001b[0m\u001b[0m\n\u001b[1;32m   1942\u001b[0m                   'Please use `Model.fit`, which supports generators.')\n\u001b[0;32m-> 1943\u001b[0;31m     return self.fit(\n\u001b[0m\u001b[1;32m   1944\u001b[0m         \u001b[0mgenerator\u001b[0m\u001b[0;34m,\u001b[0m\u001b[0;34m\u001b[0m\u001b[0;34m\u001b[0m\u001b[0m\n\u001b[1;32m   1945\u001b[0m         \u001b[0msteps_per_epoch\u001b[0m\u001b[0;34m=\u001b[0m\u001b[0msteps_per_epoch\u001b[0m\u001b[0;34m,\u001b[0m\u001b[0;34m\u001b[0m\u001b[0;34m\u001b[0m\u001b[0m\n",
      "\u001b[0;32m~/.pyenv/versions/3.8.6/envs/next_trend/lib/python3.8/site-packages/tensorflow/python/keras/engine/training.py\u001b[0m in \u001b[0;36mfit\u001b[0;34m(self, x, y, batch_size, epochs, verbose, callbacks, validation_split, validation_data, shuffle, class_weight, sample_weight, initial_epoch, steps_per_epoch, validation_steps, validation_batch_size, validation_freq, max_queue_size, workers, use_multiprocessing)\u001b[0m\n\u001b[1;32m   1131\u001b[0m          \u001b[0mtraining_utils\u001b[0m\u001b[0;34m.\u001b[0m\u001b[0mRespectCompiledTrainableState\u001b[0m\u001b[0;34m(\u001b[0m\u001b[0mself\u001b[0m\u001b[0;34m)\u001b[0m\u001b[0;34m:\u001b[0m\u001b[0;34m\u001b[0m\u001b[0;34m\u001b[0m\u001b[0m\n\u001b[1;32m   1132\u001b[0m       \u001b[0;31m# Creates a `tf.data.Dataset` and handles batch and epoch iteration.\u001b[0m\u001b[0;34m\u001b[0m\u001b[0;34m\u001b[0m\u001b[0;34m\u001b[0m\u001b[0m\n\u001b[0;32m-> 1133\u001b[0;31m       data_handler = data_adapter.get_data_handler(\n\u001b[0m\u001b[1;32m   1134\u001b[0m           \u001b[0mx\u001b[0m\u001b[0;34m=\u001b[0m\u001b[0mx\u001b[0m\u001b[0;34m,\u001b[0m\u001b[0;34m\u001b[0m\u001b[0;34m\u001b[0m\u001b[0m\n\u001b[1;32m   1135\u001b[0m           \u001b[0my\u001b[0m\u001b[0;34m=\u001b[0m\u001b[0my\u001b[0m\u001b[0;34m,\u001b[0m\u001b[0;34m\u001b[0m\u001b[0;34m\u001b[0m\u001b[0m\n",
      "\u001b[0;32m~/.pyenv/versions/3.8.6/envs/next_trend/lib/python3.8/site-packages/tensorflow/python/keras/engine/data_adapter.py\u001b[0m in \u001b[0;36mget_data_handler\u001b[0;34m(*args, **kwargs)\u001b[0m\n\u001b[1;32m   1362\u001b[0m   \u001b[0;32mif\u001b[0m \u001b[0mgetattr\u001b[0m\u001b[0;34m(\u001b[0m\u001b[0mkwargs\u001b[0m\u001b[0;34m[\u001b[0m\u001b[0;34m\"model\"\u001b[0m\u001b[0;34m]\u001b[0m\u001b[0;34m,\u001b[0m \u001b[0;34m\"_cluster_coordinator\"\u001b[0m\u001b[0;34m,\u001b[0m \u001b[0;32mNone\u001b[0m\u001b[0;34m)\u001b[0m\u001b[0;34m:\u001b[0m\u001b[0;34m\u001b[0m\u001b[0;34m\u001b[0m\u001b[0m\n\u001b[1;32m   1363\u001b[0m     \u001b[0;32mreturn\u001b[0m \u001b[0m_ClusterCoordinatorDataHandler\u001b[0m\u001b[0;34m(\u001b[0m\u001b[0;34m*\u001b[0m\u001b[0margs\u001b[0m\u001b[0;34m,\u001b[0m \u001b[0;34m**\u001b[0m\u001b[0mkwargs\u001b[0m\u001b[0;34m)\u001b[0m\u001b[0;34m\u001b[0m\u001b[0;34m\u001b[0m\u001b[0m\n\u001b[0;32m-> 1364\u001b[0;31m   \u001b[0;32mreturn\u001b[0m \u001b[0mDataHandler\u001b[0m\u001b[0;34m(\u001b[0m\u001b[0;34m*\u001b[0m\u001b[0margs\u001b[0m\u001b[0;34m,\u001b[0m \u001b[0;34m**\u001b[0m\u001b[0mkwargs\u001b[0m\u001b[0;34m)\u001b[0m\u001b[0;34m\u001b[0m\u001b[0;34m\u001b[0m\u001b[0m\n\u001b[0m\u001b[1;32m   1365\u001b[0m \u001b[0;34m\u001b[0m\u001b[0m\n\u001b[1;32m   1366\u001b[0m \u001b[0;34m\u001b[0m\u001b[0m\n",
      "\u001b[0;32m~/.pyenv/versions/3.8.6/envs/next_trend/lib/python3.8/site-packages/tensorflow/python/keras/engine/data_adapter.py\u001b[0m in \u001b[0;36m__init__\u001b[0;34m(self, x, y, sample_weight, batch_size, steps_per_epoch, initial_epoch, epochs, shuffle, class_weight, max_queue_size, workers, use_multiprocessing, model, steps_per_execution, distribute)\u001b[0m\n\u001b[1;32m   1150\u001b[0m       \u001b[0mself\u001b[0m\u001b[0;34m.\u001b[0m\u001b[0m_steps_per_execution_value\u001b[0m \u001b[0;34m=\u001b[0m \u001b[0msteps_per_execution\u001b[0m\u001b[0;34m.\u001b[0m\u001b[0mnumpy\u001b[0m\u001b[0;34m(\u001b[0m\u001b[0;34m)\u001b[0m\u001b[0;34m.\u001b[0m\u001b[0mitem\u001b[0m\u001b[0;34m(\u001b[0m\u001b[0;34m)\u001b[0m\u001b[0;34m\u001b[0m\u001b[0;34m\u001b[0m\u001b[0m\n\u001b[1;32m   1151\u001b[0m \u001b[0;34m\u001b[0m\u001b[0m\n\u001b[0;32m-> 1152\u001b[0;31m     \u001b[0madapter_cls\u001b[0m \u001b[0;34m=\u001b[0m \u001b[0mselect_data_adapter\u001b[0m\u001b[0;34m(\u001b[0m\u001b[0mx\u001b[0m\u001b[0;34m,\u001b[0m \u001b[0my\u001b[0m\u001b[0;34m)\u001b[0m\u001b[0;34m\u001b[0m\u001b[0;34m\u001b[0m\u001b[0m\n\u001b[0m\u001b[1;32m   1153\u001b[0m     \u001b[0mself\u001b[0m\u001b[0;34m.\u001b[0m\u001b[0m_verify_data_adapter_compatibility\u001b[0m\u001b[0;34m(\u001b[0m\u001b[0madapter_cls\u001b[0m\u001b[0;34m)\u001b[0m\u001b[0;34m\u001b[0m\u001b[0;34m\u001b[0m\u001b[0m\n\u001b[1;32m   1154\u001b[0m     self._adapter = adapter_cls(\n",
      "\u001b[0;32m~/.pyenv/versions/3.8.6/envs/next_trend/lib/python3.8/site-packages/tensorflow/python/keras/engine/data_adapter.py\u001b[0m in \u001b[0;36mselect_data_adapter\u001b[0;34m(x, y)\u001b[0m\n\u001b[1;32m    989\u001b[0m   \u001b[0;32mif\u001b[0m \u001b[0;32mnot\u001b[0m \u001b[0madapter_cls\u001b[0m\u001b[0;34m:\u001b[0m\u001b[0;34m\u001b[0m\u001b[0;34m\u001b[0m\u001b[0m\n\u001b[1;32m    990\u001b[0m     \u001b[0;31m# TODO(scottzhu): This should be a less implementation-specific error.\u001b[0m\u001b[0;34m\u001b[0m\u001b[0;34m\u001b[0m\u001b[0;34m\u001b[0m\u001b[0m\n\u001b[0;32m--> 991\u001b[0;31m     raise ValueError(\n\u001b[0m\u001b[1;32m    992\u001b[0m         \u001b[0;34m\"Failed to find data adapter that can handle \"\u001b[0m\u001b[0;34m\u001b[0m\u001b[0;34m\u001b[0m\u001b[0m\n\u001b[1;32m    993\u001b[0m         \"input: {}, {}\".format(\n",
      "\u001b[0;31mValueError\u001b[0m: Failed to find data adapter that can handle input: <class 'keras.preprocessing.sequence.TimeseriesGenerator'>, <class 'NoneType'>"
     ]
    }
   ],
   "source": [
    "model2 = init_model()\n",
    "\n",
    "model2.fit_generator(data_gen)"
   ]
  }
 ],
 "metadata": {
  "kernelspec": {
   "display_name": "Python 3 (ipykernel)",
   "language": "python",
   "name": "python3"
  },
  "language_info": {
   "codemirror_mode": {
    "name": "ipython",
    "version": 3
   },
   "file_extension": ".py",
   "mimetype": "text/x-python",
   "name": "python",
   "nbconvert_exporter": "python",
   "pygments_lexer": "ipython3",
   "version": "3.8.6"
  }
 },
 "nbformat": 4,
 "nbformat_minor": 5
}
