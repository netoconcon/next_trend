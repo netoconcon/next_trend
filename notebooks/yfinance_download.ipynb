{
 "cells": [
  {
   "cell_type": "markdown",
   "id": "12138776",
   "metadata": {},
   "source": [
    "# Baixando o Yfinance"
   ]
  },
  {
   "cell_type": "code",
   "execution_count": 1,
   "id": "9e4c0604",
   "metadata": {},
   "outputs": [
    {
     "name": "stdout",
     "output_type": "stream",
     "text": [
      "Collecting yfinance\n",
      "  Downloading yfinance-0.1.63.tar.gz (26 kB)\n",
      "Requirement already satisfied: pandas>=0.24 in /Users/Tanise/.pyenv/versions/3.8.6/envs/next_trend/lib/python3.8/site-packages (from yfinance) (1.3.0)\n",
      "Requirement already satisfied: numpy>=1.15 in /Users/Tanise/.pyenv/versions/3.8.6/envs/next_trend/lib/python3.8/site-packages (from yfinance) (1.19.5)\n",
      "Requirement already satisfied: requests>=2.20 in /Users/Tanise/.pyenv/versions/3.8.6/envs/next_trend/lib/python3.8/site-packages (from yfinance) (2.25.1)\n",
      "Collecting multitasking>=0.0.7\n",
      "  Downloading multitasking-0.0.9.tar.gz (8.1 kB)\n",
      "Collecting lxml>=4.5.1\n",
      "  Downloading lxml-4.6.3-cp38-cp38-macosx_10_9_x86_64.whl (4.6 MB)\n",
      "\u001b[K     |████████████████████████████████| 4.6 MB 494 kB/s eta 0:00:01     |████                            | 563 kB 673 kB/s eta 0:00:06\n",
      "\u001b[?25hRequirement already satisfied: python-dateutil>=2.7.3 in /Users/Tanise/.pyenv/versions/3.8.6/envs/next_trend/lib/python3.8/site-packages (from pandas>=0.24->yfinance) (2.8.1)\n",
      "Requirement already satisfied: pytz>=2017.3 in /Users/Tanise/.pyenv/versions/3.8.6/envs/next_trend/lib/python3.8/site-packages (from pandas>=0.24->yfinance) (2021.1)\n",
      "Requirement already satisfied: six>=1.5 in /Users/Tanise/.pyenv/versions/3.8.6/envs/next_trend/lib/python3.8/site-packages (from python-dateutil>=2.7.3->pandas>=0.24->yfinance) (1.15.0)\n",
      "Requirement already satisfied: idna<3,>=2.5 in /Users/Tanise/.pyenv/versions/3.8.6/envs/next_trend/lib/python3.8/site-packages (from requests>=2.20->yfinance) (2.10)\n",
      "Requirement already satisfied: chardet<5,>=3.0.2 in /Users/Tanise/.pyenv/versions/3.8.6/envs/next_trend/lib/python3.8/site-packages (from requests>=2.20->yfinance) (4.0.0)\n",
      "Requirement already satisfied: certifi>=2017.4.17 in /Users/Tanise/.pyenv/versions/3.8.6/envs/next_trend/lib/python3.8/site-packages (from requests>=2.20->yfinance) (2021.5.30)\n",
      "Requirement already satisfied: urllib3<1.27,>=1.21.1 in /Users/Tanise/.pyenv/versions/3.8.6/envs/next_trend/lib/python3.8/site-packages (from requests>=2.20->yfinance) (1.26.6)\n",
      "Building wheels for collected packages: yfinance, multitasking\n",
      "  Building wheel for yfinance (setup.py) ... \u001b[?25ldone\n",
      "\u001b[?25h  Created wheel for yfinance: filename=yfinance-0.1.63-py2.py3-none-any.whl size=23909 sha256=46e13b281817b1f562af9dbf74635986892d68c312582e39bf79ee8f19c02e01\n",
      "  Stored in directory: /Users/Tanise/Library/Caches/pip/wheels/ec/cc/c1/32da8ee853d742d5d7cbd11ee04421222eb354672020b57297\n",
      "  Building wheel for multitasking (setup.py) ... \u001b[?25ldone\n",
      "\u001b[?25h  Created wheel for multitasking: filename=multitasking-0.0.9-py3-none-any.whl size=8368 sha256=8ada70314e7c3aa6b3f5459738d8f8a632c34c55f73fb9ca6149a7806bbf7da6\n",
      "  Stored in directory: /Users/Tanise/Library/Caches/pip/wheels/57/6d/a3/a39b839cc75274d2acfb1c58bfead2f726c6577fe8c4723f13\n",
      "Successfully built yfinance multitasking\n",
      "Installing collected packages: multitasking, lxml, yfinance\n",
      "Successfully installed lxml-4.6.3 multitasking-0.0.9 yfinance-0.1.63\n",
      "\u001b[33mWARNING: You are using pip version 21.1.3; however, version 21.2.2 is available.\n",
      "You should consider upgrading via the '/Users/Tanise/.pyenv/versions/3.8.6/envs/next_trend/bin/python -m pip install --upgrade pip' command.\u001b[0m\n"
     ]
    }
   ],
   "source": [
    "!pip install yfinance"
   ]
  },
  {
   "cell_type": "code",
   "execution_count": 7,
   "id": "48cbeb55",
   "metadata": {},
   "outputs": [],
   "source": [
    "import pandas as pd\n",
    "import yfinance as yf"
   ]
  },
  {
   "cell_type": "code",
   "execution_count": 9,
   "id": "52a8630d",
   "metadata": {},
   "outputs": [
    {
     "name": "stdout",
     "output_type": "stream",
     "text": [
      "[*********************100%***********************]  1 of 1 completed\n"
     ]
    }
   ],
   "source": [
    "jnj_price_df = yf.download(\"JNJ\", start=\"2019-04-01\", end=\"2021-07-24\")"
   ]
  },
  {
   "cell_type": "code",
   "execution_count": 10,
   "id": "0bfe2fca",
   "metadata": {},
   "outputs": [],
   "source": [
    "jnj_price_df.to_csv('price/JNJ.csv')"
   ]
  },
  {
   "cell_type": "code",
   "execution_count": 11,
   "id": "fd9ae3d8",
   "metadata": {},
   "outputs": [
    {
     "name": "stdout",
     "output_type": "stream",
     "text": [
      "[*********************100%***********************]  1 of 1 completed\n"
     ]
    }
   ],
   "source": [
    "alibaba_price_df = yf.download(\"BABA\", start=\"2019-04-01\", end=\"2021-07-24\")\n",
    "alibaba_price_df.to_csv('price/BABA.csv')"
   ]
  },
  {
   "cell_type": "code",
   "execution_count": 12,
   "id": "71b7512a",
   "metadata": {},
   "outputs": [
    {
     "name": "stdout",
     "output_type": "stream",
     "text": [
      "[*********************100%***********************]  1 of 1 completed\n"
     ]
    }
   ],
   "source": [
    "apple_price_df = yf.download(\"AAPL\", start=\"2019-04-01\", end=\"2021-07-24\")\n",
    "apple_price_df.to_csv('price/AAPL.csv')"
   ]
  },
  {
   "cell_type": "code",
   "execution_count": 13,
   "id": "50714ef4",
   "metadata": {},
   "outputs": [
    {
     "name": "stdout",
     "output_type": "stream",
     "text": [
      "[*********************100%***********************]  1 of 1 completed\n"
     ]
    }
   ],
   "source": [
    "google_price_df = yf.download(\"GOOG\", start=\"2019-04-01\", end=\"2021-07-24\")\n",
    "google_price_df.to_csv('price/GOOG.csv')"
   ]
  },
  {
   "cell_type": "code",
   "execution_count": 14,
   "id": "eb8987e7",
   "metadata": {},
   "outputs": [
    {
     "name": "stdout",
     "output_type": "stream",
     "text": [
      "[*********************100%***********************]  1 of 1 completed\n"
     ]
    }
   ],
   "source": [
    "tesla_price_df = yf.download(\"TSLA\", start=\"2019-04-01\", end=\"2021-07-24\")\n",
    "tesla_price_df.to_csv('price/TSLA.csv')"
   ]
  },
  {
   "cell_type": "code",
   "execution_count": 15,
   "id": "cfab3024",
   "metadata": {},
   "outputs": [
    {
     "name": "stdout",
     "output_type": "stream",
     "text": [
      "[*********************100%***********************]  1 of 1 completed\n"
     ]
    }
   ],
   "source": [
    "pfizer_price_df = yf.download(\"PFE\", start=\"2019-04-01\", end=\"2021-07-24\")\n",
    "pfizer_price_df.to_csv('price/PFE.csv')"
   ]
  },
  {
   "cell_type": "code",
   "execution_count": null,
   "id": "5295a165",
   "metadata": {},
   "outputs": [],
   "source": []
  }
 ],
 "metadata": {
  "kernelspec": {
   "display_name": "Python 3 (ipykernel)",
   "language": "python",
   "name": "python3"
  },
  "language_info": {
   "codemirror_mode": {
    "name": "ipython",
    "version": 3
   },
   "file_extension": ".py",
   "mimetype": "text/x-python",
   "name": "python",
   "nbconvert_exporter": "python",
   "pygments_lexer": "ipython3",
   "version": "3.8.6"
  }
 },
 "nbformat": 4,
 "nbformat_minor": 5
}
