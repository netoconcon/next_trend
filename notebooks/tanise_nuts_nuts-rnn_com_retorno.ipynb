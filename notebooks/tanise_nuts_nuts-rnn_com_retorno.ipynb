{
 "cells": [
  {
   "cell_type": "code",
   "execution_count": 1,
   "id": "63cefc91",
   "metadata": {},
   "outputs": [],
   "source": [
    "# import toolkit\n",
    "# import seaborn as sns\n",
    "import numpy as np\n",
    "import matplotlib.pyplot as plt\n",
    "from datetime import date\n",
    "import pandas as pd"
   ]
  },
  {
   "cell_type": "code",
   "execution_count": 101,
   "id": "0e8d2c49",
   "metadata": {},
   "outputs": [],
   "source": [
    "# import sentimental data\n",
    "amazon_df = pd.read_csv('amazon_df.csv')\n",
    "gme_df = pd.read_csv('gme_df.csv')\n",
    "kodak_df = pd.read_csv('kodak_df.csv')\n",
    "facebook_df = pd.read_csv('fb_df.csv')"
   ]
  },
  {
   "cell_type": "code",
   "execution_count": 102,
   "id": "72949c5d",
   "metadata": {},
   "outputs": [],
   "source": [
    "# renaming columns\n",
    "amazon_df.rename({'0':'Date', '1':'Positive', '2':'Neutral', '3':'Negative', '4':'Sentimental Score'}, axis=1, inplace=True)\n",
    "gme_df.rename({'0':'Date', '1':'Positive', '2':'Neutral', '3':'Negative', '4':'Sentimental Score'}, axis=1, inplace=True)\n",
    "kodak_df.rename({'0':'Date', '1':'Positive', '2':'Neutral', '3':'Negative', '4':'Sentimental Score'}, axis=1, inplace=True)\n",
    "facebook_df.rename({'0':'Date', '1':'Positive', '2':'Neutral', '3':'Negative', '4':'Sentimental Score'}, axis=1, inplace=True)\n",
    "\n",
    "# dropping columns\n",
    "\n",
    "amazon_df.drop(columns=['Unnamed: 0'], inplace=True)\n",
    "gme_df.drop(columns=['Unnamed: 0'], inplace=True)\n",
    "kodak_df.drop(columns=['Unnamed: 0'], inplace=True)\n",
    "facebook_df.drop(columns=['Unnamed: 0'], inplace=True)\n"
   ]
  },
  {
   "cell_type": "code",
   "execution_count": 103,
   "id": "61bfdb74",
   "metadata": {},
   "outputs": [],
   "source": [
    "# import price data\n",
    "amazon_price_df = pd.read_csv('price/AMZN_1.csv')\n",
    "gme_price_df = pd.read_csv('price/GME_1.csv')\n",
    "kodak_price_df = pd.read_csv('price/KODK_1.csv')\n",
    "facebook_price_df = pd.read_csv('price/FB_1.csv')"
   ]
  },
  {
   "cell_type": "code",
   "execution_count": 44,
   "id": "82564255",
   "metadata": {},
   "outputs": [
    {
     "data": {
      "text/html": [
       "<div>\n",
       "<style scoped>\n",
       "    .dataframe tbody tr th:only-of-type {\n",
       "        vertical-align: middle;\n",
       "    }\n",
       "\n",
       "    .dataframe tbody tr th {\n",
       "        vertical-align: top;\n",
       "    }\n",
       "\n",
       "    .dataframe thead th {\n",
       "        text-align: right;\n",
       "    }\n",
       "</style>\n",
       "<table border=\"1\" class=\"dataframe\">\n",
       "  <thead>\n",
       "    <tr style=\"text-align: right;\">\n",
       "      <th></th>\n",
       "      <th>Date</th>\n",
       "      <th>Positive</th>\n",
       "      <th>Neutral</th>\n",
       "      <th>Negative</th>\n",
       "      <th>Sentimental Score</th>\n",
       "    </tr>\n",
       "  </thead>\n",
       "  <tbody>\n",
       "    <tr>\n",
       "      <th>0</th>\n",
       "      <td>2021-07-15</td>\n",
       "      <td>6</td>\n",
       "      <td>5</td>\n",
       "      <td>3</td>\n",
       "      <td>0.679</td>\n",
       "    </tr>\n",
       "    <tr>\n",
       "      <th>1</th>\n",
       "      <td>2021-07-14</td>\n",
       "      <td>4</td>\n",
       "      <td>0</td>\n",
       "      <td>3</td>\n",
       "      <td>0.214</td>\n",
       "    </tr>\n",
       "    <tr>\n",
       "      <th>2</th>\n",
       "      <td>2021-07-13</td>\n",
       "      <td>7</td>\n",
       "      <td>2</td>\n",
       "      <td>5</td>\n",
       "      <td>0.357</td>\n",
       "    </tr>\n",
       "    <tr>\n",
       "      <th>3</th>\n",
       "      <td>2021-07-12</td>\n",
       "      <td>4</td>\n",
       "      <td>1</td>\n",
       "      <td>5</td>\n",
       "      <td>-0.050</td>\n",
       "    </tr>\n",
       "    <tr>\n",
       "      <th>4</th>\n",
       "      <td>2021-07-11</td>\n",
       "      <td>1</td>\n",
       "      <td>0</td>\n",
       "      <td>4</td>\n",
       "      <td>-0.900</td>\n",
       "    </tr>\n",
       "    <tr>\n",
       "      <th>...</th>\n",
       "      <td>...</td>\n",
       "      <td>...</td>\n",
       "      <td>...</td>\n",
       "      <td>...</td>\n",
       "      <td>...</td>\n",
       "    </tr>\n",
       "    <tr>\n",
       "      <th>763</th>\n",
       "      <td>2019-04-05</td>\n",
       "      <td>7</td>\n",
       "      <td>2</td>\n",
       "      <td>1</td>\n",
       "      <td>1.100</td>\n",
       "    </tr>\n",
       "    <tr>\n",
       "      <th>764</th>\n",
       "      <td>2019-04-04</td>\n",
       "      <td>10</td>\n",
       "      <td>3</td>\n",
       "      <td>1</td>\n",
       "      <td>1.179</td>\n",
       "    </tr>\n",
       "    <tr>\n",
       "      <th>765</th>\n",
       "      <td>2019-04-03</td>\n",
       "      <td>9</td>\n",
       "      <td>4</td>\n",
       "      <td>3</td>\n",
       "      <td>0.813</td>\n",
       "    </tr>\n",
       "    <tr>\n",
       "      <th>766</th>\n",
       "      <td>2019-04-02</td>\n",
       "      <td>9</td>\n",
       "      <td>3</td>\n",
       "      <td>1</td>\n",
       "      <td>1.154</td>\n",
       "    </tr>\n",
       "    <tr>\n",
       "      <th>767</th>\n",
       "      <td>2019-04-01</td>\n",
       "      <td>10</td>\n",
       "      <td>0</td>\n",
       "      <td>1</td>\n",
       "      <td>1.227</td>\n",
       "    </tr>\n",
       "  </tbody>\n",
       "</table>\n",
       "<p>768 rows × 5 columns</p>\n",
       "</div>"
      ],
      "text/plain": [
       "           Date  Positive  Neutral  Negative  Sentimental Score\n",
       "0    2021-07-15         6        5         3              0.679\n",
       "1    2021-07-14         4        0         3              0.214\n",
       "2    2021-07-13         7        2         5              0.357\n",
       "3    2021-07-12         4        1         5             -0.050\n",
       "4    2021-07-11         1        0         4             -0.900\n",
       "..          ...       ...      ...       ...                ...\n",
       "763  2019-04-05         7        2         1              1.100\n",
       "764  2019-04-04        10        3         1              1.179\n",
       "765  2019-04-03         9        4         3              0.813\n",
       "766  2019-04-02         9        3         1              1.154\n",
       "767  2019-04-01        10        0         1              1.227\n",
       "\n",
       "[768 rows x 5 columns]"
      ]
     },
     "execution_count": 44,
     "metadata": {},
     "output_type": "execute_result"
    }
   ],
   "source": [
    "amazon_df"
   ]
  },
  {
   "cell_type": "markdown",
   "id": "e88b355a",
   "metadata": {},
   "source": []
  },
  {
   "cell_type": "code",
   "execution_count": null,
   "id": "91def7c2",
   "metadata": {},
   "outputs": [],
   "source": []
  },
  {
   "cell_type": "code",
   "execution_count": 104,
   "id": "cf6d9313",
   "metadata": {},
   "outputs": [
    {
     "name": "stdout",
     "output_type": "stream",
     "text": [
      "(862, 11)\n",
      "(653, 11)\n",
      "(726, 11)\n",
      "(855, 11)\n"
     ]
    }
   ],
   "source": [
    "# merging DB\n",
    "\n",
    "amazon_df = pd.merge(amazon_df, amazon_price_df, how=\"outer\", on=[\"Date\", \"Date\"])\n",
    "gme_df = pd.merge(gme_df, gme_price_df, how=\"outer\", on=[\"Date\", \"Date\"] )\n",
    "kodak_df = pd.merge(kodak_df, kodak_price_df, how=\"outer\", on=[\"Date\", \"Date\"] )\n",
    "facebook_df = pd.merge(facebook_df, facebook_price_df, how=\"outer\", on=[\"Date\", \"Date\"] )\n",
    "\n",
    "\n",
    "print(amazon_df.shape)\n",
    "print(kodak_df.shape)\n",
    "print(gme_df.shape)\n",
    "print(facebook_df.shape)"
   ]
  },
  {
   "cell_type": "code",
   "execution_count": 105,
   "id": "3491f80e",
   "metadata": {},
   "outputs": [],
   "source": [
    "facebook_df.drop(columns=['Date'],inplace=True)\n",
    "kodak_df.drop(columns=['Date'],inplace=True)\n",
    "gme_df.drop(columns=['Date'],inplace=True)\n",
    "amazon_df.drop(columns=['Date'],inplace=True)"
   ]
  },
  {
   "cell_type": "code",
   "execution_count": 106,
   "id": "09900575",
   "metadata": {},
   "outputs": [],
   "source": [
    "facebook_df['retorno'] = facebook_df['Close'].pct_change()\n",
    "kodak_df['retorno'] = kodak_df['Close'].pct_change()\n",
    "gme_df['retorno'] = gme_df['Close'].pct_change()\n",
    "amazon_df['retorno'] = amazon_df['Close'].pct_change()"
   ]
  },
  {
   "cell_type": "code",
   "execution_count": 112,
   "id": "9490c24d",
   "metadata": {},
   "outputs": [
    {
     "data": {
      "text/plain": [
       "<AxesSubplot:>"
      ]
     },
     "execution_count": 112,
     "metadata": {},
     "output_type": "execute_result"
    },
    {
     "data": {
      "image/png": "[encoded data removed]",
      "text/plain": [
       "<Figure size 432x288 with 1 Axes>"
      ]
     },
     "metadata": {
      "needs_background": "light"
     },
     "output_type": "display_data"
    }
   ],
   "source": [
    "gme_df['retorno'].plot()"
   ]
  },
  {
   "cell_type": "code",
   "execution_count": 113,
   "id": "e4581611",
   "metadata": {},
   "outputs": [],
   "source": [
    "amazon_df.fillna(-1000,inplace=True)\n",
    "gme_df.fillna(-1000,inplace=True)\n",
    "kodak_df.fillna(-1000,inplace=True)\n",
    "facebook_df.fillna(-1000,inplace=True)"
   ]
  },
  {
   "cell_type": "code",
   "execution_count": 114,
   "id": "94cf230f",
   "metadata": {},
   "outputs": [],
   "source": [
    "gme_np = gme_df.to_numpy() \n",
    "kodak_np = kodak_df.to_numpy()\n",
    "facebook_np = facebook_df.to_numpy()\n",
    "amazon_np = amazon_df.to_numpy()"
   ]
  },
  {
   "cell_type": "code",
   "execution_count": 115,
   "id": "a46032ad",
   "metadata": {},
   "outputs": [
    {
     "name": "stderr",
     "output_type": "stream",
     "text": [
      "/var/folders/g9/dk8kk1tn5ys_km_c5w3rh3380000gp/T/ipykernel_88259/2229301694.py:1: VisibleDeprecationWarning: Creating an ndarray from ragged nested sequences (which is a list-or-tuple of lists-or-tuples-or ndarrays with different lengths or shapes) is deprecated. If you meant to do this, you must specify 'dtype=object' when creating the ndarray\n",
      "  news_stock_np = np.array([gme_np,kodak_np,amazon_np,facebook_np])\n"
     ]
    }
   ],
   "source": [
    "news_stock_np = np.array([gme_np,kodak_np,amazon_np,facebook_np])"
   ]
  },
  {
   "cell_type": "code",
   "execution_count": 18,
   "id": "e7435abd",
   "metadata": {},
   "outputs": [],
   "source": [
    "#reddit_day.fillna(-1000,inplace=True)\n",
    "from tensorflow.keras.preprocessing.sequence import pad_sequences"
   ]
  },
  {
   "cell_type": "code",
   "execution_count": 116,
   "id": "bccff8f1",
   "metadata": {},
   "outputs": [
    {
     "data": {
      "text/plain": [
       "(4,)"
      ]
     },
     "execution_count": 116,
     "metadata": {},
     "output_type": "execute_result"
    }
   ],
   "source": [
    "news_stock_np.shape"
   ]
  },
  {
   "cell_type": "code",
   "execution_count": 117,
   "id": "20f9960d",
   "metadata": {},
   "outputs": [
    {
     "data": {
      "text/plain": [
       "array([[[-1.0000000e+03, -1.0000000e+03, -1.0000000e+03, ...,\n",
       "         -1.0000000e+03, -1.0000000e+03, -1.0000000e+03],\n",
       "        [-1.0000000e+03, -1.0000000e+03, -1.0000000e+03, ...,\n",
       "         -1.0000000e+03, -1.0000000e+03, -1.0000000e+03],\n",
       "        [-1.0000000e+03, -1.0000000e+03, -1.0000000e+03, ...,\n",
       "         -1.0000000e+03, -1.0000000e+03, -1.0000000e+03],\n",
       "        ...,\n",
       "        [-1.0000000e+03, -1.0000000e+03, -1.0000000e+03, ...,\n",
       "          1.7885001e+02,  1.4130000e+06, -3.7457574e-02],\n",
       "        [-1.0000000e+03, -1.0000000e+03, -1.0000000e+03, ...,\n",
       "          1.8036000e+02,  1.3129000e+06,  8.4428005e-03],\n",
       "        [-1.0000000e+03, -1.0000000e+03, -1.0000000e+03, ...,\n",
       "          1.8394000e+02,  1.2554000e+06,  1.9849196e-02]],\n",
       "\n",
       "       [[-1.0000000e+03, -1.0000000e+03, -1.0000000e+03, ...,\n",
       "         -1.0000000e+03, -1.0000000e+03, -1.0000000e+03],\n",
       "        [-1.0000000e+03, -1.0000000e+03, -1.0000000e+03, ...,\n",
       "         -1.0000000e+03, -1.0000000e+03, -1.0000000e+03],\n",
       "        [-1.0000000e+03, -1.0000000e+03, -1.0000000e+03, ...,\n",
       "         -1.0000000e+03, -1.0000000e+03, -1.0000000e+03],\n",
       "        ...,\n",
       "        [-1.0000000e+03, -1.0000000e+03, -1.0000000e+03, ...,\n",
       "          7.3499999e+00,  1.1106000e+06, -5.6482669e-02],\n",
       "        [-1.0000000e+03, -1.0000000e+03, -1.0000000e+03, ...,\n",
       "          7.2700000e+00,  1.1993000e+06, -1.0884354e-02],\n",
       "        [-1.0000000e+03, -1.0000000e+03, -1.0000000e+03, ...,\n",
       "          7.2800002e+00,  7.9970000e+05,  1.3755158e-03]],\n",
       "\n",
       "       [[ 6.0000000e+00,  5.0000000e+00,  3.0000000e+00, ...,\n",
       "          3.6312000e+03,  3.1853000e+06, -1.0000000e+03],\n",
       "        [ 4.0000000e+00,  0.0000000e+00,  3.0000000e+00, ...,\n",
       "          3.6816799e+03,  3.2966000e+06,  1.3901736e-02],\n",
       "        [ 7.0000000e+00,  2.0000000e+00,  5.0000000e+00, ...,\n",
       "          3.6773601e+03,  3.8459000e+06, -1.1733299e-03],\n",
       "        ...,\n",
       "        [-1.0000000e+03, -1.0000000e+03, -1.0000000e+03, ...,\n",
       "          3.6380300e+03,  3.2654000e+06,  1.4735602e-02],\n",
       "        [-1.0000000e+03, -1.0000000e+03, -1.0000000e+03, ...,\n",
       "          3.6566399e+03,  2.4307000e+06,  5.1153684e-03],\n",
       "        [-1.0000000e+03, -1.0000000e+03, -1.0000000e+03, ...,\n",
       "          3.6998201e+03,  2.8963000e+06,  1.1808703e-02]],\n",
       "\n",
       "       [[-1.0000000e+03, -1.0000000e+03, -1.0000000e+03, ...,\n",
       "         -1.0000000e+03, -1.0000000e+03, -1.0000000e+03],\n",
       "        [-1.0000000e+03, -1.0000000e+03, -1.0000000e+03, ...,\n",
       "         -1.0000000e+03, -1.0000000e+03, -1.0000000e+03],\n",
       "        [-1.0000000e+03, -1.0000000e+03, -1.0000000e+03, ...,\n",
       "         -1.0000000e+03, -1.0000000e+03, -1.0000000e+03],\n",
       "        ...,\n",
       "        [-1.0000000e+03, -1.0000000e+03, -1.0000000e+03, ...,\n",
       "          1.6189000e+02,  1.5858500e+07, -3.7538523e-03],\n",
       "        [-1.0000000e+03, -1.0000000e+03, -1.0000000e+03, ...,\n",
       "          1.6737000e+02,  1.8894700e+07,  3.3850122e-02],\n",
       "        [-1.0000000e+03, -1.0000000e+03, -1.0000000e+03, ...,\n",
       "          3.7245999e+02,  1.4910300e+07,  1.2253690e+00]]], dtype=float32)"
      ]
     },
     "execution_count": 117,
     "metadata": {},
     "output_type": "execute_result"
    }
   ],
   "source": [
    "news_stock_np_pad = pad_sequences(news_stock_np,value=-1000, dtype='float32') # int32 by default\n",
    "news_stock_np_pad"
   ]
  },
  {
   "cell_type": "code",
   "execution_count": 118,
   "id": "46d9106d",
   "metadata": {},
   "outputs": [
    {
     "data": {
      "text/plain": [
       "(4, 862, 11)"
      ]
     },
     "execution_count": 118,
     "metadata": {},
     "output_type": "execute_result"
    }
   ],
   "source": [
    "news_stock_np_pad.shape"
   ]
  },
  {
   "cell_type": "code",
   "execution_count": 119,
   "id": "f544daa7",
   "metadata": {},
   "outputs": [
    {
     "data": {
      "text/plain": [
       "(4, 861, 11)"
      ]
     },
     "execution_count": 119,
     "metadata": {},
     "output_type": "execute_result"
    }
   ],
   "source": [
    "x=news_stock_np_pad[:,:-1,:]\n",
    "x.shape"
   ]
  },
  {
   "cell_type": "code",
   "execution_count": 121,
   "id": "7ab3b3d7",
   "metadata": {},
   "outputs": [
    {
     "data": {
      "text/plain": [
       "(4,)"
      ]
     },
     "execution_count": 121,
     "metadata": {},
     "output_type": "execute_result"
    }
   ],
   "source": [
    "y=news_stock_np_pad[:,-1,-1]\n",
    "y.shape"
   ]
  },
  {
   "cell_type": "code",
   "execution_count": 123,
   "id": "8f56fe4d",
   "metadata": {},
   "outputs": [],
   "source": [
    "y_train =y[0:3]\n",
    "y_test = y[-1:]"
   ]
  },
  {
   "cell_type": "code",
   "execution_count": 124,
   "id": "fbb07725",
   "metadata": {},
   "outputs": [],
   "source": [
    "x_train = x[0:3,:,:]\n",
    "x_test = x[-1:,:,:]"
   ]
  },
  {
   "cell_type": "code",
   "execution_count": 122,
   "id": "60707137",
   "metadata": {},
   "outputs": [
    {
     "data": {
      "text/plain": [
       "array([0.0198492 , 0.00137552, 0.0118087 , 1.225369  ], dtype=float32)"
      ]
     },
     "execution_count": 122,
     "metadata": {},
     "output_type": "execute_result"
    }
   ],
   "source": [
    "y"
   ]
  },
  {
   "cell_type": "code",
   "execution_count": 125,
   "id": "493111f2",
   "metadata": {},
   "outputs": [],
   "source": [
    "from tensorflow.keras import models\n",
    "from tensorflow.keras import layers\n",
    "from tensorflow.keras.optimizers import RMSprop\n",
    "from tensorflow.keras.layers.experimental.preprocessing import Normalization\n",
    "def init_model():\n",
    "    #normalizar o x train\n",
    "    normalizer = Normalization()\n",
    "    model = models.Sequential()\n",
    "    model.add(layers.Masking(mask_value=-1000.))\n",
    "    normalizer.adapt(x_train)\n",
    "    model.add(layers.LSTM(20, return_sequences=True, activation='tanh'))\n",
    "    model.add(layers.LSTM(10, return_sequences=False, activation='tanh'))\n",
    "    model.add(layers.Dense(5, activation='relu'))\n",
    "    model.add(layers.Dense(10, activation='linear'))\n",
    "    \n",
    "  #  model.compile(loss='mse', \n",
    "  #                optimizer='rmsprop', \n",
    "  #                metrics=['mae'])\n",
    "    model.compile(loss='mse', \n",
    "                  optimizer=RMSprop(learning_rate=0.0003), \n",
    "                  metrics=['mae'])\n",
    "    \n",
    "    return model\n",
    "\n",
    "#init_model().summary()"
   ]
  },
  {
   "cell_type": "code",
   "execution_count": 126,
   "id": "d1cdd35e",
   "metadata": {},
   "outputs": [],
   "source": [
    "model=init_model()"
   ]
  },
  {
   "cell_type": "code",
   "execution_count": 128,
   "id": "10bb2fed",
   "metadata": {},
   "outputs": [
    {
     "name": "stdout",
     "output_type": "stream",
     "text": [
      "Epoch 1/2\n",
      "1/1 [==============================] - 17s 17s/step - loss: 0.0490 - mae: 0.2010\n",
      "Epoch 2/2\n",
      "1/1 [==============================] - 3s 3s/step - loss: 0.0400 - mae: 0.1814\n"
     ]
    },
    {
     "data": {
      "text/plain": [
       "<tensorflow.python.keras.callbacks.History at 0x15d9c1160>"
      ]
     },
     "execution_count": 128,
     "metadata": {},
     "output_type": "execute_result"
    }
   ],
   "source": [
    "model.fit(x_train,y_train,epochs=2)"
   ]
  },
  {
   "cell_type": "code",
   "execution_count": 129,
   "id": "6fdb836e",
   "metadata": {},
   "outputs": [
    {
     "data": {
      "text/plain": [
       "array([[-0.21531583, -0.20460144, -0.14961492, -0.12190446, -0.16178705,\n",
       "        -0.23984586, -0.003246  , -0.12953116,  0.07174834,  0.14797187]],\n",
       "      dtype=float32)"
      ]
     },
     "execution_count": 129,
     "metadata": {},
     "output_type": "execute_result"
    }
   ],
   "source": [
    "model.predict(x_test)"
   ]
  },
  {
   "cell_type": "code",
   "execution_count": 130,
   "id": "171eb593",
   "metadata": {},
   "outputs": [
    {
     "data": {
      "text/plain": [
       "array([1.225369], dtype=float32)"
      ]
     },
     "execution_count": 130,
     "metadata": {},
     "output_type": "execute_result"
    }
   ],
   "source": [
    "#gme_np,kodak_np,amazon_np,facebook_np\n",
    "y_test"
   ]
  },
  {
   "cell_type": "code",
   "execution_count": 137,
   "id": "8ae9c366",
   "metadata": {},
   "outputs": [
    {
     "data": {
      "text/plain": [
       "<AxesSubplot:>"
      ]
     },
     "execution_count": 137,
     "metadata": {},
     "output_type": "execute_result"
    },
    {
     "data": {
      "image/png": "[encoded data removed]",
      "text/plain": [
       "<Figure size 432x288 with 1 Axes>"
      ]
     },
     "metadata": {
      "needs_background": "light"
     },
     "output_type": "display_data"
    }
   ],
   "source": []
  },
  {
   "cell_type": "code",
   "execution_count": null,
   "id": "679a61c5",
   "metadata": {},
   "outputs": [],
   "source": []
  }
 ],
 "metadata": {
  "kernelspec": {
   "display_name": "Python 3 (ipykernel)",
   "language": "python",
   "name": "python3"
  },
  "language_info": {
   "codemirror_mode": {
    "name": "ipython",
    "version": 3
   },
   "file_extension": ".py",
   "mimetype": "text/x-python",
   "name": "python",
   "nbconvert_exporter": "python",
   "pygments_lexer": "ipython3",
   "version": "3.8.6"
  }
 },
 "nbformat": 4,
 "nbformat_minor": 5
}
