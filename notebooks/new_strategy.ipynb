{
 "cells": [
  {
   "cell_type": "code",
   "execution_count": 1,
   "id": "a39ae00f",
   "metadata": {},
   "outputs": [],
   "source": [
    "# canonical import\n",
    "import pandas as pd"
   ]
  },
  {
   "cell_type": "markdown",
   "id": "9ea7b3e7",
   "metadata": {},
   "source": [
    "# importing data and dropping na"
   ]
  },
  {
   "cell_type": "code",
   "execution_count": 2,
   "id": "b21a3332",
   "metadata": {},
   "outputs": [],
   "source": [
    "reddit_df = pd.read_csv('../raw_data/reddit_wsb.csv')\n",
    "reddit_df = reddit_df.dropna()"
   ]
  },
  {
   "cell_type": "code",
   "execution_count": 3,
   "id": "7f4d238d",
   "metadata": {},
   "outputs": [
    {
     "data": {
      "text/plain": [
       "(23596, 8)"
      ]
     },
     "execution_count": 3,
     "metadata": {},
     "output_type": "execute_result"
    }
   ],
   "source": [
    "reddit_df.shape"
   ]
  },
  {
   "cell_type": "code",
   "execution_count": 4,
   "id": "0df8ef52",
   "metadata": {},
   "outputs": [],
   "source": [
    "# get ticker list\n",
    "tickers_df = pd.read_csv('../raw_data/tickers.csv')\n",
    "# tickers_df"
   ]
  },
  {
   "cell_type": "code",
   "execution_count": 5,
   "id": "a65d007d",
   "metadata": {},
   "outputs": [
    {
     "data": {
      "text/plain": [
       "2        AA$B\n",
       "10       ABBV\n",
       "12       ABEV\n",
       "16      ABR$A\n",
       "17      ABR$B\n",
       "        ...  \n",
       "3282     ZB$F\n",
       "3283     ZB$G\n",
       "3284     ZB$H\n",
       "3292     ZOES\n",
       "3293     ZPIN\n",
       "Name: ACT Symbol, Length: 950, dtype: object"
      ]
     },
     "execution_count": 5,
     "metadata": {},
     "output_type": "execute_result"
    }
   ],
   "source": [
    "len(tickers_df['ACT Symbol'][2])\n",
    "bool_index = tickers_df['ACT Symbol'].apply(lambda i: len(i) > 3)\n",
    "tickers_df = tickers_df[bool_index]\n",
    "tickers_df['ACT Symbol']"
   ]
  },
  {
   "cell_type": "code",
   "execution_count": 6,
   "id": "a68db11e",
   "metadata": {},
   "outputs": [],
   "source": [
    "def include_ticker(string):\n",
    "    for ticker in tickers_df['ACT Symbol']:\n",
    "        if ticker.lower() in string.lower():\n",
    "            return ticker"
   ]
  },
  {
   "cell_type": "markdown",
   "id": "7f5d7ced",
   "metadata": {},
   "source": [
    "# Marking the DF"
   ]
  },
  {
   "cell_type": "markdown",
   "id": "3f693b31",
   "metadata": {},
   "source": [
    "### getting the stock"
   ]
  },
  {
   "cell_type": "code",
   "execution_count": 7,
   "id": "67a9c692",
   "metadata": {},
   "outputs": [
    {
     "data": {
      "text/plain": [
       "2        MITT\n",
       "6        ALLY\n",
       "7        CORR\n",
       "10       ALLY\n",
       "12       ALLY\n",
       "         ... \n",
       "50689    CORR\n",
       "50690    EVER\n",
       "50693    ACCO\n",
       "50694    ALLY\n",
       "50695    ACCO\n",
       "Name: stock_body, Length: 23596, dtype: object"
      ]
     },
     "execution_count": 7,
     "metadata": {},
     "output_type": "execute_result"
    }
   ],
   "source": [
    "reddit_df['stock_body'] = reddit_df['body'].map(lambda x: include_ticker(x))\n",
    "# reddit_df['stock_title'] = reddit_df['title'].map(lambda x: include_ticker(x))\n",
    "reddit_df['stock_body']"
   ]
  },
  {
   "cell_type": "code",
   "execution_count": 8,
   "id": "5d0936c2",
   "metadata": {},
   "outputs": [],
   "source": [
    "# bool_index = tickers_df['ACT Symbol'].apply(lambda i: len(i) > 3)\n",
    "# tickers_df = tickers_df[bool_index]\n",
    "# tickers_df['ACT Symbol']\n",
    "\n",
    "\n",
    "\n",
    "median_index = reddit_df['stock_body'].value_counts() > 10\n",
    "median_index_df = pd.DataFrame(median_index)\n",
    "median_index_df = median_index_df[median_index]\n",
    "target_tickers = median_index_df.index.tolist()"
   ]
  },
  {
   "cell_type": "code",
   "execution_count": 11,
   "id": "7b387da0",
   "metadata": {},
   "outputs": [
    {
     "data": {
      "text/plain": [
       "(18021, 9)"
      ]
     },
     "execution_count": 11,
     "metadata": {},
     "output_type": "execute_result"
    }
   ],
   "source": [
    "bool_index = reddit_df['stock_body'].apply(lambda i: i in target_tickers)\n",
    "reddit_df = reddit_df[bool_index]\n",
    "reddit_df.shape"
   ]
  },
  {
   "cell_type": "code",
   "execution_count": 13,
   "id": "f1b156f6",
   "metadata": {},
   "outputs": [],
   "source": [
    "reddit_df.to_csv('reddit_new_strategy.csv')"
   ]
  }
 ],
 "metadata": {
  "kernelspec": {
   "display_name": "Python 3 (ipykernel)",
   "language": "python",
   "name": "python3"
  },
  "language_info": {
   "codemirror_mode": {
    "name": "ipython",
    "version": 3
   },
   "file_extension": ".py",
   "mimetype": "text/x-python",
   "name": "python",
   "nbconvert_exporter": "python",
   "pygments_lexer": "ipython3",
   "version": "3.8.6"
  }
 },
 "nbformat": 4,
 "nbformat_minor": 5
}
