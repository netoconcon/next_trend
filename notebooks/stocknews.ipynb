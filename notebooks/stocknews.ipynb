{
 "cells": [
  {
   "cell_type": "code",
   "execution_count": 1,
   "id": "75949e64",
   "metadata": {},
   "outputs": [],
   "source": [
    "import matplotlib\n",
    "%matplotlib inline\n",
    "import numpy as np\n",
    "import pandas as pd\n",
    "import json"
   ]
  },
  {
   "cell_type": "code",
   "execution_count": 2,
   "id": "748e759d",
   "metadata": {},
   "outputs": [],
   "source": [
    "import requests"
   ]
  },
  {
   "cell_type": "code",
   "execution_count": 4,
   "id": "0173a772",
   "metadata": {},
   "outputs": [],
   "source": []
  },
  {
   "cell_type": "code",
   "execution_count": 7,
   "id": "b0e33236",
   "metadata": {},
   "outputs": [],
   "source": []
  },
  {
   "cell_type": "code",
   "execution_count": 17,
   "id": "dd53f173",
   "metadata": {},
   "outputs": [],
   "source": [
    "url = \"https://stocknewsapi.com/api/v1/stat?&tickers=AMZN&date=04012019-07152021&token=vhx1apxem0rfwi6ppuuhjtuslpkd7q3japidzcqb\""
   ]
  },
  {
   "cell_type": "code",
   "execution_count": 18,
   "id": "616ab535",
   "metadata": {},
   "outputs": [
    {
     "data": {
      "text/plain": [
       "'https://stocknewsapi.com/api/v1/stat?&tickers=AMZN&date=04012019-07152021&token=vhx1apxem0rfwi6ppuuhjtuslpkd7q3japidzcqb'"
      ]
     },
     "execution_count": 18,
     "metadata": {},
     "output_type": "execute_result"
    }
   ],
   "source": [
    "url"
   ]
  },
  {
   "cell_type": "code",
   "execution_count": 112,
   "id": "376aa704",
   "metadata": {},
   "outputs": [],
   "source": [
    "# response = requests.get(url)\n",
    "# if response.status_code != 200:\n",
    "#     print(\"deu ruim\")\n",
    "# data = response.json()\n",
    "# data\n",
    "\n",
    "# amazon1 = data"
   ]
  },
  {
   "cell_type": "code",
   "execution_count": null,
   "id": "86e66756",
   "metadata": {},
   "outputs": [],
   "source": [
    "# "
   ]
  },
  {
   "cell_type": "code",
   "execution_count": 101,
   "id": "00a3add5",
   "metadata": {},
   "outputs": [],
   "source": [
    "# url_2 = \"https://stocknewsapi.com/api/v1/stat?&tickers=AMZN&date=04012019-07152021&page=2&token=vhx1apxem0rfwi6ppuuhjtuslpkd7q3japidzcqb\""
   ]
  },
  {
   "cell_type": "code",
   "execution_count": 164,
   "id": "210625de",
   "metadata": {},
   "outputs": [],
   "source": [
    "# response = requests.get(url_2)\n",
    "# if response.status_code != 200:\n",
    "#     print(\"deu ruim\")\n",
    "# data = response.json()\n",
    "# data"
   ]
  },
  {
   "cell_type": "code",
   "execution_count": 104,
   "id": "c9bb0c4a",
   "metadata": {},
   "outputs": [],
   "source": [
    "amazon2 = data"
   ]
  },
  {
   "cell_type": "code",
   "execution_count": 105,
   "id": "399c8482",
   "metadata": {},
   "outputs": [],
   "source": [
    "url_3 = \"https://stocknewsapi.com/api/v1/stat?&tickers=AMZN&date=04012019-07152021&page=3&token=vhx1apxem0rfwi6ppuuhjtuslpkd7q3japidzcqb\"\n"
   ]
  },
  {
   "cell_type": "code",
   "execution_count": 165,
   "id": "a559c622",
   "metadata": {},
   "outputs": [],
   "source": [
    "# response = requests.get(url_3)\n",
    "# if response.status_code != 200:\n",
    "#     print(\"deu ruim\")\n",
    "# data = response.json()\n",
    "# data"
   ]
  },
  {
   "cell_type": "code",
   "execution_count": 107,
   "id": "f6e2d142",
   "metadata": {},
   "outputs": [],
   "source": [
    "amazon3 = data"
   ]
  },
  {
   "cell_type": "code",
   "execution_count": 166,
   "id": "e3497ad4",
   "metadata": {},
   "outputs": [],
   "source": [
    "# url_4 = \"https://stocknewsapi.com/api/v1/stat?&tickers=AMZN&date=04012019-07152021&page=4&token=vhx1apxem0rfwi6ppuuhjtuslpkd7q3japidzcqb\"\n",
    "\n",
    "# response = requests.get(url_4)\n",
    "# if response.status_code != 200:\n",
    "#     print(\"deu ruim\")\n",
    "# data = response.json()\n",
    "# data\n",
    "\n",
    "# amazon4 = data"
   ]
  },
  {
   "cell_type": "code",
   "execution_count": 167,
   "id": "a3415d0e",
   "metadata": {},
   "outputs": [],
   "source": [
    "# url_5 = \"https://stocknewsapi.com/api/v1/stat?&tickers=AMZN&date=04012019-07152021&page=5&token=vhx1apxem0rfwi6ppuuhjtuslpkd7q3japidzcqb\"\n",
    "\n",
    "# response = requests.get(url_5)\n",
    "# if response.status_code != 200:\n",
    "#     print(\"deu ruim\")\n",
    "# data = response.json()\n",
    "# data\n",
    "\n",
    "# amazon5 = data"
   ]
  },
  {
   "cell_type": "code",
   "execution_count": 168,
   "id": "54281baf",
   "metadata": {},
   "outputs": [],
   "source": [
    "# url_6 = \"https://stocknewsapi.com/api/v1/stat?&tickers=AMZN&date=04012019-07152021&page=6&token=vhx1apxem0rfwi6ppuuhjtuslpkd7q3japidzcqb\"\n",
    "\n",
    "# response = requests.get(url_6)\n",
    "# if response.status_code != 200:\n",
    "#     print(\"deu ruim\")\n",
    "# data = response.json()\n",
    "# data\n",
    "\n",
    "# amazon6 = data"
   ]
  },
  {
   "cell_type": "code",
   "execution_count": 136,
   "id": "9ba89f74",
   "metadata": {},
   "outputs": [],
   "source": [
    "# url_7 = \"https://stocknewsapi.com/api/v1/stat?&tickers=AMZN&date=04012019-07152021&page=7&token=vhx1apxem0rfwi6ppuuhjtuslpkd7q3japidzcqb\"\n",
    "\n",
    "# response = requests.get(url_7)\n",
    "# if response.status_code != 200:\n",
    "#     print(\"deu ruim\")\n",
    "# data = response.json()\n",
    "# data\n",
    "\n",
    "# amazon7 = data"
   ]
  },
  {
   "cell_type": "code",
   "execution_count": 137,
   "id": "6fe2f9b6",
   "metadata": {},
   "outputs": [],
   "source": [
    "# url_8 = \"https://stocknewsapi.com/api/v1/stat?&tickers=AMZN&date=04012019-07152021&page=8&token=vhx1apxem0rfwi6ppuuhjtuslpkd7q3japidzcqb\"\n",
    "\n",
    "# response = requests.get(url_8)\n",
    "# if response.status_code != 200:\n",
    "#     print(\"deu ruim\")\n",
    "# data = response.json()\n",
    "# data\n",
    "\n",
    "# amazon8 = data"
   ]
  },
  {
   "cell_type": "code",
   "execution_count": 138,
   "id": "3687c79a",
   "metadata": {},
   "outputs": [],
   "source": [
    "# url_9 = \"https://stocknewsapi.com/api/v1/stat?&tickers=AMZN&date=04012019-07152021&page=9&token=vhx1apxem0rfwi6ppuuhjtuslpkd7q3japidzcqb\"\n",
    "\n",
    "# response = requests.get(url_9)\n",
    "# if response.status_code != 200:\n",
    "#     print(\"deu ruim\")\n",
    "# data = response.json()\n",
    "# data\n",
    "\n",
    "# amazon9 = data"
   ]
  },
  {
   "cell_type": "code",
   "execution_count": 139,
   "id": "d4bf8b17",
   "metadata": {},
   "outputs": [],
   "source": [
    "# url_10 = \"https://stocknewsapi.com/api/v1/stat?&tickers=AMZN&date=04012019-07152021&page=10&token=vhx1apxem0rfwi6ppuuhjtuslpkd7q3japidzcqb\"\n",
    "\n",
    "# response = requests.get(url_10)\n",
    "# if response.status_code != 200:\n",
    "#     print(\"deu ruim\")\n",
    "# data = response.json()\n",
    "# data\n",
    "\n",
    "# amazon10 = data"
   ]
  },
  {
   "cell_type": "code",
   "execution_count": 140,
   "id": "82723064",
   "metadata": {},
   "outputs": [],
   "source": [
    "# url_11 = \"https://stocknewsapi.com/api/v1/stat?&tickers=AMZN&date=04012019-07152021&page=11&token=vhx1apxem0rfwi6ppuuhjtuslpkd7q3japidzcqb\"\n",
    "\n",
    "# response = requests.get(url_11)\n",
    "# if response.status_code != 200:\n",
    "#     print(\"deu ruim\")\n",
    "# data = response.json()\n",
    "# data\n",
    "\n",
    "# amazon11 = data"
   ]
  },
  {
   "cell_type": "code",
   "execution_count": 141,
   "id": "65ae0672",
   "metadata": {},
   "outputs": [],
   "source": [
    "# url_12 = \"https://stocknewsapi.com/api/v1/stat?&tickers=AMZN&date=04012019-07152021&page=12&token=vhx1apxem0rfwi6ppuuhjtuslpkd7q3japidzcqb\"\n",
    "\n",
    "# response = requests.get(url_12)\n",
    "# if response.status_code != 200:\n",
    "#     print(\"deu ruim\")\n",
    "# data = response.json()\n",
    "# data\n",
    "\n",
    "# amazon12 = data"
   ]
  },
  {
   "cell_type": "code",
   "execution_count": 142,
   "id": "94a463a4",
   "metadata": {},
   "outputs": [],
   "source": [
    "# url_13 = \"https://stocknewsapi.com/api/v1/stat?&tickers=AMZN&date=04012019-07152021&page=13&token=vhx1apxem0rfwi6ppuuhjtuslpkd7q3japidzcqb\"\n",
    "\n",
    "# response = requests.get(url_13)\n",
    "# if response.status_code != 200:\n",
    "#     print(\"deu ruim\")\n",
    "# data = response.json()\n",
    "# data\n",
    "\n",
    "# amazon13 = data"
   ]
  },
  {
   "cell_type": "code",
   "execution_count": 143,
   "id": "ba0437e7",
   "metadata": {},
   "outputs": [],
   "source": [
    "# url_14 = \"https://stocknewsapi.com/api/v1/stat?&tickers=AMZN&date=04012019-07152021&page=14&token=vhx1apxem0rfwi6ppuuhjtuslpkd7q3japidzcqb\"\n",
    "\n",
    "# response = requests.get(url_14)\n",
    "# if response.status_code != 200:\n",
    "#     print(\"deu ruim\")\n",
    "# data = response.json()\n",
    "# data\n",
    "\n",
    "# amazon14 = data"
   ]
  },
  {
   "cell_type": "code",
   "execution_count": 144,
   "id": "b17c8900",
   "metadata": {},
   "outputs": [],
   "source": [
    "# url_15 = \"https://stocknewsapi.com/api/v1/stat?&tickers=AMZN&date=04012019-07152021&page=15&token=vhx1apxem0rfwi6ppuuhjtuslpkd7q3japidzcqb\"\n",
    "\n",
    "# response = requests.get(url_15)\n",
    "# if response.status_code != 200:\n",
    "#     print(\"deu ruim\")\n",
    "# data = response.json()\n",
    "# data\n",
    "\n",
    "# amazon15 = data"
   ]
  },
  {
   "cell_type": "code",
   "execution_count": 145,
   "id": "40706c3b",
   "metadata": {},
   "outputs": [],
   "source": [
    "# url_16 = \"https://stocknewsapi.com/api/v1/stat?&tickers=AMZN&date=04012019-07152021&page=16&token=vhx1apxem0rfwi6ppuuhjtuslpkd7q3japidzcqb\"\n",
    "\n",
    "# response = requests.get(url_16)\n",
    "# if response.status_code != 200:\n",
    "#     print(\"deu ruim\")\n",
    "# data = response.json()\n",
    "# data\n",
    "\n",
    "# amazon16 = data"
   ]
  },
  {
   "cell_type": "code",
   "execution_count": 146,
   "id": "6dc4dd45",
   "metadata": {},
   "outputs": [],
   "source": [
    "# url_17 = \"https://stocknewsapi.com/api/v1/stat?&tickers=AMZN&date=04012019-07152021&page=17&token=vhx1apxem0rfwi6ppuuhjtuslpkd7q3japidzcqb\"\n",
    "\n",
    "# response = requests.get(url_17)\n",
    "# if response.status_code != 200:\n",
    "#     print(\"deu ruim\")\n",
    "# data = response.json()\n",
    "# data\n",
    "\n",
    "# amazon17 = data"
   ]
  },
  {
   "cell_type": "code",
   "execution_count": 29,
   "id": "7bb4e875",
   "metadata": {},
   "outputs": [],
   "source": [
    "# amazon_df = pd.DataFrame"
   ]
  },
  {
   "cell_type": "code",
   "execution_count": null,
   "id": "8ff13968",
   "metadata": {},
   "outputs": [],
   "source": [
    "# amazon_df['data'] = data"
   ]
  },
  {
   "cell_type": "code",
   "execution_count": 113,
   "id": "ac0718bf",
   "metadata": {},
   "outputs": [],
   "source": [
    "# amazon2['data'].keys()\n",
    "# datas = amazon2['data'].keys()\n",
    "# list = []\n",
    "# for key in datas:\n",
    "#     mini_array = []\n",
    "#     mini_array.append(key)\n",
    "#     mini_array.append(amazon2['data'][key]['AMZN']['Positive'])\n",
    "#     mini_array.append(amazon2['data'][key]['AMZN']['Neutral'])\n",
    "#     mini_array.append(amazon2['data'][key]['AMZN']['Negative'])\n",
    "#     mini_array.append(amazon2['data'][key]['AMZN']['sentiment_score'])\n",
    "#     list.append(mini_array)\n",
    "# list"
   ]
  },
  {
   "cell_type": "code",
   "execution_count": 114,
   "id": "451e33d3",
   "metadata": {},
   "outputs": [],
   "source": [
    "# amazon4['data'].keys()\n",
    "# datas = amazon4['data'].keys()\n",
    "# list2 = []\n",
    "# for key in datas:\n",
    "#     mini_array = []\n",
    "#     mini_array.append(key)\n",
    "#     mini_array.append(amazon4['data'][key]['AMZN']['Positive'])\n",
    "#     mini_array.append(amazon4['data'][key]['AMZN']['Neutral'])\n",
    "#     mini_array.append(amazon4['data'][key]['AMZN']['Negative'])\n",
    "#     mini_array.append(amazon4['data'][key]['AMZN']['sentiment_score'])\n",
    "#     list2.append(mini_array)\n",
    "# list2"
   ]
  },
  {
   "cell_type": "code",
   "execution_count": 115,
   "id": "68cba882",
   "metadata": {},
   "outputs": [],
   "source": [
    "# amazon_first_try['data'].keys()\n",
    "# datas = amazon_first_try['data'].keys()\n",
    "# list3 = []\n",
    "# for key in datas:\n",
    "#     mini_array = []\n",
    "#     mini_array.append(key)\n",
    "#     mini_array.append(amazon_first_try['data'][key]['AMZN']['Positive'])\n",
    "#     mini_array.append(amazon_first_try['data'][key]['AMZN']['Neutral'])\n",
    "#     mini_array.append(amazon_first_try['data'][key]['AMZN']['Negative'])\n",
    "#     mini_array.append(amazon_first_try['data'][key]['AMZN']['sentiment_score'])\n",
    "#     list3.append(mini_array)\n",
    "# list3"
   ]
  },
  {
   "cell_type": "code",
   "execution_count": 3,
   "id": "918a4f9e",
   "metadata": {},
   "outputs": [
    {
     "ename": "NameError",
     "evalue": "name 'amazon1' is not defined",
     "output_type": "error",
     "traceback": [
      "\u001b[0;31m---------------------------------------------------------------------------\u001b[0m",
      "\u001b[0;31mNameError\u001b[0m                                 Traceback (most recent call last)",
      "\u001b[0;32m/var/folders/g9/dk8kk1tn5ys_km_c5w3rh3380000gp/T/ipykernel_54022/4266290081.py\u001b[0m in \u001b[0;36m<module>\u001b[0;34m\u001b[0m\n\u001b[0;32m----> 1\u001b[0;31m \u001b[0mamazon1\u001b[0m\u001b[0;34m[\u001b[0m\u001b[0;34m'data'\u001b[0m\u001b[0;34m]\u001b[0m\u001b[0;34m.\u001b[0m\u001b[0mkeys\u001b[0m\u001b[0;34m(\u001b[0m\u001b[0;34m)\u001b[0m\u001b[0;34m\u001b[0m\u001b[0;34m\u001b[0m\u001b[0m\n\u001b[0m\u001b[1;32m      2\u001b[0m \u001b[0mdatas\u001b[0m \u001b[0;34m=\u001b[0m \u001b[0mamazon1\u001b[0m\u001b[0;34m[\u001b[0m\u001b[0;34m'data'\u001b[0m\u001b[0;34m]\u001b[0m\u001b[0;34m.\u001b[0m\u001b[0mkeys\u001b[0m\u001b[0;34m(\u001b[0m\u001b[0;34m)\u001b[0m\u001b[0;34m\u001b[0m\u001b[0;34m\u001b[0m\u001b[0m\n\u001b[1;32m      3\u001b[0m \u001b[0mamazon_list1\u001b[0m \u001b[0;34m=\u001b[0m \u001b[0;34m[\u001b[0m\u001b[0;34m]\u001b[0m\u001b[0;34m\u001b[0m\u001b[0;34m\u001b[0m\u001b[0m\n\u001b[1;32m      4\u001b[0m \u001b[0;32mfor\u001b[0m \u001b[0mkey\u001b[0m \u001b[0;32min\u001b[0m \u001b[0mdatas\u001b[0m\u001b[0;34m:\u001b[0m\u001b[0;34m\u001b[0m\u001b[0;34m\u001b[0m\u001b[0m\n\u001b[1;32m      5\u001b[0m     \u001b[0mmini_array\u001b[0m \u001b[0;34m=\u001b[0m \u001b[0;34m[\u001b[0m\u001b[0;34m]\u001b[0m\u001b[0;34m\u001b[0m\u001b[0;34m\u001b[0m\u001b[0m\n",
      "\u001b[0;31mNameError\u001b[0m: name 'amazon1' is not defined"
     ]
    }
   ],
   "source": [
    "amazon1['data'].keys()\n",
    "datas = amazon1['data'].keys()\n",
    "amazon_list1 = []\n",
    "for key in datas:\n",
    "    mini_array = []\n",
    "    mini_array.append(key)\n",
    "    mini_array.append(amazon1['data'][key]['AMZN']['Positive'])\n",
    "    mini_array.append(amazon1['data'][key]['AMZN']['Neutral'])\n",
    "    mini_array.append(amazon1['data'][key]['AMZN']['Negative'])\n",
    "    mini_array.append(amazon1['data'][key]['AMZN']['sentiment_score'])\n",
    "    amazon_list1.append(mini_array)\n",
    "# amazon_list1"
   ]
  },
  {
   "cell_type": "code",
   "execution_count": 119,
   "id": "2ca9d2ea",
   "metadata": {},
   "outputs": [],
   "source": [
    "amazon2['data'].keys()\n",
    "datas = amazon2['data'].keys()\n",
    "amazon_list2 = []\n",
    "for key in datas:\n",
    "    mini_array = []\n",
    "    mini_array.append(key)\n",
    "    mini_array.append(amazon2['data'][key]['AMZN']['Positive'])\n",
    "    mini_array.append(amazon2['data'][key]['AMZN']['Neutral'])\n",
    "    mini_array.append(amazon2['data'][key]['AMZN']['Negative'])\n",
    "    mini_array.append(amazon2['data'][key]['AMZN']['sentiment_score'])\n",
    "    amazon_list2.append(mini_array)\n",
    "# amazon_list1"
   ]
  },
  {
   "cell_type": "code",
   "execution_count": 120,
   "id": "65ecba4e",
   "metadata": {},
   "outputs": [],
   "source": [
    "amazon3['data'].keys()\n",
    "datas = amazon3['data'].keys()\n",
    "amazon_list3 = []\n",
    "for key in datas:\n",
    "    mini_array = []\n",
    "    mini_array.append(key)\n",
    "    mini_array.append(amazon3['data'][key]['AMZN']['Positive'])\n",
    "    mini_array.append(amazon3['data'][key]['AMZN']['Neutral'])\n",
    "    mini_array.append(amazon3['data'][key]['AMZN']['Negative'])\n",
    "    mini_array.append(amazon3['data'][key]['AMZN']['sentiment_score'])\n",
    "    amazon_list3.append(mini_array)"
   ]
  },
  {
   "cell_type": "code",
   "execution_count": 121,
   "id": "64f74976",
   "metadata": {},
   "outputs": [],
   "source": [
    "amazon4['data'].keys()\n",
    "datas = amazon4['data'].keys()\n",
    "amazon_list4 = []\n",
    "for key in datas:\n",
    "    mini_array = []\n",
    "    mini_array.append(key)\n",
    "    mini_array.append(amazon4['data'][key]['AMZN']['Positive'])\n",
    "    mini_array.append(amazon4['data'][key]['AMZN']['Neutral'])\n",
    "    mini_array.append(amazon4['data'][key]['AMZN']['Negative'])\n",
    "    mini_array.append(amazon4['data'][key]['AMZN']['sentiment_score'])\n",
    "    amazon_list4.append(mini_array)"
   ]
  },
  {
   "cell_type": "code",
   "execution_count": 122,
   "id": "282e55ad",
   "metadata": {},
   "outputs": [],
   "source": [
    "amazon5['data'].keys()\n",
    "datas = amazon5['data'].keys()\n",
    "amazon_list5 = []\n",
    "for key in datas:\n",
    "    mini_array = []\n",
    "    mini_array.append(key)\n",
    "    mini_array.append(amazon5['data'][key]['AMZN']['Positive'])\n",
    "    mini_array.append(amazon5['data'][key]['AMZN']['Neutral'])\n",
    "    mini_array.append(amazon5['data'][key]['AMZN']['Negative'])\n",
    "    mini_array.append(amazon5['data'][key]['AMZN']['sentiment_score'])\n",
    "    amazon_list5.append(mini_array)"
   ]
  },
  {
   "cell_type": "code",
   "execution_count": 123,
   "id": "8ef3a465",
   "metadata": {},
   "outputs": [],
   "source": [
    "amazon6['data'].keys()\n",
    "datas = amazon6['data'].keys()\n",
    "amazon_list6 = []\n",
    "for key in datas:\n",
    "    mini_array = []\n",
    "    mini_array.append(key)\n",
    "    mini_array.append(amazon6['data'][key]['AMZN']['Positive'])\n",
    "    mini_array.append(amazon6['data'][key]['AMZN']['Neutral'])\n",
    "    mini_array.append(amazon6['data'][key]['AMZN']['Negative'])\n",
    "    mini_array.append(amazon6['data'][key]['AMZN']['sentiment_score'])\n",
    "    amazon_list6.append(mini_array)"
   ]
  },
  {
   "cell_type": "code",
   "execution_count": 147,
   "id": "62322f60",
   "metadata": {},
   "outputs": [],
   "source": [
    "amazon7['data'].keys()\n",
    "datas = amazon7['data'].keys()\n",
    "amazon_list7 = []\n",
    "for key in datas:\n",
    "    mini_array = []\n",
    "    mini_array.append(key)\n",
    "    mini_array.append(amazon7['data'][key]['AMZN']['Positive'])\n",
    "    mini_array.append(amazon7['data'][key]['AMZN']['Neutral'])\n",
    "    mini_array.append(amazon7['data'][key]['AMZN']['Negative'])\n",
    "    mini_array.append(amazon7['data'][key]['AMZN']['sentiment_score'])\n",
    "    amazon_list7.append(mini_array)"
   ]
  },
  {
   "cell_type": "code",
   "execution_count": 148,
   "id": "cfa6ac47",
   "metadata": {},
   "outputs": [],
   "source": [
    "amazon8['data'].keys()\n",
    "datas = amazon8['data'].keys()\n",
    "amazon_list8 = []\n",
    "for key in datas:\n",
    "    mini_array = []\n",
    "    mini_array.append(key)\n",
    "    mini_array.append(amazon8['data'][key]['AMZN']['Positive'])\n",
    "    mini_array.append(amazon8['data'][key]['AMZN']['Neutral'])\n",
    "    mini_array.append(amazon8['data'][key]['AMZN']['Negative'])\n",
    "    mini_array.append(amazon8['data'][key]['AMZN']['sentiment_score'])\n",
    "    amazon_list8.append(mini_array)"
   ]
  },
  {
   "cell_type": "code",
   "execution_count": 149,
   "id": "235c5362",
   "metadata": {},
   "outputs": [],
   "source": [
    "amazon9['data'].keys()\n",
    "datas = amazon9['data'].keys()\n",
    "amazon_list9 = []\n",
    "for key in datas:\n",
    "    mini_array = []\n",
    "    mini_array.append(key)\n",
    "    mini_array.append(amazon9['data'][key]['AMZN']['Positive'])\n",
    "    mini_array.append(amazon9['data'][key]['AMZN']['Neutral'])\n",
    "    mini_array.append(amazon9['data'][key]['AMZN']['Negative'])\n",
    "    mini_array.append(amazon9['data'][key]['AMZN']['sentiment_score'])\n",
    "    amazon_list9.append(mini_array)"
   ]
  },
  {
   "cell_type": "code",
   "execution_count": 150,
   "id": "8e8f9e18",
   "metadata": {},
   "outputs": [],
   "source": [
    "amazon10['data'].keys()\n",
    "datas = amazon10['data'].keys()\n",
    "amazon_list10 = []\n",
    "for key in datas:\n",
    "    mini_array = []\n",
    "    mini_array.append(key)\n",
    "    mini_array.append(amazon10['data'][key]['AMZN']['Positive'])\n",
    "    mini_array.append(amazon10['data'][key]['AMZN']['Neutral'])\n",
    "    mini_array.append(amazon10['data'][key]['AMZN']['Negative'])\n",
    "    mini_array.append(amazon10['data'][key]['AMZN']['sentiment_score'])\n",
    "    amazon_list10.append(mini_array)"
   ]
  },
  {
   "cell_type": "code",
   "execution_count": 151,
   "id": "2ae753ed",
   "metadata": {},
   "outputs": [],
   "source": [
    "amazon11['data'].keys()\n",
    "datas = amazon11['data'].keys()\n",
    "amazon_list11 = []\n",
    "for key in datas:\n",
    "    mini_array = []\n",
    "    mini_array.append(key)\n",
    "    mini_array.append(amazon11['data'][key]['AMZN']['Positive'])\n",
    "    mini_array.append(amazon11['data'][key]['AMZN']['Neutral'])\n",
    "    mini_array.append(amazon11['data'][key]['AMZN']['Negative'])\n",
    "    mini_array.append(amazon11['data'][key]['AMZN']['sentiment_score'])\n",
    "    amazon_list11.append(mini_array)"
   ]
  },
  {
   "cell_type": "code",
   "execution_count": 153,
   "id": "44e29b69",
   "metadata": {},
   "outputs": [],
   "source": [
    "amazon12['data'].keys()\n",
    "datas = amazon12['data'].keys()\n",
    "amazon_list12 = []\n",
    "for key in datas:\n",
    "    mini_array = []\n",
    "    mini_array.append(key)\n",
    "    mini_array.append(amazon12['data'][key]['AMZN']['Positive'])\n",
    "    mini_array.append(amazon12['data'][key]['AMZN']['Neutral'])\n",
    "    mini_array.append(amazon12['data'][key]['AMZN']['Negative'])\n",
    "    mini_array.append(amazon12['data'][key]['AMZN']['sentiment_score'])\n",
    "    amazon_list12.append(mini_array)"
   ]
  },
  {
   "cell_type": "code",
   "execution_count": 154,
   "id": "9212aba1",
   "metadata": {},
   "outputs": [],
   "source": [
    "amazon13['data'].keys()\n",
    "datas = amazon13['data'].keys()\n",
    "amazon_list13 = []\n",
    "for key in datas:\n",
    "    mini_array = []\n",
    "    mini_array.append(key)\n",
    "    mini_array.append(amazon13['data'][key]['AMZN']['Positive'])\n",
    "    mini_array.append(amazon13['data'][key]['AMZN']['Neutral'])\n",
    "    mini_array.append(amazon13['data'][key]['AMZN']['Negative'])\n",
    "    mini_array.append(amazon13['data'][key]['AMZN']['sentiment_score'])\n",
    "    amazon_list13.append(mini_array)"
   ]
  },
  {
   "cell_type": "code",
   "execution_count": 155,
   "id": "a5bdb6ea",
   "metadata": {},
   "outputs": [],
   "source": [
    "amazon14['data'].keys()\n",
    "datas = amazon14['data'].keys()\n",
    "amazon_list14 = []\n",
    "for key in datas:\n",
    "    mini_array = []\n",
    "    mini_array.append(key)\n",
    "    mini_array.append(amazon14['data'][key]['AMZN']['Positive'])\n",
    "    mini_array.append(amazon14['data'][key]['AMZN']['Neutral'])\n",
    "    mini_array.append(amazon14['data'][key]['AMZN']['Negative'])\n",
    "    mini_array.append(amazon14['data'][key]['AMZN']['sentiment_score'])\n",
    "    amazon_list14.append(mini_array)"
   ]
  },
  {
   "cell_type": "code",
   "execution_count": 156,
   "id": "ea963ccf",
   "metadata": {},
   "outputs": [],
   "source": [
    "amazon15['data'].keys()\n",
    "datas = amazon15['data'].keys()\n",
    "amazon_list15 = []\n",
    "for key in datas:\n",
    "    mini_array = []\n",
    "    mini_array.append(key)\n",
    "    mini_array.append(amazon15['data'][key]['AMZN']['Positive'])\n",
    "    mini_array.append(amazon15['data'][key]['AMZN']['Neutral'])\n",
    "    mini_array.append(amazon15['data'][key]['AMZN']['Negative'])\n",
    "    mini_array.append(amazon15['data'][key]['AMZN']['sentiment_score'])\n",
    "    amazon_list15.append(mini_array)"
   ]
  },
  {
   "cell_type": "code",
   "execution_count": 157,
   "id": "92cec754",
   "metadata": {},
   "outputs": [],
   "source": [
    "amazon16['data'].keys()\n",
    "datas = amazon16['data'].keys()\n",
    "amazon_list16 = []\n",
    "for key in datas:\n",
    "    mini_array = []\n",
    "    mini_array.append(key)\n",
    "    mini_array.append(amazon16['data'][key]['AMZN']['Positive'])\n",
    "    mini_array.append(amazon16['data'][key]['AMZN']['Neutral'])\n",
    "    mini_array.append(amazon16['data'][key]['AMZN']['Negative'])\n",
    "    mini_array.append(amazon16['data'][key]['AMZN']['sentiment_score'])\n",
    "    amazon_list16.append(mini_array)"
   ]
  },
  {
   "cell_type": "code",
   "execution_count": 158,
   "id": "38050113",
   "metadata": {},
   "outputs": [],
   "source": [
    "amazon17['data'].keys()\n",
    "datas = amazon17['data'].keys()\n",
    "amazon_list17 = []\n",
    "for key in datas:\n",
    "    mini_array = []\n",
    "    mini_array.append(key)\n",
    "    mini_array.append(amazon17['data'][key]['AMZN']['Positive'])\n",
    "    mini_array.append(amazon17['data'][key]['AMZN']['Neutral'])\n",
    "    mini_array.append(amazon17['data'][key]['AMZN']['Negative'])\n",
    "    mini_array.append(amazon17['data'][key]['AMZN']['sentiment_score'])\n",
    "    amazon_list17.append(mini_array)"
   ]
  },
  {
   "cell_type": "code",
   "execution_count": 159,
   "id": "b124b7a3",
   "metadata": {},
   "outputs": [],
   "source": [
    "amazon_list = amazon_list1 + amazon_list2 + amazon_list3 + amazon_list4 + amazon_list5 + amazon_list6 + amazon_list7 + amazon_list8 + amazon_list9 + amazon_list10 + amazon_list11 + amazon_list12 + amazon_list13 + amazon_list14 + amazon_list15 + amazon_list16 + amazon_list17\n",
    "\n",
    "\n",
    "\n",
    "\n"
   ]
  },
  {
   "cell_type": "code",
   "execution_count": 161,
   "id": "f8cdca5f",
   "metadata": {},
   "outputs": [
    {
     "data": {
      "text/plain": [
       "(768, 5)"
      ]
     },
     "execution_count": 161,
     "metadata": {},
     "output_type": "execute_result"
    }
   ],
   "source": [
    "# # my_dict = json.load(json_file)\n",
    "amazon_df = pd.DataFrame(amazon_list)\n",
    "amazon_df.shape"
   ]
  },
  {
   "cell_type": "code",
   "execution_count": 162,
   "id": "7a8db6e4",
   "metadata": {},
   "outputs": [],
   "source": [
    "amazon_df.to_csv('amazon_df.csv')"
   ]
  },
  {
   "cell_type": "code",
   "execution_count": 163,
   "id": "3dfe34c8",
   "metadata": {},
   "outputs": [
    {
     "data": {
      "text/html": [
       "<div>\n",
       "<style scoped>\n",
       "    .dataframe tbody tr th:only-of-type {\n",
       "        vertical-align: middle;\n",
       "    }\n",
       "\n",
       "    .dataframe tbody tr th {\n",
       "        vertical-align: top;\n",
       "    }\n",
       "\n",
       "    .dataframe thead th {\n",
       "        text-align: right;\n",
       "    }\n",
       "</style>\n",
       "<table border=\"1\" class=\"dataframe\">\n",
       "  <thead>\n",
       "    <tr style=\"text-align: right;\">\n",
       "      <th></th>\n",
       "      <th>0</th>\n",
       "      <th>1</th>\n",
       "      <th>2</th>\n",
       "      <th>3</th>\n",
       "      <th>4</th>\n",
       "    </tr>\n",
       "  </thead>\n",
       "  <tbody>\n",
       "    <tr>\n",
       "      <th>0</th>\n",
       "      <td>2021-07-15</td>\n",
       "      <td>6</td>\n",
       "      <td>5</td>\n",
       "      <td>3</td>\n",
       "      <td>0.679</td>\n",
       "    </tr>\n",
       "    <tr>\n",
       "      <th>1</th>\n",
       "      <td>2021-07-14</td>\n",
       "      <td>4</td>\n",
       "      <td>0</td>\n",
       "      <td>3</td>\n",
       "      <td>0.214</td>\n",
       "    </tr>\n",
       "    <tr>\n",
       "      <th>2</th>\n",
       "      <td>2021-07-13</td>\n",
       "      <td>7</td>\n",
       "      <td>2</td>\n",
       "      <td>5</td>\n",
       "      <td>0.357</td>\n",
       "    </tr>\n",
       "    <tr>\n",
       "      <th>3</th>\n",
       "      <td>2021-07-12</td>\n",
       "      <td>4</td>\n",
       "      <td>1</td>\n",
       "      <td>5</td>\n",
       "      <td>-0.050</td>\n",
       "    </tr>\n",
       "    <tr>\n",
       "      <th>4</th>\n",
       "      <td>2021-07-11</td>\n",
       "      <td>1</td>\n",
       "      <td>0</td>\n",
       "      <td>4</td>\n",
       "      <td>-0.900</td>\n",
       "    </tr>\n",
       "    <tr>\n",
       "      <th>...</th>\n",
       "      <td>...</td>\n",
       "      <td>...</td>\n",
       "      <td>...</td>\n",
       "      <td>...</td>\n",
       "      <td>...</td>\n",
       "    </tr>\n",
       "    <tr>\n",
       "      <th>763</th>\n",
       "      <td>2019-04-05</td>\n",
       "      <td>7</td>\n",
       "      <td>2</td>\n",
       "      <td>1</td>\n",
       "      <td>1.100</td>\n",
       "    </tr>\n",
       "    <tr>\n",
       "      <th>764</th>\n",
       "      <td>2019-04-04</td>\n",
       "      <td>10</td>\n",
       "      <td>3</td>\n",
       "      <td>1</td>\n",
       "      <td>1.179</td>\n",
       "    </tr>\n",
       "    <tr>\n",
       "      <th>765</th>\n",
       "      <td>2019-04-03</td>\n",
       "      <td>9</td>\n",
       "      <td>4</td>\n",
       "      <td>3</td>\n",
       "      <td>0.813</td>\n",
       "    </tr>\n",
       "    <tr>\n",
       "      <th>766</th>\n",
       "      <td>2019-04-02</td>\n",
       "      <td>9</td>\n",
       "      <td>3</td>\n",
       "      <td>1</td>\n",
       "      <td>1.154</td>\n",
       "    </tr>\n",
       "    <tr>\n",
       "      <th>767</th>\n",
       "      <td>2019-04-01</td>\n",
       "      <td>10</td>\n",
       "      <td>0</td>\n",
       "      <td>1</td>\n",
       "      <td>1.227</td>\n",
       "    </tr>\n",
       "  </tbody>\n",
       "</table>\n",
       "<p>768 rows × 5 columns</p>\n",
       "</div>"
      ],
      "text/plain": [
       "              0   1  2  3      4\n",
       "0    2021-07-15   6  5  3  0.679\n",
       "1    2021-07-14   4  0  3  0.214\n",
       "2    2021-07-13   7  2  5  0.357\n",
       "3    2021-07-12   4  1  5 -0.050\n",
       "4    2021-07-11   1  0  4 -0.900\n",
       "..          ...  .. .. ..    ...\n",
       "763  2019-04-05   7  2  1  1.100\n",
       "764  2019-04-04  10  3  1  1.179\n",
       "765  2019-04-03   9  4  3  0.813\n",
       "766  2019-04-02   9  3  1  1.154\n",
       "767  2019-04-01  10  0  1  1.227\n",
       "\n",
       "[768 rows x 5 columns]"
      ]
     },
     "execution_count": 163,
     "metadata": {},
     "output_type": "execute_result"
    }
   ],
   "source": [
    "amazon_df"
   ]
  }
 ],
 "metadata": {
  "kernelspec": {
   "display_name": "Python 3 (ipykernel)",
   "language": "python",
   "name": "python3"
  },
  "language_info": {
   "codemirror_mode": {
    "name": "ipython",
    "version": 3
   },
   "file_extension": ".py",
   "mimetype": "text/x-python",
   "name": "python",
   "nbconvert_exporter": "python",
   "pygments_lexer": "ipython3",
   "version": "3.8.6"
  }
 },
 "nbformat": 4,
 "nbformat_minor": 5
}
