{
 "cells": [
  {
   "cell_type": "code",
   "execution_count": null,
   "id": "cb2436cd",
   "metadata": {},
   "outputs": [],
   "source": [
    "# !pip install seaborn"
   ]
  },
  {
   "cell_type": "code",
   "execution_count": 1,
   "id": "63cefc91",
   "metadata": {},
   "outputs": [],
   "source": [
    "# import toolkit\n",
    "import seaborn as sns\n",
    "import numpy as np\n",
    "import matplotlib.pyplot as plt\n",
    "from datetime import date\n",
    "import pandas as pd"
   ]
  },
  {
   "cell_type": "code",
   "execution_count": 2,
   "id": "0e8d2c49",
   "metadata": {},
   "outputs": [],
   "source": [
    "# import sentimental data\n",
    "amazon_df = pd.read_csv('amazon_df.csv')\n",
    "gme_df = pd.read_csv('gme_df.csv')\n",
    "kodak_df = pd.read_csv('kodak_df.csv')\n",
    "facebook_df = pd.read_csv('fb_df.csv')\n",
    "apple_df = pd.read_csv('new_data/aapl_df.csv')\n",
    "baba_df = pd.read_csv('new_data/baba_df.csv')\n",
    "goog_df = pd.read_csv('new_data/goog_df.csv')\n",
    "jnj_df = pd.read_csv('new_data/jnj_df.csv')\n",
    "pfe_df = pd.read_csv('new_data/pfe_df.csv')\n",
    "tsla_df = pd.read_csv('new_data/tsla_df.csv')"
   ]
  },
  {
   "cell_type": "code",
   "execution_count": 3,
   "id": "72949c5d",
   "metadata": {},
   "outputs": [],
   "source": [
    "# renaming columns\n",
    "amazon_df.rename({'0':'Date', '1':'Positive', '2':'Neutral', '3':'Negative', '4':'Sentimental Score'}, axis=1, inplace=True)\n",
    "gme_df.rename({'0':'Date', '1':'Positive', '2':'Neutral', '3':'Negative', '4':'Sentimental Score'}, axis=1, inplace=True)\n",
    "kodak_df.rename({'0':'Date', '1':'Positive', '2':'Neutral', '3':'Negative', '4':'Sentimental Score'}, axis=1, inplace=True)\n",
    "facebook_df.rename({'0':'Date', '1':'Positive', '2':'Neutral', '3':'Negative', '4':'Sentimental Score'}, axis=1, inplace=True)\n",
    "goog_df.rename({'0':'Date', '1':'Positive', '2':'Neutral', '3':'Negative', '4':'Sentimental Score'}, axis=1, inplace=True)\n",
    "apple_df.rename({'0':'Date', '1':'Positive', '2':'Neutral', '3':'Negative', '4':'Sentimental Score'}, axis=1, inplace=True)\n",
    "baba_df.rename({'0':'Date', '1':'Positive', '2':'Neutral', '3':'Negative', '4':'Sentimental Score'}, axis=1, inplace=True)\n",
    "jnj_df.rename({'0':'Date', '1':'Positive', '2':'Neutral', '3':'Negative', '4':'Sentimental Score'}, axis=1, inplace=True)\n",
    "pfe_df.rename({'0':'Date', '1':'Positive', '2':'Neutral', '3':'Negative', '4':'Sentimental Score'}, axis=1, inplace=True)\n",
    "tsla_df.rename({'0':'Date', '1':'Positive', '2':'Neutral', '3':'Negative', '4':'Sentimental Score'}, axis=1, inplace=True)\n",
    "\n",
    "# dropping columns\n",
    "\n",
    "amazon_df.drop(columns=['Unnamed: 0'], inplace=True)\n",
    "gme_df.drop(columns=['Unnamed: 0'], inplace=True)\n",
    "kodak_df.drop(columns=['Unnamed: 0'], inplace=True)\n",
    "facebook_df.drop(columns=['Unnamed: 0'], inplace=True)\n",
    "apple_df.drop(columns=['Unnamed: 0'], inplace=True)\n",
    "goog_df.drop(columns=['Unnamed: 0'], inplace=True)\n",
    "baba_df.drop(columns=['Unnamed: 0'], inplace=True)\n",
    "jnj_df.drop(columns=['Unnamed: 0'], inplace=True)\n",
    "pfe_df.drop(columns=['Unnamed: 0'], inplace=True)\n",
    "tsla_df.drop(columns=['Unnamed: 0'], inplace=True)"
   ]
  },
  {
   "cell_type": "code",
   "execution_count": 4,
   "id": "61bfdb74",
   "metadata": {},
   "outputs": [],
   "source": [
    "# import price data\n",
    "amazon_price_df = pd.read_csv('price/AMZN_1.csv')\n",
    "gme_price_df = pd.read_csv('price/GME_1.csv')\n",
    "kodak_price_df = pd.read_csv('price/KODK_1.csv')\n",
    "facebook_price_df = pd.read_csv('price/FB_1.csv')\n",
    "apple_price_df = pd.read_csv('price/AAPL.csv')\n",
    "baba_price_df = pd.read_csv('price/BABA.csv')\n",
    "goog_price_df = pd.read_csv('price/GOOG.csv')\n",
    "jnj_price_df = pd.read_csv('price/JNJ.csv')\n",
    "pfe_price_df = pd.read_csv('price/PFE.csv')\n",
    "tsla_price_df = pd.read_csv('price/TSLA.csv')"
   ]
  },
  {
   "cell_type": "markdown",
   "id": "e88b355a",
   "metadata": {},
   "source": []
  },
  {
   "cell_type": "code",
   "execution_count": 5,
   "id": "cf6d9313",
   "metadata": {},
   "outputs": [
    {
     "name": "stdout",
     "output_type": "stream",
     "text": [
      "(862, 11)\n",
      "(653, 11)\n",
      "(726, 11)\n",
      "(855, 11)\n"
     ]
    }
   ],
   "source": [
    "# merging DB\n",
    "\n",
    "amazon_df = pd.merge(amazon_df, amazon_price_df, how=\"outer\", on=[\"Date\", \"Date\"]).sort_values(by=\"Date\", ascending=True)\n",
    "gme_df = pd.merge(gme_df, gme_price_df, how=\"outer\", on=[\"Date\", \"Date\"] ).sort_values(by=\"Date\", ascending=True)\n",
    "kodak_df = pd.merge(kodak_df, kodak_price_df, how=\"outer\", on=[\"Date\", \"Date\"] ).sort_values(by=\"Date\", ascending=True)\n",
    "facebook_df = pd.merge(facebook_df, facebook_price_df, how=\"outer\", on=[\"Date\", \"Date\"] ).sort_values(by=\"Date\", ascending=True)\n",
    "apple_df = pd.merge(apple_df, apple_price_df, how=\"outer\", on=[\"Date\", \"Date\"] ).sort_values(by=\"Date\", ascending=True)\n",
    "baba_df = pd.merge(baba_df, baba_price_df, how=\"outer\", on=[\"Date\", \"Date\"] ).sort_values(by=\"Date\", ascending=True)\n",
    "goog_df = pd.merge(goog_df, goog_price_df, how=\"outer\", on=[\"Date\", \"Date\"] ).sort_values(by=\"Date\", ascending=True)\n",
    "jnj_df = pd.merge(jnj_df, jnj_price_df, how=\"outer\", on=[\"Date\", \"Date\"] ).sort_values(by=\"Date\", ascending=True)\n",
    "pfe_df = pd.merge(pfe_df, pfe_price_df, how=\"outer\", on=[\"Date\", \"Date\"] ).sort_values(by=\"Date\", ascending=True)\n",
    "tsla_df = pd.merge(tsla_df, tsla_price_df, how=\"outer\", on=[\"Date\", \"Date\"] ).sort_values(by=\"Date\", ascending=True)\n",
    "\n",
    "\n",
    "print(amazon_df.shape)\n",
    "print(kodak_df.shape)\n",
    "print(gme_df.shape)\n",
    "print(facebook_df.shape)"
   ]
  },
  {
   "cell_type": "code",
   "execution_count": 6,
   "id": "e8416a14",
   "metadata": {},
   "outputs": [
    {
     "data": {
      "text/html": [
       "<div>\n",
       "<style scoped>\n",
       "    .dataframe tbody tr th:only-of-type {\n",
       "        vertical-align: middle;\n",
       "    }\n",
       "\n",
       "    .dataframe tbody tr th {\n",
       "        vertical-align: top;\n",
       "    }\n",
       "\n",
       "    .dataframe thead th {\n",
       "        text-align: right;\n",
       "    }\n",
       "</style>\n",
       "<table border=\"1\" class=\"dataframe\">\n",
       "  <thead>\n",
       "    <tr style=\"text-align: right;\">\n",
       "      <th></th>\n",
       "      <th>Date</th>\n",
       "      <th>Positive</th>\n",
       "      <th>Neutral</th>\n",
       "      <th>Negative</th>\n",
       "      <th>Sentimental Score</th>\n",
       "      <th>Open</th>\n",
       "      <th>High</th>\n",
       "      <th>Low</th>\n",
       "      <th>Close</th>\n",
       "      <th>Adj Close</th>\n",
       "      <th>Volume</th>\n",
       "    </tr>\n",
       "  </thead>\n",
       "  <tbody>\n",
       "    <tr>\n",
       "      <th>783</th>\n",
       "      <td>2019-04-01</td>\n",
       "      <td>2.0</td>\n",
       "      <td>2.0</td>\n",
       "      <td>3.0</td>\n",
       "      <td>0.071</td>\n",
       "      <td>56.523998</td>\n",
       "      <td>57.840000</td>\n",
       "      <td>56.256001</td>\n",
       "      <td>57.835999</td>\n",
       "      <td>57.835999</td>\n",
       "      <td>40552000.0</td>\n",
       "    </tr>\n",
       "    <tr>\n",
       "      <th>782</th>\n",
       "      <td>2019-04-02</td>\n",
       "      <td>1.0</td>\n",
       "      <td>2.0</td>\n",
       "      <td>6.0</td>\n",
       "      <td>-0.611</td>\n",
       "      <td>57.660000</td>\n",
       "      <td>57.888000</td>\n",
       "      <td>56.776001</td>\n",
       "      <td>57.175999</td>\n",
       "      <td>57.175999</td>\n",
       "      <td>27394500.0</td>\n",
       "    </tr>\n",
       "    <tr>\n",
       "      <th>781</th>\n",
       "      <td>2019-04-03</td>\n",
       "      <td>5.0</td>\n",
       "      <td>3.0</td>\n",
       "      <td>2.0</td>\n",
       "      <td>0.750</td>\n",
       "      <td>57.464001</td>\n",
       "      <td>59.234001</td>\n",
       "      <td>57.433998</td>\n",
       "      <td>58.362000</td>\n",
       "      <td>58.362000</td>\n",
       "      <td>39597000.0</td>\n",
       "    </tr>\n",
       "    <tr>\n",
       "      <th>780</th>\n",
       "      <td>2019-04-04</td>\n",
       "      <td>4.0</td>\n",
       "      <td>17.0</td>\n",
       "      <td>31.0</td>\n",
       "      <td>-0.452</td>\n",
       "      <td>52.377998</td>\n",
       "      <td>54.240002</td>\n",
       "      <td>52.118000</td>\n",
       "      <td>53.556000</td>\n",
       "      <td>53.556000</td>\n",
       "      <td>118603500.0</td>\n",
       "    </tr>\n",
       "    <tr>\n",
       "      <th>779</th>\n",
       "      <td>2019-04-05</td>\n",
       "      <td>3.0</td>\n",
       "      <td>6.0</td>\n",
       "      <td>5.0</td>\n",
       "      <td>0.214</td>\n",
       "      <td>53.972000</td>\n",
       "      <td>55.220001</td>\n",
       "      <td>53.222000</td>\n",
       "      <td>54.992001</td>\n",
       "      <td>54.992001</td>\n",
       "      <td>65191500.0</td>\n",
       "    </tr>\n",
       "  </tbody>\n",
       "</table>\n",
       "</div>"
      ],
      "text/plain": [
       "           Date  Positive  Neutral  Negative  Sentimental Score       Open  \\\n",
       "783  2019-04-01       2.0      2.0       3.0              0.071  56.523998   \n",
       "782  2019-04-02       1.0      2.0       6.0             -0.611  57.660000   \n",
       "781  2019-04-03       5.0      3.0       2.0              0.750  57.464001   \n",
       "780  2019-04-04       4.0     17.0      31.0             -0.452  52.377998   \n",
       "779  2019-04-05       3.0      6.0       5.0              0.214  53.972000   \n",
       "\n",
       "          High        Low      Close  Adj Close       Volume  \n",
       "783  57.840000  56.256001  57.835999  57.835999   40552000.0  \n",
       "782  57.888000  56.776001  57.175999  57.175999   27394500.0  \n",
       "781  59.234001  57.433998  58.362000  58.362000   39597000.0  \n",
       "780  54.240002  52.118000  53.556000  53.556000  118603500.0  \n",
       "779  55.220001  53.222000  54.992001  54.992001   65191500.0  "
      ]
     },
     "execution_count": 6,
     "metadata": {},
     "output_type": "execute_result"
    }
   ],
   "source": [
    "tsla_df.head()"
   ]
  },
  {
   "cell_type": "code",
   "execution_count": 7,
   "id": "3491f80e",
   "metadata": {},
   "outputs": [],
   "source": [
    "facebook_df.drop(columns=['Date'],inplace=True)\n",
    "kodak_df.drop(columns=['Date'],inplace=True)\n",
    "gme_df.drop(columns=['Date'],inplace=True)\n",
    "amazon_df.drop(columns=['Date'],inplace=True)\n",
    "apple_df.drop(columns=['Date'],inplace=True)\n",
    "goog_df.drop(columns=['Date'],inplace=True)\n",
    "baba_df.drop(columns=['Date'],inplace=True)\n",
    "jnj_df.drop(columns=['Date'],inplace=True)\n",
    "pfe_df.drop(columns=['Date'],inplace=True)\n",
    "tsla_df.drop(columns=['Date'],inplace=True)\n"
   ]
  },
  {
   "cell_type": "code",
   "execution_count": 8,
   "id": "09900575",
   "metadata": {},
   "outputs": [],
   "source": [
    "facebook_df['retorno'] = facebook_df['Close'].pct_change()\n",
    "kodak_df['retorno'] = kodak_df['Close'].pct_change()\n",
    "gme_df['retorno'] = gme_df['Close'].pct_change()\n",
    "amazon_df['retorno'] = amazon_df['Close'].pct_change()\n",
    "apple_df['retorno'] = apple_df['Close'].pct_change()\n",
    "goog_df['retorno'] = goog_df['Close'].pct_change()\n",
    "baba_df['retorno'] = baba_df['Close'].pct_change()\n",
    "jnj_df['retorno'] = jnj_df['Close'].pct_change()\n",
    "pfe_df['retorno'] = pfe_df['Close'].pct_change()\n",
    "tsla_df['retorno'] = tsla_df['Close'].pct_change()"
   ]
  },
  {
   "cell_type": "code",
   "execution_count": 9,
   "id": "9490c24d",
   "metadata": {},
   "outputs": [],
   "source": [
    "from sklearn.impute import KNNImputer, SimpleImputer"
   ]
  },
  {
   "cell_type": "code",
   "execution_count": 10,
   "id": "0958d19b",
   "metadata": {},
   "outputs": [],
   "source": [
    "from sklearn.compose import ColumnTransformer\n",
    "from sklearn.pipeline import Pipeline\n",
    "preprocessor = ColumnTransformer([('imputer',  KNNImputer(n_neighbors=1),['Open','Low', 'Volume'])], remainder='passthrough')\n",
    "filling_na = SimpleImputer(strategy=\"constant\", fill_value=-1000)\n",
    "my_pipeline = Pipeline(steps=[('preprocessor', preprocessor),('fill_na', filling_na)])"
   ]
  },
  {
   "cell_type": "code",
   "execution_count": null,
   "id": "94cf230f",
   "metadata": {},
   "outputs": [],
   "source": [
    "# gme_np = my_pipeline.fit_transform(gme_df) \n",
    "# kodak_np = my_pipeline.fit_transform(kodak_df)\n",
    "# facebook_np = my_pipeline.fit_transform(facebook_df)\n",
    "# amazon_np = my_pipeline.fit_transform(amazon_df)\n",
    "# apple_np = my_pipeline.fit_transform(apple_df)\n",
    "# google_np = my_pipeline.fit_transform(goog_df)\n",
    "# baba_np = my_pipeline.fit_transform(baba_df)\n",
    "# jnj_np = my_pipeline.fit_transform(jnj_df)\n",
    "# pfe_np = my_pipeline.fit_transform(pfe_df)\n",
    "# tsla_np = my_pipeline.fit_transform(tsla_df)\n"
   ]
  },
  {
   "cell_type": "code",
   "execution_count": null,
   "id": "493111f2",
   "metadata": {},
   "outputs": [],
   "source": [
    "# from tensorflow.keras import models\n",
    "# from tensorflow.keras import layers\n",
    "# from tensorflow.keras.optimizers import RMSprop\n",
    "# from tensorflow.keras.layers.experimental.preprocessing import Normalization\n",
    "# def init_model():\n",
    "#     #normalizar o x train\n",
    "#     normalizer = Normalization()\n",
    "#     model = models.Sequential()\n",
    "#     model.add(layers.Masking(mask_value=-1000.))\n",
    "#     normalizer.adapt(X_tesla_treino)\n",
    "#     model.add(layers.LSTM(20, return_sequences=True, activation='tanh'))\n",
    "#     model.add(layers.LSTM(10, return_sequences=False, activation='tanh'))\n",
    "#     model.add(layers.Dense(5, activation='relu'))\n",
    "#     model.add(layers.Dense(10, activation='linear'))\n",
    "    \n",
    "#   #  model.compile(loss='mse', \n",
    "#   #                optimizer='rmsprop', \n",
    "#   #                metrics=['mae'])\n",
    "#     model.compile(loss='mse', \n",
    "#                   optimizer=RMSprop(learning_rate=0.0003), \n",
    "#                   metrics=['mae'])\n",
    "    \n",
    "#     return model\n",
    "\n",
    "# #init_model().summary()"
   ]
  },
  {
   "cell_type": "code",
   "execution_count": null,
   "id": "10bb2fed",
   "metadata": {},
   "outputs": [],
   "source": [
    "# model.fit(x_train,y_train,epochs=20)"
   ]
  },
  {
   "cell_type": "code",
   "execution_count": null,
   "id": "7de4229b",
   "metadata": {},
   "outputs": [],
   "source": []
  },
  {
   "cell_type": "markdown",
   "id": "0c50535c",
   "metadata": {},
   "source": [
    "### RNN COM UM ATIVO"
   ]
  },
  {
   "cell_type": "code",
   "execution_count": 11,
   "id": "22b28941",
   "metadata": {},
   "outputs": [],
   "source": [
    "tsla_df = tsla_df.dropna().reset_index()"
   ]
  },
  {
   "cell_type": "code",
   "execution_count": 12,
   "id": "1942015c",
   "metadata": {},
   "outputs": [
    {
     "data": {
      "text/plain": [
       "577"
      ]
     },
     "execution_count": 12,
     "metadata": {},
     "output_type": "execute_result"
    }
   ],
   "source": [
    "len(tsla_df)"
   ]
  },
  {
   "cell_type": "code",
   "execution_count": 13,
   "id": "8b1ba56e",
   "metadata": {},
   "outputs": [],
   "source": [
    "y = tsla_df['Close']"
   ]
  },
  {
   "cell_type": "code",
   "execution_count": 14,
   "id": "61de75fc",
   "metadata": {},
   "outputs": [],
   "source": [
    "from sklearn.preprocessing import MinMaxScaler"
   ]
  },
  {
   "cell_type": "code",
   "execution_count": 15,
   "id": "0b87f3da",
   "metadata": {},
   "outputs": [],
   "source": [
    "closing = MinMaxScaler().fit_transform(tsla_df[['Close']])"
   ]
  },
  {
   "cell_type": "code",
   "execution_count": 16,
   "id": "53ee8e92",
   "metadata": {},
   "outputs": [
    {
     "data": {
      "text/html": [
       "<div>\n",
       "<style scoped>\n",
       "    .dataframe tbody tr th:only-of-type {\n",
       "        vertical-align: middle;\n",
       "    }\n",
       "\n",
       "    .dataframe tbody tr th {\n",
       "        vertical-align: top;\n",
       "    }\n",
       "\n",
       "    .dataframe thead th {\n",
       "        text-align: right;\n",
       "    }\n",
       "</style>\n",
       "<table border=\"1\" class=\"dataframe\">\n",
       "  <thead>\n",
       "    <tr style=\"text-align: right;\">\n",
       "      <th></th>\n",
       "      <th>index</th>\n",
       "      <th>Positive</th>\n",
       "      <th>Neutral</th>\n",
       "      <th>Negative</th>\n",
       "      <th>Sentimental Score</th>\n",
       "      <th>Open</th>\n",
       "      <th>High</th>\n",
       "      <th>Low</th>\n",
       "      <th>Close</th>\n",
       "      <th>Adj Close</th>\n",
       "      <th>Volume</th>\n",
       "      <th>retorno</th>\n",
       "    </tr>\n",
       "  </thead>\n",
       "  <tbody>\n",
       "    <tr>\n",
       "      <th>0</th>\n",
       "      <td>782</td>\n",
       "      <td>1.0</td>\n",
       "      <td>2.0</td>\n",
       "      <td>6.0</td>\n",
       "      <td>-0.611</td>\n",
       "      <td>57.660000</td>\n",
       "      <td>57.888000</td>\n",
       "      <td>56.776001</td>\n",
       "      <td>57.175999</td>\n",
       "      <td>57.175999</td>\n",
       "      <td>27394500.0</td>\n",
       "      <td>-0.011412</td>\n",
       "    </tr>\n",
       "    <tr>\n",
       "      <th>1</th>\n",
       "      <td>781</td>\n",
       "      <td>5.0</td>\n",
       "      <td>3.0</td>\n",
       "      <td>2.0</td>\n",
       "      <td>0.750</td>\n",
       "      <td>57.464001</td>\n",
       "      <td>59.234001</td>\n",
       "      <td>57.433998</td>\n",
       "      <td>58.362000</td>\n",
       "      <td>58.362000</td>\n",
       "      <td>39597000.0</td>\n",
       "      <td>0.020743</td>\n",
       "    </tr>\n",
       "    <tr>\n",
       "      <th>2</th>\n",
       "      <td>780</td>\n",
       "      <td>4.0</td>\n",
       "      <td>17.0</td>\n",
       "      <td>31.0</td>\n",
       "      <td>-0.452</td>\n",
       "      <td>52.377998</td>\n",
       "      <td>54.240002</td>\n",
       "      <td>52.118000</td>\n",
       "      <td>53.556000</td>\n",
       "      <td>53.556000</td>\n",
       "      <td>118603500.0</td>\n",
       "      <td>-0.082348</td>\n",
       "    </tr>\n",
       "    <tr>\n",
       "      <th>3</th>\n",
       "      <td>779</td>\n",
       "      <td>3.0</td>\n",
       "      <td>6.0</td>\n",
       "      <td>5.0</td>\n",
       "      <td>0.214</td>\n",
       "      <td>53.972000</td>\n",
       "      <td>55.220001</td>\n",
       "      <td>53.222000</td>\n",
       "      <td>54.992001</td>\n",
       "      <td>54.992001</td>\n",
       "      <td>65191500.0</td>\n",
       "      <td>0.026813</td>\n",
       "    </tr>\n",
       "    <tr>\n",
       "      <th>4</th>\n",
       "      <td>776</td>\n",
       "      <td>0.0</td>\n",
       "      <td>0.0</td>\n",
       "      <td>6.0</td>\n",
       "      <td>-1.500</td>\n",
       "      <td>55.537998</td>\n",
       "      <td>56.231998</td>\n",
       "      <td>54.088001</td>\n",
       "      <td>54.639999</td>\n",
       "      <td>54.639999</td>\n",
       "      <td>52052000.0</td>\n",
       "      <td>-0.006401</td>\n",
       "    </tr>\n",
       "  </tbody>\n",
       "</table>\n",
       "</div>"
      ],
      "text/plain": [
       "   index  Positive  Neutral  Negative  Sentimental Score       Open  \\\n",
       "0    782       1.0      2.0       6.0             -0.611  57.660000   \n",
       "1    781       5.0      3.0       2.0              0.750  57.464001   \n",
       "2    780       4.0     17.0      31.0             -0.452  52.377998   \n",
       "3    779       3.0      6.0       5.0              0.214  53.972000   \n",
       "4    776       0.0      0.0       6.0             -1.500  55.537998   \n",
       "\n",
       "        High        Low      Close  Adj Close       Volume   retorno  \n",
       "0  57.888000  56.776001  57.175999  57.175999   27394500.0 -0.011412  \n",
       "1  59.234001  57.433998  58.362000  58.362000   39597000.0  0.020743  \n",
       "2  54.240002  52.118000  53.556000  53.556000  118603500.0 -0.082348  \n",
       "3  55.220001  53.222000  54.992001  54.992001   65191500.0  0.026813  \n",
       "4  56.231998  54.088001  54.639999  54.639999   52052000.0 -0.006401  "
      ]
     },
     "execution_count": 16,
     "metadata": {},
     "output_type": "execute_result"
    }
   ],
   "source": [
    "tsla_df.head()"
   ]
  },
  {
   "cell_type": "code",
   "execution_count": 17,
   "id": "5a47cf23",
   "metadata": {},
   "outputs": [
    {
     "data": {
      "text/plain": [
       "0       57.175999\n",
       "1       58.362000\n",
       "2       53.556000\n",
       "3       54.992001\n",
       "4       54.639999\n",
       "          ...    \n",
       "572    656.950012\n",
       "573    685.700012\n",
       "574    668.539978\n",
       "575    653.380005\n",
       "576    650.599976\n",
       "Name: Close, Length: 577, dtype: float64"
      ]
     },
     "execution_count": 17,
     "metadata": {},
     "output_type": "execute_result"
    }
   ],
   "source": [
    "tsla_df['Close']"
   ]
  },
  {
   "cell_type": "code",
   "execution_count": null,
   "id": "ebff4731",
   "metadata": {},
   "outputs": [],
   "source": []
  },
  {
   "cell_type": "code",
   "execution_count": 18,
   "id": "4e93f2be",
   "metadata": {},
   "outputs": [
    {
     "data": {
      "text/plain": [
       "<matplotlib.collections.PathCollection at 0x1255faa30>"
      ]
     },
     "execution_count": 18,
     "metadata": {},
     "output_type": "execute_result"
    },
    {
     "data": {
      "image/png": "[encoded data removed]",
      "text/plain": [
       "<Figure size 432x288 with 1 Axes>"
      ]
     },
     "metadata": {
      "needs_background": "light"
     },
     "output_type": "display_data"
    }
   ],
   "source": [
    "plt.plot(closing)\n",
    "plt.scatter( tsla_df.index, tsla_df['Sentimental Score'])"
   ]
  },
  {
   "cell_type": "code",
   "execution_count": 19,
   "id": "e083c295",
   "metadata": {},
   "outputs": [
    {
     "data": {
      "text/html": [
       "<div>\n",
       "<style scoped>\n",
       "    .dataframe tbody tr th:only-of-type {\n",
       "        vertical-align: middle;\n",
       "    }\n",
       "\n",
       "    .dataframe tbody tr th {\n",
       "        vertical-align: top;\n",
       "    }\n",
       "\n",
       "    .dataframe thead th {\n",
       "        text-align: right;\n",
       "    }\n",
       "</style>\n",
       "<table border=\"1\" class=\"dataframe\">\n",
       "  <thead>\n",
       "    <tr style=\"text-align: right;\">\n",
       "      <th></th>\n",
       "      <th>index</th>\n",
       "      <th>Positive</th>\n",
       "      <th>Neutral</th>\n",
       "      <th>Negative</th>\n",
       "      <th>Sentimental Score</th>\n",
       "      <th>Open</th>\n",
       "      <th>High</th>\n",
       "      <th>Low</th>\n",
       "      <th>Close</th>\n",
       "      <th>Adj Close</th>\n",
       "      <th>Volume</th>\n",
       "      <th>retorno</th>\n",
       "    </tr>\n",
       "  </thead>\n",
       "  <tbody>\n",
       "    <tr>\n",
       "      <th>index</th>\n",
       "      <td>1.000000</td>\n",
       "      <td>-0.195807</td>\n",
       "      <td>-0.154794</td>\n",
       "      <td>-0.116994</td>\n",
       "      <td>-0.116709</td>\n",
       "      <td>-0.921443</td>\n",
       "      <td>-0.922074</td>\n",
       "      <td>-0.921126</td>\n",
       "      <td>-0.921149</td>\n",
       "      <td>-0.921149</td>\n",
       "      <td>0.208662</td>\n",
       "      <td>-0.004076</td>\n",
       "    </tr>\n",
       "    <tr>\n",
       "      <th>Positive</th>\n",
       "      <td>-0.195807</td>\n",
       "      <td>1.000000</td>\n",
       "      <td>0.447333</td>\n",
       "      <td>0.044431</td>\n",
       "      <td>0.429484</td>\n",
       "      <td>0.197952</td>\n",
       "      <td>0.201419</td>\n",
       "      <td>0.196309</td>\n",
       "      <td>0.199583</td>\n",
       "      <td>0.199583</td>\n",
       "      <td>0.372431</td>\n",
       "      <td>0.304209</td>\n",
       "    </tr>\n",
       "    <tr>\n",
       "      <th>Neutral</th>\n",
       "      <td>-0.154794</td>\n",
       "      <td>0.447333</td>\n",
       "      <td>1.000000</td>\n",
       "      <td>0.331361</td>\n",
       "      <td>0.132443</td>\n",
       "      <td>0.148589</td>\n",
       "      <td>0.150666</td>\n",
       "      <td>0.145276</td>\n",
       "      <td>0.147432</td>\n",
       "      <td>0.147432</td>\n",
       "      <td>0.264115</td>\n",
       "      <td>0.000495</td>\n",
       "    </tr>\n",
       "    <tr>\n",
       "      <th>Negative</th>\n",
       "      <td>-0.116994</td>\n",
       "      <td>0.044431</td>\n",
       "      <td>0.331361</td>\n",
       "      <td>1.000000</td>\n",
       "      <td>-0.608282</td>\n",
       "      <td>0.143698</td>\n",
       "      <td>0.144474</td>\n",
       "      <td>0.136989</td>\n",
       "      <td>0.138072</td>\n",
       "      <td>0.138072</td>\n",
       "      <td>0.200829</td>\n",
       "      <td>-0.366055</td>\n",
       "    </tr>\n",
       "    <tr>\n",
       "      <th>Sentimental Score</th>\n",
       "      <td>-0.116709</td>\n",
       "      <td>0.429484</td>\n",
       "      <td>0.132443</td>\n",
       "      <td>-0.608282</td>\n",
       "      <td>1.000000</td>\n",
       "      <td>0.071797</td>\n",
       "      <td>0.073019</td>\n",
       "      <td>0.075173</td>\n",
       "      <td>0.076261</td>\n",
       "      <td>0.076261</td>\n",
       "      <td>0.049257</td>\n",
       "      <td>0.374592</td>\n",
       "    </tr>\n",
       "    <tr>\n",
       "      <th>Open</th>\n",
       "      <td>-0.921443</td>\n",
       "      <td>0.197952</td>\n",
       "      <td>0.148589</td>\n",
       "      <td>0.143698</td>\n",
       "      <td>0.071797</td>\n",
       "      <td>1.000000</td>\n",
       "      <td>0.999498</td>\n",
       "      <td>0.999353</td>\n",
       "      <td>0.998745</td>\n",
       "      <td>0.998745</td>\n",
       "      <td>-0.285063</td>\n",
       "      <td>-0.028809</td>\n",
       "    </tr>\n",
       "    <tr>\n",
       "      <th>High</th>\n",
       "      <td>-0.922074</td>\n",
       "      <td>0.201419</td>\n",
       "      <td>0.150666</td>\n",
       "      <td>0.144474</td>\n",
       "      <td>0.073019</td>\n",
       "      <td>0.999498</td>\n",
       "      <td>1.000000</td>\n",
       "      <td>0.999239</td>\n",
       "      <td>0.999507</td>\n",
       "      <td>0.999507</td>\n",
       "      <td>-0.275888</td>\n",
       "      <td>-0.014589</td>\n",
       "    </tr>\n",
       "    <tr>\n",
       "      <th>Low</th>\n",
       "      <td>-0.921126</td>\n",
       "      <td>0.196309</td>\n",
       "      <td>0.145276</td>\n",
       "      <td>0.136989</td>\n",
       "      <td>0.075173</td>\n",
       "      <td>0.999353</td>\n",
       "      <td>0.999239</td>\n",
       "      <td>1.000000</td>\n",
       "      <td>0.999321</td>\n",
       "      <td>0.999321</td>\n",
       "      <td>-0.294367</td>\n",
       "      <td>-0.015849</td>\n",
       "    </tr>\n",
       "    <tr>\n",
       "      <th>Close</th>\n",
       "      <td>-0.921149</td>\n",
       "      <td>0.199583</td>\n",
       "      <td>0.147432</td>\n",
       "      <td>0.138072</td>\n",
       "      <td>0.076261</td>\n",
       "      <td>0.998745</td>\n",
       "      <td>0.999507</td>\n",
       "      <td>0.999321</td>\n",
       "      <td>1.000000</td>\n",
       "      <td>1.000000</td>\n",
       "      <td>-0.282653</td>\n",
       "      <td>0.000368</td>\n",
       "    </tr>\n",
       "    <tr>\n",
       "      <th>Adj Close</th>\n",
       "      <td>-0.921149</td>\n",
       "      <td>0.199583</td>\n",
       "      <td>0.147432</td>\n",
       "      <td>0.138072</td>\n",
       "      <td>0.076261</td>\n",
       "      <td>0.998745</td>\n",
       "      <td>0.999507</td>\n",
       "      <td>0.999321</td>\n",
       "      <td>1.000000</td>\n",
       "      <td>1.000000</td>\n",
       "      <td>-0.282653</td>\n",
       "      <td>0.000368</td>\n",
       "    </tr>\n",
       "    <tr>\n",
       "      <th>Volume</th>\n",
       "      <td>0.208662</td>\n",
       "      <td>0.372431</td>\n",
       "      <td>0.264115</td>\n",
       "      <td>0.200829</td>\n",
       "      <td>0.049257</td>\n",
       "      <td>-0.285063</td>\n",
       "      <td>-0.275888</td>\n",
       "      <td>-0.294367</td>\n",
       "      <td>-0.282653</td>\n",
       "      <td>-0.282653</td>\n",
       "      <td>1.000000</td>\n",
       "      <td>0.156666</td>\n",
       "    </tr>\n",
       "    <tr>\n",
       "      <th>retorno</th>\n",
       "      <td>-0.004076</td>\n",
       "      <td>0.304209</td>\n",
       "      <td>0.000495</td>\n",
       "      <td>-0.366055</td>\n",
       "      <td>0.374592</td>\n",
       "      <td>-0.028809</td>\n",
       "      <td>-0.014589</td>\n",
       "      <td>-0.015849</td>\n",
       "      <td>0.000368</td>\n",
       "      <td>0.000368</td>\n",
       "      <td>0.156666</td>\n",
       "      <td>1.000000</td>\n",
       "    </tr>\n",
       "  </tbody>\n",
       "</table>\n",
       "</div>"
      ],
      "text/plain": [
       "                      index  Positive   Neutral  Negative  Sentimental Score  \\\n",
       "index              1.000000 -0.195807 -0.154794 -0.116994          -0.116709   \n",
       "Positive          -0.195807  1.000000  0.447333  0.044431           0.429484   \n",
       "Neutral           -0.154794  0.447333  1.000000  0.331361           0.132443   \n",
       "Negative          -0.116994  0.044431  0.331361  1.000000          -0.608282   \n",
       "Sentimental Score -0.116709  0.429484  0.132443 -0.608282           1.000000   \n",
       "Open              -0.921443  0.197952  0.148589  0.143698           0.071797   \n",
       "High              -0.922074  0.201419  0.150666  0.144474           0.073019   \n",
       "Low               -0.921126  0.196309  0.145276  0.136989           0.075173   \n",
       "Close             -0.921149  0.199583  0.147432  0.138072           0.076261   \n",
       "Adj Close         -0.921149  0.199583  0.147432  0.138072           0.076261   \n",
       "Volume             0.208662  0.372431  0.264115  0.200829           0.049257   \n",
       "retorno           -0.004076  0.304209  0.000495 -0.366055           0.374592   \n",
       "\n",
       "                       Open      High       Low     Close  Adj Close  \\\n",
       "index             -0.921443 -0.922074 -0.921126 -0.921149  -0.921149   \n",
       "Positive           0.197952  0.201419  0.196309  0.199583   0.199583   \n",
       "Neutral            0.148589  0.150666  0.145276  0.147432   0.147432   \n",
       "Negative           0.143698  0.144474  0.136989  0.138072   0.138072   \n",
       "Sentimental Score  0.071797  0.073019  0.075173  0.076261   0.076261   \n",
       "Open               1.000000  0.999498  0.999353  0.998745   0.998745   \n",
       "High               0.999498  1.000000  0.999239  0.999507   0.999507   \n",
       "Low                0.999353  0.999239  1.000000  0.999321   0.999321   \n",
       "Close              0.998745  0.999507  0.999321  1.000000   1.000000   \n",
       "Adj Close          0.998745  0.999507  0.999321  1.000000   1.000000   \n",
       "Volume            -0.285063 -0.275888 -0.294367 -0.282653  -0.282653   \n",
       "retorno           -0.028809 -0.014589 -0.015849  0.000368   0.000368   \n",
       "\n",
       "                     Volume   retorno  \n",
       "index              0.208662 -0.004076  \n",
       "Positive           0.372431  0.304209  \n",
       "Neutral            0.264115  0.000495  \n",
       "Negative           0.200829 -0.366055  \n",
       "Sentimental Score  0.049257  0.374592  \n",
       "Open              -0.285063 -0.028809  \n",
       "High              -0.275888 -0.014589  \n",
       "Low               -0.294367 -0.015849  \n",
       "Close             -0.282653  0.000368  \n",
       "Adj Close         -0.282653  0.000368  \n",
       "Volume             1.000000  0.156666  \n",
       "retorno            0.156666  1.000000  "
      ]
     },
     "execution_count": 19,
     "metadata": {},
     "output_type": "execute_result"
    }
   ],
   "source": [
    "tsla_df.corr()"
   ]
  },
  {
   "cell_type": "code",
   "execution_count": 20,
   "id": "1a7e20de",
   "metadata": {},
   "outputs": [
    {
     "data": {
      "text/plain": [
       "[<matplotlib.lines.Line2D at 0x1257057c0>]"
      ]
     },
     "execution_count": 20,
     "metadata": {},
     "output_type": "execute_result"
    },
    {
     "data": {
      "image/png": "[encoded data removed]",
      "text/plain": [
       "<Figure size 432x288 with 1 Axes>"
      ]
     },
     "metadata": {
      "needs_background": "light"
     },
     "output_type": "display_data"
    }
   ],
   "source": [
    "plt.plot(tsla_df['Sentimental Score'])"
   ]
  },
  {
   "cell_type": "code",
   "execution_count": 21,
   "id": "e4957c91",
   "metadata": {},
   "outputs": [
    {
     "data": {
      "text/html": [
       "<div>\n",
       "<style scoped>\n",
       "    .dataframe tbody tr th:only-of-type {\n",
       "        vertical-align: middle;\n",
       "    }\n",
       "\n",
       "    .dataframe tbody tr th {\n",
       "        vertical-align: top;\n",
       "    }\n",
       "\n",
       "    .dataframe thead th {\n",
       "        text-align: right;\n",
       "    }\n",
       "</style>\n",
       "<table border=\"1\" class=\"dataframe\">\n",
       "  <thead>\n",
       "    <tr style=\"text-align: right;\">\n",
       "      <th></th>\n",
       "      <th>index</th>\n",
       "      <th>Positive</th>\n",
       "      <th>Neutral</th>\n",
       "      <th>Negative</th>\n",
       "      <th>Sentimental Score</th>\n",
       "      <th>Open</th>\n",
       "      <th>High</th>\n",
       "      <th>Low</th>\n",
       "      <th>Volume</th>\n",
       "      <th>retorno</th>\n",
       "    </tr>\n",
       "  </thead>\n",
       "  <tbody>\n",
       "    <tr>\n",
       "      <th>0</th>\n",
       "      <td>782</td>\n",
       "      <td>1.0</td>\n",
       "      <td>2.0</td>\n",
       "      <td>6.0</td>\n",
       "      <td>-0.611</td>\n",
       "      <td>57.660000</td>\n",
       "      <td>57.888000</td>\n",
       "      <td>56.776001</td>\n",
       "      <td>27394500.0</td>\n",
       "      <td>-0.011412</td>\n",
       "    </tr>\n",
       "    <tr>\n",
       "      <th>1</th>\n",
       "      <td>781</td>\n",
       "      <td>5.0</td>\n",
       "      <td>3.0</td>\n",
       "      <td>2.0</td>\n",
       "      <td>0.750</td>\n",
       "      <td>57.464001</td>\n",
       "      <td>59.234001</td>\n",
       "      <td>57.433998</td>\n",
       "      <td>39597000.0</td>\n",
       "      <td>0.020743</td>\n",
       "    </tr>\n",
       "    <tr>\n",
       "      <th>2</th>\n",
       "      <td>780</td>\n",
       "      <td>4.0</td>\n",
       "      <td>17.0</td>\n",
       "      <td>31.0</td>\n",
       "      <td>-0.452</td>\n",
       "      <td>52.377998</td>\n",
       "      <td>54.240002</td>\n",
       "      <td>52.118000</td>\n",
       "      <td>118603500.0</td>\n",
       "      <td>-0.082348</td>\n",
       "    </tr>\n",
       "    <tr>\n",
       "      <th>3</th>\n",
       "      <td>779</td>\n",
       "      <td>3.0</td>\n",
       "      <td>6.0</td>\n",
       "      <td>5.0</td>\n",
       "      <td>0.214</td>\n",
       "      <td>53.972000</td>\n",
       "      <td>55.220001</td>\n",
       "      <td>53.222000</td>\n",
       "      <td>65191500.0</td>\n",
       "      <td>0.026813</td>\n",
       "    </tr>\n",
       "    <tr>\n",
       "      <th>4</th>\n",
       "      <td>776</td>\n",
       "      <td>0.0</td>\n",
       "      <td>0.0</td>\n",
       "      <td>6.0</td>\n",
       "      <td>-1.500</td>\n",
       "      <td>55.537998</td>\n",
       "      <td>56.231998</td>\n",
       "      <td>54.088001</td>\n",
       "      <td>52052000.0</td>\n",
       "      <td>-0.006401</td>\n",
       "    </tr>\n",
       "    <tr>\n",
       "      <th>...</th>\n",
       "      <td>...</td>\n",
       "      <td>...</td>\n",
       "      <td>...</td>\n",
       "      <td>...</td>\n",
       "      <td>...</td>\n",
       "      <td>...</td>\n",
       "      <td>...</td>\n",
       "      <td>...</td>\n",
       "      <td>...</td>\n",
       "      <td>...</td>\n",
       "    </tr>\n",
       "    <tr>\n",
       "      <th>572</th>\n",
       "      <td>5</td>\n",
       "      <td>4.0</td>\n",
       "      <td>1.0</td>\n",
       "      <td>3.0</td>\n",
       "      <td>0.313</td>\n",
       "      <td>653.179993</td>\n",
       "      <td>658.909973</td>\n",
       "      <td>644.690002</td>\n",
       "      <td>18118500.0</td>\n",
       "      <td>0.006342</td>\n",
       "    </tr>\n",
       "    <tr>\n",
       "      <th>573</th>\n",
       "      <td>3</td>\n",
       "      <td>7.0</td>\n",
       "      <td>1.0</td>\n",
       "      <td>13.0</td>\n",
       "      <td>-0.381</td>\n",
       "      <td>662.200012</td>\n",
       "      <td>687.239990</td>\n",
       "      <td>662.159973</td>\n",
       "      <td>25927000.0</td>\n",
       "      <td>0.043763</td>\n",
       "    </tr>\n",
       "    <tr>\n",
       "      <th>574</th>\n",
       "      <td>2</td>\n",
       "      <td>9.0</td>\n",
       "      <td>7.0</td>\n",
       "      <td>9.0</td>\n",
       "      <td>0.280</td>\n",
       "      <td>686.320007</td>\n",
       "      <td>693.280029</td>\n",
       "      <td>666.299988</td>\n",
       "      <td>20966100.0</td>\n",
       "      <td>-0.025026</td>\n",
       "    </tr>\n",
       "    <tr>\n",
       "      <th>575</th>\n",
       "      <td>1</td>\n",
       "      <td>5.0</td>\n",
       "      <td>2.0</td>\n",
       "      <td>2.0</td>\n",
       "      <td>0.722</td>\n",
       "      <td>670.750000</td>\n",
       "      <td>678.609985</td>\n",
       "      <td>652.840027</td>\n",
       "      <td>21641200.0</td>\n",
       "      <td>-0.022676</td>\n",
       "    </tr>\n",
       "    <tr>\n",
       "      <th>576</th>\n",
       "      <td>0</td>\n",
       "      <td>3.0</td>\n",
       "      <td>1.0</td>\n",
       "      <td>5.0</td>\n",
       "      <td>-0.222</td>\n",
       "      <td>658.390015</td>\n",
       "      <td>666.140015</td>\n",
       "      <td>637.880005</td>\n",
       "      <td>20209600.0</td>\n",
       "      <td>-0.004255</td>\n",
       "    </tr>\n",
       "  </tbody>\n",
       "</table>\n",
       "<p>577 rows × 10 columns</p>\n",
       "</div>"
      ],
      "text/plain": [
       "     index  Positive  Neutral  Negative  Sentimental Score        Open  \\\n",
       "0      782       1.0      2.0       6.0             -0.611   57.660000   \n",
       "1      781       5.0      3.0       2.0              0.750   57.464001   \n",
       "2      780       4.0     17.0      31.0             -0.452   52.377998   \n",
       "3      779       3.0      6.0       5.0              0.214   53.972000   \n",
       "4      776       0.0      0.0       6.0             -1.500   55.537998   \n",
       "..     ...       ...      ...       ...                ...         ...   \n",
       "572      5       4.0      1.0       3.0              0.313  653.179993   \n",
       "573      3       7.0      1.0      13.0             -0.381  662.200012   \n",
       "574      2       9.0      7.0       9.0              0.280  686.320007   \n",
       "575      1       5.0      2.0       2.0              0.722  670.750000   \n",
       "576      0       3.0      1.0       5.0             -0.222  658.390015   \n",
       "\n",
       "           High         Low       Volume   retorno  \n",
       "0     57.888000   56.776001   27394500.0 -0.011412  \n",
       "1     59.234001   57.433998   39597000.0  0.020743  \n",
       "2     54.240002   52.118000  118603500.0 -0.082348  \n",
       "3     55.220001   53.222000   65191500.0  0.026813  \n",
       "4     56.231998   54.088001   52052000.0 -0.006401  \n",
       "..          ...         ...          ...       ...  \n",
       "572  658.909973  644.690002   18118500.0  0.006342  \n",
       "573  687.239990  662.159973   25927000.0  0.043763  \n",
       "574  693.280029  666.299988   20966100.0 -0.025026  \n",
       "575  678.609985  652.840027   21641200.0 -0.022676  \n",
       "576  666.140015  637.880005   20209600.0 -0.004255  \n",
       "\n",
       "[577 rows x 10 columns]"
      ]
     },
     "execution_count": 21,
     "metadata": {},
     "output_type": "execute_result"
    }
   ],
   "source": [
    "X = tsla_df.drop(columns=['Close', 'Adj Close'])\n",
    "X"
   ]
  },
  {
   "cell_type": "code",
   "execution_count": 22,
   "id": "3a82de01",
   "metadata": {},
   "outputs": [],
   "source": [
    "X = my_pipeline.fit_transform(X)"
   ]
  },
  {
   "cell_type": "code",
   "execution_count": 23,
   "id": "6856c456",
   "metadata": {},
   "outputs": [
    {
     "data": {
      "text/plain": [
       "(577, 10)"
      ]
     },
     "execution_count": 23,
     "metadata": {},
     "output_type": "execute_result"
    }
   ],
   "source": [
    "X.shape"
   ]
  },
  {
   "cell_type": "code",
   "execution_count": 24,
   "id": "0ae586f3",
   "metadata": {},
   "outputs": [],
   "source": [
    "X_train = X[0:460]\n",
    "X_test = X[460:]"
   ]
  },
  {
   "cell_type": "code",
   "execution_count": 25,
   "id": "919d2793",
   "metadata": {},
   "outputs": [
    {
     "name": "stdout",
     "output_type": "stream",
     "text": [
      "(460, 10)\n",
      "(117, 10)\n"
     ]
    }
   ],
   "source": [
    "print(X_train.shape)\n",
    "print(X_test.shape)"
   ]
  },
  {
   "cell_type": "code",
   "execution_count": 26,
   "id": "1883b3f4",
   "metadata": {},
   "outputs": [],
   "source": [
    "y_train = y[0:460]\n",
    "y_test = y[460:]"
   ]
  },
  {
   "cell_type": "code",
   "execution_count": 27,
   "id": "99a5e5bd",
   "metadata": {},
   "outputs": [
    {
     "name": "stdout",
     "output_type": "stream",
     "text": [
      "(460,)\n",
      "(117,)\n"
     ]
    }
   ],
   "source": [
    "print(y_train.shape)\n",
    "print(y_test.shape)"
   ]
  },
  {
   "cell_type": "code",
   "execution_count": 28,
   "id": "041a4139",
   "metadata": {},
   "outputs": [
    {
     "data": {
      "text/plain": [
       "(460, 10)"
      ]
     },
     "execution_count": 28,
     "metadata": {},
     "output_type": "execute_result"
    }
   ],
   "source": [
    "X_train.shape"
   ]
  },
  {
   "cell_type": "code",
   "execution_count": 29,
   "id": "5991b884",
   "metadata": {},
   "outputs": [
    {
     "data": {
      "text/plain": [
       "(460,)"
      ]
     },
     "execution_count": 29,
     "metadata": {},
     "output_type": "execute_result"
    }
   ],
   "source": [
    "y_train.shape"
   ]
  },
  {
   "cell_type": "code",
   "execution_count": 30,
   "id": "e93cb5a2",
   "metadata": {},
   "outputs": [],
   "source": [
    "y_df = pd.DataFrame(y_train)"
   ]
  },
  {
   "cell_type": "code",
   "execution_count": 31,
   "id": "d41cce06",
   "metadata": {},
   "outputs": [
    {
     "data": {
      "text/plain": [
       "Close    0\n",
       "dtype: int64"
      ]
     },
     "execution_count": 31,
     "metadata": {},
     "output_type": "execute_result"
    }
   ],
   "source": [
    "y_df.isna().sum()"
   ]
  },
  {
   "cell_type": "code",
   "execution_count": 32,
   "id": "b229543e",
   "metadata": {},
   "outputs": [],
   "source": [
    "X_df = pd.DataFrame(X_train[0])"
   ]
  },
  {
   "cell_type": "code",
   "execution_count": 33,
   "id": "0b210892",
   "metadata": {},
   "outputs": [
    {
     "data": {
      "text/plain": [
       "(460, 10, 1)"
      ]
     },
     "execution_count": 33,
     "metadata": {},
     "output_type": "execute_result"
    }
   ],
   "source": [
    "X_train = np.expand_dims(X_train, 2)\n",
    "X_train.shape\n"
   ]
  },
  {
   "cell_type": "code",
   "execution_count": 34,
   "id": "91c77d81",
   "metadata": {},
   "outputs": [
    {
     "data": {
      "text/plain": [
       "(1, 460, 10)"
      ]
     },
     "execution_count": 34,
     "metadata": {},
     "output_type": "execute_result"
    }
   ],
   "source": [
    "X_train = X_train.reshape(1, 460, 10)\n",
    "X_train.shape"
   ]
  },
  {
   "cell_type": "code",
   "execution_count": 35,
   "id": "e550f4c6",
   "metadata": {},
   "outputs": [],
   "source": [
    "from tensorflow.keras import models\n",
    "from tensorflow.keras import layers, Sequential\n",
    "from tensorflow.keras.layers import LSTM, Dropout, Dense\n",
    "from tensorflow.keras.optimizers import RMSprop\n",
    "from tensorflow.keras.layers.experimental.preprocessing import Normalization\n",
    "\n",
    "def init_article_model():\n",
    "    model = Sequential()\n",
    "    #Adding the first LSTM layer and some Dropout regularisation\n",
    "    model.add(LSTM(units = 50, return_sequences = True, input_shape=(60,10)))\n",
    "    model.add(Dropout(0.2))\n",
    "    # Adding a second LSTM layer and some Dropout regularisation\n",
    "    model.add(LSTM(units = 50, return_sequences = True))\n",
    "    model.add(Dropout(0.2))\n",
    "    # Adding a third LSTM layer and some Dropout regularisation\n",
    "    model.add(LSTM(units = 50, return_sequences = True))\n",
    "    model.add(Dropout(0.2))\n",
    "    # Adding a fourth LSTM layer and some Dropout regularisation\n",
    "    model.add(LSTM(units = 50))\n",
    "    model.add(Dropout(0.2))\n",
    "    # Adding the output layer\n",
    "    model.add(Dense(units = 1))\n",
    "\n",
    "    # Compiling the RNN\n",
    "    model.compile(optimizer = 'adam', loss = 'mse')\n",
    "    \n",
    "    return model\n",
    "\n",
    "def tanise_model():\n",
    "    #normalizar o x train\n",
    "    normalizer = Normalization()\n",
    "    model = models.Sequential()\n",
    "    model.add(layers.Masking(mask_value=-1000.))\n",
    "    normalizer.adapt(X_train)\n",
    "    model.add(layers.LSTM(20, return_sequences=True, activation='tanh'))\n",
    "    model.add(layers.LSTM(10, return_sequences=False, activation='tanh'))\n",
    "    model.add(layers.Dense(5, activation='relu'))\n",
    "    model.add(layers.Dense(5, activation='linear'))\n",
    "    \n",
    "  #  model.compile(loss='mse', \n",
    "  #                optimizer='rmsprop', \n",
    "  #                metrics=['mae'])\n",
    "    model.compile(loss='mse', \n",
    "                  optimizer=RMSprop(learning_rate=0.0003), \n",
    "                  metrics=['mae'])\n",
    "    \n",
    "    return model"
   ]
  },
  {
   "cell_type": "code",
   "execution_count": 36,
   "id": "5e08ca45",
   "metadata": {},
   "outputs": [
    {
     "ename": "ValueError",
     "evalue": "Data cardinality is ambiguous:\n  x sizes: 1\n  y sizes: 460\nMake sure all arrays contain the same number of samples.",
     "output_type": "error",
     "traceback": [
      "\u001b[0;31m---------------------------------------------------------------------------\u001b[0m",
      "\u001b[0;31mValueError\u001b[0m                                Traceback (most recent call last)",
      "\u001b[0;32m/var/folders/rl/l0hlsnhd3_zcy_9mm8jb32n00000gn/T/ipykernel_40639/3378071866.py\u001b[0m in \u001b[0;36m<module>\u001b[0;34m\u001b[0m\n\u001b[1;32m      1\u001b[0m \u001b[0;31m# Fitting the RNN to the Training set\u001b[0m\u001b[0;34m\u001b[0m\u001b[0;34m\u001b[0m\u001b[0;34m\u001b[0m\u001b[0m\n\u001b[1;32m      2\u001b[0m \u001b[0mtesla_model\u001b[0m \u001b[0;34m=\u001b[0m \u001b[0minit_article_model\u001b[0m\u001b[0;34m(\u001b[0m\u001b[0;34m)\u001b[0m\u001b[0;34m\u001b[0m\u001b[0;34m\u001b[0m\u001b[0m\n\u001b[0;32m----> 3\u001b[0;31m \u001b[0mfitted\u001b[0m \u001b[0;34m=\u001b[0m \u001b[0mtesla_model\u001b[0m\u001b[0;34m.\u001b[0m\u001b[0mfit\u001b[0m\u001b[0;34m(\u001b[0m\u001b[0mX_train\u001b[0m\u001b[0;34m,\u001b[0m \u001b[0my_train\u001b[0m\u001b[0;34m,\u001b[0m \u001b[0mepochs\u001b[0m \u001b[0;34m=\u001b[0m \u001b[0;36m5\u001b[0m\u001b[0;34m,\u001b[0m \u001b[0mbatch_size\u001b[0m \u001b[0;34m=\u001b[0m \u001b[0;36m12\u001b[0m\u001b[0;34m)\u001b[0m\u001b[0;34m\u001b[0m\u001b[0;34m\u001b[0m\u001b[0m\n\u001b[0m",
      "\u001b[0;32m~/.pyenv/versions/3.8.6/envs/next_trend/lib/python3.8/site-packages/tensorflow/python/keras/engine/training.py\u001b[0m in \u001b[0;36mfit\u001b[0;34m(self, x, y, batch_size, epochs, verbose, callbacks, validation_split, validation_data, shuffle, class_weight, sample_weight, initial_epoch, steps_per_epoch, validation_steps, validation_batch_size, validation_freq, max_queue_size, workers, use_multiprocessing)\u001b[0m\n\u001b[1;32m   1131\u001b[0m          \u001b[0mtraining_utils\u001b[0m\u001b[0;34m.\u001b[0m\u001b[0mRespectCompiledTrainableState\u001b[0m\u001b[0;34m(\u001b[0m\u001b[0mself\u001b[0m\u001b[0;34m)\u001b[0m\u001b[0;34m:\u001b[0m\u001b[0;34m\u001b[0m\u001b[0;34m\u001b[0m\u001b[0m\n\u001b[1;32m   1132\u001b[0m       \u001b[0;31m# Creates a `tf.data.Dataset` and handles batch and epoch iteration.\u001b[0m\u001b[0;34m\u001b[0m\u001b[0;34m\u001b[0m\u001b[0;34m\u001b[0m\u001b[0m\n\u001b[0;32m-> 1133\u001b[0;31m       data_handler = data_adapter.get_data_handler(\n\u001b[0m\u001b[1;32m   1134\u001b[0m           \u001b[0mx\u001b[0m\u001b[0;34m=\u001b[0m\u001b[0mx\u001b[0m\u001b[0;34m,\u001b[0m\u001b[0;34m\u001b[0m\u001b[0;34m\u001b[0m\u001b[0m\n\u001b[1;32m   1135\u001b[0m           \u001b[0my\u001b[0m\u001b[0;34m=\u001b[0m\u001b[0my\u001b[0m\u001b[0;34m,\u001b[0m\u001b[0;34m\u001b[0m\u001b[0;34m\u001b[0m\u001b[0m\n",
      "\u001b[0;32m~/.pyenv/versions/3.8.6/envs/next_trend/lib/python3.8/site-packages/tensorflow/python/keras/engine/data_adapter.py\u001b[0m in \u001b[0;36mget_data_handler\u001b[0;34m(*args, **kwargs)\u001b[0m\n\u001b[1;32m   1362\u001b[0m   \u001b[0;32mif\u001b[0m \u001b[0mgetattr\u001b[0m\u001b[0;34m(\u001b[0m\u001b[0mkwargs\u001b[0m\u001b[0;34m[\u001b[0m\u001b[0;34m\"model\"\u001b[0m\u001b[0;34m]\u001b[0m\u001b[0;34m,\u001b[0m \u001b[0;34m\"_cluster_coordinator\"\u001b[0m\u001b[0;34m,\u001b[0m \u001b[0;32mNone\u001b[0m\u001b[0;34m)\u001b[0m\u001b[0;34m:\u001b[0m\u001b[0;34m\u001b[0m\u001b[0;34m\u001b[0m\u001b[0m\n\u001b[1;32m   1363\u001b[0m     \u001b[0;32mreturn\u001b[0m \u001b[0m_ClusterCoordinatorDataHandler\u001b[0m\u001b[0;34m(\u001b[0m\u001b[0;34m*\u001b[0m\u001b[0margs\u001b[0m\u001b[0;34m,\u001b[0m \u001b[0;34m**\u001b[0m\u001b[0mkwargs\u001b[0m\u001b[0;34m)\u001b[0m\u001b[0;34m\u001b[0m\u001b[0;34m\u001b[0m\u001b[0m\n\u001b[0;32m-> 1364\u001b[0;31m   \u001b[0;32mreturn\u001b[0m \u001b[0mDataHandler\u001b[0m\u001b[0;34m(\u001b[0m\u001b[0;34m*\u001b[0m\u001b[0margs\u001b[0m\u001b[0;34m,\u001b[0m \u001b[0;34m**\u001b[0m\u001b[0mkwargs\u001b[0m\u001b[0;34m)\u001b[0m\u001b[0;34m\u001b[0m\u001b[0;34m\u001b[0m\u001b[0m\n\u001b[0m\u001b[1;32m   1365\u001b[0m \u001b[0;34m\u001b[0m\u001b[0m\n\u001b[1;32m   1366\u001b[0m \u001b[0;34m\u001b[0m\u001b[0m\n",
      "\u001b[0;32m~/.pyenv/versions/3.8.6/envs/next_trend/lib/python3.8/site-packages/tensorflow/python/keras/engine/data_adapter.py\u001b[0m in \u001b[0;36m__init__\u001b[0;34m(self, x, y, sample_weight, batch_size, steps_per_epoch, initial_epoch, epochs, shuffle, class_weight, max_queue_size, workers, use_multiprocessing, model, steps_per_execution, distribute)\u001b[0m\n\u001b[1;32m   1152\u001b[0m     \u001b[0madapter_cls\u001b[0m \u001b[0;34m=\u001b[0m \u001b[0mselect_data_adapter\u001b[0m\u001b[0;34m(\u001b[0m\u001b[0mx\u001b[0m\u001b[0;34m,\u001b[0m \u001b[0my\u001b[0m\u001b[0;34m)\u001b[0m\u001b[0;34m\u001b[0m\u001b[0;34m\u001b[0m\u001b[0m\n\u001b[1;32m   1153\u001b[0m     \u001b[0mself\u001b[0m\u001b[0;34m.\u001b[0m\u001b[0m_verify_data_adapter_compatibility\u001b[0m\u001b[0;34m(\u001b[0m\u001b[0madapter_cls\u001b[0m\u001b[0;34m)\u001b[0m\u001b[0;34m\u001b[0m\u001b[0;34m\u001b[0m\u001b[0m\n\u001b[0;32m-> 1154\u001b[0;31m     self._adapter = adapter_cls(\n\u001b[0m\u001b[1;32m   1155\u001b[0m         \u001b[0mx\u001b[0m\u001b[0;34m,\u001b[0m\u001b[0;34m\u001b[0m\u001b[0;34m\u001b[0m\u001b[0m\n\u001b[1;32m   1156\u001b[0m         \u001b[0my\u001b[0m\u001b[0;34m,\u001b[0m\u001b[0;34m\u001b[0m\u001b[0;34m\u001b[0m\u001b[0m\n",
      "\u001b[0;32m~/.pyenv/versions/3.8.6/envs/next_trend/lib/python3.8/site-packages/tensorflow/python/keras/engine/data_adapter.py\u001b[0m in \u001b[0;36m__init__\u001b[0;34m(self, x, y, sample_weights, sample_weight_modes, batch_size, epochs, steps, shuffle, **kwargs)\u001b[0m\n\u001b[1;32m    256\u001b[0m \u001b[0;34m\u001b[0m\u001b[0m\n\u001b[1;32m    257\u001b[0m     \u001b[0mnum_samples\u001b[0m \u001b[0;34m=\u001b[0m \u001b[0mset\u001b[0m\u001b[0;34m(\u001b[0m\u001b[0mint\u001b[0m\u001b[0;34m(\u001b[0m\u001b[0mi\u001b[0m\u001b[0;34m.\u001b[0m\u001b[0mshape\u001b[0m\u001b[0;34m[\u001b[0m\u001b[0;36m0\u001b[0m\u001b[0;34m]\u001b[0m\u001b[0;34m)\u001b[0m \u001b[0;32mfor\u001b[0m \u001b[0mi\u001b[0m \u001b[0;32min\u001b[0m \u001b[0mnest\u001b[0m\u001b[0;34m.\u001b[0m\u001b[0mflatten\u001b[0m\u001b[0;34m(\u001b[0m\u001b[0minputs\u001b[0m\u001b[0;34m)\u001b[0m\u001b[0;34m)\u001b[0m\u001b[0;34m.\u001b[0m\u001b[0mpop\u001b[0m\u001b[0;34m(\u001b[0m\u001b[0;34m)\u001b[0m\u001b[0;34m\u001b[0m\u001b[0;34m\u001b[0m\u001b[0m\n\u001b[0;32m--> 258\u001b[0;31m     \u001b[0m_check_data_cardinality\u001b[0m\u001b[0;34m(\u001b[0m\u001b[0minputs\u001b[0m\u001b[0;34m)\u001b[0m\u001b[0;34m\u001b[0m\u001b[0;34m\u001b[0m\u001b[0m\n\u001b[0m\u001b[1;32m    259\u001b[0m \u001b[0;34m\u001b[0m\u001b[0m\n\u001b[1;32m    260\u001b[0m     \u001b[0;31m# If batch_size is not passed but steps is, calculate from the input data.\u001b[0m\u001b[0;34m\u001b[0m\u001b[0;34m\u001b[0m\u001b[0;34m\u001b[0m\u001b[0m\n",
      "\u001b[0;32m~/.pyenv/versions/3.8.6/envs/next_trend/lib/python3.8/site-packages/tensorflow/python/keras/engine/data_adapter.py\u001b[0m in \u001b[0;36m_check_data_cardinality\u001b[0;34m(data)\u001b[0m\n\u001b[1;32m   1628\u001b[0m           label, \", \".join(str(i.shape[0]) for i in nest.flatten(single_data)))\n\u001b[1;32m   1629\u001b[0m     \u001b[0mmsg\u001b[0m \u001b[0;34m+=\u001b[0m \u001b[0;34m\"Make sure all arrays contain the same number of samples.\"\u001b[0m\u001b[0;34m\u001b[0m\u001b[0;34m\u001b[0m\u001b[0m\n\u001b[0;32m-> 1630\u001b[0;31m     \u001b[0;32mraise\u001b[0m \u001b[0mValueError\u001b[0m\u001b[0;34m(\u001b[0m\u001b[0mmsg\u001b[0m\u001b[0;34m)\u001b[0m\u001b[0;34m\u001b[0m\u001b[0;34m\u001b[0m\u001b[0m\n\u001b[0m\u001b[1;32m   1631\u001b[0m \u001b[0;34m\u001b[0m\u001b[0m\n\u001b[1;32m   1632\u001b[0m \u001b[0;34m\u001b[0m\u001b[0m\n",
      "\u001b[0;31mValueError\u001b[0m: Data cardinality is ambiguous:\n  x sizes: 1\n  y sizes: 460\nMake sure all arrays contain the same number of samples."
     ]
    }
   ],
   "source": [
    "# Fitting the RNN to the Training set\n",
    "tesla_model = init_article_model()\n",
    "fitted = tesla_model.fit(X_train, y_train, epochs = 5, batch_size = 12)"
   ]
  },
  {
   "cell_type": "code",
   "execution_count": null,
   "id": "f04f8900",
   "metadata": {},
   "outputs": [],
   "source": [
    "X_test = X[560:577]\n",
    "X_test"
   ]
  },
  {
   "cell_type": "code",
   "execution_count": null,
   "id": "5dd23aee",
   "metadata": {},
   "outputs": [],
   "source": [
    "# # Getting the predicted stock price of 2017\n",
    "# dataset_train = X.iloc[:780, :]\n",
    "# dataset_test = y.iloc[780,:]\n",
    "# dataset_total = pd.concat((dataset_train, dataset_test), axis = 0)\n",
    "# # inputs = dataset_total[len(dataset_total) - len(dataset_test) - 60:].values\n",
    "# # inputs = inputs.reshape(-1,1)\n",
    "# # inputs = sc.transform(inputs)\n",
    "# # X_test = []\n",
    "# for i in range(60, 519):\n",
    "#     X_test.append(inputs[i-60:i, 0])\n",
    "# X_test = np.array(X_test)\n",
    "# X_test = np.reshape(X_test, (X_test.shape[0], X_test.shape[1], 1))\n",
    "# print(X_test.shape)"
   ]
  },
  {
   "cell_type": "code",
   "execution_count": null,
   "id": "c4819414",
   "metadata": {},
   "outputs": [],
   "source": [
    "len(X)"
   ]
  },
  {
   "cell_type": "code",
   "execution_count": null,
   "id": "702b9672",
   "metadata": {},
   "outputs": [],
   "source": [
    "len(X_train)"
   ]
  },
  {
   "cell_type": "code",
   "execution_count": null,
   "id": "f7a3fcd7",
   "metadata": {},
   "outputs": [],
   "source": [
    "X_test = []\n",
    "y_test = []\n",
    "for i in range(560, len(X)):\n",
    "    X_test.append(X[i-30:i])\n",
    "    y_test.append(y[i])"
   ]
  },
  {
   "cell_type": "code",
   "execution_count": null,
   "id": "3a03ecf6",
   "metadata": {},
   "outputs": [],
   "source": [
    "X_test = np.array(X_test)\n",
    "X_test"
   ]
  },
  {
   "cell_type": "code",
   "execution_count": null,
   "id": "4a7be047",
   "metadata": {},
   "outputs": [],
   "source": [
    "X_test.shape"
   ]
  },
  {
   "cell_type": "code",
   "execution_count": null,
   "id": "6075fb5e",
   "metadata": {},
   "outputs": [],
   "source": [
    "X_test"
   ]
  },
  {
   "cell_type": "code",
   "execution_count": null,
   "id": "36bf5a03",
   "metadata": {},
   "outputs": [],
   "source": [
    "np.array(X_test).shape"
   ]
  },
  {
   "cell_type": "code",
   "execution_count": null,
   "id": "c8519ff3",
   "metadata": {},
   "outputs": [],
   "source": [
    "np.array(y_test).shape"
   ]
  },
  {
   "cell_type": "code",
   "execution_count": null,
   "id": "c60f471b",
   "metadata": {},
   "outputs": [],
   "source": [
    "X_train.shape"
   ]
  },
  {
   "cell_type": "code",
   "execution_count": null,
   "id": "b4a3ddbb",
   "metadata": {},
   "outputs": [],
   "source": [
    "y_df = pd.DataFrame(y)\n"
   ]
  },
  {
   "cell_type": "code",
   "execution_count": null,
   "id": "c9b6ccb4",
   "metadata": {},
   "outputs": [],
   "source": [
    "y_df.describe()"
   ]
  },
  {
   "cell_type": "code",
   "execution_count": null,
   "id": "5081c4cf",
   "metadata": {},
   "outputs": [],
   "source": [
    "tesla_model.predict(X_test)"
   ]
  },
  {
   "cell_type": "code",
   "execution_count": null,
   "id": "0ee3914b",
   "metadata": {},
   "outputs": [],
   "source": [
    "tesla_model.predict(X_test).shape"
   ]
  }
 ],
 "metadata": {
  "kernelspec": {
   "display_name": "Python 3 (ipykernel)",
   "language": "python",
   "name": "python3"
  },
  "language_info": {
   "codemirror_mode": {
    "name": "ipython",
    "version": 3
   },
   "file_extension": ".py",
   "mimetype": "text/x-python",
   "name": "python",
   "nbconvert_exporter": "python",
   "pygments_lexer": "ipython3",
   "version": "3.8.6"
  }
 },
 "nbformat": 4,
 "nbformat_minor": 5
}
