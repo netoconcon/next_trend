{
 "cells": [
  {
   "cell_type": "code",
   "execution_count": 1,
   "id": "a39ae00f",
   "metadata": {
    "id": "a39ae00f"
   },
   "outputs": [],
   "source": [
    "# canonical import\n",
    "import pandas as pd"
   ]
  },
  {
   "cell_type": "markdown",
   "id": "9ea7b3e7",
   "metadata": {
    "id": "9ea7b3e7"
   },
   "source": [
    "# importing data and dropping na"
   ]
  },
  {
   "cell_type": "code",
   "execution_count": 4,
   "id": "ksmlmtk9EObE",
   "metadata": {
    "colab": {
     "base_uri": "https://localhost:8080/",
     "height": 75,
     "resources": {
      "http://localhost:8080/nbextensions/google.colab/files.js": {
       "data": "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",
       "headers": [
        [
         "content-type",
         "application/javascript"
        ]
       ],
       "ok": true,
       "status": 200,
       "status_text": "OK"
      }
     }
    },
    "id": "ksmlmtk9EObE",
    "outputId": "e1eea598-713f-4e48-b48f-c79f92610809"
   },
   "outputs": [
    {
     "data": {
      "text/html": [
       "\n",
       "     <input type=\"file\" id=\"files-14c2f844-8d13-4607-87cd-655fb4ccf7c2\" name=\"files[]\" multiple disabled\n",
       "        style=\"border:none\" />\n",
       "     <output id=\"result-14c2f844-8d13-4607-87cd-655fb4ccf7c2\">\n",
       "      Upload widget is only available when the cell has been executed in the\n",
       "      current browser session. Please rerun this cell to enable.\n",
       "      </output>\n",
       "      <script src=\"/nbextensions/google.colab/files.js\"></script> "
      ],
      "text/plain": [
       "<IPython.core.display.HTML object>"
      ]
     },
     "metadata": {
      "tags": []
     },
     "output_type": "display_data"
    },
    {
     "name": "stdout",
     "output_type": "stream",
     "text": [
      "Saving GME.csv to GME.csv\n"
     ]
    }
   ],
   "source": [
    "from google.colab import files\n",
    "uploaded = files.upload()"
   ]
  },
  {
   "cell_type": "code",
   "execution_count": 3,
   "id": "b21a3332",
   "metadata": {
    "id": "b21a3332"
   },
   "outputs": [],
   "source": [
    "reddit_df = pd.read_csv('reddit_with_sentiments_finbert.csv')\n",
    "reddit_df = reddit_df.dropna()\n"
   ]
  },
  {
   "cell_type": "code",
   "execution_count": 5,
   "id": "66ia_VFTdZeE",
   "metadata": {
    "colab": {
     "base_uri": "https://localhost:8080/"
    },
    "id": "66ia_VFTdZeE",
    "outputId": "a6cf7e41-dbcf-40fc-fce1-f9eaa5f4b486"
   },
   "outputs": [
    {
     "name": "stdout",
     "output_type": "stream",
     "text": [
      "<class 'pandas.core.frame.DataFrame'>\n",
      "RangeIndex: 253 entries, 0 to 252\n",
      "Data columns (total 7 columns):\n",
      " #   Column     Non-Null Count  Dtype  \n",
      "---  ------     --------------  -----  \n",
      " 0   Date       253 non-null    object \n",
      " 1   Open       253 non-null    float64\n",
      " 2   High       253 non-null    float64\n",
      " 3   Low        253 non-null    float64\n",
      " 4   Close      253 non-null    float64\n",
      " 5   Adj Close  253 non-null    float64\n",
      " 6   Volume     253 non-null    int64  \n",
      "dtypes: float64(5), int64(1), object(1)\n",
      "memory usage: 14.0+ KB\n"
     ]
    }
   ],
   "source": [
    "gme_df = pd.read_csv('GME.csv')\n",
    "gme_df.info()"
   ]
  },
  {
   "cell_type": "code",
   "execution_count": 6,
   "id": "aR5_Co8ZuZEb",
   "metadata": {
    "colab": {
     "base_uri": "https://localhost:8080/"
    },
    "id": "aR5_Co8ZuZEb",
    "outputId": "9e33370d-0a91-48d5-f28f-eb7e1638bd04"
   },
   "outputs": [
    {
     "data": {
      "text/plain": [
       "253"
      ]
     },
     "execution_count": 6,
     "metadata": {
      "tags": []
     },
     "output_type": "execute_result"
    }
   ],
   "source": [
    "gme_df['Date'].nunique()"
   ]
  },
  {
   "cell_type": "code",
   "execution_count": 7,
   "id": "m0bYBeXJEiQL",
   "metadata": {
    "colab": {
     "base_uri": "https://localhost:8080/",
     "height": 1000
    },
    "id": "m0bYBeXJEiQL",
    "outputId": "a8116e09-57d8-4a32-90f0-1c9f8047bd47"
   },
   "outputs": [
    {
     "data": {
      "text/html": [
       "<div>\n",
       "<style scoped>\n",
       "    .dataframe tbody tr th:only-of-type {\n",
       "        vertical-align: middle;\n",
       "    }\n",
       "\n",
       "    .dataframe tbody tr th {\n",
       "        vertical-align: top;\n",
       "    }\n",
       "\n",
       "    .dataframe thead th {\n",
       "        text-align: right;\n",
       "    }\n",
       "</style>\n",
       "<table border=\"1\" class=\"dataframe\">\n",
       "  <thead>\n",
       "    <tr style=\"text-align: right;\">\n",
       "      <th></th>\n",
       "      <th>Unnamed: 0</th>\n",
       "      <th>title</th>\n",
       "      <th>score</th>\n",
       "      <th>id</th>\n",
       "      <th>url</th>\n",
       "      <th>comms_num</th>\n",
       "      <th>created</th>\n",
       "      <th>body</th>\n",
       "      <th>timestamp</th>\n",
       "      <th>body_unidecode</th>\n",
       "      <th>title_unidecode</th>\n",
       "      <th>stock_body</th>\n",
       "      <th>stock_title</th>\n",
       "      <th>body_size</th>\n",
       "      <th>title_sentiment_fin</th>\n",
       "      <th>body_sentiment</th>\n",
       "    </tr>\n",
       "  </thead>\n",
       "  <tbody>\n",
       "    <tr>\n",
       "      <th>4</th>\n",
       "      <td>12</td>\n",
       "      <td>Once you're done with GME - $AG and $SLV, the ...</td>\n",
       "      <td>0</td>\n",
       "      <td>l6u9wu</td>\n",
       "      <td>https://www.reddit.com/r/wallstreetbets/commen...</td>\n",
       "      <td>16</td>\n",
       "      <td>1.611861e+09</td>\n",
       "      <td>You guys are champs. GME... who would have tho...</td>\n",
       "      <td>2021-01-28 21:17:10</td>\n",
       "      <td>You guys are champs. GME... who would have tho...</td>\n",
       "      <td>Once you're done with GME - $AG and $SLV, the ...</td>\n",
       "      <td>GME</td>\n",
       "      <td>GME</td>\n",
       "      <td>260</td>\n",
       "      <td>neutral</td>\n",
       "      <td>neutral</td>\n",
       "    </tr>\n",
       "    <tr>\n",
       "      <th>5</th>\n",
       "      <td>13</td>\n",
       "      <td>$GME price has nothing to do with fundamentals...</td>\n",
       "      <td>382</td>\n",
       "      <td>l6u96y</td>\n",
       "      <td>https://www.reddit.com/r/wallstreetbets/commen...</td>\n",
       "      <td>61</td>\n",
       "      <td>1.611861e+09</td>\n",
       "      <td>Firstly, all of you diamond hands and smooth-b...</td>\n",
       "      <td>2021-01-28 21:15:58</td>\n",
       "      <td>Firstly, all of you diamond hands and smooth-b...</td>\n",
       "      <td>$GME price has nothing to do with fundamentals...</td>\n",
       "      <td>GME</td>\n",
       "      <td>GME</td>\n",
       "      <td>946</td>\n",
       "      <td>neutral</td>\n",
       "      <td>neutral</td>\n",
       "    </tr>\n",
       "    <tr>\n",
       "      <th>7</th>\n",
       "      <td>35</td>\n",
       "      <td>My brokerage wants to force close my GME calls</td>\n",
       "      <td>560</td>\n",
       "      <td>l6te9s</td>\n",
       "      <td>https://www.reddit.com/r/wallstreetbets/commen...</td>\n",
       "      <td>215</td>\n",
       "      <td>1.611858e+09</td>\n",
       "      <td>My brokerage called me and asked me to close m...</td>\n",
       "      <td>2021-01-28 20:18:32</td>\n",
       "      <td>My brokerage called me and asked me to close m...</td>\n",
       "      <td>My brokerage wants to force close my GME calls</td>\n",
       "      <td>GME</td>\n",
       "      <td>GME</td>\n",
       "      <td>248</td>\n",
       "      <td>negative</td>\n",
       "      <td>neutral</td>\n",
       "    </tr>\n",
       "    <tr>\n",
       "      <th>10</th>\n",
       "      <td>46</td>\n",
       "      <td>The real price for GME is infinity, but at tha...</td>\n",
       "      <td>235</td>\n",
       "      <td>l6t34h</td>\n",
       "      <td>https://www.reddit.com/r/wallstreetbets/commen...</td>\n",
       "      <td>120</td>\n",
       "      <td>1.611857e+09</td>\n",
       "      <td>Lets imagine GME has gone to 50,000. The marke...</td>\n",
       "      <td>2021-01-28 19:57:53</td>\n",
       "      <td>Lets imagine GME has gone to 50,000. The marke...</td>\n",
       "      <td>The real price for GME is infinity, but at tha...</td>\n",
       "      <td>GME</td>\n",
       "      <td>GME</td>\n",
       "      <td>206</td>\n",
       "      <td>neutral</td>\n",
       "      <td>neutral</td>\n",
       "    </tr>\n",
       "    <tr>\n",
       "      <th>18</th>\n",
       "      <td>67</td>\n",
       "      <td>Help an NRI (Indian) get on board the GME spac...</td>\n",
       "      <td>70</td>\n",
       "      <td>l6s977</td>\n",
       "      <td>https://www.reddit.com/r/wallstreetbets/commen...</td>\n",
       "      <td>74</td>\n",
       "      <td>1.611853e+09</td>\n",
       "      <td>Hello guys, \\n\\nI am new to the subreddit and ...</td>\n",
       "      <td>2021-01-28 19:00:16</td>\n",
       "      <td>Hello guys, \\n\\nI am new to the subreddit and ...</td>\n",
       "      <td>Help an NRI (Indian) get on board the GME spac...</td>\n",
       "      <td>GME</td>\n",
       "      <td>GME</td>\n",
       "      <td>101</td>\n",
       "      <td>neutral</td>\n",
       "      <td>neutral</td>\n",
       "    </tr>\n",
       "    <tr>\n",
       "      <th>...</th>\n",
       "      <td>...</td>\n",
       "      <td>...</td>\n",
       "      <td>...</td>\n",
       "      <td>...</td>\n",
       "      <td>...</td>\n",
       "      <td>...</td>\n",
       "      <td>...</td>\n",
       "      <td>...</td>\n",
       "      <td>...</td>\n",
       "      <td>...</td>\n",
       "      <td>...</td>\n",
       "      <td>...</td>\n",
       "      <td>...</td>\n",
       "      <td>...</td>\n",
       "      <td>...</td>\n",
       "      <td>...</td>\n",
       "    </tr>\n",
       "    <tr>\n",
       "      <th>6820</th>\n",
       "      <td>50107</td>\n",
       "      <td>Daily option statistics for WISH, CLOV, TSLA, ...</td>\n",
       "      <td>545</td>\n",
       "      <td>o7e1pj</td>\n",
       "      <td>https://www.reddit.com/r/wallstreetbets/commen...</td>\n",
       "      <td>149</td>\n",
       "      <td>1.624615e+09</td>\n",
       "      <td>Hey everyone,\\n\\nHere is the daily option stat...</td>\n",
       "      <td>2021-06-25 13:00:17</td>\n",
       "      <td>Hey everyone,\\n\\nHere is the daily option stat...</td>\n",
       "      <td>Daily option statistics for WISH, CLOV, TSLA, ...</td>\n",
       "      <td>GME</td>\n",
       "      <td>GME</td>\n",
       "      <td>120</td>\n",
       "      <td>neutral</td>\n",
       "      <td>neutral</td>\n",
       "    </tr>\n",
       "    <tr>\n",
       "      <th>6824</th>\n",
       "      <td>50243</td>\n",
       "      <td>Short Analysis for $WISH, $CLOV, $UWMC, $SPCE,...</td>\n",
       "      <td>769</td>\n",
       "      <td>o6rr8z</td>\n",
       "      <td>https://www.reddit.com/r/wallstreetbets/commen...</td>\n",
       "      <td>302</td>\n",
       "      <td>1.624531e+09</td>\n",
       "      <td>This post provides an updated snapshot of the ...</td>\n",
       "      <td>2021-06-24 13:34:13</td>\n",
       "      <td>This post provides an updated snapshot of the ...</td>\n",
       "      <td>Short Analysis for $WISH, $CLOV, $UWMC, $SPCE,...</td>\n",
       "      <td>GME</td>\n",
       "      <td>GME</td>\n",
       "      <td>198</td>\n",
       "      <td>neutral</td>\n",
       "      <td>neutral</td>\n",
       "    </tr>\n",
       "    <tr>\n",
       "      <th>6825</th>\n",
       "      <td>50245</td>\n",
       "      <td>Daily option statistics for CLOV, WISH, AMC, W...</td>\n",
       "      <td>524</td>\n",
       "      <td>o6rcv1</td>\n",
       "      <td>https://www.reddit.com/r/wallstreetbets/commen...</td>\n",
       "      <td>149</td>\n",
       "      <td>1.624529e+09</td>\n",
       "      <td>Hey guys, \\n\\nSorry for the delay. I have been...</td>\n",
       "      <td>2021-06-24 13:10:03</td>\n",
       "      <td>Hey guys, \\n\\nSorry for the delay. I have been...</td>\n",
       "      <td>Daily option statistics for CLOV, WISH, AMC, W...</td>\n",
       "      <td>GME</td>\n",
       "      <td>GME</td>\n",
       "      <td>135</td>\n",
       "      <td>neutral</td>\n",
       "      <td>neutral</td>\n",
       "    </tr>\n",
       "    <tr>\n",
       "      <th>6830</th>\n",
       "      <td>50452</td>\n",
       "      <td>Daily options statistics for WISH, CLOV, AMC, ...</td>\n",
       "      <td>945</td>\n",
       "      <td>o5vyg0</td>\n",
       "      <td>https://www.reddit.com/r/wallstreetbets/commen...</td>\n",
       "      <td>315</td>\n",
       "      <td>1.624421e+09</td>\n",
       "      <td>Hey guys,\\n\\nIts time for the daily option sta...</td>\n",
       "      <td>2021-06-23 07:04:52</td>\n",
       "      <td>Hey guys,\\n\\nIts time for the daily option sta...</td>\n",
       "      <td>Daily options statistics for WISH, CLOV, AMC, ...</td>\n",
       "      <td>GME</td>\n",
       "      <td>GME</td>\n",
       "      <td>158</td>\n",
       "      <td>neutral</td>\n",
       "      <td>neutral</td>\n",
       "    </tr>\n",
       "    <tr>\n",
       "      <th>6835</th>\n",
       "      <td>50607</td>\n",
       "      <td>Daily option statistics for WISH, AMC, BB, GME...</td>\n",
       "      <td>501</td>\n",
       "      <td>o542tb</td>\n",
       "      <td>https://www.reddit.com/r/wallstreetbets/commen...</td>\n",
       "      <td>152</td>\n",
       "      <td>1.624335e+09</td>\n",
       "      <td>Hey guys,\\n\\nIts time for the daily option sta...</td>\n",
       "      <td>2021-06-22 07:02:45</td>\n",
       "      <td>Hey guys,\\n\\nIts time for the daily option sta...</td>\n",
       "      <td>Daily option statistics for WISH, AMC, BB, GME...</td>\n",
       "      <td>GME</td>\n",
       "      <td>GME</td>\n",
       "      <td>131</td>\n",
       "      <td>neutral</td>\n",
       "      <td>negative</td>\n",
       "    </tr>\n",
       "  </tbody>\n",
       "</table>\n",
       "<p>2159 rows × 16 columns</p>\n",
       "</div>"
      ],
      "text/plain": [
       "      Unnamed: 0  ... body_sentiment\n",
       "4             12  ...        neutral\n",
       "5             13  ...        neutral\n",
       "7             35  ...        neutral\n",
       "10            46  ...        neutral\n",
       "18            67  ...        neutral\n",
       "...          ...  ...            ...\n",
       "6820       50107  ...        neutral\n",
       "6824       50243  ...        neutral\n",
       "6825       50245  ...        neutral\n",
       "6830       50452  ...        neutral\n",
       "6835       50607  ...       negative\n",
       "\n",
       "[2159 rows x 16 columns]"
      ]
     },
     "execution_count": 7,
     "metadata": {
      "tags": []
     },
     "output_type": "execute_result"
    }
   ],
   "source": [
    "reddit_df"
   ]
  },
  {
   "cell_type": "code",
   "execution_count": 37,
   "id": "uPO24EoqE9YM",
   "metadata": {
    "colab": {
     "base_uri": "https://localhost:8080/",
     "height": 36
    },
    "id": "uPO24EoqE9YM",
    "outputId": "6de69a70-fd44-423e-927f-dd181762cd72"
   },
   "outputs": [
    {
     "data": {
      "application/vnd.google.colaboratory.intrinsic+json": {
       "type": "string"
      },
      "text/plain": [
       "'2021-01-28 21:17:10'"
      ]
     },
     "execution_count": 37,
     "metadata": {
      "tags": []
     },
     "output_type": "execute_result"
    }
   ],
   "source": []
  },
  {
   "cell_type": "code",
   "execution_count": 8,
   "id": "uhj2Ug8WSQTW",
   "metadata": {
    "id": "uhj2Ug8WSQTW"
   },
   "outputs": [],
   "source": [
    "sentiment_df=pd.DataFrame()"
   ]
  },
  {
   "cell_type": "code",
   "execution_count": 9,
   "id": "tvt7J03oSZRZ",
   "metadata": {
    "id": "tvt7J03oSZRZ"
   },
   "outputs": [],
   "source": [
    "def classifying_sentiments(x):\n",
    "  if x =='positive':\n",
    "    return 1\n",
    "  if x =='neutral':\n",
    "    return 0\n",
    "  return -1"
   ]
  },
  {
   "cell_type": "code",
   "execution_count": 12,
   "id": "EnqZo5LtTF4Z",
   "metadata": {
    "id": "EnqZo5LtTF4Z"
   },
   "outputs": [],
   "source": [
    "reddit_df['classifying_sentiments_title'] = reddit_df['title_sentiment_fin'].map(lambda x: classifying_sentiments(x))\n",
    "reddit_df['classifying_sentiments_body'] = reddit_df['body_sentiment'].map(lambda x: classifying_sentiments(x))"
   ]
  },
  {
   "cell_type": "code",
   "execution_count": 13,
   "id": "dDLAAhW9Tl5e",
   "metadata": {
    "id": "dDLAAhW9Tl5e"
   },
   "outputs": [],
   "source": [
    "#from datetime import datetime\n",
    "reddit_df['day'] = reddit_df['timestamp'].map(lambda x: x.split(\" \")[0])\n",
    "reddit_df['hour'] = reddit_df['timestamp'].map(lambda x: x.split(\" \")[1])"
   ]
  },
  {
   "cell_type": "code",
   "execution_count": 14,
   "id": "i3NNRiluSsEG",
   "metadata": {
    "colab": {
     "base_uri": "https://localhost:8080/",
     "height": 486
    },
    "id": "i3NNRiluSsEG",
    "outputId": "d314bb7a-0f45-49ce-f441-5fd2ec12f0b2"
   },
   "outputs": [
    {
     "data": {
      "text/html": [
       "<div>\n",
       "<style scoped>\n",
       "    .dataframe tbody tr th:only-of-type {\n",
       "        vertical-align: middle;\n",
       "    }\n",
       "\n",
       "    .dataframe tbody tr th {\n",
       "        vertical-align: top;\n",
       "    }\n",
       "\n",
       "    .dataframe thead tr th {\n",
       "        text-align: left;\n",
       "    }\n",
       "\n",
       "    .dataframe thead tr:last-of-type th {\n",
       "        text-align: right;\n",
       "    }\n",
       "</style>\n",
       "<table border=\"1\" class=\"dataframe\">\n",
       "  <thead>\n",
       "    <tr>\n",
       "      <th></th>\n",
       "      <th colspan=\"2\" halign=\"left\">score</th>\n",
       "      <th colspan=\"2\" halign=\"left\">classifying_sentiments_title</th>\n",
       "    </tr>\n",
       "    <tr>\n",
       "      <th></th>\n",
       "      <th>sum</th>\n",
       "      <th>mean</th>\n",
       "      <th>sum</th>\n",
       "      <th>mean</th>\n",
       "    </tr>\n",
       "    <tr>\n",
       "      <th>day</th>\n",
       "      <th></th>\n",
       "      <th></th>\n",
       "      <th></th>\n",
       "      <th></th>\n",
       "    </tr>\n",
       "  </thead>\n",
       "  <tbody>\n",
       "    <tr>\n",
       "      <th>2021-01-28</th>\n",
       "      <td>19641</td>\n",
       "      <td>338.637931</td>\n",
       "      <td>-3</td>\n",
       "      <td>-0.051724</td>\n",
       "    </tr>\n",
       "    <tr>\n",
       "      <th>2021-01-29</th>\n",
       "      <td>302906</td>\n",
       "      <td>535.169611</td>\n",
       "      <td>-47</td>\n",
       "      <td>-0.083039</td>\n",
       "    </tr>\n",
       "    <tr>\n",
       "      <th>2021-01-30</th>\n",
       "      <td>319377</td>\n",
       "      <td>3397.627660</td>\n",
       "      <td>-9</td>\n",
       "      <td>-0.095745</td>\n",
       "    </tr>\n",
       "    <tr>\n",
       "      <th>2021-01-31</th>\n",
       "      <td>243896</td>\n",
       "      <td>2622.537634</td>\n",
       "      <td>-5</td>\n",
       "      <td>-0.053763</td>\n",
       "    </tr>\n",
       "    <tr>\n",
       "      <th>2021-02-01</th>\n",
       "      <td>179067</td>\n",
       "      <td>2487.041667</td>\n",
       "      <td>-7</td>\n",
       "      <td>-0.097222</td>\n",
       "    </tr>\n",
       "    <tr>\n",
       "      <th>...</th>\n",
       "      <td>...</td>\n",
       "      <td>...</td>\n",
       "      <td>...</td>\n",
       "      <td>...</td>\n",
       "    </tr>\n",
       "    <tr>\n",
       "      <th>2021-06-22</th>\n",
       "      <td>501</td>\n",
       "      <td>501.000000</td>\n",
       "      <td>0</td>\n",
       "      <td>0.000000</td>\n",
       "    </tr>\n",
       "    <tr>\n",
       "      <th>2021-06-23</th>\n",
       "      <td>945</td>\n",
       "      <td>945.000000</td>\n",
       "      <td>0</td>\n",
       "      <td>0.000000</td>\n",
       "    </tr>\n",
       "    <tr>\n",
       "      <th>2021-06-24</th>\n",
       "      <td>1293</td>\n",
       "      <td>646.500000</td>\n",
       "      <td>0</td>\n",
       "      <td>0.000000</td>\n",
       "    </tr>\n",
       "    <tr>\n",
       "      <th>2021-06-25</th>\n",
       "      <td>545</td>\n",
       "      <td>545.000000</td>\n",
       "      <td>0</td>\n",
       "      <td>0.000000</td>\n",
       "    </tr>\n",
       "    <tr>\n",
       "      <th>2021-06-26</th>\n",
       "      <td>309</td>\n",
       "      <td>309.000000</td>\n",
       "      <td>0</td>\n",
       "      <td>0.000000</td>\n",
       "    </tr>\n",
       "  </tbody>\n",
       "</table>\n",
       "<p>98 rows × 4 columns</p>\n",
       "</div>"
      ],
      "text/plain": [
       "             score              classifying_sentiments_title          \n",
       "               sum         mean                          sum      mean\n",
       "day                                                                   \n",
       "2021-01-28   19641   338.637931                           -3 -0.051724\n",
       "2021-01-29  302906   535.169611                          -47 -0.083039\n",
       "2021-01-30  319377  3397.627660                           -9 -0.095745\n",
       "2021-01-31  243896  2622.537634                           -5 -0.053763\n",
       "2021-02-01  179067  2487.041667                           -7 -0.097222\n",
       "...            ...          ...                          ...       ...\n",
       "2021-06-22     501   501.000000                            0  0.000000\n",
       "2021-06-23     945   945.000000                            0  0.000000\n",
       "2021-06-24    1293   646.500000                            0  0.000000\n",
       "2021-06-25     545   545.000000                            0  0.000000\n",
       "2021-06-26     309   309.000000                            0  0.000000\n",
       "\n",
       "[98 rows x 4 columns]"
      ]
     },
     "execution_count": 14,
     "metadata": {
      "tags": []
     },
     "output_type": "execute_result"
    }
   ],
   "source": [
    "import numpy as np\n",
    "reddit_df.groupby('day').agg({'score': [np.sum, np.mean], 'classifying_sentiments_title':[np.sum, np.mean]})"
   ]
  },
  {
   "cell_type": "code",
   "execution_count": 15,
   "id": "jkOnSHPyi1XQ",
   "metadata": {
    "id": "jkOnSHPyi1XQ"
   },
   "outputs": [],
   "source": [
    "reddit_df['datetime'] = pd.to_datetime(reddit_df['timestamp'])"
   ]
  },
  {
   "cell_type": "code",
   "execution_count": 16,
   "id": "tw5qXI0DjGoD",
   "metadata": {
    "id": "tw5qXI0DjGoD"
   },
   "outputs": [],
   "source": [
    "reddit_df['day'] = reddit_df['datetime'].dt.date"
   ]
  },
  {
   "cell_type": "code",
   "execution_count": 17,
   "id": "Gp9mQlvcfHuc",
   "metadata": {
    "colab": {
     "base_uri": "https://localhost:8080/",
     "height": 402
    },
    "id": "Gp9mQlvcfHuc",
    "outputId": "1592b2ea-c98f-4018-c86f-48b4181a644e"
   },
   "outputs": [
    {
     "ename": "ValueError",
     "evalue": "ignored",
     "output_type": "error",
     "traceback": [
      "\u001b[0;31m---------------------------------------------------------------------------\u001b[0m",
      "\u001b[0;31mValueError\u001b[0m                                Traceback (most recent call last)",
      "\u001b[0;32m<ipython-input-17-9759f265cf47>\u001b[0m in \u001b[0;36m<module>\u001b[0;34m()\u001b[0m\n\u001b[1;32m      1\u001b[0m \u001b[0;32mfrom\u001b[0m \u001b[0mdatetime\u001b[0m \u001b[0;32mimport\u001b[0m \u001b[0mdatetime\u001b[0m\u001b[0;34m\u001b[0m\u001b[0;34m\u001b[0m\u001b[0m\n\u001b[0;32m----> 2\u001b[0;31m \u001b[0mreddit_df\u001b[0m\u001b[0;34m[\u001b[0m\u001b[0;34m'day'\u001b[0m\u001b[0;34m]\u001b[0m \u001b[0;34m=\u001b[0m \u001b[0mreddit_df\u001b[0m\u001b[0;34m[\u001b[0m\u001b[0;34m'timestamp'\u001b[0m\u001b[0;34m]\u001b[0m\u001b[0;34m.\u001b[0m\u001b[0mmap\u001b[0m\u001b[0;34m(\u001b[0m\u001b[0;32mlambda\u001b[0m \u001b[0mx\u001b[0m\u001b[0;34m:\u001b[0m \u001b[0mdatetime\u001b[0m\u001b[0;34m.\u001b[0m\u001b[0mstrptime\u001b[0m\u001b[0;34m(\u001b[0m\u001b[0mx\u001b[0m\u001b[0;34m,\u001b[0m\u001b[0;34m'%y-%m-%d %H:%M:%S'\u001b[0m\u001b[0;34m)\u001b[0m\u001b[0;34m)\u001b[0m\u001b[0;34m\u001b[0m\u001b[0;34m\u001b[0m\u001b[0m\n\u001b[0m\u001b[1;32m      3\u001b[0m \u001b[0;31m#date_time_obj = datetime. strptime(date_time_str, '%d/%m/%y %H:%M:%S')\u001b[0m\u001b[0;34m\u001b[0m\u001b[0;34m\u001b[0m\u001b[0;34m\u001b[0m\u001b[0m\n",
      "\u001b[0;32m/usr/local/lib/python3.7/dist-packages/pandas/core/series.py\u001b[0m in \u001b[0;36mmap\u001b[0;34m(self, arg, na_action)\u001b[0m\n\u001b[1;32m   3981\u001b[0m         \u001b[0mdtype\u001b[0m\u001b[0;34m:\u001b[0m \u001b[0mobject\u001b[0m\u001b[0;34m\u001b[0m\u001b[0;34m\u001b[0m\u001b[0m\n\u001b[1;32m   3982\u001b[0m         \"\"\"\n\u001b[0;32m-> 3983\u001b[0;31m         \u001b[0mnew_values\u001b[0m \u001b[0;34m=\u001b[0m \u001b[0msuper\u001b[0m\u001b[0;34m(\u001b[0m\u001b[0;34m)\u001b[0m\u001b[0;34m.\u001b[0m\u001b[0m_map_values\u001b[0m\u001b[0;34m(\u001b[0m\u001b[0marg\u001b[0m\u001b[0;34m,\u001b[0m \u001b[0mna_action\u001b[0m\u001b[0;34m=\u001b[0m\u001b[0mna_action\u001b[0m\u001b[0;34m)\u001b[0m\u001b[0;34m\u001b[0m\u001b[0;34m\u001b[0m\u001b[0m\n\u001b[0m\u001b[1;32m   3984\u001b[0m         return self._constructor(new_values, index=self.index).__finalize__(\n\u001b[1;32m   3985\u001b[0m             \u001b[0mself\u001b[0m\u001b[0;34m,\u001b[0m \u001b[0mmethod\u001b[0m\u001b[0;34m=\u001b[0m\u001b[0;34m\"map\"\u001b[0m\u001b[0;34m\u001b[0m\u001b[0;34m\u001b[0m\u001b[0m\n",
      "\u001b[0;32m/usr/local/lib/python3.7/dist-packages/pandas/core/base.py\u001b[0m in \u001b[0;36m_map_values\u001b[0;34m(self, mapper, na_action)\u001b[0m\n\u001b[1;32m   1158\u001b[0m \u001b[0;34m\u001b[0m\u001b[0m\n\u001b[1;32m   1159\u001b[0m         \u001b[0;31m# mapper is a function\u001b[0m\u001b[0;34m\u001b[0m\u001b[0;34m\u001b[0m\u001b[0;34m\u001b[0m\u001b[0m\n\u001b[0;32m-> 1160\u001b[0;31m         \u001b[0mnew_values\u001b[0m \u001b[0;34m=\u001b[0m \u001b[0mmap_f\u001b[0m\u001b[0;34m(\u001b[0m\u001b[0mvalues\u001b[0m\u001b[0;34m,\u001b[0m \u001b[0mmapper\u001b[0m\u001b[0;34m)\u001b[0m\u001b[0;34m\u001b[0m\u001b[0;34m\u001b[0m\u001b[0m\n\u001b[0m\u001b[1;32m   1161\u001b[0m \u001b[0;34m\u001b[0m\u001b[0m\n\u001b[1;32m   1162\u001b[0m         \u001b[0;32mreturn\u001b[0m \u001b[0mnew_values\u001b[0m\u001b[0;34m\u001b[0m\u001b[0;34m\u001b[0m\u001b[0m\n",
      "\u001b[0;32mpandas/_libs/lib.pyx\u001b[0m in \u001b[0;36mpandas._libs.lib.map_infer\u001b[0;34m()\u001b[0m\n",
      "\u001b[0;32m<ipython-input-17-9759f265cf47>\u001b[0m in \u001b[0;36m<lambda>\u001b[0;34m(x)\u001b[0m\n\u001b[1;32m      1\u001b[0m \u001b[0;32mfrom\u001b[0m \u001b[0mdatetime\u001b[0m \u001b[0;32mimport\u001b[0m \u001b[0mdatetime\u001b[0m\u001b[0;34m\u001b[0m\u001b[0;34m\u001b[0m\u001b[0m\n\u001b[0;32m----> 2\u001b[0;31m \u001b[0mreddit_df\u001b[0m\u001b[0;34m[\u001b[0m\u001b[0;34m'day'\u001b[0m\u001b[0;34m]\u001b[0m \u001b[0;34m=\u001b[0m \u001b[0mreddit_df\u001b[0m\u001b[0;34m[\u001b[0m\u001b[0;34m'timestamp'\u001b[0m\u001b[0;34m]\u001b[0m\u001b[0;34m.\u001b[0m\u001b[0mmap\u001b[0m\u001b[0;34m(\u001b[0m\u001b[0;32mlambda\u001b[0m \u001b[0mx\u001b[0m\u001b[0;34m:\u001b[0m \u001b[0mdatetime\u001b[0m\u001b[0;34m.\u001b[0m\u001b[0mstrptime\u001b[0m\u001b[0;34m(\u001b[0m\u001b[0mx\u001b[0m\u001b[0;34m,\u001b[0m\u001b[0;34m'%y-%m-%d %H:%M:%S'\u001b[0m\u001b[0;34m)\u001b[0m\u001b[0;34m)\u001b[0m\u001b[0;34m\u001b[0m\u001b[0;34m\u001b[0m\u001b[0m\n\u001b[0m\u001b[1;32m      3\u001b[0m \u001b[0;31m#date_time_obj = datetime. strptime(date_time_str, '%d/%m/%y %H:%M:%S')\u001b[0m\u001b[0;34m\u001b[0m\u001b[0;34m\u001b[0m\u001b[0;34m\u001b[0m\u001b[0m\n",
      "\u001b[0;32m/usr/lib/python3.7/_strptime.py\u001b[0m in \u001b[0;36m_strptime_datetime\u001b[0;34m(cls, data_string, format)\u001b[0m\n\u001b[1;32m    575\u001b[0m     \"\"\"Return a class cls instance based on the input string and the\n\u001b[1;32m    576\u001b[0m     format string.\"\"\"\n\u001b[0;32m--> 577\u001b[0;31m     \u001b[0mtt\u001b[0m\u001b[0;34m,\u001b[0m \u001b[0mfraction\u001b[0m\u001b[0;34m,\u001b[0m \u001b[0mgmtoff_fraction\u001b[0m \u001b[0;34m=\u001b[0m \u001b[0m_strptime\u001b[0m\u001b[0;34m(\u001b[0m\u001b[0mdata_string\u001b[0m\u001b[0;34m,\u001b[0m \u001b[0mformat\u001b[0m\u001b[0;34m)\u001b[0m\u001b[0;34m\u001b[0m\u001b[0;34m\u001b[0m\u001b[0m\n\u001b[0m\u001b[1;32m    578\u001b[0m     \u001b[0mtzname\u001b[0m\u001b[0;34m,\u001b[0m \u001b[0mgmtoff\u001b[0m \u001b[0;34m=\u001b[0m \u001b[0mtt\u001b[0m\u001b[0;34m[\u001b[0m\u001b[0;34m-\u001b[0m\u001b[0;36m2\u001b[0m\u001b[0;34m:\u001b[0m\u001b[0;34m]\u001b[0m\u001b[0;34m\u001b[0m\u001b[0;34m\u001b[0m\u001b[0m\n\u001b[1;32m    579\u001b[0m     \u001b[0margs\u001b[0m \u001b[0;34m=\u001b[0m \u001b[0mtt\u001b[0m\u001b[0;34m[\u001b[0m\u001b[0;34m:\u001b[0m\u001b[0;36m6\u001b[0m\u001b[0;34m]\u001b[0m \u001b[0;34m+\u001b[0m \u001b[0;34m(\u001b[0m\u001b[0mfraction\u001b[0m\u001b[0;34m,\u001b[0m\u001b[0;34m)\u001b[0m\u001b[0;34m\u001b[0m\u001b[0;34m\u001b[0m\u001b[0m\n",
      "\u001b[0;32m/usr/lib/python3.7/_strptime.py\u001b[0m in \u001b[0;36m_strptime\u001b[0;34m(data_string, format)\u001b[0m\n\u001b[1;32m    357\u001b[0m     \u001b[0;32mif\u001b[0m \u001b[0;32mnot\u001b[0m \u001b[0mfound\u001b[0m\u001b[0;34m:\u001b[0m\u001b[0;34m\u001b[0m\u001b[0;34m\u001b[0m\u001b[0m\n\u001b[1;32m    358\u001b[0m         raise ValueError(\"time data %r does not match format %r\" %\n\u001b[0;32m--> 359\u001b[0;31m                          (data_string, format))\n\u001b[0m\u001b[1;32m    360\u001b[0m     \u001b[0;32mif\u001b[0m \u001b[0mlen\u001b[0m\u001b[0;34m(\u001b[0m\u001b[0mdata_string\u001b[0m\u001b[0;34m)\u001b[0m \u001b[0;34m!=\u001b[0m \u001b[0mfound\u001b[0m\u001b[0;34m.\u001b[0m\u001b[0mend\u001b[0m\u001b[0;34m(\u001b[0m\u001b[0;34m)\u001b[0m\u001b[0;34m:\u001b[0m\u001b[0;34m\u001b[0m\u001b[0;34m\u001b[0m\u001b[0m\n\u001b[1;32m    361\u001b[0m         raise ValueError(\"unconverted data remains: %s\" %\n",
      "\u001b[0;31mValueError\u001b[0m: time data '2021-01-28 21:17:10' does not match format '%y-%m-%d %H:%M:%S'"
     ]
    }
   ],
   "source": [
    "from datetime import datetime\n",
    "reddit_df['day'] = reddit_df['timestamp'].map(lambda x: datetime.strptime(x,'%y-%m-%d %H:%M:%S'))\n",
    "#date_time_obj = datetime. strptime(date_time_str, '%d/%m/%y %H:%M:%S')"
   ]
  },
  {
   "cell_type": "code",
   "execution_count": 18,
   "id": "DmDg1ZvDUzB_",
   "metadata": {
    "colab": {
     "base_uri": "https://localhost:8080/"
    },
    "id": "DmDg1ZvDUzB_",
    "outputId": "251666df-8f02-4fa8-ffc5-58e3583c5bd4"
   },
   "outputs": [
    {
     "name": "stdout",
     "output_type": "stream",
     "text": [
      "<class 'pandas.core.frame.DataFrame'>\n",
      "Int64Index: 2159 entries, 4 to 6835\n",
      "Data columns (total 21 columns):\n",
      " #   Column                        Non-Null Count  Dtype         \n",
      "---  ------                        --------------  -----         \n",
      " 0   Unnamed: 0                    2159 non-null   int64         \n",
      " 1   title                         2159 non-null   object        \n",
      " 2   score                         2159 non-null   int64         \n",
      " 3   id                            2159 non-null   object        \n",
      " 4   url                           2159 non-null   object        \n",
      " 5   comms_num                     2159 non-null   int64         \n",
      " 6   created                       2159 non-null   float64       \n",
      " 7   body                          2159 non-null   object        \n",
      " 8   timestamp                     2159 non-null   object        \n",
      " 9   body_unidecode                2159 non-null   object        \n",
      " 10  title_unidecode               2159 non-null   object        \n",
      " 11  stock_body                    2159 non-null   object        \n",
      " 12  stock_title                   2159 non-null   object        \n",
      " 13  body_size                     2159 non-null   int64         \n",
      " 14  title_sentiment_fin           2159 non-null   object        \n",
      " 15  body_sentiment                2159 non-null   object        \n",
      " 16  classifying_sentiments_title  2159 non-null   int64         \n",
      " 17  classifying_sentiments_body   2159 non-null   int64         \n",
      " 18  day                           2159 non-null   object        \n",
      " 19  hour                          2159 non-null   object        \n",
      " 20  datetime                      2159 non-null   datetime64[ns]\n",
      "dtypes: datetime64[ns](1), float64(1), int64(6), object(13)\n",
      "memory usage: 451.1+ KB\n"
     ]
    }
   ],
   "source": [
    "reddit_df.info()"
   ]
  },
  {
   "cell_type": "code",
   "execution_count": 19,
   "id": "Yv28Y8-IkGBt",
   "metadata": {
    "id": "Yv28Y8-IkGBt"
   },
   "outputs": [],
   "source": [
    "reddit_df['time'] = reddit_df['datetime'].dt.time"
   ]
  },
  {
   "cell_type": "code",
   "execution_count": 20,
   "id": "oIJIbLB1Vrou",
   "metadata": {
    "colab": {
     "base_uri": "https://localhost:8080/"
    },
    "id": "oIJIbLB1Vrou",
    "outputId": "68540467-6480-4cc7-d587-4efd84d0ee37"
   },
   "outputs": [
    {
     "data": {
      "text/plain": [
       "4       21:17:10\n",
       "5       21:15:58\n",
       "7       20:18:32\n",
       "10      19:57:53\n",
       "18      19:00:16\n",
       "          ...   \n",
       "6820    13:00:17\n",
       "6824    13:34:13\n",
       "6825    13:10:03\n",
       "6830    07:04:52\n",
       "6835    07:02:45\n",
       "Name: time, Length: 2159, dtype: object"
      ]
     },
     "execution_count": 20,
     "metadata": {
      "tags": []
     },
     "output_type": "execute_result"
    }
   ],
   "source": [
    "reddit_df['time']"
   ]
  },
  {
   "cell_type": "code",
   "execution_count": 23,
   "id": "KjOjDEibmdPp",
   "metadata": {
    "colab": {
     "base_uri": "https://localhost:8080/",
     "height": 192
    },
    "id": "KjOjDEibmdPp",
    "outputId": "0d157c06-fb6a-4a92-9868-ffbf368cedda"
   },
   "outputs": [
    {
     "ename": "AttributeError",
     "evalue": "ignored",
     "output_type": "error",
     "traceback": [
      "\u001b[0;31m---------------------------------------------------------------------------\u001b[0m",
      "\u001b[0;31mAttributeError\u001b[0m                            Traceback (most recent call last)",
      "\u001b[0;32m<ipython-input-23-cd5d8715353e>\u001b[0m in \u001b[0;36m<module>\u001b[0;34m()\u001b[0m\n\u001b[0;32m----> 1\u001b[0;31m \u001b[0mdatetime\u001b[0m\u001b[0;34m.\u001b[0m\u001b[0mstrptime\u001b[0m\u001b[0;34m(\u001b[0m\u001b[0mreddit_df\u001b[0m\u001b[0;34m[\u001b[0m\u001b[0;34m'hour'\u001b[0m\u001b[0;34m]\u001b[0m\u001b[0;34m[\u001b[0m\u001b[0;36m4\u001b[0m\u001b[0;34m]\u001b[0m\u001b[0;34m,\u001b[0m \u001b[0;34m\"%H:%M:%S\"\u001b[0m\u001b[0;34m)\u001b[0m \u001b[0;34m>\u001b[0m \u001b[0mdatetime\u001b[0m\u001b[0;34m.\u001b[0m\u001b[0mdatetime\u001b[0m\u001b[0;34m.\u001b[0m\u001b[0mstrptime\u001b[0m\u001b[0;34m(\u001b[0m\u001b[0mhora\u001b[0m\u001b[0;34m,\u001b[0m \u001b[0;34m\"%H:%M:%S\"\u001b[0m\u001b[0;34m)\u001b[0m\u001b[0;34m\u001b[0m\u001b[0;34m\u001b[0m\u001b[0m\n\u001b[0m\u001b[1;32m      2\u001b[0m \u001b[0;31m#pd.datetime.time(pd.datetime(hora))\u001b[0m\u001b[0;34m\u001b[0m\u001b[0;34m\u001b[0m\u001b[0;34m\u001b[0m\u001b[0m\n",
      "\u001b[0;31mAttributeError\u001b[0m: type object 'datetime.datetime' has no attribute 'datetime'"
     ]
    }
   ],
   "source": [
    "#datetime.strptime(reddit_df['hour'][4], \"%H:%M:%S\") > datetime.datetime.strptime(hora, \"%H:%M:%S\")\n",
    "#pd.datetime.time(pd.datetime(hora))"
   ]
  },
  {
   "cell_type": "code",
   "execution_count": 21,
   "id": "YRtm3o_XVWIX",
   "metadata": {
    "colab": {
     "base_uri": "https://localhost:8080/",
     "height": 192
    },
    "id": "YRtm3o_XVWIX",
    "outputId": "ce1170cb-bfe7-494e-9cd5-b98492fb1de9"
   },
   "outputs": [
    {
     "ename": "AttributeError",
     "evalue": "ignored",
     "output_type": "error",
     "traceback": [
      "\u001b[0;31m---------------------------------------------------------------------------\u001b[0m",
      "\u001b[0;31mAttributeError\u001b[0m                            Traceback (most recent call last)",
      "\u001b[0;32m<ipython-input-21-cd5d8715353e>\u001b[0m in \u001b[0;36m<module>\u001b[0;34m()\u001b[0m\n\u001b[0;32m----> 1\u001b[0;31m \u001b[0mdatetime\u001b[0m\u001b[0;34m.\u001b[0m\u001b[0mstrptime\u001b[0m\u001b[0;34m(\u001b[0m\u001b[0mreddit_df\u001b[0m\u001b[0;34m[\u001b[0m\u001b[0;34m'hour'\u001b[0m\u001b[0;34m]\u001b[0m\u001b[0;34m[\u001b[0m\u001b[0;36m4\u001b[0m\u001b[0;34m]\u001b[0m\u001b[0;34m,\u001b[0m \u001b[0;34m\"%H:%M:%S\"\u001b[0m\u001b[0;34m)\u001b[0m \u001b[0;34m>\u001b[0m \u001b[0mdatetime\u001b[0m\u001b[0;34m.\u001b[0m\u001b[0mdatetime\u001b[0m\u001b[0;34m.\u001b[0m\u001b[0mstrptime\u001b[0m\u001b[0;34m(\u001b[0m\u001b[0mhora\u001b[0m\u001b[0;34m,\u001b[0m \u001b[0;34m\"%H:%M:%S\"\u001b[0m\u001b[0;34m)\u001b[0m\u001b[0;34m\u001b[0m\u001b[0;34m\u001b[0m\u001b[0m\n\u001b[0m\u001b[1;32m      2\u001b[0m \u001b[0;31m#pd.datetime.time(pd.datetime(hora))\u001b[0m\u001b[0;34m\u001b[0m\u001b[0;34m\u001b[0m\u001b[0;34m\u001b[0m\u001b[0m\n",
      "\u001b[0;31mAttributeError\u001b[0m: type object 'datetime.datetime' has no attribute 'datetime'"
     ]
    }
   ],
   "source": [
    "datetime.strptime(reddit_df['hour'][4], \"%H:%M:%S\") > datetime.datetime.strptime(hora, \"%H:%M:%S\")\n",
    "#pd.datetime.time(pd.datetime(hora))"
   ]
  },
  {
   "cell_type": "code",
   "execution_count": 27,
   "id": "3y9HizyvVYhf",
   "metadata": {
    "id": "3y9HizyvVYhf"
   },
   "outputs": [],
   "source": [
    "#time_string = \"09:29:59\""
   ]
  },
  {
   "cell_type": "code",
   "execution_count": 22,
   "id": "K3FQTJ78X1UW",
   "metadata": {
    "id": "K3FQTJ78X1UW"
   },
   "outputs": [],
   "source": [
    "import datetime\n",
    "from datetime import timedelta"
   ]
  },
  {
   "cell_type": "code",
   "execution_count": 23,
   "id": "ZK5VBBErXw9X",
   "metadata": {
    "id": "ZK5VBBErXw9X"
   },
   "outputs": [],
   "source": [
    "time_string = \"09:29:59\"\n",
    "hora_fim = datetime.datetime.strptime(time_string, \"%H:%M:%S\")"
   ]
  },
  {
   "cell_type": "code",
   "execution_count": 24,
   "id": "TSuU5k3ZZ_ux",
   "metadata": {
    "id": "TSuU5k3ZZ_ux"
   },
   "outputs": [],
   "source": [
    "#datetime.datetime.strptime(reddit_df['time'], \"%H:%M:%S\")\n",
    "reddit_df['time']=reddit_df['time'].apply(lambda x:datetime.datetime.strptime(str(x),\"%H:%M:%S\"))"
   ]
  },
  {
   "cell_type": "code",
   "execution_count": 25,
   "id": "ykbdKBEZajBP",
   "metadata": {
    "colab": {
     "base_uri": "https://localhost:8080/"
    },
    "id": "ykbdKBEZajBP",
    "outputId": "d296f943-ebb7-44f6-93a7-6ceeb7ba45e3"
   },
   "outputs": [
    {
     "name": "stdout",
     "output_type": "stream",
     "text": [
      "<class 'pandas.core.frame.DataFrame'>\n",
      "Int64Index: 2159 entries, 4 to 6835\n",
      "Data columns (total 22 columns):\n",
      " #   Column                        Non-Null Count  Dtype         \n",
      "---  ------                        --------------  -----         \n",
      " 0   Unnamed: 0                    2159 non-null   int64         \n",
      " 1   title                         2159 non-null   object        \n",
      " 2   score                         2159 non-null   int64         \n",
      " 3   id                            2159 non-null   object        \n",
      " 4   url                           2159 non-null   object        \n",
      " 5   comms_num                     2159 non-null   int64         \n",
      " 6   created                       2159 non-null   float64       \n",
      " 7   body                          2159 non-null   object        \n",
      " 8   timestamp                     2159 non-null   object        \n",
      " 9   body_unidecode                2159 non-null   object        \n",
      " 10  title_unidecode               2159 non-null   object        \n",
      " 11  stock_body                    2159 non-null   object        \n",
      " 12  stock_title                   2159 non-null   object        \n",
      " 13  body_size                     2159 non-null   int64         \n",
      " 14  title_sentiment_fin           2159 non-null   object        \n",
      " 15  body_sentiment                2159 non-null   object        \n",
      " 16  classifying_sentiments_title  2159 non-null   int64         \n",
      " 17  classifying_sentiments_body   2159 non-null   int64         \n",
      " 18  day                           2159 non-null   object        \n",
      " 19  hour                          2159 non-null   object        \n",
      " 20  datetime                      2159 non-null   datetime64[ns]\n",
      " 21  time                          2159 non-null   datetime64[ns]\n",
      "dtypes: datetime64[ns](2), float64(1), int64(6), object(13)\n",
      "memory usage: 467.9+ KB\n"
     ]
    }
   ],
   "source": [
    "reddit_df.info()"
   ]
  },
  {
   "cell_type": "code",
   "execution_count": 26,
   "id": "ITBNz4yQX6de",
   "metadata": {
    "colab": {
     "base_uri": "https://localhost:8080/"
    },
    "id": "ITBNz4yQX6de",
    "outputId": "6901c94f-c8bc-475f-e5b5-d321fe369664"
   },
   "outputs": [
    {
     "data": {
      "text/plain": [
       "4      2021-01-27 21:17:10\n",
       "5      2021-01-27 21:15:58\n",
       "7      2021-01-27 20:18:32\n",
       "10     2021-01-27 19:57:53\n",
       "18     2021-01-27 19:00:16\n",
       "               ...        \n",
       "6820   2021-06-24 13:00:17\n",
       "6824   2021-06-23 13:34:13\n",
       "6825   2021-06-23 13:10:03\n",
       "6830   2021-06-22 07:04:52\n",
       "6835   2021-06-21 07:02:45\n",
       "Name: datetime, Length: 2159, dtype: datetime64[ns]"
      ]
     },
     "execution_count": 26,
     "metadata": {
      "tags": []
     },
     "output_type": "execute_result"
    }
   ],
   "source": [
    "reddit_df['datetime']- timedelta(days=1)"
   ]
  },
  {
   "cell_type": "code",
   "execution_count": 27,
   "id": "cU9uCwJNZTS_",
   "metadata": {
    "colab": {
     "base_uri": "https://localhost:8080/"
    },
    "id": "cU9uCwJNZTS_",
    "outputId": "35fe8821-d0aa-42b9-f211-913435924bf2"
   },
   "outputs": [
    {
     "data": {
      "text/plain": [
       "74     2021-01-28 09:17:32\n",
       "75     2021-01-28 09:16:00\n",
       "81     2021-01-28 09:10:11\n",
       "85     2021-01-28 09:08:18\n",
       "214    2021-01-29 01:02:55\n",
       "               ...        \n",
       "6810   2021-06-19 02:09:36\n",
       "6814   2021-06-18 07:07:04\n",
       "6817   2021-06-26 07:54:35\n",
       "6830   2021-06-23 07:04:52\n",
       "6835   2021-06-22 07:02:45\n",
       "Name: datetime, Length: 1309, dtype: datetime64[ns]"
      ]
     },
     "execution_count": 27,
     "metadata": {
      "tags": []
     },
     "output_type": "execute_result"
    }
   ],
   "source": [
    "reddit_df.loc[(reddit_df['time']<hora_fim),'datetime']#=reddit_df['datetime']-timedelta(days=1)"
   ]
  },
  {
   "cell_type": "code",
   "execution_count": 28,
   "id": "c8YAatLgbuc7",
   "metadata": {
    "id": "c8YAatLgbuc7"
   },
   "outputs": [],
   "source": [
    "#group by por \n",
    "#reddit_df['day'] = reddit_df['timestamp'].map(lambda x: x.split(\" \")[0])\n",
    "reddit_day = reddit_df.groupby('day').agg({'score': [np.sum, np.mean], 'classifying_sentiments_title':[np.sum, np.mean]})"
   ]
  },
  {
   "cell_type": "code",
   "execution_count": 29,
   "id": "BMgVLvoKeO6Y",
   "metadata": {
    "colab": {
     "base_uri": "https://localhost:8080/"
    },
    "id": "BMgVLvoKeO6Y",
    "outputId": "c4b12de1-bb33-436d-c689-927c394d368a"
   },
   "outputs": [
    {
     "name": "stdout",
     "output_type": "stream",
     "text": [
      "<class 'pandas.core.frame.DataFrame'>\n",
      "Int64Index: 2159 entries, 4 to 6835\n",
      "Data columns (total 22 columns):\n",
      " #   Column                        Non-Null Count  Dtype         \n",
      "---  ------                        --------------  -----         \n",
      " 0   Unnamed: 0                    2159 non-null   int64         \n",
      " 1   title                         2159 non-null   object        \n",
      " 2   score                         2159 non-null   int64         \n",
      " 3   id                            2159 non-null   object        \n",
      " 4   url                           2159 non-null   object        \n",
      " 5   comms_num                     2159 non-null   int64         \n",
      " 6   created                       2159 non-null   float64       \n",
      " 7   body                          2159 non-null   object        \n",
      " 8   timestamp                     2159 non-null   object        \n",
      " 9   body_unidecode                2159 non-null   object        \n",
      " 10  title_unidecode               2159 non-null   object        \n",
      " 11  stock_body                    2159 non-null   object        \n",
      " 12  stock_title                   2159 non-null   object        \n",
      " 13  body_size                     2159 non-null   int64         \n",
      " 14  title_sentiment_fin           2159 non-null   object        \n",
      " 15  body_sentiment                2159 non-null   object        \n",
      " 16  classifying_sentiments_title  2159 non-null   int64         \n",
      " 17  classifying_sentiments_body   2159 non-null   int64         \n",
      " 18  day                           2159 non-null   object        \n",
      " 19  hour                          2159 non-null   object        \n",
      " 20  datetime                      2159 non-null   object        \n",
      " 21  time                          2159 non-null   datetime64[ns]\n",
      "dtypes: datetime64[ns](1), float64(1), int64(6), object(14)\n",
      "memory usage: 467.9+ KB\n"
     ]
    }
   ],
   "source": [
    "reddit_df['datetime']=reddit_df['datetime'].map(lambda x: str(x))\n",
    "reddit_df.info()"
   ]
  },
  {
   "cell_type": "code",
   "execution_count": 30,
   "id": "zuWKdfaKgJ1D",
   "metadata": {
    "colab": {
     "base_uri": "https://localhost:8080/"
    },
    "id": "zuWKdfaKgJ1D",
    "outputId": "286fb633-5961-4a30-ca0b-ac790a474f5e"
   },
   "outputs": [
    {
     "data": {
      "text/plain": [
       "2021-07-08    1\n",
       "2021-04-27    1\n",
       "2020-08-12    1\n",
       "2021-01-06    1\n",
       "2020-10-28    1\n",
       "             ..\n",
       "2020-11-19    1\n",
       "2021-03-09    1\n",
       "2020-08-06    1\n",
       "2020-11-23    1\n",
       "2020-12-02    1\n",
       "Name: Date, Length: 253, dtype: int64"
      ]
     },
     "execution_count": 30,
     "metadata": {
      "tags": []
     },
     "output_type": "execute_result"
    }
   ],
   "source": [
    "gme_df['Date'].value_counts()"
   ]
  },
  {
   "cell_type": "code",
   "execution_count": 31,
   "id": "2wINNBMydQHr",
   "metadata": {
    "id": "2wINNBMydQHr"
   },
   "outputs": [],
   "source": [
    "reddit_df['Date'] =reddit_df['datetime'].map(lambda x: x.split()[0])\n",
    "reddit_df = reddit_df.merge(gme_df, how='outer', on='Date')\n"
   ]
  },
  {
   "cell_type": "code",
   "execution_count": 127,
   "id": "lsk8CdH8ex9h",
   "metadata": {
    "colab": {
     "base_uri": "https://localhost:8080/",
     "height": 782
    },
    "id": "lsk8CdH8ex9h",
    "outputId": "5c7d09e0-dcb5-4684-b5bf-0e7e8a5c36d6"
   },
   "outputs": [
    {
     "data": {
      "text/html": [
       "<div>\n",
       "<style scoped>\n",
       "    .dataframe tbody tr th:only-of-type {\n",
       "        vertical-align: middle;\n",
       "    }\n",
       "\n",
       "    .dataframe tbody tr th {\n",
       "        vertical-align: top;\n",
       "    }\n",
       "\n",
       "    .dataframe thead th {\n",
       "        text-align: right;\n",
       "    }\n",
       "</style>\n",
       "<table border=\"1\" class=\"dataframe\">\n",
       "  <thead>\n",
       "    <tr style=\"text-align: right;\">\n",
       "      <th></th>\n",
       "      <th>Unnamed: 0</th>\n",
       "      <th>title</th>\n",
       "      <th>score</th>\n",
       "      <th>id</th>\n",
       "      <th>url</th>\n",
       "      <th>comms_num</th>\n",
       "      <th>created</th>\n",
       "      <th>body</th>\n",
       "      <th>timestamp</th>\n",
       "      <th>body_unidecode</th>\n",
       "      <th>title_unidecode</th>\n",
       "      <th>stock_body</th>\n",
       "      <th>stock_title</th>\n",
       "      <th>body_size</th>\n",
       "      <th>title_sentiment_fin</th>\n",
       "      <th>body_sentiment</th>\n",
       "      <th>classifying_sentiments_title</th>\n",
       "      <th>classifying_sentiments_body</th>\n",
       "      <th>day</th>\n",
       "      <th>hour</th>\n",
       "      <th>datetime</th>\n",
       "      <th>time</th>\n",
       "      <th>Date</th>\n",
       "      <th>Open</th>\n",
       "      <th>High</th>\n",
       "      <th>Low</th>\n",
       "      <th>Close</th>\n",
       "      <th>Adj Close</th>\n",
       "      <th>Volume</th>\n",
       "    </tr>\n",
       "  </thead>\n",
       "  <tbody>\n",
       "    <tr>\n",
       "      <th>0</th>\n",
       "      <td>12.0</td>\n",
       "      <td>Once you're done with GME - $AG and $SLV, the ...</td>\n",
       "      <td>0.0</td>\n",
       "      <td>l6u9wu</td>\n",
       "      <td>https://www.reddit.com/r/wallstreetbets/commen...</td>\n",
       "      <td>16.0</td>\n",
       "      <td>1.611861e+09</td>\n",
       "      <td>You guys are champs. GME... who would have tho...</td>\n",
       "      <td>2021-01-28 21:17:10</td>\n",
       "      <td>You guys are champs. GME... who would have tho...</td>\n",
       "      <td>Once you're done with GME - $AG and $SLV, the ...</td>\n",
       "      <td>GME</td>\n",
       "      <td>GME</td>\n",
       "      <td>260.0</td>\n",
       "      <td>neutral</td>\n",
       "      <td>neutral</td>\n",
       "      <td>0.0</td>\n",
       "      <td>0.0</td>\n",
       "      <td>2021-01-28</td>\n",
       "      <td>21:17:10</td>\n",
       "      <td>2021-01-28 21:17:10</td>\n",
       "      <td>1900-01-01 21:17:10</td>\n",
       "      <td>2021-01-28</td>\n",
       "      <td>265.0</td>\n",
       "      <td>483.0</td>\n",
       "      <td>112.25</td>\n",
       "      <td>193.600006</td>\n",
       "      <td>193.600006</td>\n",
       "      <td>58815800.0</td>\n",
       "    </tr>\n",
       "    <tr>\n",
       "      <th>1</th>\n",
       "      <td>13.0</td>\n",
       "      <td>$GME price has nothing to do with fundamentals...</td>\n",
       "      <td>382.0</td>\n",
       "      <td>l6u96y</td>\n",
       "      <td>https://www.reddit.com/r/wallstreetbets/commen...</td>\n",
       "      <td>61.0</td>\n",
       "      <td>1.611861e+09</td>\n",
       "      <td>Firstly, all of you diamond hands and smooth-b...</td>\n",
       "      <td>2021-01-28 21:15:58</td>\n",
       "      <td>Firstly, all of you diamond hands and smooth-b...</td>\n",
       "      <td>$GME price has nothing to do with fundamentals...</td>\n",
       "      <td>GME</td>\n",
       "      <td>GME</td>\n",
       "      <td>946.0</td>\n",
       "      <td>neutral</td>\n",
       "      <td>neutral</td>\n",
       "      <td>0.0</td>\n",
       "      <td>0.0</td>\n",
       "      <td>2021-01-28</td>\n",
       "      <td>21:15:58</td>\n",
       "      <td>2021-01-28 21:15:58</td>\n",
       "      <td>1900-01-01 21:15:58</td>\n",
       "      <td>2021-01-28</td>\n",
       "      <td>265.0</td>\n",
       "      <td>483.0</td>\n",
       "      <td>112.25</td>\n",
       "      <td>193.600006</td>\n",
       "      <td>193.600006</td>\n",
       "      <td>58815800.0</td>\n",
       "    </tr>\n",
       "    <tr>\n",
       "      <th>2</th>\n",
       "      <td>35.0</td>\n",
       "      <td>My brokerage wants to force close my GME calls</td>\n",
       "      <td>560.0</td>\n",
       "      <td>l6te9s</td>\n",
       "      <td>https://www.reddit.com/r/wallstreetbets/commen...</td>\n",
       "      <td>215.0</td>\n",
       "      <td>1.611858e+09</td>\n",
       "      <td>My brokerage called me and asked me to close m...</td>\n",
       "      <td>2021-01-28 20:18:32</td>\n",
       "      <td>My brokerage called me and asked me to close m...</td>\n",
       "      <td>My brokerage wants to force close my GME calls</td>\n",
       "      <td>GME</td>\n",
       "      <td>GME</td>\n",
       "      <td>248.0</td>\n",
       "      <td>negative</td>\n",
       "      <td>neutral</td>\n",
       "      <td>-1.0</td>\n",
       "      <td>0.0</td>\n",
       "      <td>2021-01-28</td>\n",
       "      <td>20:18:32</td>\n",
       "      <td>2021-01-28 20:18:32</td>\n",
       "      <td>1900-01-01 20:18:32</td>\n",
       "      <td>2021-01-28</td>\n",
       "      <td>265.0</td>\n",
       "      <td>483.0</td>\n",
       "      <td>112.25</td>\n",
       "      <td>193.600006</td>\n",
       "      <td>193.600006</td>\n",
       "      <td>58815800.0</td>\n",
       "    </tr>\n",
       "    <tr>\n",
       "      <th>3</th>\n",
       "      <td>46.0</td>\n",
       "      <td>The real price for GME is infinity, but at tha...</td>\n",
       "      <td>235.0</td>\n",
       "      <td>l6t34h</td>\n",
       "      <td>https://www.reddit.com/r/wallstreetbets/commen...</td>\n",
       "      <td>120.0</td>\n",
       "      <td>1.611857e+09</td>\n",
       "      <td>Lets imagine GME has gone to 50,000. The marke...</td>\n",
       "      <td>2021-01-28 19:57:53</td>\n",
       "      <td>Lets imagine GME has gone to 50,000. The marke...</td>\n",
       "      <td>The real price for GME is infinity, but at tha...</td>\n",
       "      <td>GME</td>\n",
       "      <td>GME</td>\n",
       "      <td>206.0</td>\n",
       "      <td>neutral</td>\n",
       "      <td>neutral</td>\n",
       "      <td>0.0</td>\n",
       "      <td>0.0</td>\n",
       "      <td>2021-01-28</td>\n",
       "      <td>19:57:53</td>\n",
       "      <td>2021-01-28 19:57:53</td>\n",
       "      <td>1900-01-01 19:57:53</td>\n",
       "      <td>2021-01-28</td>\n",
       "      <td>265.0</td>\n",
       "      <td>483.0</td>\n",
       "      <td>112.25</td>\n",
       "      <td>193.600006</td>\n",
       "      <td>193.600006</td>\n",
       "      <td>58815800.0</td>\n",
       "    </tr>\n",
       "    <tr>\n",
       "      <th>4</th>\n",
       "      <td>67.0</td>\n",
       "      <td>Help an NRI (Indian) get on board the GME spac...</td>\n",
       "      <td>70.0</td>\n",
       "      <td>l6s977</td>\n",
       "      <td>https://www.reddit.com/r/wallstreetbets/commen...</td>\n",
       "      <td>74.0</td>\n",
       "      <td>1.611853e+09</td>\n",
       "      <td>Hello guys, \\n\\nI am new to the subreddit and ...</td>\n",
       "      <td>2021-01-28 19:00:16</td>\n",
       "      <td>Hello guys, \\n\\nI am new to the subreddit and ...</td>\n",
       "      <td>Help an NRI (Indian) get on board the GME spac...</td>\n",
       "      <td>GME</td>\n",
       "      <td>GME</td>\n",
       "      <td>101.0</td>\n",
       "      <td>neutral</td>\n",
       "      <td>neutral</td>\n",
       "      <td>0.0</td>\n",
       "      <td>0.0</td>\n",
       "      <td>2021-01-28</td>\n",
       "      <td>19:00:16</td>\n",
       "      <td>2021-01-28 19:00:16</td>\n",
       "      <td>1900-01-01 19:00:16</td>\n",
       "      <td>2021-01-28</td>\n",
       "      <td>265.0</td>\n",
       "      <td>483.0</td>\n",
       "      <td>112.25</td>\n",
       "      <td>193.600006</td>\n",
       "      <td>193.600006</td>\n",
       "      <td>58815800.0</td>\n",
       "    </tr>\n",
       "  </tbody>\n",
       "</table>\n",
       "</div>"
      ],
      "text/plain": [
       "   Unnamed: 0  ...      Volume\n",
       "0        12.0  ...  58815800.0\n",
       "1        13.0  ...  58815800.0\n",
       "2        35.0  ...  58815800.0\n",
       "3        46.0  ...  58815800.0\n",
       "4        67.0  ...  58815800.0\n",
       "\n",
       "[5 rows x 29 columns]"
      ]
     },
     "execution_count": 127,
     "metadata": {
      "tags": []
     },
     "output_type": "execute_result"
    }
   ],
   "source": [
    "reddit_df.head()"
   ]
  },
  {
   "cell_type": "code",
   "execution_count": 32,
   "id": "axE3zOpBgauD",
   "metadata": {
    "colab": {
     "base_uri": "https://localhost:8080/",
     "height": 486
    },
    "id": "axE3zOpBgauD",
    "outputId": "b2b50ce9-2d6b-4ce2-e7a7-90d63a6693ff"
   },
   "outputs": [
    {
     "data": {
      "text/html": [
       "<div>\n",
       "<style scoped>\n",
       "    .dataframe tbody tr th:only-of-type {\n",
       "        vertical-align: middle;\n",
       "    }\n",
       "\n",
       "    .dataframe tbody tr th {\n",
       "        vertical-align: top;\n",
       "    }\n",
       "\n",
       "    .dataframe thead tr th {\n",
       "        text-align: left;\n",
       "    }\n",
       "\n",
       "    .dataframe thead tr:last-of-type th {\n",
       "        text-align: right;\n",
       "    }\n",
       "</style>\n",
       "<table border=\"1\" class=\"dataframe\">\n",
       "  <thead>\n",
       "    <tr>\n",
       "      <th></th>\n",
       "      <th colspan=\"2\" halign=\"left\">score</th>\n",
       "      <th colspan=\"2\" halign=\"left\">classifying_sentiments_title</th>\n",
       "      <th>Close</th>\n",
       "      <th>Volume</th>\n",
       "    </tr>\n",
       "    <tr>\n",
       "      <th></th>\n",
       "      <th>sum</th>\n",
       "      <th>mean</th>\n",
       "      <th>sum</th>\n",
       "      <th>mean</th>\n",
       "      <th>mean</th>\n",
       "      <th>mean</th>\n",
       "    </tr>\n",
       "    <tr>\n",
       "      <th>Date</th>\n",
       "      <th></th>\n",
       "      <th></th>\n",
       "      <th></th>\n",
       "      <th></th>\n",
       "      <th></th>\n",
       "      <th></th>\n",
       "    </tr>\n",
       "  </thead>\n",
       "  <tbody>\n",
       "    <tr>\n",
       "      <th>2020-07-22</th>\n",
       "      <td>0.0</td>\n",
       "      <td>NaN</td>\n",
       "      <td>0.0</td>\n",
       "      <td>NaN</td>\n",
       "      <td>4.110000</td>\n",
       "      <td>2523500.0</td>\n",
       "    </tr>\n",
       "    <tr>\n",
       "      <th>2020-07-23</th>\n",
       "      <td>0.0</td>\n",
       "      <td>NaN</td>\n",
       "      <td>0.0</td>\n",
       "      <td>NaN</td>\n",
       "      <td>4.110000</td>\n",
       "      <td>3237200.0</td>\n",
       "    </tr>\n",
       "    <tr>\n",
       "      <th>2020-07-24</th>\n",
       "      <td>0.0</td>\n",
       "      <td>NaN</td>\n",
       "      <td>0.0</td>\n",
       "      <td>NaN</td>\n",
       "      <td>4.030000</td>\n",
       "      <td>2215900.0</td>\n",
       "    </tr>\n",
       "    <tr>\n",
       "      <th>2020-07-27</th>\n",
       "      <td>0.0</td>\n",
       "      <td>NaN</td>\n",
       "      <td>0.0</td>\n",
       "      <td>NaN</td>\n",
       "      <td>4.010000</td>\n",
       "      <td>2472700.0</td>\n",
       "    </tr>\n",
       "    <tr>\n",
       "      <th>2020-07-28</th>\n",
       "      <td>0.0</td>\n",
       "      <td>NaN</td>\n",
       "      <td>0.0</td>\n",
       "      <td>NaN</td>\n",
       "      <td>3.940000</td>\n",
       "      <td>4555400.0</td>\n",
       "    </tr>\n",
       "    <tr>\n",
       "      <th>...</th>\n",
       "      <td>...</td>\n",
       "      <td>...</td>\n",
       "      <td>...</td>\n",
       "      <td>...</td>\n",
       "      <td>...</td>\n",
       "      <td>...</td>\n",
       "    </tr>\n",
       "    <tr>\n",
       "      <th>2021-07-16</th>\n",
       "      <td>0.0</td>\n",
       "      <td>NaN</td>\n",
       "      <td>0.0</td>\n",
       "      <td>NaN</td>\n",
       "      <td>169.039993</td>\n",
       "      <td>3278800.0</td>\n",
       "    </tr>\n",
       "    <tr>\n",
       "      <th>2021-07-19</th>\n",
       "      <td>0.0</td>\n",
       "      <td>NaN</td>\n",
       "      <td>0.0</td>\n",
       "      <td>NaN</td>\n",
       "      <td>173.490005</td>\n",
       "      <td>2436900.0</td>\n",
       "    </tr>\n",
       "    <tr>\n",
       "      <th>2021-07-20</th>\n",
       "      <td>0.0</td>\n",
       "      <td>NaN</td>\n",
       "      <td>0.0</td>\n",
       "      <td>NaN</td>\n",
       "      <td>191.179993</td>\n",
       "      <td>3094100.0</td>\n",
       "    </tr>\n",
       "    <tr>\n",
       "      <th>2021-07-21</th>\n",
       "      <td>0.0</td>\n",
       "      <td>NaN</td>\n",
       "      <td>0.0</td>\n",
       "      <td>NaN</td>\n",
       "      <td>185.809998</td>\n",
       "      <td>2225900.0</td>\n",
       "    </tr>\n",
       "    <tr>\n",
       "      <th>2021-07-22</th>\n",
       "      <td>0.0</td>\n",
       "      <td>NaN</td>\n",
       "      <td>0.0</td>\n",
       "      <td>NaN</td>\n",
       "      <td>178.850006</td>\n",
       "      <td>1389308.0</td>\n",
       "    </tr>\n",
       "  </tbody>\n",
       "</table>\n",
       "<p>281 rows × 6 columns</p>\n",
       "</div>"
      ],
      "text/plain": [
       "           score      classifying_sentiments_title            Close     Volume\n",
       "             sum mean                          sum mean        mean       mean\n",
       "Date                                                                          \n",
       "2020-07-22   0.0  NaN                          0.0  NaN    4.110000  2523500.0\n",
       "2020-07-23   0.0  NaN                          0.0  NaN    4.110000  3237200.0\n",
       "2020-07-24   0.0  NaN                          0.0  NaN    4.030000  2215900.0\n",
       "2020-07-27   0.0  NaN                          0.0  NaN    4.010000  2472700.0\n",
       "2020-07-28   0.0  NaN                          0.0  NaN    3.940000  4555400.0\n",
       "...          ...  ...                          ...  ...         ...        ...\n",
       "2021-07-16   0.0  NaN                          0.0  NaN  169.039993  3278800.0\n",
       "2021-07-19   0.0  NaN                          0.0  NaN  173.490005  2436900.0\n",
       "2021-07-20   0.0  NaN                          0.0  NaN  191.179993  3094100.0\n",
       "2021-07-21   0.0  NaN                          0.0  NaN  185.809998  2225900.0\n",
       "2021-07-22   0.0  NaN                          0.0  NaN  178.850006  1389308.0\n",
       "\n",
       "[281 rows x 6 columns]"
      ]
     },
     "execution_count": 32,
     "metadata": {
      "tags": []
     },
     "output_type": "execute_result"
    }
   ],
   "source": [
    "reddit_day = reddit_df.groupby('Date').agg({'score': [np.sum, np.mean], 'classifying_sentiments_title':[np.sum, np.mean],'Close':np.mean,'Volume':np.mean})\n",
    "reddit_day"
   ]
  },
  {
   "cell_type": "code",
   "execution_count": 65,
   "id": "y6SjctpPwKy3",
   "metadata": {
    "colab": {
     "base_uri": "https://localhost:8080/"
    },
    "id": "y6SjctpPwKy3",
    "outputId": "1968d90c-49df-42bf-ff14-9515db5331bf"
   },
   "outputs": [
    {
     "data": {
      "text/plain": [
       "11281.612099644128"
      ]
     },
     "execution_count": 65,
     "metadata": {
      "tags": []
     },
     "output_type": "execute_result"
    }
   ],
   "source": [
    "reddit_day['score_sum']"
   ]
  },
  {
   "cell_type": "code",
   "execution_count": 33,
   "id": "qN2-RZ8-gs7W",
   "metadata": {
    "colab": {
     "base_uri": "https://localhost:8080/",
     "height": 475
    },
    "id": "qN2-RZ8-gs7W",
    "outputId": "d5c1eabc-81b9-49d1-82b3-6f1dc6bebd1d"
   },
   "outputs": [
    {
     "data": {
      "text/html": [
       "<div>\n",
       "<style scoped>\n",
       "    .dataframe tbody tr th:only-of-type {\n",
       "        vertical-align: middle;\n",
       "    }\n",
       "\n",
       "    .dataframe tbody tr th {\n",
       "        vertical-align: top;\n",
       "    }\n",
       "\n",
       "    .dataframe thead th {\n",
       "        text-align: right;\n",
       "    }\n",
       "</style>\n",
       "<table border=\"1\" class=\"dataframe\">\n",
       "  <thead>\n",
       "    <tr style=\"text-align: right;\">\n",
       "      <th></th>\n",
       "      <th>score_sum</th>\n",
       "      <th>score_mean</th>\n",
       "      <th>classifying_sentiments_title_sum</th>\n",
       "      <th>classifying_sentiments_title_mean</th>\n",
       "      <th>Close_mean</th>\n",
       "      <th>Volume_mean</th>\n",
       "    </tr>\n",
       "    <tr>\n",
       "      <th>Date</th>\n",
       "      <th></th>\n",
       "      <th></th>\n",
       "      <th></th>\n",
       "      <th></th>\n",
       "      <th></th>\n",
       "      <th></th>\n",
       "    </tr>\n",
       "  </thead>\n",
       "  <tbody>\n",
       "    <tr>\n",
       "      <th>2020-07-22</th>\n",
       "      <td>0.0</td>\n",
       "      <td>NaN</td>\n",
       "      <td>0.0</td>\n",
       "      <td>NaN</td>\n",
       "      <td>4.110000</td>\n",
       "      <td>2523500.0</td>\n",
       "    </tr>\n",
       "    <tr>\n",
       "      <th>2020-07-23</th>\n",
       "      <td>0.0</td>\n",
       "      <td>NaN</td>\n",
       "      <td>0.0</td>\n",
       "      <td>NaN</td>\n",
       "      <td>4.110000</td>\n",
       "      <td>3237200.0</td>\n",
       "    </tr>\n",
       "    <tr>\n",
       "      <th>2020-07-24</th>\n",
       "      <td>0.0</td>\n",
       "      <td>NaN</td>\n",
       "      <td>0.0</td>\n",
       "      <td>NaN</td>\n",
       "      <td>4.030000</td>\n",
       "      <td>2215900.0</td>\n",
       "    </tr>\n",
       "    <tr>\n",
       "      <th>2020-07-27</th>\n",
       "      <td>0.0</td>\n",
       "      <td>NaN</td>\n",
       "      <td>0.0</td>\n",
       "      <td>NaN</td>\n",
       "      <td>4.010000</td>\n",
       "      <td>2472700.0</td>\n",
       "    </tr>\n",
       "    <tr>\n",
       "      <th>2020-07-28</th>\n",
       "      <td>0.0</td>\n",
       "      <td>NaN</td>\n",
       "      <td>0.0</td>\n",
       "      <td>NaN</td>\n",
       "      <td>3.940000</td>\n",
       "      <td>4555400.0</td>\n",
       "    </tr>\n",
       "    <tr>\n",
       "      <th>...</th>\n",
       "      <td>...</td>\n",
       "      <td>...</td>\n",
       "      <td>...</td>\n",
       "      <td>...</td>\n",
       "      <td>...</td>\n",
       "      <td>...</td>\n",
       "    </tr>\n",
       "    <tr>\n",
       "      <th>2021-07-16</th>\n",
       "      <td>0.0</td>\n",
       "      <td>NaN</td>\n",
       "      <td>0.0</td>\n",
       "      <td>NaN</td>\n",
       "      <td>169.039993</td>\n",
       "      <td>3278800.0</td>\n",
       "    </tr>\n",
       "    <tr>\n",
       "      <th>2021-07-19</th>\n",
       "      <td>0.0</td>\n",
       "      <td>NaN</td>\n",
       "      <td>0.0</td>\n",
       "      <td>NaN</td>\n",
       "      <td>173.490005</td>\n",
       "      <td>2436900.0</td>\n",
       "    </tr>\n",
       "    <tr>\n",
       "      <th>2021-07-20</th>\n",
       "      <td>0.0</td>\n",
       "      <td>NaN</td>\n",
       "      <td>0.0</td>\n",
       "      <td>NaN</td>\n",
       "      <td>191.179993</td>\n",
       "      <td>3094100.0</td>\n",
       "    </tr>\n",
       "    <tr>\n",
       "      <th>2021-07-21</th>\n",
       "      <td>0.0</td>\n",
       "      <td>NaN</td>\n",
       "      <td>0.0</td>\n",
       "      <td>NaN</td>\n",
       "      <td>185.809998</td>\n",
       "      <td>2225900.0</td>\n",
       "    </tr>\n",
       "    <tr>\n",
       "      <th>2021-07-22</th>\n",
       "      <td>0.0</td>\n",
       "      <td>NaN</td>\n",
       "      <td>0.0</td>\n",
       "      <td>NaN</td>\n",
       "      <td>178.850006</td>\n",
       "      <td>1389308.0</td>\n",
       "    </tr>\n",
       "  </tbody>\n",
       "</table>\n",
       "<p>281 rows × 6 columns</p>\n",
       "</div>"
      ],
      "text/plain": [
       "            score_sum  score_mean  ...  Close_mean  Volume_mean\n",
       "Date                               ...                         \n",
       "2020-07-22        0.0         NaN  ...    4.110000    2523500.0\n",
       "2020-07-23        0.0         NaN  ...    4.110000    3237200.0\n",
       "2020-07-24        0.0         NaN  ...    4.030000    2215900.0\n",
       "2020-07-27        0.0         NaN  ...    4.010000    2472700.0\n",
       "2020-07-28        0.0         NaN  ...    3.940000    4555400.0\n",
       "...               ...         ...  ...         ...          ...\n",
       "2021-07-16        0.0         NaN  ...  169.039993    3278800.0\n",
       "2021-07-19        0.0         NaN  ...  173.490005    2436900.0\n",
       "2021-07-20        0.0         NaN  ...  191.179993    3094100.0\n",
       "2021-07-21        0.0         NaN  ...  185.809998    2225900.0\n",
       "2021-07-22        0.0         NaN  ...  178.850006    1389308.0\n",
       "\n",
       "[281 rows x 6 columns]"
      ]
     },
     "execution_count": 33,
     "metadata": {
      "tags": []
     },
     "output_type": "execute_result"
    }
   ],
   "source": [
    "reddit_day.columns = ['_'.join(col) for col in reddit_day.columns]\n",
    "reddit_day"
   ]
  },
  {
   "cell_type": "code",
   "execution_count": 81,
   "id": "kAzzATlShxC6",
   "metadata": {
    "id": "kAzzATlShxC6"
   },
   "outputs": [],
   "source": [
    "reddit_day.to_csv('reddit_day.csv')"
   ]
  },
  {
   "cell_type": "code",
   "execution_count": 136,
   "id": "IR2dtCZWsLgG",
   "metadata": {
    "id": "IR2dtCZWsLgG"
   },
   "outputs": [],
   "source": [
    "reddit_day.columns = ['_'.join(col) for col in reddit_day.columns]"
   ]
  },
  {
   "cell_type": "code",
   "execution_count": 134,
   "id": "LS9pcKeV8lob",
   "metadata": {
    "colab": {
     "base_uri": "https://localhost:8080/"
    },
    "id": "LS9pcKeV8lob",
    "outputId": "b76d6f59-8b29-4475-ddcf-d670bb66dc81"
   },
   "outputs": [
    {
     "data": {
      "text/plain": [
       "Date\n",
       "2020-07-22      4.110000\n",
       "2020-07-23      4.110000\n",
       "2020-07-24      4.030000\n",
       "2020-07-27      4.010000\n",
       "2020-07-28      3.940000\n",
       "                 ...    \n",
       "2021-07-16    169.039993\n",
       "2021-07-19    173.490005\n",
       "2021-07-20    191.179993\n",
       "2021-07-21    185.809998\n",
       "2021-07-22    178.850006\n",
       "Name: mean, Length: 281, dtype: float64"
      ]
     },
     "execution_count": 134,
     "metadata": {
      "tags": []
     },
     "output_type": "execute_result"
    }
   ],
   "source": [
    "reddit_day['Close']['mean']"
   ]
  },
  {
   "cell_type": "code",
   "execution_count": 34,
   "id": "0PowmSbYsyrH",
   "metadata": {
    "id": "0PowmSbYsyrH"
   },
   "outputs": [],
   "source": [
    "reddit_day.fillna(-1000,inplace=True)"
   ]
  },
  {
   "cell_type": "code",
   "execution_count": 66,
   "id": "wzbbu_mww2Mc",
   "metadata": {
    "colab": {
     "base_uri": "https://localhost:8080/",
     "height": 486
    },
    "id": "wzbbu_mww2Mc",
    "outputId": "43c1dfbc-04e4-4f9c-b3e9-47a0e74cca35"
   },
   "outputs": [
    {
     "data": {
      "text/html": [
       "<div>\n",
       "<style scoped>\n",
       "    .dataframe tbody tr th:only-of-type {\n",
       "        vertical-align: middle;\n",
       "    }\n",
       "\n",
       "    .dataframe tbody tr th {\n",
       "        vertical-align: top;\n",
       "    }\n",
       "\n",
       "    .dataframe thead tr th {\n",
       "        text-align: left;\n",
       "    }\n",
       "\n",
       "    .dataframe thead tr:last-of-type th {\n",
       "        text-align: right;\n",
       "    }\n",
       "</style>\n",
       "<table border=\"1\" class=\"dataframe\">\n",
       "  <thead>\n",
       "    <tr>\n",
       "      <th></th>\n",
       "      <th>count</th>\n",
       "    </tr>\n",
       "    <tr>\n",
       "      <th></th>\n",
       "      <th>sum</th>\n",
       "    </tr>\n",
       "    <tr>\n",
       "      <th>Date</th>\n",
       "      <th></th>\n",
       "    </tr>\n",
       "  </thead>\n",
       "  <tbody>\n",
       "    <tr>\n",
       "      <th>2020-07-22</th>\n",
       "      <td>1</td>\n",
       "    </tr>\n",
       "    <tr>\n",
       "      <th>2020-07-23</th>\n",
       "      <td>1</td>\n",
       "    </tr>\n",
       "    <tr>\n",
       "      <th>2020-07-24</th>\n",
       "      <td>1</td>\n",
       "    </tr>\n",
       "    <tr>\n",
       "      <th>2020-07-27</th>\n",
       "      <td>1</td>\n",
       "    </tr>\n",
       "    <tr>\n",
       "      <th>2020-07-28</th>\n",
       "      <td>1</td>\n",
       "    </tr>\n",
       "    <tr>\n",
       "      <th>...</th>\n",
       "      <td>...</td>\n",
       "    </tr>\n",
       "    <tr>\n",
       "      <th>2021-07-16</th>\n",
       "      <td>1</td>\n",
       "    </tr>\n",
       "    <tr>\n",
       "      <th>2021-07-19</th>\n",
       "      <td>1</td>\n",
       "    </tr>\n",
       "    <tr>\n",
       "      <th>2021-07-20</th>\n",
       "      <td>1</td>\n",
       "    </tr>\n",
       "    <tr>\n",
       "      <th>2021-07-21</th>\n",
       "      <td>1</td>\n",
       "    </tr>\n",
       "    <tr>\n",
       "      <th>2021-07-22</th>\n",
       "      <td>1</td>\n",
       "    </tr>\n",
       "  </tbody>\n",
       "</table>\n",
       "<p>281 rows × 1 columns</p>\n",
       "</div>"
      ],
      "text/plain": [
       "           count\n",
       "             sum\n",
       "Date            \n",
       "2020-07-22     1\n",
       "2020-07-23     1\n",
       "2020-07-24     1\n",
       "2020-07-27     1\n",
       "2020-07-28     1\n",
       "...          ...\n",
       "2021-07-16     1\n",
       "2021-07-19     1\n",
       "2021-07-20     1\n",
       "2021-07-21     1\n",
       "2021-07-22     1\n",
       "\n",
       "[281 rows x 1 columns]"
      ]
     },
     "execution_count": 66,
     "metadata": {
      "tags": []
     },
     "output_type": "execute_result"
    }
   ],
   "source": [
    "reddit_df['count'] = 1\n",
    "reddit_count = reddit_df.groupby('Date').agg({'count': [np.sum]})\n",
    "reddit_count"
   ]
  },
  {
   "cell_type": "code",
   "execution_count": 82,
   "id": "3r2Y9j0ww16Y",
   "metadata": {
    "colab": {
     "base_uri": "https://localhost:8080/",
     "height": 298
    },
    "id": "3r2Y9j0ww16Y",
    "outputId": "a3d62e14-5c14-4872-9882-fda8f5b511c2"
   },
   "outputs": [
    {
     "data": {
      "text/plain": [
       "<matplotlib.axes._subplots.AxesSubplot at 0x7fcdf67d4c90>"
      ]
     },
     "execution_count": 82,
     "metadata": {
      "tags": []
     },
     "output_type": "execute_result"
    },
    {
     "data": {
      "image/png": "[encoded data removed]",
      "text/plain": [
       "<Figure size 432x288 with 1 Axes>"
      ]
     },
     "metadata": {
      "needs_background": "light",
      "tags": []
     },
     "output_type": "display_data"
    }
   ],
   "source": [
    "#reddit_count.sort_values(by=reddit_count['count']['sum'],ascending=False)\n",
    "reddit_count.plot()\n",
    "times = pd.to_datetime(df.timestamp_col)"
   ]
  },
  {
   "cell_type": "code",
   "execution_count": 84,
   "id": "FH5DDhQn19Cc",
   "metadata": {
    "colab": {
     "base_uri": "https://localhost:8080/"
    },
    "id": "FH5DDhQn19Cc",
    "outputId": "33dc442b-ce66-4651-e80a-e5719017ce66"
   },
   "outputs": [
    {
     "name": "stdout",
     "output_type": "stream",
     "text": [
      "<class 'pandas.core.frame.DataFrame'>\n",
      "Int64Index: 2342 entries, 0 to 2341\n",
      "Data columns (total 30 columns):\n",
      " #   Column                        Non-Null Count  Dtype         \n",
      "---  ------                        --------------  -----         \n",
      " 0   Unnamed: 0                    2159 non-null   float64       \n",
      " 1   title                         2159 non-null   object        \n",
      " 2   score                         2159 non-null   float64       \n",
      " 3   id                            2159 non-null   object        \n",
      " 4   url                           2159 non-null   object        \n",
      " 5   comms_num                     2159 non-null   float64       \n",
      " 6   created                       2159 non-null   float64       \n",
      " 7   body                          2159 non-null   object        \n",
      " 8   timestamp                     2159 non-null   object        \n",
      " 9   body_unidecode                2159 non-null   object        \n",
      " 10  title_unidecode               2159 non-null   object        \n",
      " 11  stock_body                    2159 non-null   object        \n",
      " 12  stock_title                   2159 non-null   object        \n",
      " 13  body_size                     2159 non-null   float64       \n",
      " 14  title_sentiment_fin           2159 non-null   object        \n",
      " 15  body_sentiment                2159 non-null   object        \n",
      " 16  classifying_sentiments_title  2159 non-null   float64       \n",
      " 17  classifying_sentiments_body   2159 non-null   float64       \n",
      " 18  day                           2159 non-null   object        \n",
      " 19  hour                          2159 non-null   object        \n",
      " 20  datetime                      2159 non-null   object        \n",
      " 21  time                          2159 non-null   datetime64[ns]\n",
      " 22  Date                          2342 non-null   object        \n",
      " 23  Open                          1811 non-null   float64       \n",
      " 24  High                          1811 non-null   float64       \n",
      " 25  Low                           1811 non-null   float64       \n",
      " 26  Close                         1811 non-null   float64       \n",
      " 27  Adj Close                     1811 non-null   float64       \n",
      " 28  Volume                        1811 non-null   float64       \n",
      " 29  count                         2342 non-null   int64         \n",
      "dtypes: datetime64[ns](1), float64(13), int64(1), object(15)\n",
      "memory usage: 647.2+ KB\n"
     ]
    }
   ],
   "source": [
    "reddit_df.info()"
   ]
  },
  {
   "cell_type": "code",
   "execution_count": 35,
   "id": "kMXXc8PS7hxC",
   "metadata": {
    "id": "kMXXc8PS7hxC"
   },
   "outputs": [],
   "source": [
    "# Time Serie split\n",
    "len_ = int(0.8*reddit_day.shape[0])\n",
    "df_train = reddit_day[:len_]\n",
    "df_test = reddit_day[len_:]"
   ]
  },
  {
   "cell_type": "code",
   "execution_count": 46,
   "id": "PsKjLqDH8Ufe",
   "metadata": {
    "id": "PsKjLqDH8Ufe"
   },
   "outputs": [],
   "source": [
    "x_train = df_train.drop(columns=['Close_mean'])\n",
    "x_test = df_test.drop(columns=['Close_mean'])\n",
    "y_train=df_train['Close_mean']\n",
    "y_test=df_test['Close_mean']"
   ]
  },
  {
   "cell_type": "code",
   "execution_count": 2,
   "id": "eqUjUw389UhF",
   "metadata": {
    "colab": {
     "base_uri": "https://localhost:8080/",
     "height": 475
    },
    "id": "eqUjUw389UhF",
    "outputId": "ab302e18-423e-40ac-d48e-4abe382d7642"
   },
   "outputs": [
    {
     "ename": "NameError",
     "evalue": "name 'np' is not defined",
     "output_type": "error",
     "traceback": [
      "\u001b[0;31m---------------------------------------------------------------------------\u001b[0m",
      "\u001b[0;31mNameError\u001b[0m                                 Traceback (most recent call last)",
      "\u001b[0;32m/var/folders/g9/dk8kk1tn5ys_km_c5w3rh3380000gp/T/ipykernel_54268/3065164280.py\u001b[0m in \u001b[0;36m<module>\u001b[0;34m\u001b[0m\n\u001b[0;32m----> 1\u001b[0;31m \u001b[0mnp\u001b[0m\u001b[0;34m.\u001b[0m\u001b[0marray\u001b[0m\u001b[0;34m(\u001b[0m\u001b[0my_target_imputed\u001b[0m\u001b[0;34m)\u001b[0m\u001b[0;34m.\u001b[0m\u001b[0mshape\u001b[0m\u001b[0;34m\u001b[0m\u001b[0;34m\u001b[0m\u001b[0m\n\u001b[0m",
      "\u001b[0;31mNameError\u001b[0m: name 'np' is not defined"
     ]
    }
   ],
   "source": [
    "np.array(y_target_imputed).shape"
   ]
  },
  {
   "cell_type": "code",
   "execution_count": 47,
   "id": "58D1qMHw7pyp",
   "metadata": {
    "colab": {
     "base_uri": "https://localhost:8080/",
     "height": 257
    },
    "id": "58D1qMHw7pyp",
    "outputId": "f631b4ee-c2be-4929-ef11-96c7b5e538ca"
   },
   "outputs": [
    {
     "data": {
      "text/html": [
       "<div>\n",
       "<style scoped>\n",
       "    .dataframe tbody tr th:only-of-type {\n",
       "        vertical-align: middle;\n",
       "    }\n",
       "\n",
       "    .dataframe tbody tr th {\n",
       "        vertical-align: top;\n",
       "    }\n",
       "\n",
       "    .dataframe thead th {\n",
       "        text-align: right;\n",
       "    }\n",
       "</style>\n",
       "<table border=\"1\" class=\"dataframe\">\n",
       "  <thead>\n",
       "    <tr style=\"text-align: right;\">\n",
       "      <th></th>\n",
       "      <th>score_sum</th>\n",
       "      <th>score_mean</th>\n",
       "      <th>classifying_sentiments_title_sum</th>\n",
       "      <th>classifying_sentiments_title_mean</th>\n",
       "      <th>Volume_mean</th>\n",
       "    </tr>\n",
       "    <tr>\n",
       "      <th>Date</th>\n",
       "      <th></th>\n",
       "      <th></th>\n",
       "      <th></th>\n",
       "      <th></th>\n",
       "      <th></th>\n",
       "    </tr>\n",
       "  </thead>\n",
       "  <tbody>\n",
       "    <tr>\n",
       "      <th>2020-07-22</th>\n",
       "      <td>0.0</td>\n",
       "      <td>-1000.0</td>\n",
       "      <td>0.0</td>\n",
       "      <td>-1000.0</td>\n",
       "      <td>2523500.0</td>\n",
       "    </tr>\n",
       "    <tr>\n",
       "      <th>2020-07-23</th>\n",
       "      <td>0.0</td>\n",
       "      <td>-1000.0</td>\n",
       "      <td>0.0</td>\n",
       "      <td>-1000.0</td>\n",
       "      <td>3237200.0</td>\n",
       "    </tr>\n",
       "    <tr>\n",
       "      <th>2020-07-24</th>\n",
       "      <td>0.0</td>\n",
       "      <td>-1000.0</td>\n",
       "      <td>0.0</td>\n",
       "      <td>-1000.0</td>\n",
       "      <td>2215900.0</td>\n",
       "    </tr>\n",
       "    <tr>\n",
       "      <th>2020-07-27</th>\n",
       "      <td>0.0</td>\n",
       "      <td>-1000.0</td>\n",
       "      <td>0.0</td>\n",
       "      <td>-1000.0</td>\n",
       "      <td>2472700.0</td>\n",
       "    </tr>\n",
       "    <tr>\n",
       "      <th>2020-07-28</th>\n",
       "      <td>0.0</td>\n",
       "      <td>-1000.0</td>\n",
       "      <td>0.0</td>\n",
       "      <td>-1000.0</td>\n",
       "      <td>4555400.0</td>\n",
       "    </tr>\n",
       "  </tbody>\n",
       "</table>\n",
       "</div>"
      ],
      "text/plain": [
       "            score_sum  ...  Volume_mean\n",
       "Date                   ...             \n",
       "2020-07-22        0.0  ...    2523500.0\n",
       "2020-07-23        0.0  ...    3237200.0\n",
       "2020-07-24        0.0  ...    2215900.0\n",
       "2020-07-27        0.0  ...    2472700.0\n",
       "2020-07-28        0.0  ...    4555400.0\n",
       "\n",
       "[5 rows x 5 columns]"
      ]
     },
     "execution_count": 47,
     "metadata": {
      "tags": []
     },
     "output_type": "execute_result"
    }
   ],
   "source": [
    "#scaling\n",
    "from sklearn.preprocessing import MinMaxScaler\n",
    "columns = x_train.columns\n",
    "scaler = MinMaxScaler()\n",
    "x_train_scaled = pd.DataFrame(scaler.fit_transform(x_train), columns=columns)\n",
    "x_test_scaled = pd.DataFrame(scaler.transform(x_test), columns=columns)\n",
    "x_train.head()\n"
   ]
  },
  {
   "cell_type": "code",
   "execution_count": 45,
   "id": "f9ggZMswt1Bn",
   "metadata": {
    "colab": {
     "base_uri": "https://localhost:8080/"
    },
    "id": "f9ggZMswt1Bn",
    "outputId": "b651253e-2b04-4850-d918-34a232c96254"
   },
   "outputs": [
    {
     "data": {
      "text/plain": [
       "(224, 5, 1)"
      ]
     },
     "execution_count": 45,
     "metadata": {
      "tags": []
     },
     "output_type": "execute_result"
    }
   ],
   "source": [
    "x_train_scaled"
   ]
  },
  {
   "cell_type": "code",
   "execution_count": 151,
   "id": "Te4UBFTB-F3F",
   "metadata": {
    "colab": {
     "base_uri": "https://localhost:8080/",
     "height": 424
    },
    "id": "Te4UBFTB-F3F",
    "outputId": "134a6922-d801-4de8-c0c0-d03dbdea7997"
   },
   "outputs": [
    {
     "data": {
      "text/html": [
       "<div>\n",
       "<style scoped>\n",
       "    .dataframe tbody tr th:only-of-type {\n",
       "        vertical-align: middle;\n",
       "    }\n",
       "\n",
       "    .dataframe tbody tr th {\n",
       "        vertical-align: top;\n",
       "    }\n",
       "\n",
       "    .dataframe thead th {\n",
       "        text-align: right;\n",
       "    }\n",
       "</style>\n",
       "<table border=\"1\" class=\"dataframe\">\n",
       "  <thead>\n",
       "    <tr style=\"text-align: right;\">\n",
       "      <th></th>\n",
       "      <th>score_sum</th>\n",
       "      <th>score_mean</th>\n",
       "      <th>classifying_sentiments_title_sum</th>\n",
       "      <th>classifying_sentiments_title_mean</th>\n",
       "      <th>Volume_mean</th>\n",
       "    </tr>\n",
       "  </thead>\n",
       "  <tbody>\n",
       "    <tr>\n",
       "      <th>0</th>\n",
       "      <td>0.0</td>\n",
       "      <td>0.000000</td>\n",
       "      <td>0.959184</td>\n",
       "      <td>0.000000</td>\n",
       "      <td>0.012804</td>\n",
       "    </tr>\n",
       "    <tr>\n",
       "      <th>1</th>\n",
       "      <td>0.0</td>\n",
       "      <td>0.000000</td>\n",
       "      <td>0.959184</td>\n",
       "      <td>0.000000</td>\n",
       "      <td>0.016424</td>\n",
       "    </tr>\n",
       "    <tr>\n",
       "      <th>2</th>\n",
       "      <td>0.0</td>\n",
       "      <td>0.000000</td>\n",
       "      <td>0.959184</td>\n",
       "      <td>0.000000</td>\n",
       "      <td>0.011244</td>\n",
       "    </tr>\n",
       "    <tr>\n",
       "      <th>3</th>\n",
       "      <td>0.0</td>\n",
       "      <td>0.000000</td>\n",
       "      <td>0.959184</td>\n",
       "      <td>0.000000</td>\n",
       "      <td>0.012547</td>\n",
       "    </tr>\n",
       "    <tr>\n",
       "      <th>4</th>\n",
       "      <td>0.0</td>\n",
       "      <td>0.000000</td>\n",
       "      <td>0.959184</td>\n",
       "      <td>0.000000</td>\n",
       "      <td>0.023110</td>\n",
       "    </tr>\n",
       "    <tr>\n",
       "      <th>...</th>\n",
       "      <td>...</td>\n",
       "      <td>...</td>\n",
       "      <td>...</td>\n",
       "      <td>...</td>\n",
       "      <td>...</td>\n",
       "    </tr>\n",
       "    <tr>\n",
       "      <th>219</th>\n",
       "      <td>0.0</td>\n",
       "      <td>0.000000</td>\n",
       "      <td>0.959184</td>\n",
       "      <td>0.000000</td>\n",
       "      <td>0.026689</td>\n",
       "    </tr>\n",
       "    <tr>\n",
       "      <th>220</th>\n",
       "      <td>0.0</td>\n",
       "      <td>0.000000</td>\n",
       "      <td>0.959184</td>\n",
       "      <td>0.000000</td>\n",
       "      <td>0.020331</td>\n",
       "    </tr>\n",
       "    <tr>\n",
       "      <th>221</th>\n",
       "      <td>0.0</td>\n",
       "      <td>0.000000</td>\n",
       "      <td>0.959184</td>\n",
       "      <td>0.000000</td>\n",
       "      <td>0.014234</td>\n",
       "    </tr>\n",
       "    <tr>\n",
       "      <th>222</th>\n",
       "      <td>0.0</td>\n",
       "      <td>0.079487</td>\n",
       "      <td>0.959184</td>\n",
       "      <td>0.999334</td>\n",
       "      <td>0.014931</td>\n",
       "    </tr>\n",
       "    <tr>\n",
       "      <th>223</th>\n",
       "      <td>0.0</td>\n",
       "      <td>0.000000</td>\n",
       "      <td>0.959184</td>\n",
       "      <td>0.000000</td>\n",
       "      <td>0.014890</td>\n",
       "    </tr>\n",
       "  </tbody>\n",
       "</table>\n",
       "<p>224 rows × 5 columns</p>\n",
       "</div>"
      ],
      "text/plain": [
       "     score_sum  score_mean  ...  classifying_sentiments_title_mean  Volume_mean\n",
       "0          0.0    0.000000  ...                           0.000000     0.012804\n",
       "1          0.0    0.000000  ...                           0.000000     0.016424\n",
       "2          0.0    0.000000  ...                           0.000000     0.011244\n",
       "3          0.0    0.000000  ...                           0.000000     0.012547\n",
       "4          0.0    0.000000  ...                           0.000000     0.023110\n",
       "..         ...         ...  ...                                ...          ...\n",
       "219        0.0    0.000000  ...                           0.000000     0.026689\n",
       "220        0.0    0.000000  ...                           0.000000     0.020331\n",
       "221        0.0    0.000000  ...                           0.000000     0.014234\n",
       "222        0.0    0.079487  ...                           0.999334     0.014931\n",
       "223        0.0    0.000000  ...                           0.000000     0.014890\n",
       "\n",
       "[224 rows x 5 columns]"
      ]
     },
     "execution_count": 151,
     "metadata": {
      "tags": []
     },
     "output_type": "execute_result"
    }
   ],
   "source": [
    "x_train_scaled"
   ]
  },
  {
   "cell_type": "code",
   "execution_count": 57,
   "id": "Fmfp_Q21zR-P",
   "metadata": {
    "colab": {
     "base_uri": "https://localhost:8080/",
     "height": 378
    },
    "id": "Fmfp_Q21zR-P",
    "outputId": "1aa6fafc-767c-45e8-8d22-928730cde4d0"
   },
   "outputs": [
    {
     "ename": "ValueError",
     "evalue": "ignored",
     "output_type": "error",
     "traceback": [
      "\u001b[0;31m---------------------------------------------------------------------------\u001b[0m",
      "\u001b[0;31mValueError\u001b[0m                                Traceback (most recent call last)",
      "\u001b[0;32m<ipython-input-57-c02e3719f164>\u001b[0m in \u001b[0;36m<module>\u001b[0;34m()\u001b[0m\n\u001b[1;32m     22\u001b[0m     \u001b[0;32mreturn\u001b[0m \u001b[0mmodel\u001b[0m\u001b[0;34m\u001b[0m\u001b[0;34m\u001b[0m\u001b[0m\n\u001b[1;32m     23\u001b[0m \u001b[0;34m\u001b[0m\u001b[0m\n\u001b[0;32m---> 24\u001b[0;31m \u001b[0minit_model\u001b[0m\u001b[0;34m(\u001b[0m\u001b[0;34m)\u001b[0m\u001b[0;34m.\u001b[0m\u001b[0msummary\u001b[0m\u001b[0;34m(\u001b[0m\u001b[0;34m)\u001b[0m\u001b[0;34m\u001b[0m\u001b[0;34m\u001b[0m\u001b[0m\n\u001b[0m",
      "\u001b[0;32m/usr/local/lib/python3.7/dist-packages/tensorflow/python/keras/engine/training.py\u001b[0m in \u001b[0;36msummary\u001b[0;34m(self, line_length, positions, print_fn)\u001b[0m\n\u001b[1;32m   2475\u001b[0m     \"\"\"\n\u001b[1;32m   2476\u001b[0m     \u001b[0;32mif\u001b[0m \u001b[0;32mnot\u001b[0m \u001b[0mself\u001b[0m\u001b[0;34m.\u001b[0m\u001b[0mbuilt\u001b[0m\u001b[0;34m:\u001b[0m\u001b[0;34m\u001b[0m\u001b[0;34m\u001b[0m\u001b[0m\n\u001b[0;32m-> 2477\u001b[0;31m       raise ValueError('This model has not yet been built. '\n\u001b[0m\u001b[1;32m   2478\u001b[0m                        \u001b[0;34m'Build the model first by calling `build()` or calling '\u001b[0m\u001b[0;34m\u001b[0m\u001b[0;34m\u001b[0m\u001b[0m\n\u001b[1;32m   2479\u001b[0m                        \u001b[0;34m'`fit()` with some data, or specify '\u001b[0m\u001b[0;34m\u001b[0m\u001b[0;34m\u001b[0m\u001b[0m\n",
      "\u001b[0;31mValueError\u001b[0m: This model has not yet been built. Build the model first by calling `build()` or calling `fit()` with some data, or specify an `input_shape` argument in the first layer(s) for automatic build."
     ]
    }
   ],
   "source": [
    "#2 rnn \n",
    "from tensorflow.keras import models\n",
    "from tensorflow.keras import layers\n",
    "from tensorflow.keras.optimizers import RMSprop\n",
    "\n",
    "def init_model():\n",
    "    \n",
    "    model = models.Sequential()\n",
    "    model.add(layers.Masking(mask_value=-1000.))\n",
    "    model.add(layers.LSTM(20, return_sequences=True, activation='tanh'))\n",
    "    model.add(layers.LSTM(10, return_sequences=False, activation='tanh'))\n",
    "    model.add(layers.Dense(5, activation='relu'))\n",
    "    model.add(layers.Dense(1, activation='linear'))\n",
    "    \n",
    "  #  model.compile(loss='mse', \n",
    "  #                optimizer='rmsprop', \n",
    "  #                metrics=['mae'])\n",
    "    model.compile(loss='mse', \n",
    "                  optimizer=RMSprop(learning_rate=0.0003), \n",
    "                  metrics=['mae'])\n",
    "    \n",
    "    return model\n",
    "\n",
    "#init_model().summary()"
   ]
  },
  {
   "cell_type": "code",
   "execution_count": 49,
   "id": "Q-mLil-5sgvC",
   "metadata": {
    "colab": {
     "base_uri": "https://localhost:8080/"
    },
    "id": "Q-mLil-5sgvC",
    "outputId": "739fd93a-8aa8-4427-e7c3-c8cb19154844"
   },
   "outputs": [
    {
     "data": {
      "text/plain": [
       "numpy.ndarray"
      ]
     },
     "execution_count": 49,
     "metadata": {
      "tags": []
     },
     "output_type": "execute_result"
    }
   ],
   "source": [
    "type(x_train_scaled)"
   ]
  },
  {
   "cell_type": "code",
   "execution_count": 166,
   "id": "UAqxjwjvABAZ",
   "metadata": {
    "id": "UAqxjwjvABAZ"
   },
   "outputs": [],
   "source": [
    "x_train_scaled = np.array(x_train_scaled)"
   ]
  },
  {
   "cell_type": "code",
   "execution_count": 48,
   "id": "URcDpHHk_rkT",
   "metadata": {
    "id": "URcDpHHk_rkT"
   },
   "outputs": [],
   "source": [
    "x_train_scaled = np.expand_dims(x_train_scaled,2)"
   ]
  },
  {
   "cell_type": "code",
   "execution_count": 50,
   "id": "eLmiZgDsAdlX",
   "metadata": {
    "colab": {
     "base_uri": "https://localhost:8080/"
    },
    "id": "eLmiZgDsAdlX",
    "outputId": "5d4ecf33-368f-45fb-a098-0682fcf8d21a"
   },
   "outputs": [
    {
     "data": {
      "text/plain": [
       "array([[[0.        ],\n",
       "        [0.        ],\n",
       "        [0.95918367],\n",
       "        [0.        ],\n",
       "        [0.01280439]],\n",
       "\n",
       "       [[0.        ],\n",
       "        [0.        ],\n",
       "        [0.95918367],\n",
       "        [0.        ],\n",
       "        [0.01642432]],\n",
       "\n",
       "       [[0.        ],\n",
       "        [0.        ],\n",
       "        [0.95918367],\n",
       "        [0.        ],\n",
       "        [0.01124423]],\n",
       "\n",
       "       ...,\n",
       "\n",
       "       [[0.        ],\n",
       "        [0.        ],\n",
       "        [0.95918367],\n",
       "        [0.        ],\n",
       "        [0.0142342 ]],\n",
       "\n",
       "       [[0.        ],\n",
       "        [0.07948704],\n",
       "        [0.95918367],\n",
       "        [0.99933378],\n",
       "        [0.0149311 ]],\n",
       "\n",
       "       [[0.        ],\n",
       "        [0.        ],\n",
       "        [0.95918367],\n",
       "        [0.        ],\n",
       "        [0.01488951]]])"
      ]
     },
     "execution_count": 50,
     "metadata": {
      "tags": []
     },
     "output_type": "execute_result"
    }
   ],
   "source": [
    "x_train_scaled"
   ]
  },
  {
   "cell_type": "code",
   "execution_count": 58,
   "id": "gcuRjPt8-RVq",
   "metadata": {
    "id": "gcuRjPt8-RVq"
   },
   "outputs": [],
   "source": [
    "model=init_model()"
   ]
  },
  {
   "cell_type": "code",
   "execution_count": 59,
   "id": "rsl8MedJATtz",
   "metadata": {
    "colab": {
     "base_uri": "https://localhost:8080/"
    },
    "id": "rsl8MedJATtz",
    "outputId": "b8aa7a6d-29ab-42ce-83c6-32090fd94823"
   },
   "outputs": [
    {
     "name": "stdout",
     "output_type": "stream",
     "text": [
      "7/7 [==============================] - 12s 8ms/step - loss: 111720.9453 - mae: 159.3691\n"
     ]
    },
    {
     "data": {
      "text/plain": [
       "<tensorflow.python.keras.callbacks.History at 0x7fce40093cd0>"
      ]
     },
     "execution_count": 59,
     "metadata": {
      "tags": []
     },
     "output_type": "execute_result"
    }
   ],
   "source": [
    "model.fit(x_train_scaled,y_train)"
   ]
  },
  {
   "cell_type": "code",
   "execution_count": 60,
   "id": "b_VFGgj0BDsX",
   "metadata": {
    "colab": {
     "base_uri": "https://localhost:8080/"
    },
    "id": "b_VFGgj0BDsX",
    "outputId": "83e9fc23-970b-46d8-b256-67dc6cd6c30e"
   },
   "outputs": [
    {
     "name": "stdout",
     "output_type": "stream",
     "text": [
      "Model: \"sequential_6\"\n",
      "_________________________________________________________________\n",
      "Layer (type)                 Output Shape              Param #   \n",
      "=================================================================\n",
      "masking_6 (Masking)          (32, 5, 1)                0         \n",
      "_________________________________________________________________\n",
      "lstm_12 (LSTM)               (32, 5, 20)               1760      \n",
      "_________________________________________________________________\n",
      "lstm_13 (LSTM)               (32, 10)                  1240      \n",
      "_________________________________________________________________\n",
      "dense_12 (Dense)             (32, 5)                   55        \n",
      "_________________________________________________________________\n",
      "dense_13 (Dense)             (32, 1)                   6         \n",
      "=================================================================\n",
      "Total params: 3,061\n",
      "Trainable params: 3,061\n",
      "Non-trainable params: 0\n",
      "_________________________________________________________________\n"
     ]
    }
   ],
   "source": [
    "model.summary()"
   ]
  },
  {
   "cell_type": "code",
   "execution_count": null,
   "id": "_03RFeLS5Ud1",
   "metadata": {
    "id": "_03RFeLS5Ud1"
   },
   "outputs": [],
   "source": [
    "from pytrends.request import TrendReq\n",
    "pytrends = TrendReq(hl='en-US', tz=360)\n"
   ]
  },
  {
   "cell_type": "code",
   "execution_count": null,
   "id": "979f1922",
   "metadata": {
    "id": "979f1922",
    "scrolled": true
   },
   "outputs": [],
   "source": [
    "# DO NOT DESTROY THIS CELLL\n",
    "\n",
    "# \" \".join(reddit_df.iloc[23594]['body'].split()[0:427])\n",
    "# \" \".join(reddit_df.iloc[23594]['body'].split()[427:-1])\n",
    "# print(classifier(\" \".join(reddit_df.iloc[23594]['body'].split()[0:427])))\n",
    "# print(classifier(\" \".join(reddit_df.iloc[23594]['body'].split()[-370:-1])))\n",
    "\n",
    "# \" \".join(reddit_df.iloc[23594]['body'].split()[-370:-1])\n"
   ]
  }
 ],
 "metadata": {
  "accelerator": "GPU",
  "colab": {
   "collapsed_sections": [
    "61c45d0d"
   ],
   "name": "tanise_rodando_modelos.ipynb",
   "provenance": []
  },
  "kernelspec": {
   "display_name": "Python 3 (ipykernel)",
   "language": "python",
   "name": "python3"
  },
  "language_info": {
   "codemirror_mode": {
    "name": "ipython",
    "version": 3
   },
   "file_extension": ".py",
   "mimetype": "text/x-python",
   "name": "python",
   "nbconvert_exporter": "python",
   "pygments_lexer": "ipython3",
   "version": "3.8.6"
  }
 },
 "nbformat": 4,
 "nbformat_minor": 5
}
