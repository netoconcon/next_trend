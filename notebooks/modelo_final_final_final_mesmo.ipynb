{
 "cells": [
  {
   "cell_type": "code",
   "execution_count": 52,
   "id": "63cefc91",
   "metadata": {},
   "outputs": [],
   "source": [
    "# import toolkit\n",
    "import seaborn as sns\n",
    "import numpy as np\n",
    "import matplotlib.pyplot as plt\n",
    "from datetime import date\n",
    "import pandas as pd"
   ]
  },
  {
   "cell_type": "code",
   "execution_count": 53,
   "id": "0e8d2c49",
   "metadata": {},
   "outputs": [],
   "source": [
    "# import sentimental data\n",
    "amazon_df = pd.read_csv('amazon_df.csv')\n",
    "gme_df = pd.read_csv('gme_df.csv')\n",
    "kodak_df = pd.read_csv('kodak_df.csv')\n",
    "facebook_df = pd.read_csv('fb_df.csv')\n",
    "apple_df = pd.read_csv('new_data/aapl_df.csv')\n",
    "baba_df = pd.read_csv('new_data/baba_df.csv')\n",
    "goog_df = pd.read_csv('new_data/goog_df.csv')\n",
    "jnj_df = pd.read_csv('new_data/jnj_df.csv')\n",
    "pfe_df = pd.read_csv('new_data/pfe_df.csv')\n",
    "tsla_df = pd.read_csv('new_data/tsla_df.csv')"
   ]
  },
  {
   "cell_type": "code",
   "execution_count": 54,
   "id": "72949c5d",
   "metadata": {},
   "outputs": [],
   "source": [
    "# renaming columns\n",
    "gme_df.rename({'0':'Date', '1':'Positive', '2':'Neutral', '3':'Negative', '4':'Sentimental Score'}, axis=1, inplace=True)\n",
    "kodak_df.rename({'0':'Date', '1':'Positive', '2':'Neutral', '3':'Negative', '4':'Sentimental Score'}, axis=1, inplace=True)\n",
    "facebook_df.rename({'0':'Date', '1':'Positive', '2':'Neutral', '3':'Negative', '4':'Sentimental Score'}, axis=1, inplace=True)\n",
    "goog_df.rename({'0':'Date', '1':'Positive', '2':'Neutral', '3':'Negative', '4':'Sentimental Score'}, axis=1, inplace=True)\n",
    "apple_df.rename({'0':'Date', '1':'Positive', '2':'Neutral', '3':'Negative', '4':'Sentimental Score'}, axis=1, inplace=True)\n",
    "baba_df.rename({'0':'Date', '1':'Positive', '2':'Neutral', '3':'Negative', '4':'Sentimental Score'}, axis=1, inplace=True)\n",
    "jnj_df.rename({'0':'Date', '1':'Positive', '2':'Neutral', '3':'Negative', '4':'Sentimental Score'}, axis=1, inplace=True)\n",
    "pfe_df.rename({'0':'Date', '1':'Positive', '2':'Neutral', '3':'Negative', '4':'Sentimental Score'}, axis=1, inplace=True)\n",
    "tsla_df.rename({'0':'Date', '1':'Positive', '2':'Neutral', '3':'Negative', '4':'Sentimental Score'}, axis=1, inplace=True)\n",
    "\n",
    "# dropping columns\n",
    "\n",
    "\n",
    "gme_df.drop(columns=['Unnamed: 0'], inplace=True)\n",
    "kodak_df.drop(columns=['Unnamed: 0'], inplace=True)\n",
    "facebook_df.drop(columns=['Unnamed: 0'], inplace=True)\n",
    "apple_df.drop(columns=['Unnamed: 0'], inplace=True)\n",
    "goog_df.drop(columns=['Unnamed: 0'], inplace=True)\n",
    "baba_df.drop(columns=['Unnamed: 0'], inplace=True)\n",
    "jnj_df.drop(columns=['Unnamed: 0'], inplace=True)\n",
    "pfe_df.drop(columns=['Unnamed: 0'], inplace=True)\n",
    "tsla_df.drop(columns=['Unnamed: 0'], inplace=True)"
   ]
  },
  {
   "cell_type": "code",
   "execution_count": 55,
   "id": "61bfdb74",
   "metadata": {},
   "outputs": [],
   "source": [
    "# import price data\n",
    "gme_price_df = pd.read_csv('price/GME_1.csv')\n",
    "kodak_price_df = pd.read_csv('price/KODK_1.csv')\n",
    "facebook_price_df = pd.read_csv('price/FB_1.csv')\n",
    "apple_price_df = pd.read_csv('price/AAPL.csv')\n",
    "baba_price_df = pd.read_csv('price/BABA.csv')\n",
    "goog_price_df = pd.read_csv('price/GOOG.csv')\n",
    "jnj_price_df = pd.read_csv('price/JNJ.csv')\n",
    "pfe_price_df = pd.read_csv('price/PFE.csv')\n",
    "tsla_price_df = pd.read_csv('price/TSLA.csv')"
   ]
  },
  {
   "cell_type": "code",
   "execution_count": 56,
   "id": "cf6d9313",
   "metadata": {},
   "outputs": [
    {
     "name": "stdout",
     "output_type": "stream",
     "text": [
      "(862, 11)\n",
      "(653, 11)\n",
      "(726, 11)\n",
      "(855, 11)\n"
     ]
    }
   ],
   "source": [
    "# merging DB\n",
    "\n",
    "gme_df = pd.merge(gme_df, gme_price_df, how=\"outer\", on=[\"Date\", \"Date\"] ).sort_values(by=\"Date\", ascending=True)\n",
    "kodak_df = pd.merge(kodak_df, kodak_price_df, how=\"outer\", on=[\"Date\", \"Date\"] ).sort_values(by=\"Date\", ascending=True)\n",
    "facebook_df = pd.merge(facebook_df, facebook_price_df, how=\"outer\", on=[\"Date\", \"Date\"] ).sort_values(by=\"Date\", ascending=True)\n",
    "apple_df = pd.merge(apple_df, apple_price_df, how=\"outer\", on=[\"Date\", \"Date\"] ).sort_values(by=\"Date\", ascending=True)\n",
    "baba_df = pd.merge(baba_df, baba_price_df, how=\"outer\", on=[\"Date\", \"Date\"] ).sort_values(by=\"Date\", ascending=True)\n",
    "goog_df = pd.merge(goog_df, goog_price_df, how=\"outer\", on=[\"Date\", \"Date\"] ).sort_values(by=\"Date\", ascending=True)\n",
    "jnj_df = pd.merge(jnj_df, jnj_price_df, how=\"outer\", on=[\"Date\", \"Date\"] ).sort_values(by=\"Date\", ascending=True)\n",
    "pfe_df = pd.merge(pfe_df, pfe_price_df, how=\"outer\", on=[\"Date\", \"Date\"] ).sort_values(by=\"Date\", ascending=True)\n",
    "tsla_df = pd.merge(tsla_df, tsla_price_df, how=\"outer\", on=[\"Date\", \"Date\"] ).sort_values(by=\"Date\", ascending=True)\n",
    "\n",
    "\n",
    "print(kodak_df.shape)\n",
    "print(gme_df.shape)\n",
    "print(facebook_df.shape)"
   ]
  },
  {
   "cell_type": "code",
   "execution_count": 57,
   "id": "3491f80e",
   "metadata": {},
   "outputs": [],
   "source": [
    "facebook_df.drop(columns=['Date'],inplace=True)\n",
    "kodak_df.drop(columns=['Date'],inplace=True)\n",
    "gme_df.drop(columns=['Date'],inplace=True)\n",
    "apple_df.drop(columns=['Date'],inplace=True)\n",
    "goog_df.drop(columns=['Date'],inplace=True)\n",
    "baba_df.drop(columns=['Date'],inplace=True)\n",
    "jnj_df.drop(columns=['Date'],inplace=True)\n",
    "pfe_df.drop(columns=['Date'],inplace=True)\n",
    "tsla_df.drop(columns=['Date'],inplace=True)"
   ]
  },
  {
   "cell_type": "code",
   "execution_count": 58,
   "id": "9490c24d",
   "metadata": {},
   "outputs": [],
   "source": [
    "from sklearn.impute import KNNImputer, SimpleImputer"
   ]
  },
  {
   "cell_type": "code",
   "execution_count": 59,
   "id": "09900575",
   "metadata": {},
   "outputs": [],
   "source": [
    "facebook_df['retorno'] = facebook_df['Close'].pct_change()\n",
    "kodak_df['retorno'] = kodak_df['Close'].pct_change()\n",
    "gme_df['retorno'] = gme_df['Close'].pct_change()\n",
    "apple_df['retorno'] = apple_df['Close'].pct_change()\n",
    "goog_df['retorno'] = goog_df['Close'].pct_change()\n",
    "baba_df['retorno'] = baba_df['Close'].pct_change()\n",
    "jnj_df['retorno'] = jnj_df['Close'].pct_change()\n",
    "pfe_df['retorno'] = pfe_df['Close'].pct_change()\n",
    "tsla_df['retorno'] = tsla_df['Close'].pct_change()"
   ]
  },
  {
   "cell_type": "code",
   "execution_count": 60,
   "id": "0958d19b",
   "metadata": {},
   "outputs": [],
   "source": [
    "from sklearn.compose import ColumnTransformer\n",
    "from sklearn.pipeline import Pipeline\n",
    "from sklearn.preprocessing import StandardScaler\n",
    "preprocessor = ColumnTransformer([('imputer',  KNNImputer(n_neighbors=1),['Open','Low','Close', 'Volume']),('MinMax', StandardScaler(),['Open','Low','Close', 'Volume', 'Positive', 'Negative','Neutral','Sentimental Score'])], remainder='passthrough')\n",
    "my_pipeline = Pipeline(steps=[('preprocessor', preprocessor)])"
   ]
  },
  {
   "cell_type": "markdown",
   "id": "0c50535c",
   "metadata": {},
   "source": [
    "### RNN COM UM ATIVO"
   ]
  },
  {
   "cell_type": "code",
   "execution_count": 61,
   "id": "22b28941",
   "metadata": {},
   "outputs": [],
   "source": [
    "apple_df = apple_df.dropna().reset_index()#1\n",
    "gme_df = gme_df.dropna().reset_index() #3\n",
    "kodak_df = kodak_df.dropna().reset_index() #4\n",
    "facebook_df = facebook_df.dropna().reset_index()#5\n",
    "goog_df = goog_df.dropna().reset_index() #6\n",
    "jnj_df = jnj_df.dropna().reset_index() #7\n",
    "pfe_df = pfe_df.dropna().reset_index() #8\n",
    "tsla_df = tsla_df.dropna().reset_index() #9\n",
    "baba_df = baba_df.dropna().reset_index() #10"
   ]
  },
  {
   "cell_type": "code",
   "execution_count": 62,
   "id": "8b1ba56e",
   "metadata": {},
   "outputs": [],
   "source": [
    "y_1 = apple_df['retorno']\n",
    "y_2 = amazon_df['retorno']\n",
    "y_3 = gme_df['retorno']\n",
    "y_4 = kodak_df['retorno']\n",
    "y_5 = facebook_df['retorno']\n",
    "y_6 = goog_df['retorno']\n",
    "y_7 = jnj_df['retorno']\n",
    "y_8 = pfe_df['retorno']\n",
    "y_9 = tsla_df['retorno']\n",
    "y_10 = baba_df['retorno']"
   ]
  },
  {
   "cell_type": "code",
   "execution_count": 63,
   "id": "e4957c91",
   "metadata": {},
   "outputs": [],
   "source": [
    "X_1 = apple_df.drop(columns=['retorno'])\n",
    "X_2 = amazon_df.drop(columns=['retorno'])\n",
    "X_3 = gme_df.drop(columns=['retorno'])\n",
    "X_4 = kodak_df.drop(columns=['retorno'])\n",
    "X_5 = facebook_df.drop(columns=['retorno'])\n",
    "X_6 = goog_df.drop(columns=['retorno'])\n",
    "X_7 = jnj_df.drop(columns=['retorno'])\n",
    "X_8 = pfe_df.drop(columns=['retorno'])\n",
    "X_9 = tsla_df.drop(columns=['retorno'])\n",
    "X_10 = baba_df.drop(columns=['retorno'])"
   ]
  },
  {
   "cell_type": "code",
   "execution_count": 64,
   "id": "3a82de01",
   "metadata": {},
   "outputs": [],
   "source": [
    "X_1 = my_pipeline.fit_transform(X_1)\n",
    "X_2 = my_pipeline.fit_transform(X_2)\n",
    "X_3 = my_pipeline.fit_transform(X_3)\n",
    "X_4 = my_pipeline.fit_transform(X_4)\n",
    "X_5 = my_pipeline.fit_transform(X_5)\n",
    "X_6 = my_pipeline.fit_transform(X_6)\n",
    "X_7 = my_pipeline.fit_transform(X_7)\n",
    "X_8 = my_pipeline.fit_transform(X_8)\n",
    "X_9 = my_pipeline.fit_transform(X_9)\n",
    "X_10 = my_pipeline.fit_transform(X_10)"
   ]
  },
  {
   "cell_type": "code",
   "execution_count": 65,
   "id": "0ae586f3",
   "metadata": {},
   "outputs": [
    {
     "name": "stdout",
     "output_type": "stream",
     "text": [
      "(577,)\n",
      "(577, 15)\n",
      "(542,)\n",
      "(542, 15)\n",
      "(333,)\n",
      "(333, 15)\n",
      "(105,)\n",
      "(105, 15)\n",
      "(627,)\n",
      "(627, 15)\n",
      "(577,)\n",
      "(577, 15)\n",
      "(456,)\n",
      "(456, 15)\n",
      "(486,)\n",
      "(486, 15)\n",
      "(577,)\n",
      "(577, 15)\n",
      "(529,)\n",
      "(529, 15)\n"
     ]
    }
   ],
   "source": [
    "print(y_1.shape)\n",
    "print(X_1.shape)\n",
    "print(y_2.shape)\n",
    "print(X_2.shape)\n",
    "print(y_3.shape)\n",
    "print(X_3.shape)\n",
    "print(y_4.shape)\n",
    "print(X_4.shape)\n",
    "print(y_5.shape)\n",
    "print(X_5.shape)\n",
    "print(y_6.shape)\n",
    "print(X_6.shape)\n",
    "print(y_7.shape)\n",
    "print(X_7.shape)\n",
    "print(y_8.shape)\n",
    "print(X_8.shape)\n",
    "print(y_9.shape)\n",
    "print(X_9.shape)\n",
    "print(y_10.shape)\n",
    "print(X_10.shape)"
   ]
  },
  {
   "cell_type": "code",
   "execution_count": 66,
   "id": "1883b3f4",
   "metadata": {},
   "outputs": [],
   "source": [
    "X_1train = []\n",
    "y_1train = []\n",
    "for i in range(10, 547):\n",
    "    X_1train.append(X_1[i-10:i])\n",
    "    y_1train.append(y_1[i])\n",
    "X_2train = []\n",
    "y_2train = []\n",
    "for i in range(10, 512):\n",
    "    X_2train.append(X_2[i-10:i])\n",
    "    y_2train.append(y_2[i])\n",
    "X_3train = []\n",
    "y_3train = []\n",
    "for i in range(10, 303):\n",
    "    X_3train.append(X_3[i-10:i])\n",
    "    y_3train.append(y_3[i])\n",
    "X_4train = []\n",
    "y_4train = []\n",
    "for i in range(10, 75):\n",
    "    X_4train.append(X_4[i-10:i])\n",
    "    y_4train.append(y_4[i])\n",
    "X_5train = []\n",
    "y_5train = []\n",
    "for i in range(10, 597):\n",
    "    X_5train.append(X_5[i-10:i])\n",
    "    y_5train.append(y_5[i])\n",
    "    \n",
    "X_6train = []\n",
    "y_6train = []\n",
    "for i in range(10, 547):\n",
    "    X_6train.append(X_6[i-10:i])\n",
    "    y_6train.append(y_6[i])\n",
    "X_7train = []\n",
    "y_7train = []\n",
    "for i in range(10, 426):\n",
    "    X_7train.append(X_7[i-10:i])\n",
    "    y_7train.append(y_7[i])\n",
    "X_8train = []\n",
    "y_8train = []\n",
    "for i in range(10, 456):\n",
    "    X_8train.append(X_8[i-10:i])\n",
    "    y_8train.append(y_8[i])\n",
    "X_9train = []\n",
    "y_9train = []\n",
    "for i in range(10, 547):\n",
    "    X_9train.append(X_9[i-10:i])\n",
    "    y_9train.append(y_9[i])\n",
    "X_10train = []\n",
    "y_10train = []\n",
    "for i in range(10, 499):\n",
    "    X_10train.append(X_10[i-10:i])\n",
    "    y_10train.append(y_10[i])"
   ]
  },
  {
   "cell_type": "code",
   "execution_count": 67,
   "id": "99a5e5bd",
   "metadata": {},
   "outputs": [],
   "source": [
    "X_1train, y_1train = np.array(X_1train), np.array(y_1train)\n",
    "X_2train, y_2train = np.array(X_2train), np.array(y_2train)\n",
    "X_3train, y_3train = np.array(X_3train), np.array(y_3train)\n",
    "X_4train, y_4train = np.array(X_4train), np.array(y_4train)\n",
    "X_5train, y_5train = np.array(X_5train), np.array(y_5train)\n",
    "X_6train, y_6train = np.array(X_6train), np.array(y_6train)\n",
    "X_7train, y_7train = np.array(X_7train), np.array(y_7train)\n",
    "X_8train, y_8train = np.array(X_8train), np.array(y_8train)\n",
    "X_9train, y_9train = np.array(X_9train), np.array(y_9train)\n",
    "X_10train, y_10train = np.array(X_10train), np.array(y_10train)"
   ]
  },
  {
   "cell_type": "code",
   "execution_count": 69,
   "id": "e550f4c6",
   "metadata": {},
   "outputs": [],
   "source": [
    "from tensorflow.keras import models\n",
    "from tensorflow.keras import layers, Sequential\n",
    "from tensorflow.keras.layers import LSTM, Dropout, Dense\n",
    "from tensorflow.keras.optimizers import RMSprop\n",
    "from tensorflow.keras.layers.experimental.preprocessing import Normalization\n",
    "from tensorflow.keras.callbacks import EarlyStopping\n",
    "def tanise_model():\n",
    "    #normalizar o x train\n",
    "    model = models.Sequential()\n",
    "    model.add(layers.LSTM(100, return_sequences=True, activation='tanh'))\n",
    "    model.add(layers.LSTM(100, return_sequences=False, activation='tanh'))\n",
    "    model.add(layers.Dense(50, activation='relu'))\n",
    "    model.add(layers.Dense(30, activation='linear'))\n",
    "    model.compile(loss='mse', \n",
    "                  optimizer=RMSprop(learning_rate=0.03), \n",
    "                  metrics=['mae'])\n",
    "    \n",
    "    return model"
   ]
  },
  {
   "cell_type": "code",
   "execution_count": 70,
   "id": "763c4a98",
   "metadata": {},
   "outputs": [
    {
     "name": "stdout",
     "output_type": "stream",
     "text": [
      "Epoch 1/150\n",
      "7/7 [==============================] - 8s 64ms/step - loss: 4.5163 - mae: 1.5978\n",
      "Epoch 2/150\n",
      "7/7 [==============================] - 0s 56ms/step - loss: 0.0053 - mae: 0.0572\n",
      "Epoch 3/150\n",
      "7/7 [==============================] - 0s 49ms/step - loss: 0.0024 - mae: 0.0403\n",
      "Epoch 4/150\n",
      "7/7 [==============================] - 0s 60ms/step - loss: 0.0015 - mae: 0.0309\n",
      "Epoch 5/150\n",
      "7/7 [==============================] - 1s 64ms/step - loss: 8.1431e-04 - mae: 0.0224\n",
      "Epoch 6/150\n",
      "7/7 [==============================] - 1s 72ms/step - loss: 8.6183e-04 - mae: 0.0227\n",
      "Epoch 7/150\n",
      "7/7 [==============================] - 0s 50ms/step - loss: 5.9026e-04 - mae: 0.0185\n",
      "Epoch 8/150\n",
      "7/7 [==============================] - 0s 70ms/step - loss: 3.9140e-04 - mae: 0.0143\n",
      "Epoch 9/150\n",
      "7/7 [==============================] - 0s 66ms/step - loss: 3.7248e-04 - mae: 0.0138\n",
      "Epoch 10/150\n",
      "7/7 [==============================] - 0s 46ms/step - loss: 3.7232e-04 - mae: 0.0138\n",
      "Epoch 11/150\n",
      "7/7 [==============================] - 0s 54ms/step - loss: 3.7958e-04 - mae: 0.0139\n",
      "Epoch 12/150\n",
      "7/7 [==============================] - 0s 49ms/step - loss: 3.7400e-04 - mae: 0.0139\n",
      "Epoch 13/150\n",
      "7/7 [==============================] - 0s 54ms/step - loss: 3.9103e-04 - mae: 0.0143\n",
      "Epoch 14/150\n",
      "7/7 [==============================] - 0s 55ms/step - loss: 4.8412e-04 - mae: 0.0165\n",
      "Epoch 15/150\n",
      "7/7 [==============================] - 0s 54ms/step - loss: 5.3538e-04 - mae: 0.0176\n",
      "Epoch 16/150\n",
      "7/7 [==============================] - 0s 52ms/step - loss: 6.2583e-04 - mae: 0.0197\n",
      "Epoch 17/150\n",
      "7/7 [==============================] - 0s 46ms/step - loss: 6.0495e-04 - mae: 0.0192\n",
      "Epoch 18/150\n",
      "7/7 [==============================] - 0s 52ms/step - loss: 5.3541e-04 - mae: 0.0178\n",
      "Epoch 19/150\n",
      "7/7 [==============================] - 0s 48ms/step - loss: 7.7874e-04 - mae: 0.0224\n",
      "Epoch 20/150\n",
      "7/7 [==============================] - 0s 59ms/step - loss: 4.3318e-04 - mae: 0.0154\n"
     ]
    }
   ],
   "source": [
    "modelo_2 = tanise_model()\n",
    "callback = EarlyStopping(monitor='loss', patience=10)\n",
    "fitted_2 = modelo_2.fit(X_2train, y_2train, epochs = 150, batch_size = 80, callbacks=callback)"
   ]
  },
  {
   "cell_type": "code",
   "execution_count": 71,
   "id": "022d2013",
   "metadata": {},
   "outputs": [
    {
     "data": {
      "text/plain": [
       "[<matplotlib.lines.Line2D at 0x16098d370>]"
      ]
     },
     "execution_count": 71,
     "metadata": {},
     "output_type": "execute_result"
    },
    {
     "data": {
      "image/png": "[encoded data removed]",
      "text/plain": [
       "<Figure size 432x288 with 1 Axes>"
      ]
     },
     "metadata": {
      "needs_background": "light"
     },
     "output_type": "display_data"
    }
   ],
   "source": [
    "X_2test = []\n",
    "y_2test = []\n",
    "for i in range(512, len(X_2)):\n",
    "    X_2test.append(X_2[i-10:i])\n",
    "    y_2test.append(y_2[i])\n",
    "X_2test = np.array(X_2test)\n",
    "previsao_2 = modelo_2.predict(X_2test)\n",
    "plt.plot(previsao_2[0])\n",
    "plt.plot(y_2test)\n"
   ]
  },
  {
   "cell_type": "markdown",
   "id": "4ce4e7cf",
   "metadata": {},
   "source": [
    "previsao_2[0]\n",
    "valores_previstos_2=array([-0.00123709, -0.00309801,  0.00097798,  0.00109722,  0.00128765,\n",
    "        0.00246249, -0.00067249,  0.00336073,  0.00168929,  0.00455723,\n",
    "        0.00475869, -0.00442414, -0.00167145, -0.00342615,  0.00375156,\n",
    "       -0.00072974, -0.00237766, -0.00279478,  0.00104707,  0.0023252 ,\n",
    "       -0.00537362, -0.00261442,  0.00412938,  0.00440552,  0.00255223,\n",
    "        0.00339385, -0.00244583, -0.00498724, -0.00492568, -0.00281114],\n",
    "      dtype=float32)\n",
    "valores_reais_2 =[-0.014526940449806403,\n",
    " 0.006027581005307203,\n",
    " -0.0025606356002577657,\n",
    " 0.020669133865531597,\n",
    " 0.005220349326898521,\n",
    " 0.020876827345878368,\n",
    " -0.0008418264841100198,\n",
    " 0.011067200346823292,\n",
    " -0.00021875366796175744,\n",
    " 0.009494201556198512,\n",
    " 0.02166458970792773,\n",
    " -0.0006706583687869916,\n",
    " -0.009446769888951101,\n",
    " 0.014904625583759046,\n",
    " -0.000462102625423344,\n",
    " -0.015622945510225916,\n",
    " -0.013806613915329335,\n",
    " 0.012474035410231954,\n",
    " 0.001234069651482983,\n",
    " -0.00231428574467063,\n",
    " -0.0020900019719781726,\n",
    " 0.0227237667847342,\n",
    " 0.04692707191113055,\n",
    " 0.005669630620418253,\n",
    " 0.009422177597960824,\n",
    " -0.003234655072653414,\n",
    " -0.00021241375655556283,\n",
    " -0.0110768825099119,\n",
    " 0.0011747081804083237,\n",
    " -0.013711126967133613]"
   ]
  },
  {
   "cell_type": "code",
   "execution_count": null,
   "id": "35510bd7",
   "metadata": {},
   "outputs": [],
   "source": [
    "previsao_2"
   ]
  },
  {
   "cell_type": "code",
   "execution_count": null,
   "id": "0c1034e7",
   "metadata": {},
   "outputs": [],
   "source": [
    "modelo_1 = tanise_model()\n",
    "callback = EarlyStopping(monitor='loss', patience=10)\n",
    "fitted_1 = modelo_1.fit(X_1train, y_1train, epochs = 15, batch_size = 42)\n",
    "X_1test = []\n",
    "y_1test = []\n",
    "for i in range(547, len(X_1)):\n",
    "    X_1test.append(X_1[i-10:i])\n",
    "    y_1test.append(y_1[i])\n",
    "X_1test = np.array(X_1test)\n",
    "previsao_1 = modelo_1.predict(X_1test)\n",
    "plt.plot(previsao_1[0])\n",
    "plt.plot(y_1test)"
   ]
  },
  {
   "cell_type": "code",
   "execution_count": null,
   "id": "f1d77da0",
   "metadata": {},
   "outputs": [],
   "source": [
    "modelo_2 = tanise_model()\n",
    "callback = EarlyStopping(monitor='loss', patience=10)\n",
    "fitted_2 = modelo_2.fit(X_2train, y_2train, epochs = 150, batch_size = 42, callbacks=[callback])\n",
    "X_2test = []\n",
    "y_2test = []\n",
    "for i in range(512, len(X_2)):\n",
    "    X_2test.append(X_2[i-10:i])\n",
    "    y_2test.append(y_2[i])\n",
    "X_2test = np.array(X_2test)\n",
    "previsao_2 = modelo_2.predict(X_2test)\n",
    "plt.plot(previsao_2[0])\n",
    "plt.plot(y_2test)"
   ]
  },
  {
   "cell_type": "code",
   "execution_count": null,
   "id": "ce2e9096",
   "metadata": {},
   "outputs": [],
   "source": [
    "modelo_3 = tanise_model()\n",
    "callback = EarlyStopping(monitor='loss', patience=10)\n",
    "fitted_3 = modelo_3.fit(X_3train, y_3train, epochs = 150, batch_size = 43, callbacks=[callback])\n",
    "X_3test = []\n",
    "y_3test = []\n",
    "for i in range(303, len(X_3)):\n",
    "    X_3test.append(X_3[i-10:i])\n",
    "    y_3test.append(y_3[i])\n",
    "X_3test = np.array(X_3test)\n",
    "previsao_3 = modelo_3.predict(X_3test)\n",
    "plt.plot(previsao_3[0])\n",
    "plt.plot(y_3test)\n"
   ]
  },
  {
   "cell_type": "code",
   "execution_count": null,
   "id": "1b6ae02c",
   "metadata": {},
   "outputs": [],
   "source": [
    "X_1test.shape"
   ]
  },
  {
   "cell_type": "code",
   "execution_count": null,
   "id": "f7a3fcd7",
   "metadata": {},
   "outputs": [],
   "source": [
    "X_1test = []\n",
    "y_1test = []\n",
    "for i in range(547, len(X)):\n",
    "    X_1test.append(X[i-10:i])\n",
    "    y_1test.append(y[i])\n",
    "X_1test = np.array(X_1test)\n",
    "X_1test = []\n",
    "y_1test = []\n",
    "for i in range(547, len(X)):\n",
    "    X_1test.append(X[i-10:i])\n",
    "    y_1test.append(y[i])\n",
    "X_1test = np.array(X_1test)\n",
    "X_1test = []\n",
    "y_1test = []\n",
    "for i in range(547, len(X)):\n",
    "    X_1test.append(X[i-10:i])\n",
    "    y_1test.append(y[i])\n",
    "X_1test = np.array(X_1test)\n",
    "X_1test = []\n",
    "y_1test = []\n",
    "for i in range(547, len(X)):\n",
    "    X_1test.append(X[i-10:i])\n",
    "    y_1test.append(y[i])\n",
    "X_1test = np.array(X_1test)\n",
    "X_1test = []\n",
    "y_1test = []\n",
    "for i in range(547, len(X)):\n",
    "    X_1test.append(X[i-10:i])\n",
    "    y_1test.append(y[i])\n",
    "X_1test = np.array(X_1test)\n",
    "X_1test = []\n",
    "y_1test = []\n",
    "for i in range(547, len(X)):\n",
    "    X_1test.append(X[i-10:i])\n",
    "    y_1test.append(y[i])\n",
    "X_1test = np.array(X_1test)\n",
    "X_1test = []\n",
    "y_1test = []\n",
    "for i in range(547, len(X)):\n",
    "    X_1test.append(X[i-10:i])\n",
    "    y_1test.append(y[i])\n",
    "X_1test = np.array(X_1test)\n",
    "X_1test = []\n",
    "y_1test = []\n",
    "for i in range(547, len(X)):\n",
    "    X_1test.append(X[i-10:i])\n",
    "    y_1test.append(y[i])\n",
    "X_1test = np.array(X_1test)\n",
    "X_1test = []\n",
    "y_1test = []\n",
    "for i in range(547, len(X)):\n",
    "    X_1test.append(X[i-10:i])\n",
    "    y_1test.append(y[i])\n",
    "X_1test = np.array(X_1test)\n",
    "X_1test = []\n",
    "y_1test = []\n",
    "for i in range(547, len(X)):\n",
    "    X_1test.append(X[i-10:i])\n",
    "    y_1test.append(y[i])\n",
    "X_1test = np.array(X_1test)"
   ]
  },
  {
   "cell_type": "code",
   "execution_count": null,
   "id": "3a03ecf6",
   "metadata": {},
   "outputs": [],
   "source": [
    "fitted1"
   ]
  },
  {
   "cell_type": "code",
   "execution_count": null,
   "id": "4a7be047",
   "metadata": {},
   "outputs": [],
   "source": [
    "X_test.shape"
   ]
  },
  {
   "cell_type": "code",
   "execution_count": null,
   "id": "5081c4cf",
   "metadata": {},
   "outputs": [],
   "source": [
    "previsao = tesla_model.predict(X_test)"
   ]
  },
  {
   "cell_type": "code",
   "execution_count": null,
   "id": "0ee3914b",
   "metadata": {},
   "outputs": [],
   "source": [
    "tesla_model.predict(X_test).shape"
   ]
  },
  {
   "cell_type": "code",
   "execution_count": null,
   "id": "d2584f83",
   "metadata": {},
   "outputs": [],
   "source": [
    "previsao[0]"
   ]
  },
  {
   "cell_type": "code",
   "execution_count": null,
   "id": "bf674fc2",
   "metadata": {},
   "outputs": [],
   "source": [
    "plt.plot(tsla_df['retorno'])"
   ]
  },
  {
   "cell_type": "code",
   "execution_count": null,
   "id": "7460b14d",
   "metadata": {},
   "outputs": [],
   "source": [
    "plt.plot(previsao[0])\n",
    "plt.plot(y_1test)"
   ]
  },
  {
   "cell_type": "code",
   "execution_count": null,
   "id": "21005567",
   "metadata": {},
   "outputs": [],
   "source": [
    "plt.plot(previsao[0])\n",
    "plt.plot(y_1test)"
   ]
  },
  {
   "cell_type": "markdown",
   "id": "0b48370d",
   "metadata": {},
   "source": [
    "# Valores e previsão da Apple:"
   ]
  },
  {
   "cell_type": "markdown",
   "id": "80529515",
   "metadata": {},
   "source": [
    "Previsão = array([ 6.0000550e-03,  6.6770427e-04,  8.8357888e-03, -4.3984540e-03,\n",
    "        4.0360708e-03,  5.4935301e-03,  6.8415450e-03,  8.0767460e-03,\n",
    "        8.6272452e-03,  7.2241053e-03, -1.2025610e-03,  5.5446401e-03,\n",
    "        6.2487684e-03,  6.1882092e-03, -2.2658715e-03, -1.3665073e-03,\n",
    "        6.4451955e-03,  7.9403371e-03,  9.1592651e-03,  4.1969307e-04,\n",
    "        9.2163216e-05,  1.0435515e-02,  7.1953703e-03,  9.4576534e-03,\n",
    "        8.1165181e-04,  1.8875040e-03, -4.1180290e-05, -4.2155315e-04,\n",
    "        4.6143681e-03,  4.1573653e-03], dtype=float32)"
   ]
  },
  {
   "cell_type": "markdown",
   "id": "c7113ed8",
   "metadata": {},
   "source": [
    "y_test = [-0.012154139395007313,\n",
    " 0.019022166559055975,\n",
    " 7.945139629006448e-05,\n",
    " 0.0066719327061957046,\n",
    " 0.003077161087438496,\n",
    " -0.00802325702118245,\n",
    " 0.009832668763525065,\n",
    " 0.024577913552578545,\n",
    " -0.006437740384699686,\n",
    " 0.003933928642679829,\n",
    " 0.012600841079968284,\n",
    " -0.010091711359132227,\n",
    " 0.014103911108376721,\n",
    " 0.012698357044814257,\n",
    " -0.002089855114387973,\n",
    " -0.0021689849869261923,\n",
    " -0.00224872980678148,\n",
    " 0.012546000760933262,\n",
    " 0.011500245331623304,\n",
    " 0.0046211756352296796,\n",
    " 0.002263416642797056,\n",
    " 0.01959643299833358,\n",
    " 0.01471847284778427,\n",
    " 0.01795523852305836,\n",
    " -0.009199707848613237,\n",
    " 0.013054977977341231,\n",
    " -0.004203711720665804,\n",
    " 0.007889269132515198,\n",
    " 0.024100484218248397,\n",
    " -0.004492109932034749]"
   ]
  },
  {
   "cell_type": "code",
   "execution_count": null,
   "id": "6a7463f6",
   "metadata": {},
   "outputs": [],
   "source": []
  }
 ],
 "metadata": {
  "kernelspec": {
   "display_name": "Python 3 (ipykernel)",
   "language": "python",
   "name": "python3"
  },
  "language_info": {
   "codemirror_mode": {
    "name": "ipython",
    "version": 3
   },
   "file_extension": ".py",
   "mimetype": "text/x-python",
   "name": "python",
   "nbconvert_exporter": "python",
   "pygments_lexer": "ipython3",
   "version": "3.8.6"
  }
 },
 "nbformat": 4,
 "nbformat_minor": 5
}
