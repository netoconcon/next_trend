{
  "nbformat": 4,
  "nbformat_minor": 5,
  "metadata": {
    "kernelspec": {
      "display_name": "Python 3 (ipykernel)",
      "language": "python",
      "name": "python3"
    },
    "language_info": {
      "codemirror_mode": {
        "name": "ipython",
        "version": 3
      },
      "file_extension": ".py",
      "mimetype": "text/x-python",
      "name": "python",
      "nbconvert_exporter": "python",
      "pygments_lexer": "ipython3",
      "version": "3.8.6"
    },
    "colab": {
      "name": "tanise_rodando_modelos.ipynb",
      "provenance": [],
      "collapsed_sections": [
        "61c45d0d"
      ]
    },
    "accelerator": "GPU"
  },
  "cells": [
    {
      "cell_type": "code",
      "metadata": {
        "id": "a39ae00f"
      },
      "source": [
        "# canonical import\n",
        "import pandas as pd"
      ],
      "id": "a39ae00f",
      "execution_count": 1,
      "outputs": []
    },
    {
      "cell_type": "markdown",
      "metadata": {
        "id": "9ea7b3e7"
      },
      "source": [
        "# importing data and dropping na"
      ],
      "id": "9ea7b3e7"
    },
    {
      "cell_type": "code",
      "metadata": {
        "colab": {
          "resources": {
            "http://localhost:8080/nbextensions/google.colab/files.js": {
              "data": "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",
              "ok": true,
              "headers": [
                [
                  "content-type",
                  "application/javascript"
                ]
              ],
              "status": 200,
              "status_text": "OK"
            }
          },
          "base_uri": "https://localhost:8080/",
          "height": 76
        },
        "id": "ksmlmtk9EObE",
        "outputId": "13f05a8f-4abb-4917-b7af-1c009ca8b792"
      },
      "source": [
        "from google.colab import files\n",
        "uploaded = files.upload()"
      ],
      "id": "ksmlmtk9EObE",
      "execution_count": 53,
      "outputs": [
        {
          "output_type": "display_data",
          "data": {
            "text/html": [
              "\n",
              "     <input type=\"file\" id=\"files-2f21b89c-92a4-4db1-baba-cad320a9fe9e\" name=\"files[]\" multiple disabled\n",
              "        style=\"border:none\" />\n",
              "     <output id=\"result-2f21b89c-92a4-4db1-baba-cad320a9fe9e\">\n",
              "      Upload widget is only available when the cell has been executed in the\n",
              "      current browser session. Please rerun this cell to enable.\n",
              "      </output>\n",
              "      <script src=\"/nbextensions/google.colab/files.js\"></script> "
            ],
            "text/plain": [
              "<IPython.core.display.HTML object>"
            ]
          },
          "metadata": {
            "tags": []
          }
        },
        {
          "output_type": "stream",
          "text": [
            "Saving GME.csv to GME.csv\n"
          ],
          "name": "stdout"
        }
      ]
    },
    {
      "cell_type": "code",
      "metadata": {
        "id": "b21a3332"
      },
      "source": [
        "reddit_df = pd.read_csv('reddit_with_sentiments_finbert.csv')\n",
        "reddit_df = reddit_df.dropna()\n"
      ],
      "id": "b21a3332",
      "execution_count": 3,
      "outputs": []
    },
    {
      "cell_type": "code",
      "metadata": {
        "id": "66ia_VFTdZeE"
      },
      "source": [
        "gme_df = pd.read_csv('GME.csv')"
      ],
      "id": "66ia_VFTdZeE",
      "execution_count": 54,
      "outputs": []
    },
    {
      "cell_type": "code",
      "metadata": {
        "colab": {
          "base_uri": "https://localhost:8080/",
          "height": 875
        },
        "id": "m0bYBeXJEiQL",
        "outputId": "4ceff7ba-7b6a-46a3-ebc5-13258d37bad2"
      },
      "source": [
        "reddit_df"
      ],
      "id": "m0bYBeXJEiQL",
      "execution_count": 4,
      "outputs": [
        {
          "output_type": "execute_result",
          "data": {
            "text/html": [
              "<div>\n",
              "<style scoped>\n",
              "    .dataframe tbody tr th:only-of-type {\n",
              "        vertical-align: middle;\n",
              "    }\n",
              "\n",
              "    .dataframe tbody tr th {\n",
              "        vertical-align: top;\n",
              "    }\n",
              "\n",
              "    .dataframe thead th {\n",
              "        text-align: right;\n",
              "    }\n",
              "</style>\n",
              "<table border=\"1\" class=\"dataframe\">\n",
              "  <thead>\n",
              "    <tr style=\"text-align: right;\">\n",
              "      <th></th>\n",
              "      <th>Unnamed: 0</th>\n",
              "      <th>title</th>\n",
              "      <th>score</th>\n",
              "      <th>id</th>\n",
              "      <th>url</th>\n",
              "      <th>comms_num</th>\n",
              "      <th>created</th>\n",
              "      <th>body</th>\n",
              "      <th>timestamp</th>\n",
              "      <th>body_unidecode</th>\n",
              "      <th>title_unidecode</th>\n",
              "      <th>stock_body</th>\n",
              "      <th>stock_title</th>\n",
              "      <th>body_size</th>\n",
              "      <th>title_sentiment_fin</th>\n",
              "      <th>body_sentiment</th>\n",
              "    </tr>\n",
              "  </thead>\n",
              "  <tbody>\n",
              "    <tr>\n",
              "      <th>4</th>\n",
              "      <td>12</td>\n",
              "      <td>Once you're done with GME - $AG and $SLV, the ...</td>\n",
              "      <td>0</td>\n",
              "      <td>l6u9wu</td>\n",
              "      <td>https://www.reddit.com/r/wallstreetbets/commen...</td>\n",
              "      <td>16</td>\n",
              "      <td>1.611861e+09</td>\n",
              "      <td>You guys are champs. GME... who would have tho...</td>\n",
              "      <td>2021-01-28 21:17:10</td>\n",
              "      <td>You guys are champs. GME... who would have tho...</td>\n",
              "      <td>Once you're done with GME - $AG and $SLV, the ...</td>\n",
              "      <td>GME</td>\n",
              "      <td>GME</td>\n",
              "      <td>260</td>\n",
              "      <td>neutral</td>\n",
              "      <td>neutral</td>\n",
              "    </tr>\n",
              "    <tr>\n",
              "      <th>5</th>\n",
              "      <td>13</td>\n",
              "      <td>$GME price has nothing to do with fundamentals...</td>\n",
              "      <td>382</td>\n",
              "      <td>l6u96y</td>\n",
              "      <td>https://www.reddit.com/r/wallstreetbets/commen...</td>\n",
              "      <td>61</td>\n",
              "      <td>1.611861e+09</td>\n",
              "      <td>Firstly, all of you diamond hands and smooth-b...</td>\n",
              "      <td>2021-01-28 21:15:58</td>\n",
              "      <td>Firstly, all of you diamond hands and smooth-b...</td>\n",
              "      <td>$GME price has nothing to do with fundamentals...</td>\n",
              "      <td>GME</td>\n",
              "      <td>GME</td>\n",
              "      <td>946</td>\n",
              "      <td>neutral</td>\n",
              "      <td>neutral</td>\n",
              "    </tr>\n",
              "    <tr>\n",
              "      <th>7</th>\n",
              "      <td>35</td>\n",
              "      <td>My brokerage wants to force close my GME calls</td>\n",
              "      <td>560</td>\n",
              "      <td>l6te9s</td>\n",
              "      <td>https://www.reddit.com/r/wallstreetbets/commen...</td>\n",
              "      <td>215</td>\n",
              "      <td>1.611858e+09</td>\n",
              "      <td>My brokerage called me and asked me to close m...</td>\n",
              "      <td>2021-01-28 20:18:32</td>\n",
              "      <td>My brokerage called me and asked me to close m...</td>\n",
              "      <td>My brokerage wants to force close my GME calls</td>\n",
              "      <td>GME</td>\n",
              "      <td>GME</td>\n",
              "      <td>248</td>\n",
              "      <td>negative</td>\n",
              "      <td>neutral</td>\n",
              "    </tr>\n",
              "    <tr>\n",
              "      <th>10</th>\n",
              "      <td>46</td>\n",
              "      <td>The real price for GME is infinity, but at tha...</td>\n",
              "      <td>235</td>\n",
              "      <td>l6t34h</td>\n",
              "      <td>https://www.reddit.com/r/wallstreetbets/commen...</td>\n",
              "      <td>120</td>\n",
              "      <td>1.611857e+09</td>\n",
              "      <td>Lets imagine GME has gone to 50,000. The marke...</td>\n",
              "      <td>2021-01-28 19:57:53</td>\n",
              "      <td>Lets imagine GME has gone to 50,000. The marke...</td>\n",
              "      <td>The real price for GME is infinity, but at tha...</td>\n",
              "      <td>GME</td>\n",
              "      <td>GME</td>\n",
              "      <td>206</td>\n",
              "      <td>neutral</td>\n",
              "      <td>neutral</td>\n",
              "    </tr>\n",
              "    <tr>\n",
              "      <th>18</th>\n",
              "      <td>67</td>\n",
              "      <td>Help an NRI (Indian) get on board the GME spac...</td>\n",
              "      <td>70</td>\n",
              "      <td>l6s977</td>\n",
              "      <td>https://www.reddit.com/r/wallstreetbets/commen...</td>\n",
              "      <td>74</td>\n",
              "      <td>1.611853e+09</td>\n",
              "      <td>Hello guys, \\n\\nI am new to the subreddit and ...</td>\n",
              "      <td>2021-01-28 19:00:16</td>\n",
              "      <td>Hello guys, \\n\\nI am new to the subreddit and ...</td>\n",
              "      <td>Help an NRI (Indian) get on board the GME spac...</td>\n",
              "      <td>GME</td>\n",
              "      <td>GME</td>\n",
              "      <td>101</td>\n",
              "      <td>neutral</td>\n",
              "      <td>neutral</td>\n",
              "    </tr>\n",
              "    <tr>\n",
              "      <th>...</th>\n",
              "      <td>...</td>\n",
              "      <td>...</td>\n",
              "      <td>...</td>\n",
              "      <td>...</td>\n",
              "      <td>...</td>\n",
              "      <td>...</td>\n",
              "      <td>...</td>\n",
              "      <td>...</td>\n",
              "      <td>...</td>\n",
              "      <td>...</td>\n",
              "      <td>...</td>\n",
              "      <td>...</td>\n",
              "      <td>...</td>\n",
              "      <td>...</td>\n",
              "      <td>...</td>\n",
              "      <td>...</td>\n",
              "    </tr>\n",
              "    <tr>\n",
              "      <th>6820</th>\n",
              "      <td>50107</td>\n",
              "      <td>Daily option statistics for WISH, CLOV, TSLA, ...</td>\n",
              "      <td>545</td>\n",
              "      <td>o7e1pj</td>\n",
              "      <td>https://www.reddit.com/r/wallstreetbets/commen...</td>\n",
              "      <td>149</td>\n",
              "      <td>1.624615e+09</td>\n",
              "      <td>Hey everyone,\\n\\nHere is the daily option stat...</td>\n",
              "      <td>2021-06-25 13:00:17</td>\n",
              "      <td>Hey everyone,\\n\\nHere is the daily option stat...</td>\n",
              "      <td>Daily option statistics for WISH, CLOV, TSLA, ...</td>\n",
              "      <td>GME</td>\n",
              "      <td>GME</td>\n",
              "      <td>120</td>\n",
              "      <td>neutral</td>\n",
              "      <td>neutral</td>\n",
              "    </tr>\n",
              "    <tr>\n",
              "      <th>6824</th>\n",
              "      <td>50243</td>\n",
              "      <td>Short Analysis for $WISH, $CLOV, $UWMC, $SPCE,...</td>\n",
              "      <td>769</td>\n",
              "      <td>o6rr8z</td>\n",
              "      <td>https://www.reddit.com/r/wallstreetbets/commen...</td>\n",
              "      <td>302</td>\n",
              "      <td>1.624531e+09</td>\n",
              "      <td>This post provides an updated snapshot of the ...</td>\n",
              "      <td>2021-06-24 13:34:13</td>\n",
              "      <td>This post provides an updated snapshot of the ...</td>\n",
              "      <td>Short Analysis for $WISH, $CLOV, $UWMC, $SPCE,...</td>\n",
              "      <td>GME</td>\n",
              "      <td>GME</td>\n",
              "      <td>198</td>\n",
              "      <td>neutral</td>\n",
              "      <td>neutral</td>\n",
              "    </tr>\n",
              "    <tr>\n",
              "      <th>6825</th>\n",
              "      <td>50245</td>\n",
              "      <td>Daily option statistics for CLOV, WISH, AMC, W...</td>\n",
              "      <td>524</td>\n",
              "      <td>o6rcv1</td>\n",
              "      <td>https://www.reddit.com/r/wallstreetbets/commen...</td>\n",
              "      <td>149</td>\n",
              "      <td>1.624529e+09</td>\n",
              "      <td>Hey guys, \\n\\nSorry for the delay. I have been...</td>\n",
              "      <td>2021-06-24 13:10:03</td>\n",
              "      <td>Hey guys, \\n\\nSorry for the delay. I have been...</td>\n",
              "      <td>Daily option statistics for CLOV, WISH, AMC, W...</td>\n",
              "      <td>GME</td>\n",
              "      <td>GME</td>\n",
              "      <td>135</td>\n",
              "      <td>neutral</td>\n",
              "      <td>neutral</td>\n",
              "    </tr>\n",
              "    <tr>\n",
              "      <th>6830</th>\n",
              "      <td>50452</td>\n",
              "      <td>Daily options statistics for WISH, CLOV, AMC, ...</td>\n",
              "      <td>945</td>\n",
              "      <td>o5vyg0</td>\n",
              "      <td>https://www.reddit.com/r/wallstreetbets/commen...</td>\n",
              "      <td>315</td>\n",
              "      <td>1.624421e+09</td>\n",
              "      <td>Hey guys,\\n\\nIts time for the daily option sta...</td>\n",
              "      <td>2021-06-23 07:04:52</td>\n",
              "      <td>Hey guys,\\n\\nIts time for the daily option sta...</td>\n",
              "      <td>Daily options statistics for WISH, CLOV, AMC, ...</td>\n",
              "      <td>GME</td>\n",
              "      <td>GME</td>\n",
              "      <td>158</td>\n",
              "      <td>neutral</td>\n",
              "      <td>neutral</td>\n",
              "    </tr>\n",
              "    <tr>\n",
              "      <th>6835</th>\n",
              "      <td>50607</td>\n",
              "      <td>Daily option statistics for WISH, AMC, BB, GME...</td>\n",
              "      <td>501</td>\n",
              "      <td>o542tb</td>\n",
              "      <td>https://www.reddit.com/r/wallstreetbets/commen...</td>\n",
              "      <td>152</td>\n",
              "      <td>1.624335e+09</td>\n",
              "      <td>Hey guys,\\n\\nIts time for the daily option sta...</td>\n",
              "      <td>2021-06-22 07:02:45</td>\n",
              "      <td>Hey guys,\\n\\nIts time for the daily option sta...</td>\n",
              "      <td>Daily option statistics for WISH, AMC, BB, GME...</td>\n",
              "      <td>GME</td>\n",
              "      <td>GME</td>\n",
              "      <td>131</td>\n",
              "      <td>neutral</td>\n",
              "      <td>negative</td>\n",
              "    </tr>\n",
              "  </tbody>\n",
              "</table>\n",
              "<p>2159 rows × 16 columns</p>\n",
              "</div>"
            ],
            "text/plain": [
              "      Unnamed: 0  ... body_sentiment\n",
              "4             12  ...        neutral\n",
              "5             13  ...        neutral\n",
              "7             35  ...        neutral\n",
              "10            46  ...        neutral\n",
              "18            67  ...        neutral\n",
              "...          ...  ...            ...\n",
              "6820       50107  ...        neutral\n",
              "6824       50243  ...        neutral\n",
              "6825       50245  ...        neutral\n",
              "6830       50452  ...        neutral\n",
              "6835       50607  ...       negative\n",
              "\n",
              "[2159 rows x 16 columns]"
            ]
          },
          "metadata": {
            "tags": []
          },
          "execution_count": 4
        }
      ]
    },
    {
      "cell_type": "code",
      "metadata": {
        "colab": {
          "base_uri": "https://localhost:8080/",
          "height": 36
        },
        "id": "uPO24EoqE9YM",
        "outputId": "6de69a70-fd44-423e-927f-dd181762cd72"
      },
      "source": [
        ""
      ],
      "id": "uPO24EoqE9YM",
      "execution_count": 37,
      "outputs": [
        {
          "output_type": "execute_result",
          "data": {
            "application/vnd.google.colaboratory.intrinsic+json": {
              "type": "string"
            },
            "text/plain": [
              "'2021-01-28 21:17:10'"
            ]
          },
          "metadata": {
            "tags": []
          },
          "execution_count": 37
        }
      ]
    },
    {
      "cell_type": "code",
      "metadata": {
        "id": "uhj2Ug8WSQTW"
      },
      "source": [
        "sentiment_df=pd.DataFrame()"
      ],
      "id": "uhj2Ug8WSQTW",
      "execution_count": 5,
      "outputs": []
    },
    {
      "cell_type": "code",
      "metadata": {
        "id": "tvt7J03oSZRZ"
      },
      "source": [
        "def classifying_sentiments(x):\n",
        "  if x =='positive':\n",
        "    return 1\n",
        "  if x =='neutral':\n",
        "    return 0\n",
        "  return -1"
      ],
      "id": "tvt7J03oSZRZ",
      "execution_count": 6,
      "outputs": []
    },
    {
      "cell_type": "code",
      "metadata": {
        "id": "EnqZo5LtTF4Z"
      },
      "source": [
        "reddit_df['classifying_sentiments_title'] = reddit_df['title_sentiment_fin'].map(lambda x: classifying_sentiments(x))\n",
        "reddit_df['classifying_sentiments_body'] = reddit_df['body_sentiment'].map(lambda x: classifying_sentiments(x))"
      ],
      "id": "EnqZo5LtTF4Z",
      "execution_count": 7,
      "outputs": []
    },
    {
      "cell_type": "code",
      "metadata": {
        "id": "dDLAAhW9Tl5e"
      },
      "source": [
        "#from datetime import datetime\n",
        "reddit_df['day'] = reddit_df['timestamp'].map(lambda x: x.split(\" \")[0])\n",
        "reddit_df['hour'] = reddit_df['timestamp'].map(lambda x: x.split(\" \")[1])"
      ],
      "id": "dDLAAhW9Tl5e",
      "execution_count": 11,
      "outputs": []
    },
    {
      "cell_type": "code",
      "metadata": {
        "colab": {
          "base_uri": "https://localhost:8080/",
          "height": 455
        },
        "id": "i3NNRiluSsEG",
        "outputId": "171df8ab-f74d-43c7-d610-221ea799f56e"
      },
      "source": [
        "import numpy as np\n",
        "reddit_df.groupby('day').agg({'score': [np.sum, np.mean], 'classifying_sentiments_title':[np.sum, np.mean]})"
      ],
      "id": "i3NNRiluSsEG",
      "execution_count": 13,
      "outputs": [
        {
          "output_type": "execute_result",
          "data": {
            "text/html": [
              "<div>\n",
              "<style scoped>\n",
              "    .dataframe tbody tr th:only-of-type {\n",
              "        vertical-align: middle;\n",
              "    }\n",
              "\n",
              "    .dataframe tbody tr th {\n",
              "        vertical-align: top;\n",
              "    }\n",
              "\n",
              "    .dataframe thead th {\n",
              "        text-align: right;\n",
              "    }\n",
              "</style>\n",
              "<table border=\"1\" class=\"dataframe\">\n",
              "  <thead>\n",
              "    <tr style=\"text-align: right;\">\n",
              "      <th></th>\n",
              "      <th>score</th>\n",
              "      <th>classifying_sentiments_title</th>\n",
              "    </tr>\n",
              "    <tr>\n",
              "      <th>day</th>\n",
              "      <th></th>\n",
              "      <th></th>\n",
              "    </tr>\n",
              "  </thead>\n",
              "  <tbody>\n",
              "    <tr>\n",
              "      <th>2021-01-28</th>\n",
              "      <td>19641</td>\n",
              "      <td>-3</td>\n",
              "    </tr>\n",
              "    <tr>\n",
              "      <th>2021-01-29</th>\n",
              "      <td>302906</td>\n",
              "      <td>-47</td>\n",
              "    </tr>\n",
              "    <tr>\n",
              "      <th>2021-01-30</th>\n",
              "      <td>319377</td>\n",
              "      <td>-9</td>\n",
              "    </tr>\n",
              "    <tr>\n",
              "      <th>2021-01-31</th>\n",
              "      <td>243896</td>\n",
              "      <td>-5</td>\n",
              "    </tr>\n",
              "    <tr>\n",
              "      <th>2021-02-01</th>\n",
              "      <td>179067</td>\n",
              "      <td>-7</td>\n",
              "    </tr>\n",
              "    <tr>\n",
              "      <th>...</th>\n",
              "      <td>...</td>\n",
              "      <td>...</td>\n",
              "    </tr>\n",
              "    <tr>\n",
              "      <th>2021-06-22</th>\n",
              "      <td>501</td>\n",
              "      <td>0</td>\n",
              "    </tr>\n",
              "    <tr>\n",
              "      <th>2021-06-23</th>\n",
              "      <td>945</td>\n",
              "      <td>0</td>\n",
              "    </tr>\n",
              "    <tr>\n",
              "      <th>2021-06-24</th>\n",
              "      <td>1293</td>\n",
              "      <td>0</td>\n",
              "    </tr>\n",
              "    <tr>\n",
              "      <th>2021-06-25</th>\n",
              "      <td>545</td>\n",
              "      <td>0</td>\n",
              "    </tr>\n",
              "    <tr>\n",
              "      <th>2021-06-26</th>\n",
              "      <td>309</td>\n",
              "      <td>0</td>\n",
              "    </tr>\n",
              "  </tbody>\n",
              "</table>\n",
              "<p>98 rows × 2 columns</p>\n",
              "</div>"
            ],
            "text/plain": [
              "             score  classifying_sentiments_title\n",
              "day                                             \n",
              "2021-01-28   19641                            -3\n",
              "2021-01-29  302906                           -47\n",
              "2021-01-30  319377                            -9\n",
              "2021-01-31  243896                            -5\n",
              "2021-02-01  179067                            -7\n",
              "...            ...                           ...\n",
              "2021-06-22     501                             0\n",
              "2021-06-23     945                             0\n",
              "2021-06-24    1293                             0\n",
              "2021-06-25     545                             0\n",
              "2021-06-26     309                             0\n",
              "\n",
              "[98 rows x 2 columns]"
            ]
          },
          "metadata": {
            "tags": []
          },
          "execution_count": 13
        }
      ]
    },
    {
      "cell_type": "code",
      "metadata": {
        "id": "jkOnSHPyi1XQ"
      },
      "source": [
        "reddit_df['datetime'] = pd.to_datetime(reddit_df['timestamp'])"
      ],
      "id": "jkOnSHPyi1XQ",
      "execution_count": 16,
      "outputs": []
    },
    {
      "cell_type": "code",
      "metadata": {
        "id": "tw5qXI0DjGoD"
      },
      "source": [
        "reddit_df['day'] = reddit_df['datetime'].dt.date"
      ],
      "id": "tw5qXI0DjGoD",
      "execution_count": 19,
      "outputs": []
    },
    {
      "cell_type": "code",
      "metadata": {
        "colab": {
          "base_uri": "https://localhost:8080/",
          "height": 404
        },
        "id": "Gp9mQlvcfHuc",
        "outputId": "f1dce99b-4063-4b85-b1c1-a94cf3ed9888"
      },
      "source": [
        "from datetime import datetime\n",
        "reddit_df['day'] = reddit_df['timestamp'].map(lambda x: datetime.strptime(x,'%y-%m-%d %H:%M:%S'))\n",
        "#date_time_obj = datetime. strptime(date_time_str, '%d/%m/%y %H:%M:%S')"
      ],
      "id": "Gp9mQlvcfHuc",
      "execution_count": 20,
      "outputs": [
        {
          "output_type": "error",
          "ename": "ValueError",
          "evalue": "ignored",
          "traceback": [
            "\u001b[0;31m---------------------------------------------------------------------------\u001b[0m",
            "\u001b[0;31mValueError\u001b[0m                                Traceback (most recent call last)",
            "\u001b[0;32m<ipython-input-20-9759f265cf47>\u001b[0m in \u001b[0;36m<module>\u001b[0;34m()\u001b[0m\n\u001b[1;32m      1\u001b[0m \u001b[0;32mfrom\u001b[0m \u001b[0mdatetime\u001b[0m \u001b[0;32mimport\u001b[0m \u001b[0mdatetime\u001b[0m\u001b[0;34m\u001b[0m\u001b[0;34m\u001b[0m\u001b[0m\n\u001b[0;32m----> 2\u001b[0;31m \u001b[0mreddit_df\u001b[0m\u001b[0;34m[\u001b[0m\u001b[0;34m'day'\u001b[0m\u001b[0;34m]\u001b[0m \u001b[0;34m=\u001b[0m \u001b[0mreddit_df\u001b[0m\u001b[0;34m[\u001b[0m\u001b[0;34m'timestamp'\u001b[0m\u001b[0;34m]\u001b[0m\u001b[0;34m.\u001b[0m\u001b[0mmap\u001b[0m\u001b[0;34m(\u001b[0m\u001b[0;32mlambda\u001b[0m \u001b[0mx\u001b[0m\u001b[0;34m:\u001b[0m \u001b[0mdatetime\u001b[0m\u001b[0;34m.\u001b[0m\u001b[0mstrptime\u001b[0m\u001b[0;34m(\u001b[0m\u001b[0mx\u001b[0m\u001b[0;34m,\u001b[0m\u001b[0;34m'%y-%m-%d %H:%M:%S'\u001b[0m\u001b[0;34m)\u001b[0m\u001b[0;34m)\u001b[0m\u001b[0;34m\u001b[0m\u001b[0;34m\u001b[0m\u001b[0m\n\u001b[0m\u001b[1;32m      3\u001b[0m \u001b[0;31m#date_time_obj = datetime. strptime(date_time_str, '%d/%m/%y %H:%M:%S')\u001b[0m\u001b[0;34m\u001b[0m\u001b[0;34m\u001b[0m\u001b[0;34m\u001b[0m\u001b[0m\n",
            "\u001b[0;32m/usr/local/lib/python3.7/dist-packages/pandas/core/series.py\u001b[0m in \u001b[0;36mmap\u001b[0;34m(self, arg, na_action)\u001b[0m\n\u001b[1;32m   3981\u001b[0m         \u001b[0mdtype\u001b[0m\u001b[0;34m:\u001b[0m \u001b[0mobject\u001b[0m\u001b[0;34m\u001b[0m\u001b[0;34m\u001b[0m\u001b[0m\n\u001b[1;32m   3982\u001b[0m         \"\"\"\n\u001b[0;32m-> 3983\u001b[0;31m         \u001b[0mnew_values\u001b[0m \u001b[0;34m=\u001b[0m \u001b[0msuper\u001b[0m\u001b[0;34m(\u001b[0m\u001b[0;34m)\u001b[0m\u001b[0;34m.\u001b[0m\u001b[0m_map_values\u001b[0m\u001b[0;34m(\u001b[0m\u001b[0marg\u001b[0m\u001b[0;34m,\u001b[0m \u001b[0mna_action\u001b[0m\u001b[0;34m=\u001b[0m\u001b[0mna_action\u001b[0m\u001b[0;34m)\u001b[0m\u001b[0;34m\u001b[0m\u001b[0;34m\u001b[0m\u001b[0m\n\u001b[0m\u001b[1;32m   3984\u001b[0m         return self._constructor(new_values, index=self.index).__finalize__(\n\u001b[1;32m   3985\u001b[0m             \u001b[0mself\u001b[0m\u001b[0;34m,\u001b[0m \u001b[0mmethod\u001b[0m\u001b[0;34m=\u001b[0m\u001b[0;34m\"map\"\u001b[0m\u001b[0;34m\u001b[0m\u001b[0;34m\u001b[0m\u001b[0m\n",
            "\u001b[0;32m/usr/local/lib/python3.7/dist-packages/pandas/core/base.py\u001b[0m in \u001b[0;36m_map_values\u001b[0;34m(self, mapper, na_action)\u001b[0m\n\u001b[1;32m   1158\u001b[0m \u001b[0;34m\u001b[0m\u001b[0m\n\u001b[1;32m   1159\u001b[0m         \u001b[0;31m# mapper is a function\u001b[0m\u001b[0;34m\u001b[0m\u001b[0;34m\u001b[0m\u001b[0;34m\u001b[0m\u001b[0m\n\u001b[0;32m-> 1160\u001b[0;31m         \u001b[0mnew_values\u001b[0m \u001b[0;34m=\u001b[0m \u001b[0mmap_f\u001b[0m\u001b[0;34m(\u001b[0m\u001b[0mvalues\u001b[0m\u001b[0;34m,\u001b[0m \u001b[0mmapper\u001b[0m\u001b[0;34m)\u001b[0m\u001b[0;34m\u001b[0m\u001b[0;34m\u001b[0m\u001b[0m\n\u001b[0m\u001b[1;32m   1161\u001b[0m \u001b[0;34m\u001b[0m\u001b[0m\n\u001b[1;32m   1162\u001b[0m         \u001b[0;32mreturn\u001b[0m \u001b[0mnew_values\u001b[0m\u001b[0;34m\u001b[0m\u001b[0;34m\u001b[0m\u001b[0m\n",
            "\u001b[0;32mpandas/_libs/lib.pyx\u001b[0m in \u001b[0;36mpandas._libs.lib.map_infer\u001b[0;34m()\u001b[0m\n",
            "\u001b[0;32m<ipython-input-20-9759f265cf47>\u001b[0m in \u001b[0;36m<lambda>\u001b[0;34m(x)\u001b[0m\n\u001b[1;32m      1\u001b[0m \u001b[0;32mfrom\u001b[0m \u001b[0mdatetime\u001b[0m \u001b[0;32mimport\u001b[0m \u001b[0mdatetime\u001b[0m\u001b[0;34m\u001b[0m\u001b[0;34m\u001b[0m\u001b[0m\n\u001b[0;32m----> 2\u001b[0;31m \u001b[0mreddit_df\u001b[0m\u001b[0;34m[\u001b[0m\u001b[0;34m'day'\u001b[0m\u001b[0;34m]\u001b[0m \u001b[0;34m=\u001b[0m \u001b[0mreddit_df\u001b[0m\u001b[0;34m[\u001b[0m\u001b[0;34m'timestamp'\u001b[0m\u001b[0;34m]\u001b[0m\u001b[0;34m.\u001b[0m\u001b[0mmap\u001b[0m\u001b[0;34m(\u001b[0m\u001b[0;32mlambda\u001b[0m \u001b[0mx\u001b[0m\u001b[0;34m:\u001b[0m \u001b[0mdatetime\u001b[0m\u001b[0;34m.\u001b[0m\u001b[0mstrptime\u001b[0m\u001b[0;34m(\u001b[0m\u001b[0mx\u001b[0m\u001b[0;34m,\u001b[0m\u001b[0;34m'%y-%m-%d %H:%M:%S'\u001b[0m\u001b[0;34m)\u001b[0m\u001b[0;34m)\u001b[0m\u001b[0;34m\u001b[0m\u001b[0;34m\u001b[0m\u001b[0m\n\u001b[0m\u001b[1;32m      3\u001b[0m \u001b[0;31m#date_time_obj = datetime. strptime(date_time_str, '%d/%m/%y %H:%M:%S')\u001b[0m\u001b[0;34m\u001b[0m\u001b[0;34m\u001b[0m\u001b[0;34m\u001b[0m\u001b[0m\n",
            "\u001b[0;32m/usr/lib/python3.7/_strptime.py\u001b[0m in \u001b[0;36m_strptime_datetime\u001b[0;34m(cls, data_string, format)\u001b[0m\n\u001b[1;32m    575\u001b[0m     \"\"\"Return a class cls instance based on the input string and the\n\u001b[1;32m    576\u001b[0m     format string.\"\"\"\n\u001b[0;32m--> 577\u001b[0;31m     \u001b[0mtt\u001b[0m\u001b[0;34m,\u001b[0m \u001b[0mfraction\u001b[0m\u001b[0;34m,\u001b[0m \u001b[0mgmtoff_fraction\u001b[0m \u001b[0;34m=\u001b[0m \u001b[0m_strptime\u001b[0m\u001b[0;34m(\u001b[0m\u001b[0mdata_string\u001b[0m\u001b[0;34m,\u001b[0m \u001b[0mformat\u001b[0m\u001b[0;34m)\u001b[0m\u001b[0;34m\u001b[0m\u001b[0;34m\u001b[0m\u001b[0m\n\u001b[0m\u001b[1;32m    578\u001b[0m     \u001b[0mtzname\u001b[0m\u001b[0;34m,\u001b[0m \u001b[0mgmtoff\u001b[0m \u001b[0;34m=\u001b[0m \u001b[0mtt\u001b[0m\u001b[0;34m[\u001b[0m\u001b[0;34m-\u001b[0m\u001b[0;36m2\u001b[0m\u001b[0;34m:\u001b[0m\u001b[0;34m]\u001b[0m\u001b[0;34m\u001b[0m\u001b[0;34m\u001b[0m\u001b[0m\n\u001b[1;32m    579\u001b[0m     \u001b[0margs\u001b[0m \u001b[0;34m=\u001b[0m \u001b[0mtt\u001b[0m\u001b[0;34m[\u001b[0m\u001b[0;34m:\u001b[0m\u001b[0;36m6\u001b[0m\u001b[0;34m]\u001b[0m \u001b[0;34m+\u001b[0m \u001b[0;34m(\u001b[0m\u001b[0mfraction\u001b[0m\u001b[0;34m,\u001b[0m\u001b[0;34m)\u001b[0m\u001b[0;34m\u001b[0m\u001b[0;34m\u001b[0m\u001b[0m\n",
            "\u001b[0;32m/usr/lib/python3.7/_strptime.py\u001b[0m in \u001b[0;36m_strptime\u001b[0;34m(data_string, format)\u001b[0m\n\u001b[1;32m    357\u001b[0m     \u001b[0;32mif\u001b[0m \u001b[0;32mnot\u001b[0m \u001b[0mfound\u001b[0m\u001b[0;34m:\u001b[0m\u001b[0;34m\u001b[0m\u001b[0;34m\u001b[0m\u001b[0m\n\u001b[1;32m    358\u001b[0m         raise ValueError(\"time data %r does not match format %r\" %\n\u001b[0;32m--> 359\u001b[0;31m                          (data_string, format))\n\u001b[0m\u001b[1;32m    360\u001b[0m     \u001b[0;32mif\u001b[0m \u001b[0mlen\u001b[0m\u001b[0;34m(\u001b[0m\u001b[0mdata_string\u001b[0m\u001b[0;34m)\u001b[0m \u001b[0;34m!=\u001b[0m \u001b[0mfound\u001b[0m\u001b[0;34m.\u001b[0m\u001b[0mend\u001b[0m\u001b[0;34m(\u001b[0m\u001b[0;34m)\u001b[0m\u001b[0;34m:\u001b[0m\u001b[0;34m\u001b[0m\u001b[0;34m\u001b[0m\u001b[0m\n\u001b[1;32m    361\u001b[0m         raise ValueError(\"unconverted data remains: %s\" %\n",
            "\u001b[0;31mValueError\u001b[0m: time data '2021-01-28 21:17:10' does not match format '%y-%m-%d %H:%M:%S'"
          ]
        }
      ]
    },
    {
      "cell_type": "code",
      "metadata": {
        "colab": {
          "base_uri": "https://localhost:8080/"
        },
        "id": "DmDg1ZvDUzB_",
        "outputId": "40ddc4f0-c0f0-45ef-dee0-b18662e56955"
      },
      "source": [
        "reddit_df.info()"
      ],
      "id": "DmDg1ZvDUzB_",
      "execution_count": 21,
      "outputs": [
        {
          "output_type": "stream",
          "text": [
            "<class 'pandas.core.frame.DataFrame'>\n",
            "Int64Index: 2159 entries, 4 to 6835\n",
            "Data columns (total 22 columns):\n",
            " #   Column                        Non-Null Count  Dtype         \n",
            "---  ------                        --------------  -----         \n",
            " 0   Unnamed: 0                    2159 non-null   int64         \n",
            " 1   title                         2159 non-null   object        \n",
            " 2   score                         2159 non-null   int64         \n",
            " 3   id                            2159 non-null   object        \n",
            " 4   url                           2159 non-null   object        \n",
            " 5   comms_num                     2159 non-null   int64         \n",
            " 6   created                       2159 non-null   float64       \n",
            " 7   body                          2159 non-null   object        \n",
            " 8   timestamp                     2159 non-null   object        \n",
            " 9   body_unidecode                2159 non-null   object        \n",
            " 10  title_unidecode               2159 non-null   object        \n",
            " 11  stock_body                    2159 non-null   object        \n",
            " 12  stock_title                   2159 non-null   object        \n",
            " 13  body_size                     2159 non-null   int64         \n",
            " 14  title_sentiment_fin           2159 non-null   object        \n",
            " 15  body_sentiment                2159 non-null   object        \n",
            " 16  classifying_sentiments_title  2159 non-null   int64         \n",
            " 17  classifying_sentiments_body   2159 non-null   int64         \n",
            " 18  day                           2159 non-null   object        \n",
            " 19  hour                          2159 non-null   object        \n",
            " 20  datetime                      2159 non-null   datetime64[ns]\n",
            " 21  time                          2159 non-null   object        \n",
            "dtypes: datetime64[ns](1), float64(1), int64(6), object(14)\n",
            "memory usage: 387.9+ KB\n"
          ],
          "name": "stdout"
        }
      ]
    },
    {
      "cell_type": "code",
      "metadata": {
        "id": "Yv28Y8-IkGBt"
      },
      "source": [
        "reddit_df['time'] = reddit_df['datetime'].dt.time"
      ],
      "id": "Yv28Y8-IkGBt",
      "execution_count": 18,
      "outputs": []
    },
    {
      "cell_type": "code",
      "metadata": {
        "colab": {
          "base_uri": "https://localhost:8080/"
        },
        "id": "oIJIbLB1Vrou",
        "outputId": "190bba7b-cdca-4598-b058-ec31a41f6d92"
      },
      "source": [
        "reddit_df['time']"
      ],
      "id": "oIJIbLB1Vrou",
      "execution_count": 26,
      "outputs": [
        {
          "output_type": "execute_result",
          "data": {
            "text/plain": [
              "4       21:17:10\n",
              "5       21:15:58\n",
              "7       20:18:32\n",
              "10      19:57:53\n",
              "18      19:00:16\n",
              "          ...   \n",
              "6820    13:00:17\n",
              "6824    13:34:13\n",
              "6825    13:10:03\n",
              "6830    07:04:52\n",
              "6835    07:02:45\n",
              "Name: time, Length: 2159, dtype: object"
            ]
          },
          "metadata": {
            "tags": []
          },
          "execution_count": 26
        }
      ]
    },
    {
      "cell_type": "code",
      "metadata": {
        "colab": {
          "base_uri": "https://localhost:8080/",
          "height": 192
        },
        "id": "KjOjDEibmdPp",
        "outputId": "0d157c06-fb6a-4a92-9868-ffbf368cedda"
      },
      "source": [
        "#datetime.strptime(reddit_df['hour'][4], \"%H:%M:%S\") > datetime.datetime.strptime(hora, \"%H:%M:%S\")\n",
        "#pd.datetime.time(pd.datetime(hora))"
      ],
      "id": "KjOjDEibmdPp",
      "execution_count": 23,
      "outputs": [
        {
          "output_type": "error",
          "ename": "AttributeError",
          "evalue": "ignored",
          "traceback": [
            "\u001b[0;31m---------------------------------------------------------------------------\u001b[0m",
            "\u001b[0;31mAttributeError\u001b[0m                            Traceback (most recent call last)",
            "\u001b[0;32m<ipython-input-23-cd5d8715353e>\u001b[0m in \u001b[0;36m<module>\u001b[0;34m()\u001b[0m\n\u001b[0;32m----> 1\u001b[0;31m \u001b[0mdatetime\u001b[0m\u001b[0;34m.\u001b[0m\u001b[0mstrptime\u001b[0m\u001b[0;34m(\u001b[0m\u001b[0mreddit_df\u001b[0m\u001b[0;34m[\u001b[0m\u001b[0;34m'hour'\u001b[0m\u001b[0;34m]\u001b[0m\u001b[0;34m[\u001b[0m\u001b[0;36m4\u001b[0m\u001b[0;34m]\u001b[0m\u001b[0;34m,\u001b[0m \u001b[0;34m\"%H:%M:%S\"\u001b[0m\u001b[0;34m)\u001b[0m \u001b[0;34m>\u001b[0m \u001b[0mdatetime\u001b[0m\u001b[0;34m.\u001b[0m\u001b[0mdatetime\u001b[0m\u001b[0;34m.\u001b[0m\u001b[0mstrptime\u001b[0m\u001b[0;34m(\u001b[0m\u001b[0mhora\u001b[0m\u001b[0;34m,\u001b[0m \u001b[0;34m\"%H:%M:%S\"\u001b[0m\u001b[0;34m)\u001b[0m\u001b[0;34m\u001b[0m\u001b[0;34m\u001b[0m\u001b[0m\n\u001b[0m\u001b[1;32m      2\u001b[0m \u001b[0;31m#pd.datetime.time(pd.datetime(hora))\u001b[0m\u001b[0;34m\u001b[0m\u001b[0;34m\u001b[0m\u001b[0;34m\u001b[0m\u001b[0m\n",
            "\u001b[0;31mAttributeError\u001b[0m: type object 'datetime.datetime' has no attribute 'datetime'"
          ]
        }
      ]
    },
    {
      "cell_type": "code",
      "metadata": {
        "id": "YRtm3o_XVWIX"
      },
      "source": [
        "datetime.strptime(reddit_df['hour'][4], \"%H:%M:%S\") > datetime.datetime.strptime(hora, \"%H:%M:%S\")\n",
        "#pd.datetime.time(pd.datetime(hora))"
      ],
      "id": "YRtm3o_XVWIX",
      "execution_count": null,
      "outputs": []
    },
    {
      "cell_type": "code",
      "metadata": {
        "id": "3y9HizyvVYhf"
      },
      "source": [
        "#time_string = \"09:29:59\""
      ],
      "id": "3y9HizyvVYhf",
      "execution_count": 27,
      "outputs": []
    },
    {
      "cell_type": "code",
      "metadata": {
        "id": "K3FQTJ78X1UW"
      },
      "source": [
        "import datetime\n",
        "from datetime import timedelta"
      ],
      "id": "K3FQTJ78X1UW",
      "execution_count": 35,
      "outputs": []
    },
    {
      "cell_type": "code",
      "metadata": {
        "id": "ZK5VBBErXw9X"
      },
      "source": [
        "time_string = \"09:29:59\"\n",
        "hora_fim = datetime.datetime.strptime(time_string, \"%H:%M:%S\")"
      ],
      "id": "ZK5VBBErXw9X",
      "execution_count": 39,
      "outputs": []
    },
    {
      "cell_type": "code",
      "metadata": {
        "id": "TSuU5k3ZZ_ux"
      },
      "source": [
        "#datetime.datetime.strptime(reddit_df['time'], \"%H:%M:%S\")\n",
        "reddit_df['time']=reddit_df['time'].apply(lambda x:datetime.datetime.strptime(str(x),\"%H:%M:%S\"))"
      ],
      "id": "TSuU5k3ZZ_ux",
      "execution_count": 46,
      "outputs": []
    },
    {
      "cell_type": "code",
      "metadata": {
        "colab": {
          "base_uri": "https://localhost:8080/"
        },
        "id": "ykbdKBEZajBP",
        "outputId": "5dec8843-c6c3-4069-a86a-5727fb3b123c"
      },
      "source": [
        "reddit_df.info()"
      ],
      "id": "ykbdKBEZajBP",
      "execution_count": 47,
      "outputs": [
        {
          "output_type": "stream",
          "text": [
            "<class 'pandas.core.frame.DataFrame'>\n",
            "Int64Index: 2159 entries, 4 to 6835\n",
            "Data columns (total 22 columns):\n",
            " #   Column                        Non-Null Count  Dtype         \n",
            "---  ------                        --------------  -----         \n",
            " 0   Unnamed: 0                    2159 non-null   int64         \n",
            " 1   title                         2159 non-null   object        \n",
            " 2   score                         2159 non-null   int64         \n",
            " 3   id                            2159 non-null   object        \n",
            " 4   url                           2159 non-null   object        \n",
            " 5   comms_num                     2159 non-null   int64         \n",
            " 6   created                       2159 non-null   float64       \n",
            " 7   body                          2159 non-null   object        \n",
            " 8   timestamp                     2159 non-null   object        \n",
            " 9   body_unidecode                2159 non-null   object        \n",
            " 10  title_unidecode               2159 non-null   object        \n",
            " 11  stock_body                    2159 non-null   object        \n",
            " 12  stock_title                   2159 non-null   object        \n",
            " 13  body_size                     2159 non-null   int64         \n",
            " 14  title_sentiment_fin           2159 non-null   object        \n",
            " 15  body_sentiment                2159 non-null   object        \n",
            " 16  classifying_sentiments_title  2159 non-null   int64         \n",
            " 17  classifying_sentiments_body   2159 non-null   int64         \n",
            " 18  day                           2159 non-null   object        \n",
            " 19  hour                          2159 non-null   object        \n",
            " 20  datetime                      2159 non-null   datetime64[ns]\n",
            " 21  time                          2159 non-null   datetime64[ns]\n",
            "dtypes: datetime64[ns](2), float64(1), int64(6), object(13)\n",
            "memory usage: 467.9+ KB\n"
          ],
          "name": "stdout"
        }
      ]
    },
    {
      "cell_type": "code",
      "metadata": {
        "colab": {
          "base_uri": "https://localhost:8080/"
        },
        "id": "ITBNz4yQX6de",
        "outputId": "cb6c6038-cb77-4e32-c952-e5bd3654093a"
      },
      "source": [
        "reddit_df['datetime']- timedelta(days=1)"
      ],
      "id": "ITBNz4yQX6de",
      "execution_count": 38,
      "outputs": [
        {
          "output_type": "execute_result",
          "data": {
            "text/plain": [
              "4      2021-01-27 21:17:10\n",
              "5      2021-01-27 21:15:58\n",
              "7      2021-01-27 20:18:32\n",
              "10     2021-01-27 19:57:53\n",
              "18     2021-01-27 19:00:16\n",
              "               ...        \n",
              "6820   2021-06-24 13:00:17\n",
              "6824   2021-06-23 13:34:13\n",
              "6825   2021-06-23 13:10:03\n",
              "6830   2021-06-22 07:04:52\n",
              "6835   2021-06-21 07:02:45\n",
              "Name: datetime, Length: 2159, dtype: datetime64[ns]"
            ]
          },
          "metadata": {
            "tags": []
          },
          "execution_count": 38
        }
      ]
    },
    {
      "cell_type": "code",
      "metadata": {
        "colab": {
          "base_uri": "https://localhost:8080/"
        },
        "id": "cU9uCwJNZTS_",
        "outputId": "30e0390d-06d4-4515-80d4-61c786ee22c0"
      },
      "source": [
        "reddit_df.loc[(reddit_df['time']<hora_fim),'datetime']#=reddit_df['datetime']-timedelta(days=1)"
      ],
      "id": "cU9uCwJNZTS_",
      "execution_count": 51,
      "outputs": [
        {
          "output_type": "execute_result",
          "data": {
            "text/plain": [
              "74     2021-01-27 09:17:32\n",
              "75     2021-01-27 09:16:00\n",
              "81     2021-01-27 09:10:11\n",
              "85     2021-01-27 09:08:18\n",
              "214    2021-01-28 01:02:55\n",
              "               ...        \n",
              "6810   2021-06-18 02:09:36\n",
              "6814   2021-06-17 07:07:04\n",
              "6817   2021-06-25 07:54:35\n",
              "6830   2021-06-22 07:04:52\n",
              "6835   2021-06-21 07:02:45\n",
              "Name: datetime, Length: 1309, dtype: datetime64[ns]"
            ]
          },
          "metadata": {
            "tags": []
          },
          "execution_count": 51
        }
      ]
    },
    {
      "cell_type": "code",
      "metadata": {
        "id": "c8YAatLgbuc7"
      },
      "source": [
        "#group by por \n",
        "#reddit_df['day'] = reddit_df['timestamp'].map(lambda x: x.split(\" \")[0])\n",
        "reddit_day = reddit_df.groupby('day').agg({'score': [np.sum, np.mean], 'classifying_sentiments_title':[np.sum, np.mean]})"
      ],
      "id": "c8YAatLgbuc7",
      "execution_count": 71,
      "outputs": []
    },
    {
      "cell_type": "code",
      "metadata": {
        "colab": {
          "base_uri": "https://localhost:8080/"
        },
        "id": "BMgVLvoKeO6Y",
        "outputId": "f43ce02c-560b-4063-af98-c525f532db72"
      },
      "source": [
        "reddit_df['datetime']=reddit_df['datetime'].map(lambda x: str(x))\n",
        "reddit_df.info()"
      ],
      "id": "BMgVLvoKeO6Y",
      "execution_count": 68,
      "outputs": [
        {
          "output_type": "stream",
          "text": [
            "<class 'pandas.core.frame.DataFrame'>\n",
            "Int64Index: 2159 entries, 4 to 6835\n",
            "Data columns (total 23 columns):\n",
            " #   Column                        Non-Null Count  Dtype         \n",
            "---  ------                        --------------  -----         \n",
            " 0   Unnamed: 0                    2159 non-null   int64         \n",
            " 1   title                         2159 non-null   object        \n",
            " 2   score                         2159 non-null   int64         \n",
            " 3   id                            2159 non-null   object        \n",
            " 4   url                           2159 non-null   object        \n",
            " 5   comms_num                     2159 non-null   int64         \n",
            " 6   created                       2159 non-null   float64       \n",
            " 7   body                          2159 non-null   object        \n",
            " 8   timestamp                     2159 non-null   object        \n",
            " 9   body_unidecode                2159 non-null   object        \n",
            " 10  title_unidecode               2159 non-null   object        \n",
            " 11  stock_body                    2159 non-null   object        \n",
            " 12  stock_title                   2159 non-null   object        \n",
            " 13  body_size                     2159 non-null   int64         \n",
            " 14  title_sentiment_fin           2159 non-null   object        \n",
            " 15  body_sentiment                2159 non-null   object        \n",
            " 16  classifying_sentiments_title  2159 non-null   int64         \n",
            " 17  classifying_sentiments_body   2159 non-null   int64         \n",
            " 18  day                           2159 non-null   object        \n",
            " 19  hour                          2159 non-null   object        \n",
            " 20  datetime                      2159 non-null   object        \n",
            " 21  time                          2159 non-null   datetime64[ns]\n",
            " 22  Date                          2159 non-null   object        \n",
            "dtypes: datetime64[ns](1), float64(1), int64(6), object(15)\n",
            "memory usage: 484.8+ KB\n"
          ],
          "name": "stdout"
        }
      ]
    },
    {
      "cell_type": "code",
      "metadata": {
        "colab": {
          "base_uri": "https://localhost:8080/"
        },
        "id": "zuWKdfaKgJ1D",
        "outputId": "3855d095-5367-4b12-fa72-9d580f6d63da"
      },
      "source": [
        ""
      ],
      "id": "zuWKdfaKgJ1D",
      "execution_count": 73,
      "outputs": [
        {
          "output_type": "execute_result",
          "data": {
            "text/plain": [
              "day\n",
              "2021-01-28     19641.0\n",
              "2021-01-29    302906.0\n",
              "2021-01-30    319377.0\n",
              "2021-01-31    243896.0\n",
              "2021-02-01    179067.0\n",
              "                ...   \n",
              "2021-06-22       501.0\n",
              "2021-06-23       945.0\n",
              "2021-06-24      1293.0\n",
              "2021-06-25       545.0\n",
              "2021-06-26       309.0\n",
              "Name: sum, Length: 98, dtype: float64"
            ]
          },
          "metadata": {
            "tags": []
          },
          "execution_count": 73
        }
      ]
    },
    {
      "cell_type": "code",
      "metadata": {
        "id": "2wINNBMydQHr"
      },
      "source": [
        "reddit_df['Date'] =reddit_df['datetime'].map(lambda x: x.split()[0])\n",
        "reddit_df = reddit_df.merge(gme_df, how='outer', on='Date')\n"
      ],
      "id": "2wINNBMydQHr",
      "execution_count": 69,
      "outputs": []
    },
    {
      "cell_type": "code",
      "metadata": {
        "colab": {
          "base_uri": "https://localhost:8080/",
          "height": 782
        },
        "id": "lsk8CdH8ex9h",
        "outputId": "7e62041c-a870-4d5b-fdbb-b9bbe8f4754e"
      },
      "source": [
        "reddit_df.head()"
      ],
      "id": "lsk8CdH8ex9h",
      "execution_count": 70,
      "outputs": [
        {
          "output_type": "execute_result",
          "data": {
            "text/html": [
              "<div>\n",
              "<style scoped>\n",
              "    .dataframe tbody tr th:only-of-type {\n",
              "        vertical-align: middle;\n",
              "    }\n",
              "\n",
              "    .dataframe tbody tr th {\n",
              "        vertical-align: top;\n",
              "    }\n",
              "\n",
              "    .dataframe thead th {\n",
              "        text-align: right;\n",
              "    }\n",
              "</style>\n",
              "<table border=\"1\" class=\"dataframe\">\n",
              "  <thead>\n",
              "    <tr style=\"text-align: right;\">\n",
              "      <th></th>\n",
              "      <th>Unnamed: 0</th>\n",
              "      <th>title</th>\n",
              "      <th>score</th>\n",
              "      <th>id</th>\n",
              "      <th>url</th>\n",
              "      <th>comms_num</th>\n",
              "      <th>created</th>\n",
              "      <th>body</th>\n",
              "      <th>timestamp</th>\n",
              "      <th>body_unidecode</th>\n",
              "      <th>title_unidecode</th>\n",
              "      <th>stock_body</th>\n",
              "      <th>stock_title</th>\n",
              "      <th>body_size</th>\n",
              "      <th>title_sentiment_fin</th>\n",
              "      <th>body_sentiment</th>\n",
              "      <th>classifying_sentiments_title</th>\n",
              "      <th>classifying_sentiments_body</th>\n",
              "      <th>day</th>\n",
              "      <th>hour</th>\n",
              "      <th>datetime</th>\n",
              "      <th>time</th>\n",
              "      <th>Date</th>\n",
              "      <th>Open</th>\n",
              "      <th>High</th>\n",
              "      <th>Low</th>\n",
              "      <th>Close</th>\n",
              "      <th>Adj Close</th>\n",
              "      <th>Volume</th>\n",
              "    </tr>\n",
              "  </thead>\n",
              "  <tbody>\n",
              "    <tr>\n",
              "      <th>0</th>\n",
              "      <td>12.0</td>\n",
              "      <td>Once you're done with GME - $AG and $SLV, the ...</td>\n",
              "      <td>0.0</td>\n",
              "      <td>l6u9wu</td>\n",
              "      <td>https://www.reddit.com/r/wallstreetbets/commen...</td>\n",
              "      <td>16.0</td>\n",
              "      <td>1.611861e+09</td>\n",
              "      <td>You guys are champs. GME... who would have tho...</td>\n",
              "      <td>2021-01-28 21:17:10</td>\n",
              "      <td>You guys are champs. GME... who would have tho...</td>\n",
              "      <td>Once you're done with GME - $AG and $SLV, the ...</td>\n",
              "      <td>GME</td>\n",
              "      <td>GME</td>\n",
              "      <td>260.0</td>\n",
              "      <td>neutral</td>\n",
              "      <td>neutral</td>\n",
              "      <td>0.0</td>\n",
              "      <td>0.0</td>\n",
              "      <td>2021-01-28</td>\n",
              "      <td>21:17:10</td>\n",
              "      <td>2021-01-28 21:17:10</td>\n",
              "      <td>1900-01-01 21:17:10</td>\n",
              "      <td>2021-01-28</td>\n",
              "      <td>265.0</td>\n",
              "      <td>483.0</td>\n",
              "      <td>112.25</td>\n",
              "      <td>193.600006</td>\n",
              "      <td>193.600006</td>\n",
              "      <td>58815800.0</td>\n",
              "    </tr>\n",
              "    <tr>\n",
              "      <th>1</th>\n",
              "      <td>13.0</td>\n",
              "      <td>$GME price has nothing to do with fundamentals...</td>\n",
              "      <td>382.0</td>\n",
              "      <td>l6u96y</td>\n",
              "      <td>https://www.reddit.com/r/wallstreetbets/commen...</td>\n",
              "      <td>61.0</td>\n",
              "      <td>1.611861e+09</td>\n",
              "      <td>Firstly, all of you diamond hands and smooth-b...</td>\n",
              "      <td>2021-01-28 21:15:58</td>\n",
              "      <td>Firstly, all of you diamond hands and smooth-b...</td>\n",
              "      <td>$GME price has nothing to do with fundamentals...</td>\n",
              "      <td>GME</td>\n",
              "      <td>GME</td>\n",
              "      <td>946.0</td>\n",
              "      <td>neutral</td>\n",
              "      <td>neutral</td>\n",
              "      <td>0.0</td>\n",
              "      <td>0.0</td>\n",
              "      <td>2021-01-28</td>\n",
              "      <td>21:15:58</td>\n",
              "      <td>2021-01-28 21:15:58</td>\n",
              "      <td>1900-01-01 21:15:58</td>\n",
              "      <td>2021-01-28</td>\n",
              "      <td>265.0</td>\n",
              "      <td>483.0</td>\n",
              "      <td>112.25</td>\n",
              "      <td>193.600006</td>\n",
              "      <td>193.600006</td>\n",
              "      <td>58815800.0</td>\n",
              "    </tr>\n",
              "    <tr>\n",
              "      <th>2</th>\n",
              "      <td>35.0</td>\n",
              "      <td>My brokerage wants to force close my GME calls</td>\n",
              "      <td>560.0</td>\n",
              "      <td>l6te9s</td>\n",
              "      <td>https://www.reddit.com/r/wallstreetbets/commen...</td>\n",
              "      <td>215.0</td>\n",
              "      <td>1.611858e+09</td>\n",
              "      <td>My brokerage called me and asked me to close m...</td>\n",
              "      <td>2021-01-28 20:18:32</td>\n",
              "      <td>My brokerage called me and asked me to close m...</td>\n",
              "      <td>My brokerage wants to force close my GME calls</td>\n",
              "      <td>GME</td>\n",
              "      <td>GME</td>\n",
              "      <td>248.0</td>\n",
              "      <td>negative</td>\n",
              "      <td>neutral</td>\n",
              "      <td>-1.0</td>\n",
              "      <td>0.0</td>\n",
              "      <td>2021-01-28</td>\n",
              "      <td>20:18:32</td>\n",
              "      <td>2021-01-28 20:18:32</td>\n",
              "      <td>1900-01-01 20:18:32</td>\n",
              "      <td>2021-01-28</td>\n",
              "      <td>265.0</td>\n",
              "      <td>483.0</td>\n",
              "      <td>112.25</td>\n",
              "      <td>193.600006</td>\n",
              "      <td>193.600006</td>\n",
              "      <td>58815800.0</td>\n",
              "    </tr>\n",
              "    <tr>\n",
              "      <th>3</th>\n",
              "      <td>46.0</td>\n",
              "      <td>The real price for GME is infinity, but at tha...</td>\n",
              "      <td>235.0</td>\n",
              "      <td>l6t34h</td>\n",
              "      <td>https://www.reddit.com/r/wallstreetbets/commen...</td>\n",
              "      <td>120.0</td>\n",
              "      <td>1.611857e+09</td>\n",
              "      <td>Lets imagine GME has gone to 50,000. The marke...</td>\n",
              "      <td>2021-01-28 19:57:53</td>\n",
              "      <td>Lets imagine GME has gone to 50,000. The marke...</td>\n",
              "      <td>The real price for GME is infinity, but at tha...</td>\n",
              "      <td>GME</td>\n",
              "      <td>GME</td>\n",
              "      <td>206.0</td>\n",
              "      <td>neutral</td>\n",
              "      <td>neutral</td>\n",
              "      <td>0.0</td>\n",
              "      <td>0.0</td>\n",
              "      <td>2021-01-28</td>\n",
              "      <td>19:57:53</td>\n",
              "      <td>2021-01-28 19:57:53</td>\n",
              "      <td>1900-01-01 19:57:53</td>\n",
              "      <td>2021-01-28</td>\n",
              "      <td>265.0</td>\n",
              "      <td>483.0</td>\n",
              "      <td>112.25</td>\n",
              "      <td>193.600006</td>\n",
              "      <td>193.600006</td>\n",
              "      <td>58815800.0</td>\n",
              "    </tr>\n",
              "    <tr>\n",
              "      <th>4</th>\n",
              "      <td>67.0</td>\n",
              "      <td>Help an NRI (Indian) get on board the GME spac...</td>\n",
              "      <td>70.0</td>\n",
              "      <td>l6s977</td>\n",
              "      <td>https://www.reddit.com/r/wallstreetbets/commen...</td>\n",
              "      <td>74.0</td>\n",
              "      <td>1.611853e+09</td>\n",
              "      <td>Hello guys, \\n\\nI am new to the subreddit and ...</td>\n",
              "      <td>2021-01-28 19:00:16</td>\n",
              "      <td>Hello guys, \\n\\nI am new to the subreddit and ...</td>\n",
              "      <td>Help an NRI (Indian) get on board the GME spac...</td>\n",
              "      <td>GME</td>\n",
              "      <td>GME</td>\n",
              "      <td>101.0</td>\n",
              "      <td>neutral</td>\n",
              "      <td>neutral</td>\n",
              "      <td>0.0</td>\n",
              "      <td>0.0</td>\n",
              "      <td>2021-01-28</td>\n",
              "      <td>19:00:16</td>\n",
              "      <td>2021-01-28 19:00:16</td>\n",
              "      <td>1900-01-01 19:00:16</td>\n",
              "      <td>2021-01-28</td>\n",
              "      <td>265.0</td>\n",
              "      <td>483.0</td>\n",
              "      <td>112.25</td>\n",
              "      <td>193.600006</td>\n",
              "      <td>193.600006</td>\n",
              "      <td>58815800.0</td>\n",
              "    </tr>\n",
              "  </tbody>\n",
              "</table>\n",
              "</div>"
            ],
            "text/plain": [
              "   Unnamed: 0  ...      Volume\n",
              "0        12.0  ...  58815800.0\n",
              "1        13.0  ...  58815800.0\n",
              "2        35.0  ...  58815800.0\n",
              "3        46.0  ...  58815800.0\n",
              "4        67.0  ...  58815800.0\n",
              "\n",
              "[5 rows x 29 columns]"
            ]
          },
          "metadata": {
            "tags": []
          },
          "execution_count": 70
        }
      ]
    },
    {
      "cell_type": "code",
      "metadata": {
        "colab": {
          "base_uri": "https://localhost:8080/",
          "height": 486
        },
        "id": "axE3zOpBgauD",
        "outputId": "f51b5c2b-84be-491e-b2e8-9ce3adbf47ca"
      },
      "source": [
        "reddit_day = reddit_df.groupby('day').agg({'score': [np.sum, np.mean], 'classifying_sentiments_title':[np.sum, np.mean],'Close':np.mean,'Volume':np.mean})\n",
        "reddit_day"
      ],
      "id": "axE3zOpBgauD",
      "execution_count": 79,
      "outputs": [
        {
          "output_type": "execute_result",
          "data": {
            "text/html": [
              "<div>\n",
              "<style scoped>\n",
              "    .dataframe tbody tr th:only-of-type {\n",
              "        vertical-align: middle;\n",
              "    }\n",
              "\n",
              "    .dataframe tbody tr th {\n",
              "        vertical-align: top;\n",
              "    }\n",
              "\n",
              "    .dataframe thead tr th {\n",
              "        text-align: left;\n",
              "    }\n",
              "\n",
              "    .dataframe thead tr:last-of-type th {\n",
              "        text-align: right;\n",
              "    }\n",
              "</style>\n",
              "<table border=\"1\" class=\"dataframe\">\n",
              "  <thead>\n",
              "    <tr>\n",
              "      <th></th>\n",
              "      <th colspan=\"2\" halign=\"left\">score</th>\n",
              "      <th colspan=\"2\" halign=\"left\">classifying_sentiments_title</th>\n",
              "      <th>Close</th>\n",
              "      <th>Volume</th>\n",
              "    </tr>\n",
              "    <tr>\n",
              "      <th></th>\n",
              "      <th>sum</th>\n",
              "      <th>mean</th>\n",
              "      <th>sum</th>\n",
              "      <th>mean</th>\n",
              "      <th>mean</th>\n",
              "      <th>mean</th>\n",
              "    </tr>\n",
              "    <tr>\n",
              "      <th>day</th>\n",
              "      <th></th>\n",
              "      <th></th>\n",
              "      <th></th>\n",
              "      <th></th>\n",
              "      <th></th>\n",
              "      <th></th>\n",
              "    </tr>\n",
              "  </thead>\n",
              "  <tbody>\n",
              "    <tr>\n",
              "      <th>2021-01-28</th>\n",
              "      <td>19641.0</td>\n",
              "      <td>338.637931</td>\n",
              "      <td>-3.0</td>\n",
              "      <td>-0.051724</td>\n",
              "      <td>204.214489</td>\n",
              "      <td>6.120069e+07</td>\n",
              "    </tr>\n",
              "    <tr>\n",
              "      <th>2021-01-29</th>\n",
              "      <td>302906.0</td>\n",
              "      <td>535.169611</td>\n",
              "      <td>-47.0</td>\n",
              "      <td>-0.083039</td>\n",
              "      <td>204.743468</td>\n",
              "      <td>5.811618e+07</td>\n",
              "    </tr>\n",
              "    <tr>\n",
              "      <th>2021-01-30</th>\n",
              "      <td>319377.0</td>\n",
              "      <td>3397.627660</td>\n",
              "      <td>-9.0</td>\n",
              "      <td>-0.095745</td>\n",
              "      <td>325.000000</td>\n",
              "      <td>5.056610e+07</td>\n",
              "    </tr>\n",
              "    <tr>\n",
              "      <th>2021-01-31</th>\n",
              "      <td>243896.0</td>\n",
              "      <td>2622.537634</td>\n",
              "      <td>-5.0</td>\n",
              "      <td>-0.053763</td>\n",
              "      <td>NaN</td>\n",
              "      <td>NaN</td>\n",
              "    </tr>\n",
              "    <tr>\n",
              "      <th>2021-02-01</th>\n",
              "      <td>179067.0</td>\n",
              "      <td>2487.041667</td>\n",
              "      <td>-7.0</td>\n",
              "      <td>-0.097222</td>\n",
              "      <td>225.000000</td>\n",
              "      <td>3.738220e+07</td>\n",
              "    </tr>\n",
              "    <tr>\n",
              "      <th>...</th>\n",
              "      <td>...</td>\n",
              "      <td>...</td>\n",
              "      <td>...</td>\n",
              "      <td>...</td>\n",
              "      <td>...</td>\n",
              "      <td>...</td>\n",
              "    </tr>\n",
              "    <tr>\n",
              "      <th>2021-06-22</th>\n",
              "      <td>501.0</td>\n",
              "      <td>501.000000</td>\n",
              "      <td>0.0</td>\n",
              "      <td>0.000000</td>\n",
              "      <td>200.369995</td>\n",
              "      <td>5.120200e+06</td>\n",
              "    </tr>\n",
              "    <tr>\n",
              "      <th>2021-06-23</th>\n",
              "      <td>945.0</td>\n",
              "      <td>945.000000</td>\n",
              "      <td>0.0</td>\n",
              "      <td>0.000000</td>\n",
              "      <td>220.399994</td>\n",
              "      <td>8.200200e+06</td>\n",
              "    </tr>\n",
              "    <tr>\n",
              "      <th>2021-06-24</th>\n",
              "      <td>1293.0</td>\n",
              "      <td>646.500000</td>\n",
              "      <td>0.0</td>\n",
              "      <td>0.000000</td>\n",
              "      <td>212.309998</td>\n",
              "      <td>3.863300e+06</td>\n",
              "    </tr>\n",
              "    <tr>\n",
              "      <th>2021-06-25</th>\n",
              "      <td>545.0</td>\n",
              "      <td>545.000000</td>\n",
              "      <td>0.0</td>\n",
              "      <td>0.000000</td>\n",
              "      <td>209.509995</td>\n",
              "      <td>1.269270e+07</td>\n",
              "    </tr>\n",
              "    <tr>\n",
              "      <th>2021-06-26</th>\n",
              "      <td>309.0</td>\n",
              "      <td>309.000000</td>\n",
              "      <td>0.0</td>\n",
              "      <td>0.000000</td>\n",
              "      <td>209.509995</td>\n",
              "      <td>1.269270e+07</td>\n",
              "    </tr>\n",
              "  </tbody>\n",
              "</table>\n",
              "<p>98 rows × 6 columns</p>\n",
              "</div>"
            ],
            "text/plain": [
              "               score               ...       Close        Volume\n",
              "                 sum         mean  ...        mean          mean\n",
              "day                                ...                          \n",
              "2021-01-28   19641.0   338.637931  ...  204.214489  6.120069e+07\n",
              "2021-01-29  302906.0   535.169611  ...  204.743468  5.811618e+07\n",
              "2021-01-30  319377.0  3397.627660  ...  325.000000  5.056610e+07\n",
              "2021-01-31  243896.0  2622.537634  ...         NaN           NaN\n",
              "2021-02-01  179067.0  2487.041667  ...  225.000000  3.738220e+07\n",
              "...              ...          ...  ...         ...           ...\n",
              "2021-06-22     501.0   501.000000  ...  200.369995  5.120200e+06\n",
              "2021-06-23     945.0   945.000000  ...  220.399994  8.200200e+06\n",
              "2021-06-24    1293.0   646.500000  ...  212.309998  3.863300e+06\n",
              "2021-06-25     545.0   545.000000  ...  209.509995  1.269270e+07\n",
              "2021-06-26     309.0   309.000000  ...  209.509995  1.269270e+07\n",
              "\n",
              "[98 rows x 6 columns]"
            ]
          },
          "metadata": {
            "tags": []
          },
          "execution_count": 79
        }
      ]
    },
    {
      "cell_type": "code",
      "metadata": {
        "colab": {
          "base_uri": "https://localhost:8080/",
          "height": 455
        },
        "id": "qN2-RZ8-gs7W",
        "outputId": "17430a1f-7e10-4131-9e29-9ff0c1a25cce"
      },
      "source": [
        "reddit_day.columns = ['_'.join(col) for col in reddit_day.columns]\n",
        "reddit_day"
      ],
      "id": "qN2-RZ8-gs7W",
      "execution_count": 80,
      "outputs": [
        {
          "output_type": "execute_result",
          "data": {
            "text/html": [
              "<div>\n",
              "<style scoped>\n",
              "    .dataframe tbody tr th:only-of-type {\n",
              "        vertical-align: middle;\n",
              "    }\n",
              "\n",
              "    .dataframe tbody tr th {\n",
              "        vertical-align: top;\n",
              "    }\n",
              "\n",
              "    .dataframe thead th {\n",
              "        text-align: right;\n",
              "    }\n",
              "</style>\n",
              "<table border=\"1\" class=\"dataframe\">\n",
              "  <thead>\n",
              "    <tr style=\"text-align: right;\">\n",
              "      <th></th>\n",
              "      <th>score_sum</th>\n",
              "      <th>score_mean</th>\n",
              "      <th>classifying_sentiments_title_sum</th>\n",
              "      <th>classifying_sentiments_title_mean</th>\n",
              "      <th>Close_mean</th>\n",
              "      <th>Volume_mean</th>\n",
              "    </tr>\n",
              "    <tr>\n",
              "      <th>day</th>\n",
              "      <th></th>\n",
              "      <th></th>\n",
              "      <th></th>\n",
              "      <th></th>\n",
              "      <th></th>\n",
              "      <th></th>\n",
              "    </tr>\n",
              "  </thead>\n",
              "  <tbody>\n",
              "    <tr>\n",
              "      <th>2021-01-28</th>\n",
              "      <td>19641.0</td>\n",
              "      <td>338.637931</td>\n",
              "      <td>-3.0</td>\n",
              "      <td>-0.051724</td>\n",
              "      <td>204.214489</td>\n",
              "      <td>6.120069e+07</td>\n",
              "    </tr>\n",
              "    <tr>\n",
              "      <th>2021-01-29</th>\n",
              "      <td>302906.0</td>\n",
              "      <td>535.169611</td>\n",
              "      <td>-47.0</td>\n",
              "      <td>-0.083039</td>\n",
              "      <td>204.743468</td>\n",
              "      <td>5.811618e+07</td>\n",
              "    </tr>\n",
              "    <tr>\n",
              "      <th>2021-01-30</th>\n",
              "      <td>319377.0</td>\n",
              "      <td>3397.627660</td>\n",
              "      <td>-9.0</td>\n",
              "      <td>-0.095745</td>\n",
              "      <td>325.000000</td>\n",
              "      <td>5.056610e+07</td>\n",
              "    </tr>\n",
              "    <tr>\n",
              "      <th>2021-01-31</th>\n",
              "      <td>243896.0</td>\n",
              "      <td>2622.537634</td>\n",
              "      <td>-5.0</td>\n",
              "      <td>-0.053763</td>\n",
              "      <td>NaN</td>\n",
              "      <td>NaN</td>\n",
              "    </tr>\n",
              "    <tr>\n",
              "      <th>2021-02-01</th>\n",
              "      <td>179067.0</td>\n",
              "      <td>2487.041667</td>\n",
              "      <td>-7.0</td>\n",
              "      <td>-0.097222</td>\n",
              "      <td>225.000000</td>\n",
              "      <td>3.738220e+07</td>\n",
              "    </tr>\n",
              "    <tr>\n",
              "      <th>...</th>\n",
              "      <td>...</td>\n",
              "      <td>...</td>\n",
              "      <td>...</td>\n",
              "      <td>...</td>\n",
              "      <td>...</td>\n",
              "      <td>...</td>\n",
              "    </tr>\n",
              "    <tr>\n",
              "      <th>2021-06-22</th>\n",
              "      <td>501.0</td>\n",
              "      <td>501.000000</td>\n",
              "      <td>0.0</td>\n",
              "      <td>0.000000</td>\n",
              "      <td>200.369995</td>\n",
              "      <td>5.120200e+06</td>\n",
              "    </tr>\n",
              "    <tr>\n",
              "      <th>2021-06-23</th>\n",
              "      <td>945.0</td>\n",
              "      <td>945.000000</td>\n",
              "      <td>0.0</td>\n",
              "      <td>0.000000</td>\n",
              "      <td>220.399994</td>\n",
              "      <td>8.200200e+06</td>\n",
              "    </tr>\n",
              "    <tr>\n",
              "      <th>2021-06-24</th>\n",
              "      <td>1293.0</td>\n",
              "      <td>646.500000</td>\n",
              "      <td>0.0</td>\n",
              "      <td>0.000000</td>\n",
              "      <td>212.309998</td>\n",
              "      <td>3.863300e+06</td>\n",
              "    </tr>\n",
              "    <tr>\n",
              "      <th>2021-06-25</th>\n",
              "      <td>545.0</td>\n",
              "      <td>545.000000</td>\n",
              "      <td>0.0</td>\n",
              "      <td>0.000000</td>\n",
              "      <td>209.509995</td>\n",
              "      <td>1.269270e+07</td>\n",
              "    </tr>\n",
              "    <tr>\n",
              "      <th>2021-06-26</th>\n",
              "      <td>309.0</td>\n",
              "      <td>309.000000</td>\n",
              "      <td>0.0</td>\n",
              "      <td>0.000000</td>\n",
              "      <td>209.509995</td>\n",
              "      <td>1.269270e+07</td>\n",
              "    </tr>\n",
              "  </tbody>\n",
              "</table>\n",
              "<p>98 rows × 6 columns</p>\n",
              "</div>"
            ],
            "text/plain": [
              "            score_sum   score_mean  ...  Close_mean   Volume_mean\n",
              "day                                 ...                          \n",
              "2021-01-28    19641.0   338.637931  ...  204.214489  6.120069e+07\n",
              "2021-01-29   302906.0   535.169611  ...  204.743468  5.811618e+07\n",
              "2021-01-30   319377.0  3397.627660  ...  325.000000  5.056610e+07\n",
              "2021-01-31   243896.0  2622.537634  ...         NaN           NaN\n",
              "2021-02-01   179067.0  2487.041667  ...  225.000000  3.738220e+07\n",
              "...               ...          ...  ...         ...           ...\n",
              "2021-06-22      501.0   501.000000  ...  200.369995  5.120200e+06\n",
              "2021-06-23      945.0   945.000000  ...  220.399994  8.200200e+06\n",
              "2021-06-24     1293.0   646.500000  ...  212.309998  3.863300e+06\n",
              "2021-06-25      545.0   545.000000  ...  209.509995  1.269270e+07\n",
              "2021-06-26      309.0   309.000000  ...  209.509995  1.269270e+07\n",
              "\n",
              "[98 rows x 6 columns]"
            ]
          },
          "metadata": {
            "tags": []
          },
          "execution_count": 80
        }
      ]
    },
    {
      "cell_type": "code",
      "metadata": {
        "id": "kAzzATlShxC6"
      },
      "source": [
        "reddit_day.to_csv('reddit_day.csv')"
      ],
      "id": "kAzzATlShxC6",
      "execution_count": 81,
      "outputs": []
    },
    {
      "cell_type": "code",
      "metadata": {
        "scrolled": true,
        "id": "979f1922"
      },
      "source": [
        "# DO NOT DESTROY THIS CELLL\n",
        "\n",
        "# \" \".join(reddit_df.iloc[23594]['body'].split()[0:427])\n",
        "# \" \".join(reddit_df.iloc[23594]['body'].split()[427:-1])\n",
        "# print(classifier(\" \".join(reddit_df.iloc[23594]['body'].split()[0:427])))\n",
        "# print(classifier(\" \".join(reddit_df.iloc[23594]['body'].split()[-370:-1])))\n",
        "\n",
        "# \" \".join(reddit_df.iloc[23594]['body'].split()[-370:-1])\n"
      ],
      "id": "979f1922",
      "execution_count": null,
      "outputs": []
    }
  ]
}