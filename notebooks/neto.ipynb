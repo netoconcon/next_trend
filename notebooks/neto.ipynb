{
 "cells": [
  {
   "cell_type": "code",
   "execution_count": null,
   "id": "ed91c18c",
   "metadata": {},
   "outputs": [],
   "source": []
  },
  {
   "cell_type": "code",
   "execution_count": 1,
   "id": "a116c4aa",
   "metadata": {},
   "outputs": [],
   "source": [
    "import pandas as pd"
   ]
  },
  {
   "cell_type": "code",
   "execution_count": 2,
   "id": "bored-chuck",
   "metadata": {},
   "outputs": [],
   "source": [
    "%load_ext autoreload\n",
    "%autoreload 2\n",
    "\n",
    "from next_trend.reddit import Reddit\n",
    "\n",
    "reddit = Reddit()"
   ]
  },
  {
   "cell_type": "code",
   "execution_count": 3,
   "id": "44eb56b6",
   "metadata": {},
   "outputs": [],
   "source": [
    "hot = reddit.get_request(\"https://oauth.reddit.com/r/wallstreetbets/hot\", limit=10000)"
   ]
  },
  {
   "cell_type": "code",
   "execution_count": 4,
   "id": "e7755ba8",
   "metadata": {},
   "outputs": [],
   "source": [
    "df = pd.DataFrame()  # initialize dataframe\n",
    "\n",
    "for post in hot['data']['children']:\n",
    "    df = df.append({\n",
    "        'subreddit': post['data']['subreddit'],\n",
    "        'title': post['data']['title'],\n",
    "        'selftext': post['data']['selftext'],\n",
    "        'upvote_ratio': post['data']['upvote_ratio'],\n",
    "        'ups': post['data']['ups'],\n",
    "        'downs': post['data']['downs'],\n",
    "        'score': post['data']['score']\n",
    "    }, ignore_index=True)"
   ]
  },
  {
   "cell_type": "code",
   "execution_count": 10,
   "id": "95243530",
   "metadata": {},
   "outputs": [],
   "source": [
    "df.to_csv('20210708.csv')"
   ]
  },
  {
   "cell_type": "code",
   "execution_count": 6,
   "id": "c0f595ec",
   "metadata": {},
   "outputs": [
    {
     "data": {
      "text/plain": [
       "102"
      ]
     },
     "execution_count": 6,
     "metadata": {},
     "output_type": "execute_result"
    }
   ],
   "source": [
    "len(hot['data']['children'])"
   ]
  }
 ],
 "metadata": {
  "kernelspec": {
   "display_name": "Python 3 (ipykernel)",
   "language": "python",
   "name": "python3"
  },
  "language_info": {
   "codemirror_mode": {
    "name": "ipython",
    "version": 3
   },
   "file_extension": ".py",
   "mimetype": "text/x-python",
   "name": "python",
   "nbconvert_exporter": "python",
   "pygments_lexer": "ipython3",
   "version": "3.8.6"
  }
 },
 "nbformat": 4,
 "nbformat_minor": 5
}
