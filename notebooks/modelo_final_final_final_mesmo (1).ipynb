{
 "cells": [
  {
   "cell_type": "code",
   "execution_count": null,
   "id": "cb2436cd",
   "metadata": {},
   "outputs": [],
   "source": [
    "# !pip install seaborn"
   ]
  },
  {
   "cell_type": "code",
   "execution_count": 1,
   "id": "63cefc91",
   "metadata": {},
   "outputs": [],
   "source": [
    "# import toolkit\n",
    "import seaborn as sns\n",
    "import numpy as np\n",
    "import matplotlib.pyplot as plt\n",
    "from datetime import date\n",
    "import pandas as pd"
   ]
  },
  {
   "cell_type": "code",
   "execution_count": 2,
   "id": "0e8d2c49",
   "metadata": {},
   "outputs": [],
   "source": [
    "# import sentimental data\n",
    "amazon_df = pd.read_csv('amazon_df.csv')\n",
    "gme_df = pd.read_csv('gme_df.csv')\n",
    "kodak_df = pd.read_csv('kodak_df.csv')\n",
    "facebook_df = pd.read_csv('fb_df.csv')\n",
    "apple_df = pd.read_csv('new_data/aapl_df.csv')\n",
    "baba_df = pd.read_csv('new_data/baba_df.csv')\n",
    "goog_df = pd.read_csv('new_data/goog_df.csv')\n",
    "jnj_df = pd.read_csv('new_data/jnj_df.csv')\n",
    "pfe_df = pd.read_csv('new_data/pfe_df.csv')\n",
    "tsla_df = pd.read_csv('new_data/tsla_df.csv')"
   ]
  },
  {
   "cell_type": "code",
   "execution_count": 3,
   "id": "72949c5d",
   "metadata": {},
   "outputs": [],
   "source": [
    "# renaming columns\n",
    "amazon_df.rename({'0':'Date', '1':'Positive', '2':'Neutral', '3':'Negative', '4':'Sentimental Score'}, axis=1, inplace=True)\n",
    "gme_df.rename({'0':'Date', '1':'Positive', '2':'Neutral', '3':'Negative', '4':'Sentimental Score'}, axis=1, inplace=True)\n",
    "kodak_df.rename({'0':'Date', '1':'Positive', '2':'Neutral', '3':'Negative', '4':'Sentimental Score'}, axis=1, inplace=True)\n",
    "facebook_df.rename({'0':'Date', '1':'Positive', '2':'Neutral', '3':'Negative', '4':'Sentimental Score'}, axis=1, inplace=True)\n",
    "goog_df.rename({'0':'Date', '1':'Positive', '2':'Neutral', '3':'Negative', '4':'Sentimental Score'}, axis=1, inplace=True)\n",
    "apple_df.rename({'0':'Date', '1':'Positive', '2':'Neutral', '3':'Negative', '4':'Sentimental Score'}, axis=1, inplace=True)\n",
    "baba_df.rename({'0':'Date', '1':'Positive', '2':'Neutral', '3':'Negative', '4':'Sentimental Score'}, axis=1, inplace=True)\n",
    "jnj_df.rename({'0':'Date', '1':'Positive', '2':'Neutral', '3':'Negative', '4':'Sentimental Score'}, axis=1, inplace=True)\n",
    "pfe_df.rename({'0':'Date', '1':'Positive', '2':'Neutral', '3':'Negative', '4':'Sentimental Score'}, axis=1, inplace=True)\n",
    "tsla_df.rename({'0':'Date', '1':'Positive', '2':'Neutral', '3':'Negative', '4':'Sentimental Score'}, axis=1, inplace=True)\n",
    "\n",
    "# dropping columns\n",
    "\n",
    "amazon_df.drop(columns=['Unnamed: 0'], inplace=True)\n",
    "gme_df.drop(columns=['Unnamed: 0'], inplace=True)\n",
    "kodak_df.drop(columns=['Unnamed: 0'], inplace=True)\n",
    "facebook_df.drop(columns=['Unnamed: 0'], inplace=True)\n",
    "apple_df.drop(columns=['Unnamed: 0'], inplace=True)\n",
    "goog_df.drop(columns=['Unnamed: 0'], inplace=True)\n",
    "baba_df.drop(columns=['Unnamed: 0'], inplace=True)\n",
    "jnj_df.drop(columns=['Unnamed: 0'], inplace=True)\n",
    "pfe_df.drop(columns=['Unnamed: 0'], inplace=True)\n",
    "tsla_df.drop(columns=['Unnamed: 0'], inplace=True)"
   ]
  },
  {
   "cell_type": "code",
   "execution_count": 4,
   "id": "61bfdb74",
   "metadata": {},
   "outputs": [],
   "source": [
    "# import price data\n",
    "amazon_price_df = pd.read_csv('price/AMZN_1.csv')\n",
    "gme_price_df = pd.read_csv('price/GME_1.csv')\n",
    "kodak_price_df = pd.read_csv('price/KODK_1.csv')\n",
    "facebook_price_df = pd.read_csv('price/FB_1.csv')\n",
    "apple_price_df = pd.read_csv('price/AAPL.csv')\n",
    "baba_price_df = pd.read_csv('price/BABA.csv')\n",
    "goog_price_df = pd.read_csv('price/GOOG.csv')\n",
    "jnj_price_df = pd.read_csv('price/JNJ.csv')\n",
    "pfe_price_df = pd.read_csv('price/PFE.csv')\n",
    "tsla_price_df = pd.read_csv('price/TSLA.csv')"
   ]
  },
  {
   "cell_type": "markdown",
   "id": "e88b355a",
   "metadata": {},
   "source": []
  },
  {
   "cell_type": "code",
   "execution_count": 5,
   "id": "cf6d9313",
   "metadata": {},
   "outputs": [
    {
     "name": "stdout",
     "output_type": "stream",
     "text": [
      "(862, 11)\n",
      "(653, 11)\n",
      "(726, 11)\n",
      "(855, 11)\n"
     ]
    }
   ],
   "source": [
    "# merging DB\n",
    "\n",
    "amazon_df = pd.merge(amazon_df, amazon_price_df, how=\"outer\", on=[\"Date\", \"Date\"]).sort_values(by=\"Date\", ascending=True)\n",
    "gme_df = pd.merge(gme_df, gme_price_df, how=\"outer\", on=[\"Date\", \"Date\"] ).sort_values(by=\"Date\", ascending=True)\n",
    "kodak_df = pd.merge(kodak_df, kodak_price_df, how=\"outer\", on=[\"Date\", \"Date\"] ).sort_values(by=\"Date\", ascending=True)\n",
    "facebook_df = pd.merge(facebook_df, facebook_price_df, how=\"outer\", on=[\"Date\", \"Date\"] ).sort_values(by=\"Date\", ascending=True)\n",
    "apple_df = pd.merge(apple_df, apple_price_df, how=\"outer\", on=[\"Date\", \"Date\"] ).sort_values(by=\"Date\", ascending=True)\n",
    "baba_df = pd.merge(baba_df, baba_price_df, how=\"outer\", on=[\"Date\", \"Date\"] ).sort_values(by=\"Date\", ascending=True)\n",
    "goog_df = pd.merge(goog_df, goog_price_df, how=\"outer\", on=[\"Date\", \"Date\"] ).sort_values(by=\"Date\", ascending=True)\n",
    "jnj_df = pd.merge(jnj_df, jnj_price_df, how=\"outer\", on=[\"Date\", \"Date\"] ).sort_values(by=\"Date\", ascending=True)\n",
    "pfe_df = pd.merge(pfe_df, pfe_price_df, how=\"outer\", on=[\"Date\", \"Date\"] ).sort_values(by=\"Date\", ascending=True)\n",
    "tsla_df = pd.merge(tsla_df, tsla_price_df, how=\"outer\", on=[\"Date\", \"Date\"] ).sort_values(by=\"Date\", ascending=True)\n",
    "\n",
    "\n",
    "print(amazon_df.shape)\n",
    "print(kodak_df.shape)\n",
    "print(gme_df.shape)\n",
    "print(facebook_df.shape)"
   ]
  },
  {
   "cell_type": "code",
   "execution_count": 6,
   "id": "b5ddc82f",
   "metadata": {},
   "outputs": [
    {
     "data": {
      "text/html": [
       "<div>\n",
       "<style scoped>\n",
       "    .dataframe tbody tr th:only-of-type {\n",
       "        vertical-align: middle;\n",
       "    }\n",
       "\n",
       "    .dataframe tbody tr th {\n",
       "        vertical-align: top;\n",
       "    }\n",
       "\n",
       "    .dataframe thead th {\n",
       "        text-align: right;\n",
       "    }\n",
       "</style>\n",
       "<table border=\"1\" class=\"dataframe\">\n",
       "  <thead>\n",
       "    <tr style=\"text-align: right;\">\n",
       "      <th></th>\n",
       "      <th>Date</th>\n",
       "      <th>Positive</th>\n",
       "      <th>Neutral</th>\n",
       "      <th>Negative</th>\n",
       "      <th>Sentimental Score</th>\n",
       "      <th>Open</th>\n",
       "      <th>High</th>\n",
       "      <th>Low</th>\n",
       "      <th>Close</th>\n",
       "      <th>Adj Close</th>\n",
       "      <th>Volume</th>\n",
       "    </tr>\n",
       "  </thead>\n",
       "  <tbody>\n",
       "    <tr>\n",
       "      <th>783</th>\n",
       "      <td>2019-04-01</td>\n",
       "      <td>2.0</td>\n",
       "      <td>2.0</td>\n",
       "      <td>3.0</td>\n",
       "      <td>0.071</td>\n",
       "      <td>56.523998</td>\n",
       "      <td>57.840000</td>\n",
       "      <td>56.256001</td>\n",
       "      <td>57.835999</td>\n",
       "      <td>57.835999</td>\n",
       "      <td>40552000.0</td>\n",
       "    </tr>\n",
       "    <tr>\n",
       "      <th>782</th>\n",
       "      <td>2019-04-02</td>\n",
       "      <td>1.0</td>\n",
       "      <td>2.0</td>\n",
       "      <td>6.0</td>\n",
       "      <td>-0.611</td>\n",
       "      <td>57.660000</td>\n",
       "      <td>57.888000</td>\n",
       "      <td>56.776001</td>\n",
       "      <td>57.175999</td>\n",
       "      <td>57.175999</td>\n",
       "      <td>27394500.0</td>\n",
       "    </tr>\n",
       "    <tr>\n",
       "      <th>781</th>\n",
       "      <td>2019-04-03</td>\n",
       "      <td>5.0</td>\n",
       "      <td>3.0</td>\n",
       "      <td>2.0</td>\n",
       "      <td>0.750</td>\n",
       "      <td>57.464001</td>\n",
       "      <td>59.234001</td>\n",
       "      <td>57.433998</td>\n",
       "      <td>58.362000</td>\n",
       "      <td>58.362000</td>\n",
       "      <td>39597000.0</td>\n",
       "    </tr>\n",
       "    <tr>\n",
       "      <th>780</th>\n",
       "      <td>2019-04-04</td>\n",
       "      <td>4.0</td>\n",
       "      <td>17.0</td>\n",
       "      <td>31.0</td>\n",
       "      <td>-0.452</td>\n",
       "      <td>52.377998</td>\n",
       "      <td>54.240002</td>\n",
       "      <td>52.118000</td>\n",
       "      <td>53.556000</td>\n",
       "      <td>53.556000</td>\n",
       "      <td>118603500.0</td>\n",
       "    </tr>\n",
       "    <tr>\n",
       "      <th>779</th>\n",
       "      <td>2019-04-05</td>\n",
       "      <td>3.0</td>\n",
       "      <td>6.0</td>\n",
       "      <td>5.0</td>\n",
       "      <td>0.214</td>\n",
       "      <td>53.972000</td>\n",
       "      <td>55.220001</td>\n",
       "      <td>53.222000</td>\n",
       "      <td>54.992001</td>\n",
       "      <td>54.992001</td>\n",
       "      <td>65191500.0</td>\n",
       "    </tr>\n",
       "  </tbody>\n",
       "</table>\n",
       "</div>"
      ],
      "text/plain": [
       "           Date  Positive  Neutral  Negative  Sentimental Score       Open  \\\n",
       "783  2019-04-01       2.0      2.0       3.0              0.071  56.523998   \n",
       "782  2019-04-02       1.0      2.0       6.0             -0.611  57.660000   \n",
       "781  2019-04-03       5.0      3.0       2.0              0.750  57.464001   \n",
       "780  2019-04-04       4.0     17.0      31.0             -0.452  52.377998   \n",
       "779  2019-04-05       3.0      6.0       5.0              0.214  53.972000   \n",
       "\n",
       "          High        Low      Close  Adj Close       Volume  \n",
       "783  57.840000  56.256001  57.835999  57.835999   40552000.0  \n",
       "782  57.888000  56.776001  57.175999  57.175999   27394500.0  \n",
       "781  59.234001  57.433998  58.362000  58.362000   39597000.0  \n",
       "780  54.240002  52.118000  53.556000  53.556000  118603500.0  \n",
       "779  55.220001  53.222000  54.992001  54.992001   65191500.0  "
      ]
     },
     "execution_count": 6,
     "metadata": {},
     "output_type": "execute_result"
    }
   ],
   "source": [
    "tsla_df.head()"
   ]
  },
  {
   "cell_type": "code",
   "execution_count": 7,
   "id": "3491f80e",
   "metadata": {},
   "outputs": [],
   "source": [
    "facebook_df.drop(columns=['Date'],inplace=True)\n",
    "kodak_df.drop(columns=['Date'],inplace=True)\n",
    "gme_df.drop(columns=['Date'],inplace=True)\n",
    "amazon_df.drop(columns=['Date'],inplace=True)\n",
    "apple_df.drop(columns=['Date'],inplace=True)\n",
    "goog_df.drop(columns=['Date'],inplace=True)\n",
    "baba_df.drop(columns=['Date'],inplace=True)\n",
    "jnj_df.drop(columns=['Date'],inplace=True)\n",
    "pfe_df.drop(columns=['Date'],inplace=True)\n",
    "tsla_df.drop(columns=['Date'],inplace=True)\n"
   ]
  },
  {
   "cell_type": "code",
   "execution_count": 8,
   "id": "9490c24d",
   "metadata": {},
   "outputs": [],
   "source": [
    "from sklearn.impute import KNNImputer, SimpleImputer"
   ]
  },
  {
   "cell_type": "code",
   "execution_count": 9,
   "id": "09900575",
   "metadata": {},
   "outputs": [],
   "source": [
    "facebook_df['retorno'] = facebook_df['Close'].pct_change()\n",
    "kodak_df['retorno'] = kodak_df['Close'].pct_change()\n",
    "gme_df['retorno'] = gme_df['Close'].pct_change()\n",
    "amazon_df['retorno'] = amazon_df['Close'].pct_change()\n",
    "apple_df['retorno'] = apple_df['Close'].pct_change()\n",
    "goog_df['retorno'] = goog_df['Close'].pct_change()\n",
    "baba_df['retorno'] = baba_df['Close'].pct_change()\n",
    "jnj_df['retorno'] = jnj_df['Close'].pct_change()\n",
    "pfe_df['retorno'] = pfe_df['Close'].pct_change()\n",
    "tsla_df['retorno'] = tsla_df['Close'].pct_change()"
   ]
  },
  {
   "cell_type": "code",
   "execution_count": 10,
   "id": "0958d19b",
   "metadata": {},
   "outputs": [],
   "source": [
    "from sklearn.compose import ColumnTransformer\n",
    "from sklearn.pipeline import Pipeline\n",
    "from sklearn.preprocessing import MinMaxScaler\n",
    "preprocessor = ColumnTransformer([('imputer',  KNNImputer(n_neighbors=1),['Open','Low','Close', 'Volume']),('MinMax', MinMaxScaler(),['Open','Low','Close', 'Volume', 'Positive', 'Negative','Neutral','Sentimental Score'])], remainder='passthrough')\n",
    "filling_na = SimpleImputer(strategy=\"constant\", fill_value=-1000)\n",
    "my_pipeline = Pipeline(steps=[('preprocessor', preprocessor),('fill_na', filling_na)])"
   ]
  },
  {
   "cell_type": "code",
   "execution_count": 11,
   "id": "94cf230f",
   "metadata": {},
   "outputs": [],
   "source": [
    "# gme_np = my_pipeline.fit_transform(gme_df) \n",
    "# kodak_np = my_pipeline.fit_transform(kodak_df)\n",
    "# facebook_np = my_pipeline.fit_transform(facebook_df)\n",
    "# amazon_np = my_pipeline.fit_transform(amazon_df)\n",
    "# apple_np = my_pipeline.fit_transform(apple_df)\n",
    "# google_np = my_pipeline.fit_transform(goog_df)\n",
    "# baba_np = my_pipeline.fit_transform(baba_df)\n",
    "# jnj_np = my_pipeline.fit_transform(jnj_df)\n",
    "# pfe_np = my_pipeline.fit_transform(pfe_df)\n",
    "# tsla_np = my_pipeline.fit_transform(tsla_df)\n"
   ]
  },
  {
   "cell_type": "code",
   "execution_count": 12,
   "id": "493111f2",
   "metadata": {},
   "outputs": [],
   "source": [
    "# from tensorflow.keras import models\n",
    "# from tensorflow.keras import layers\n",
    "# from tensorflow.keras.optimizers import RMSprop\n",
    "# from tensorflow.keras.layers.experimental.preprocessing import Normalization\n",
    "# def init_model():\n",
    "#     #normalizar o x train\n",
    "#     normalizer = Normalization()\n",
    "#     model = models.Sequential()\n",
    "#     model.add(layers.Masking(mask_value=-1000.))\n",
    "#     normalizer.adapt(X_tesla_treino)\n",
    "#     model.add(layers.LSTM(20, return_sequences=True, activation='tanh'))\n",
    "#     model.add(layers.LSTM(10, return_sequences=False, activation='tanh'))\n",
    "#     model.add(layers.Dense(5, activation='relu'))\n",
    "#     model.add(layers.Dense(10, activation='linear'))\n",
    "    \n",
    "#   #  model.compile(loss='mse', \n",
    "#   #                optimizer='rmsprop', \n",
    "#   #                metrics=['mae'])\n",
    "#     model.compile(loss='mse', \n",
    "#                   optimizer=RMSprop(learning_rate=0.0003), \n",
    "#                   metrics=['mae'])\n",
    "    \n",
    "#     return model\n",
    "\n",
    "# #init_model().summary()"
   ]
  },
  {
   "cell_type": "code",
   "execution_count": 13,
   "id": "10bb2fed",
   "metadata": {},
   "outputs": [],
   "source": [
    "# model.fit(x_train,y_train,epochs=20)"
   ]
  },
  {
   "cell_type": "code",
   "execution_count": null,
   "id": "7de4229b",
   "metadata": {},
   "outputs": [],
   "source": []
  },
  {
   "cell_type": "markdown",
   "id": "0c50535c",
   "metadata": {},
   "source": [
    "### RNN COM UM ATIVO"
   ]
  },
  {
   "cell_type": "code",
   "execution_count": 14,
   "id": "22b28941",
   "metadata": {},
   "outputs": [],
   "source": [
    "apple_df = apple_df.dropna().reset_index()"
   ]
  },
  {
   "cell_type": "code",
   "execution_count": 15,
   "id": "1942015c",
   "metadata": {},
   "outputs": [
    {
     "data": {
      "text/plain": [
       "577"
      ]
     },
     "execution_count": 15,
     "metadata": {},
     "output_type": "execute_result"
    }
   ],
   "source": [
    "len(apple_df)"
   ]
  },
  {
   "cell_type": "code",
   "execution_count": 16,
   "id": "8b1ba56e",
   "metadata": {},
   "outputs": [],
   "source": [
    "y = apple_df['retorno']"
   ]
  },
  {
   "cell_type": "code",
   "execution_count": 17,
   "id": "e4957c91",
   "metadata": {},
   "outputs": [
    {
     "data": {
      "text/html": [
       "<div>\n",
       "<style scoped>\n",
       "    .dataframe tbody tr th:only-of-type {\n",
       "        vertical-align: middle;\n",
       "    }\n",
       "\n",
       "    .dataframe tbody tr th {\n",
       "        vertical-align: top;\n",
       "    }\n",
       "\n",
       "    .dataframe thead th {\n",
       "        text-align: right;\n",
       "    }\n",
       "</style>\n",
       "<table border=\"1\" class=\"dataframe\">\n",
       "  <thead>\n",
       "    <tr style=\"text-align: right;\">\n",
       "      <th></th>\n",
       "      <th>index</th>\n",
       "      <th>Positive</th>\n",
       "      <th>Neutral</th>\n",
       "      <th>Negative</th>\n",
       "      <th>Sentimental Score</th>\n",
       "      <th>Open</th>\n",
       "      <th>High</th>\n",
       "      <th>Low</th>\n",
       "      <th>Close</th>\n",
       "      <th>Adj Close</th>\n",
       "      <th>Volume</th>\n",
       "    </tr>\n",
       "  </thead>\n",
       "  <tbody>\n",
       "    <tr>\n",
       "      <th>0</th>\n",
       "      <td>816</td>\n",
       "      <td>4.0</td>\n",
       "      <td>1.0</td>\n",
       "      <td>4.0</td>\n",
       "      <td>0.111</td>\n",
       "      <td>47.772499</td>\n",
       "      <td>48.615002</td>\n",
       "      <td>47.762501</td>\n",
       "      <td>48.505001</td>\n",
       "      <td>47.429478</td>\n",
       "      <td>91062800.0</td>\n",
       "    </tr>\n",
       "    <tr>\n",
       "      <th>1</th>\n",
       "      <td>815</td>\n",
       "      <td>10.0</td>\n",
       "      <td>3.0</td>\n",
       "      <td>5.0</td>\n",
       "      <td>0.583</td>\n",
       "      <td>48.312500</td>\n",
       "      <td>49.125000</td>\n",
       "      <td>48.287498</td>\n",
       "      <td>48.837502</td>\n",
       "      <td>47.754612</td>\n",
       "      <td>93087200.0</td>\n",
       "    </tr>\n",
       "    <tr>\n",
       "      <th>2</th>\n",
       "      <td>814</td>\n",
       "      <td>10.0</td>\n",
       "      <td>2.0</td>\n",
       "      <td>6.0</td>\n",
       "      <td>0.444</td>\n",
       "      <td>48.697498</td>\n",
       "      <td>49.092499</td>\n",
       "      <td>48.285000</td>\n",
       "      <td>48.922501</td>\n",
       "      <td>47.837719</td>\n",
       "      <td>76457200.0</td>\n",
       "    </tr>\n",
       "    <tr>\n",
       "      <th>3</th>\n",
       "      <td>813</td>\n",
       "      <td>6.0</td>\n",
       "      <td>2.0</td>\n",
       "      <td>2.0</td>\n",
       "      <td>0.800</td>\n",
       "      <td>49.112499</td>\n",
       "      <td>49.275002</td>\n",
       "      <td>48.982498</td>\n",
       "      <td>49.250000</td>\n",
       "      <td>48.157959</td>\n",
       "      <td>74106400.0</td>\n",
       "    </tr>\n",
       "    <tr>\n",
       "      <th>4</th>\n",
       "      <td>810</td>\n",
       "      <td>7.0</td>\n",
       "      <td>0.0</td>\n",
       "      <td>1.0</td>\n",
       "      <td>1.125</td>\n",
       "      <td>49.105000</td>\n",
       "      <td>50.057499</td>\n",
       "      <td>49.084999</td>\n",
       "      <td>50.025002</td>\n",
       "      <td>48.915783</td>\n",
       "      <td>103526800.0</td>\n",
       "    </tr>\n",
       "    <tr>\n",
       "      <th>...</th>\n",
       "      <td>...</td>\n",
       "      <td>...</td>\n",
       "      <td>...</td>\n",
       "      <td>...</td>\n",
       "      <td>...</td>\n",
       "      <td>...</td>\n",
       "      <td>...</td>\n",
       "      <td>...</td>\n",
       "      <td>...</td>\n",
       "      <td>...</td>\n",
       "      <td>...</td>\n",
       "    </tr>\n",
       "    <tr>\n",
       "      <th>572</th>\n",
       "      <td>6</td>\n",
       "      <td>9.0</td>\n",
       "      <td>5.0</td>\n",
       "      <td>13.0</td>\n",
       "      <td>-0.037</td>\n",
       "      <td>142.750000</td>\n",
       "      <td>145.649994</td>\n",
       "      <td>142.649994</td>\n",
       "      <td>145.110001</td>\n",
       "      <td>145.110001</td>\n",
       "      <td>99788400.0</td>\n",
       "    </tr>\n",
       "    <tr>\n",
       "      <th>573</th>\n",
       "      <td>3</td>\n",
       "      <td>4.0</td>\n",
       "      <td>1.0</td>\n",
       "      <td>2.0</td>\n",
       "      <td>0.571</td>\n",
       "      <td>146.210007</td>\n",
       "      <td>146.320007</td>\n",
       "      <td>144.000000</td>\n",
       "      <td>144.500000</td>\n",
       "      <td>144.500000</td>\n",
       "      <td>76299700.0</td>\n",
       "    </tr>\n",
       "    <tr>\n",
       "      <th>574</th>\n",
       "      <td>2</td>\n",
       "      <td>20.0</td>\n",
       "      <td>2.0</td>\n",
       "      <td>2.0</td>\n",
       "      <td>1.208</td>\n",
       "      <td>144.029999</td>\n",
       "      <td>147.460007</td>\n",
       "      <td>143.630005</td>\n",
       "      <td>145.639999</td>\n",
       "      <td>145.639999</td>\n",
       "      <td>100827100.0</td>\n",
       "    </tr>\n",
       "    <tr>\n",
       "      <th>575</th>\n",
       "      <td>1</td>\n",
       "      <td>16.0</td>\n",
       "      <td>2.0</td>\n",
       "      <td>1.0</td>\n",
       "      <td>1.289</td>\n",
       "      <td>148.100006</td>\n",
       "      <td>149.570007</td>\n",
       "      <td>147.679993</td>\n",
       "      <td>149.149994</td>\n",
       "      <td>149.149994</td>\n",
       "      <td>127050800.0</td>\n",
       "    </tr>\n",
       "    <tr>\n",
       "      <th>576</th>\n",
       "      <td>0</td>\n",
       "      <td>14.0</td>\n",
       "      <td>3.0</td>\n",
       "      <td>0.0</td>\n",
       "      <td>1.412</td>\n",
       "      <td>149.240005</td>\n",
       "      <td>150.000000</td>\n",
       "      <td>147.089996</td>\n",
       "      <td>148.479996</td>\n",
       "      <td>148.479996</td>\n",
       "      <td>106820300.0</td>\n",
       "    </tr>\n",
       "  </tbody>\n",
       "</table>\n",
       "<p>577 rows × 11 columns</p>\n",
       "</div>"
      ],
      "text/plain": [
       "     index  Positive  Neutral  Negative  Sentimental Score        Open  \\\n",
       "0      816       4.0      1.0       4.0              0.111   47.772499   \n",
       "1      815      10.0      3.0       5.0              0.583   48.312500   \n",
       "2      814      10.0      2.0       6.0              0.444   48.697498   \n",
       "3      813       6.0      2.0       2.0              0.800   49.112499   \n",
       "4      810       7.0      0.0       1.0              1.125   49.105000   \n",
       "..     ...       ...      ...       ...                ...         ...   \n",
       "572      6       9.0      5.0      13.0             -0.037  142.750000   \n",
       "573      3       4.0      1.0       2.0              0.571  146.210007   \n",
       "574      2      20.0      2.0       2.0              1.208  144.029999   \n",
       "575      1      16.0      2.0       1.0              1.289  148.100006   \n",
       "576      0      14.0      3.0       0.0              1.412  149.240005   \n",
       "\n",
       "           High         Low       Close   Adj Close       Volume  \n",
       "0     48.615002   47.762501   48.505001   47.429478   91062800.0  \n",
       "1     49.125000   48.287498   48.837502   47.754612   93087200.0  \n",
       "2     49.092499   48.285000   48.922501   47.837719   76457200.0  \n",
       "3     49.275002   48.982498   49.250000   48.157959   74106400.0  \n",
       "4     50.057499   49.084999   50.025002   48.915783  103526800.0  \n",
       "..          ...         ...         ...         ...          ...  \n",
       "572  145.649994  142.649994  145.110001  145.110001   99788400.0  \n",
       "573  146.320007  144.000000  144.500000  144.500000   76299700.0  \n",
       "574  147.460007  143.630005  145.639999  145.639999  100827100.0  \n",
       "575  149.570007  147.679993  149.149994  149.149994  127050800.0  \n",
       "576  150.000000  147.089996  148.479996  148.479996  106820300.0  \n",
       "\n",
       "[577 rows x 11 columns]"
      ]
     },
     "execution_count": 17,
     "metadata": {},
     "output_type": "execute_result"
    }
   ],
   "source": [
    "X = apple_df.drop(columns=['retorno'])\n",
    "X"
   ]
  },
  {
   "cell_type": "code",
   "execution_count": 18,
   "id": "3a82de01",
   "metadata": {},
   "outputs": [],
   "source": [
    "X = my_pipeline.fit_transform(X)"
   ]
  },
  {
   "cell_type": "code",
   "execution_count": 19,
   "id": "0ae586f3",
   "metadata": {},
   "outputs": [
    {
     "data": {
      "text/plain": [
       "array([[4.77724991e+01, 4.77625008e+01, 4.85050011e+01, 9.10628000e+07,\n",
       "        3.71275222e-02, 4.94232381e-02, 4.89487422e-02, 1.19704405e-01,\n",
       "        7.69230769e-02, 7.69230769e-02, 1.81818182e-02, 4.58479532e-01,\n",
       "        8.16000000e+02, 4.86150017e+01, 4.74294777e+01],\n",
       "       [4.83125000e+01, 4.82874985e+01, 4.88375015e+01, 9.30872000e+07,\n",
       "        4.22518427e-02, 5.44178653e-02, 5.20907264e-02, 1.25016926e-01,\n",
       "        1.92307692e-01, 9.61538462e-02, 5.45454545e-02, 6.42495127e-01,\n",
       "        8.15000000e+02, 4.91250000e+01, 4.77546120e+01],\n",
       "       [4.86974983e+01, 4.82849998e+01, 4.89225006e+01, 7.64572000e+07,\n",
       "        4.59052713e-02, 5.43940943e-02, 5.28939306e-02, 8.13757341e-02,\n",
       "        1.92307692e-01, 1.15384615e-01, 3.63636364e-02, 5.88304094e-01,\n",
       "        8.14000000e+02, 4.90924988e+01, 4.78377190e+01],\n",
       "       [4.91124992e+01, 4.89824982e+01, 4.92500000e+01, 7.41064000e+07,\n",
       "        4.98434085e-02, 6.10298263e-02, 5.59886569e-02, 7.52066593e-02,\n",
       "        1.15384615e-01, 3.84615385e-02, 3.63636364e-02, 7.27095517e-01,\n",
       "        8.13000000e+02, 4.92750015e+01, 4.81579590e+01],\n",
       "       [4.91049995e+01, 4.90849991e+01, 5.00250015e+01, 1.03526800e+08,\n",
       "        4.97722404e-02, 6.20049807e-02, 6.33120831e-02, 1.52412993e-01,\n",
       "        1.34615385e-01, 1.92307692e-02, 0.00000000e+00, 8.53801170e-01,\n",
       "        8.10000000e+02, 5.00574989e+01, 4.89157829e+01],\n",
       "       [5.00800018e+01, 4.98074989e+01, 4.98750000e+01, 1.43072800e+08,\n",
       "        5.90244917e-02, 6.88785676e-02, 6.18946342e-02, 2.56191381e-01,\n",
       "        2.69230769e-01, 7.69230769e-02, 1.81818182e-02, 7.43469786e-01,\n",
       "        8.09000000e+02, 5.07125015e+01, 4.87691040e+01],\n",
       "       [4.96699982e+01, 4.95449982e+01, 5.01549988e+01, 8.67812000e+07,\n",
       "        5.51337758e-02, 6.63812359e-02, 6.45405004e-02, 1.08468438e-01,\n",
       "        3.84615385e-02, 9.61538462e-02, 1.09090909e-01, 4.60038986e-01,\n",
       "        8.08000000e+02, 5.01850014e+01, 4.90428886e+01],\n",
       "       [5.02125015e+01, 4.96100006e+01, 4.97374992e+01, 8.36032000e+07,\n",
       "        6.02818431e-02, 6.69996442e-02, 6.05953120e-02, 1.00128588e-01,\n",
       "        3.84615385e-02, 1.15384615e-01, 7.27272727e-02, 3.50097466e-01,\n",
       "        8.07000000e+02, 5.02500000e+01, 4.86346550e+01],\n",
       "       [4.97999992e+01, 4.90525017e+01, 4.97174988e+01, 1.11042800e+08,\n",
       "        5.63674165e-02, 6.16958128e-02, 6.04063164e-02, 1.72136818e-01,\n",
       "        1.15384615e-01, 0.00000000e+00, 1.81818182e-02, 9.72319688e-01,\n",
       "        8.06000000e+02, 5.00349998e+01, 4.86150894e+01],\n",
       "       [4.96450005e+01, 4.95024986e+01, 4.98074989e+01, 7.01464000e+07,\n",
       "        5.48965608e-02, 6.59769115e-02, 6.12567785e-02, 6.48146496e-02,\n",
       "        7.69230769e-02, 1.15384615e-01, 5.45454545e-02, 4.15204678e-01,\n",
       "        8.03000000e+02, 4.99625015e+01, 4.87030945e+01],\n",
       "       [4.98650017e+01, 4.96399994e+01, 4.98125000e+01, 1.02785600e+08,\n",
       "        5.69842550e-02, 6.72850411e-02, 6.13040365e-02, 1.50467903e-01,\n",
       "        7.69230769e-02, 5.76923077e-02, 3.63636364e-02, 5.66861598e-01,\n",
       "        8.02000000e+02, 5.03424988e+01, 4.87079887e+01],\n",
       "       [4.98849983e+01, 4.96525002e+01, 5.07825012e+01, 1.15627200e+08,\n",
       "        5.71740125e-02, 6.74039686e-02, 7.04701247e-02, 1.84167406e-01,\n",
       "        1.34615385e-01, 0.00000000e+00, 1.09090909e-01, 9.09941520e-01,\n",
       "        8.01000000e+02, 5.08450012e+01, 4.96564827e+01],\n",
       "       [5.07799988e+01, 5.06300011e+01, 5.09650002e+01, 9.67832000e+07,\n",
       "        6.56670891e-02, 7.67035381e-02, 7.21946599e-02, 1.34716135e-01,\n",
       "        5.76923077e-02, 3.84615385e-02, 3.63636364e-02, 6.10136452e-01,\n",
       "        8.00000000e+02, 5.10374985e+01, 4.98349380e+01],\n",
       "       [5.07075005e+01, 5.05849991e+01, 5.11324997e+01, 7.77580000e+07,\n",
       "        6.49791187e-02, 7.62754064e-02, 7.37774575e-02, 8.47893519e-02,\n",
       "        1.15384615e-01, 1.92307692e-02, 3.63636364e-02, 8.26900585e-01,\n",
       "        7.96000000e+02, 5.12350006e+01, 4.99987183e+01],\n",
       "       [5.11074982e+01, 5.09749985e+01, 5.18699989e+01, 9.32920000e+07,\n",
       "        6.87748835e-02, 7.99857113e-02, 8.07465034e-02, 1.25554372e-01,\n",
       "        5.76923077e-02, 3.84615385e-02, 7.27272727e-02, 6.53411306e-01,\n",
       "        7.95000000e+02, 5.19375000e+01, 5.07198715e+01],\n",
       "       [5.18400002e+01, 5.17625008e+01, 5.17900009e+01, 7.01624000e+07,\n",
       "        7.57259363e-02, 8.74777065e-02, 7.99905571e-02, 6.48566375e-02,\n",
       "        3.84615385e-02, 3.84615385e-02, 1.81818182e-02, 4.93177388e-01,\n",
       "        7.94000000e+02, 5.21199989e+01, 5.06416435e+01],\n",
       "       [5.17075005e+01, 5.12799988e+01, 5.13199997e+01, 7.41728000e+07,\n",
       "        7.44685850e-02, 8.28873674e-02, 7.55492507e-02, 7.53809091e-02,\n",
       "        1.34615385e-01, 1.92307692e-02, 0.00000000e+00, 8.53801170e-01,\n",
       "        7.93000000e+02, 5.19399986e+01, 5.01820679e+01],\n",
       "       [5.12249985e+01, 5.05299988e+01, 5.10750008e+01, 7.45964000e+07,\n",
       "        6.98898987e-02, 7.57521546e-02, 7.32341177e-02, 7.64925393e-02,\n",
       "        5.76923077e-02, 1.92307692e-02, 0.00000000e+00, 7.07602339e-01,\n",
       "        7.92000000e+02, 5.12500000e+01, 4.99424934e+01],\n",
       "       [5.10999985e+01, 5.09650002e+01, 5.11525002e+01, 8.88188000e+07,\n",
       "        6.87037154e-02, 7.98905911e-02, 7.39664531e-02, 1.13815600e-01,\n",
       "        1.53846154e-01, 0.00000000e+00, 5.45454545e-02, 9.46978558e-01,\n",
       "        7.89000000e+02, 5.14925003e+01, 5.00182762e+01],\n",
       "       [5.07649994e+01, 4.97775002e+01, 5.01674995e+01, 1.86139600e+08,\n",
       "        6.55247529e-02, 6.85931707e-02, 6.46586272e-02, 3.69209210e-01,\n",
       "        4.61538462e-01, 1.15384615e-01, 5.45454545e-02, 7.69590643e-01,\n",
       "        7.88000000e+02, 5.08499985e+01, 4.90551147e+01],\n",
       "       [5.24700012e+01, 5.23074989e+01, 5.26300011e+01, 2.59309200e+08,\n",
       "        8.17043102e-02, 9.26626105e-02, 8.79281919e-02, 5.61224158e-01,\n",
       "        5.38461538e-01, 7.69230769e-02, 1.81818182e-01, 8.42105263e-01,\n",
       "        7.87000000e+02, 5.38274994e+01, 5.14630127e+01],\n",
       "       [5.24599991e+01, 5.20325012e+01, 5.22874985e+01, 1.27985200e+08,\n",
       "        8.16093953e-02, 9.00463875e-02, 8.46916919e-02, 2.16597824e-01,\n",
       "        9.61538462e-02, 0.00000000e+00, 3.63636364e-02, 9.44249513e-01,\n",
       "        7.86000000e+02, 5.31624985e+01, 5.11281052e+01],\n",
       "       [5.27224998e+01, 5.25574989e+01, 5.29375000e+01, 8.35696000e+07,\n",
       "        8.41003874e-02, 9.50410147e-02, 9.08339226e-02, 1.00040413e-01,\n",
       "        3.84615385e-02, 0.00000000e+00, 9.09090909e-02, 8.60818713e-01,\n",
       "        7.85000000e+02, 5.29599991e+01, 5.17636948e+01],\n",
       "       [5.10724983e+01, 5.08750000e+01, 5.21199989e+01, 1.29772400e+08,\n",
       "        6.84427536e-02, 7.90343641e-02, 8.31088943e-02, 2.21287874e-01,\n",
       "        1.73076923e-01, 5.76923077e-02, 1.09090909e-01, 7.39961014e-01,\n",
       "        7.82000000e+02, 5.22099991e+01, 5.09643288e+01],\n",
       "       [5.14700012e+01, 5.02075005e+01, 5.07150002e+01, 1.55054800e+08,\n",
       "        7.22148440e-02, 7.26840290e-02, 6.98322690e-02, 2.87635083e-01,\n",
       "        9.61538462e-02, 1.92307692e-02, 7.27272727e-02, 8.05068226e-01,\n",
       "        7.81000000e+02, 5.18549995e+01, 4.95904770e+01],\n",
       "       [5.04749985e+01, 5.04375000e+01, 5.07249985e+01, 1.05358000e+08,\n",
       "        6.27727990e-02, 7.48721566e-02, 6.99267488e-02, 1.57218510e-01,\n",
       "        0.00000000e+00, 0.00000000e+00, 1.81818182e-02, 8.05068226e-01,\n",
       "        7.80000000e+02, 5.13349991e+01, 4.96002502e+01],\n",
       "       [5.00999985e+01, 4.91650009e+01, 5.01800003e+01, 1.39634400e+08,\n",
       "        5.92142491e-02, 6.27660875e-02, 6.47767540e-02, 2.47168177e-01,\n",
       "        3.84615385e-02, 3.84615385e-02, 5.45454545e-02, 5.82456140e-01,\n",
       "        7.79000000e+02, 5.04199982e+01, 4.90673370e+01],\n",
       "       [4.93549995e+01, 4.81925011e+01, 4.92949982e+01, 1.64834800e+08,\n",
       "        5.21446069e-02, 5.35140963e-02, 5.64138700e-02, 3.13300198e-01,\n",
       "        3.84615385e-02, 5.76923077e-02, 7.27272727e-02, 5.23586745e-01,\n",
       "        7.78000000e+02, 4.97125015e+01, 4.83875923e+01],\n",
       "       [4.69275017e+01, 4.57125015e+01, 4.64300003e+01, 2.29722400e+08,\n",
       "        2.91089479e-02, 2.99203302e-02, 2.93408906e-02, 4.83581150e-01,\n",
       "        1.53846154e-01, 3.07692308e-01, 5.45454545e-02, 2.85380117e-01,\n",
       "        7.75000000e+02, 4.73699989e+01, 4.55753288e+01],\n",
       "       [4.66025009e+01, 4.63525009e+01, 4.71650009e+01, 1.46118800e+08,\n",
       "        2.60248641e-02, 3.60090394e-02, 3.62863256e-02, 2.64184831e-01,\n",
       "        2.11538462e-01, 7.69230769e-02, 1.09090909e-01, 7.21637427e-01,\n",
       "        7.74000000e+02, 4.74249992e+01, 4.62967949e+01],\n",
       "       [4.65675011e+01, 4.65050011e+01, 4.77299995e+01, 1.06178800e+08,\n",
       "        2.56927342e-02, 3.74598674e-02, 4.16253160e-02, 1.59372491e-01,\n",
       "        3.84615385e-02, 7.69230769e-02, 3.63636364e-02, 3.66471735e-01,\n",
       "        7.73000000e+02, 4.79375000e+01, 4.68513908e+01],\n",
       "       [4.74775009e+01, 4.72099991e+01, 4.75200005e+01, 1.32125600e+08,\n",
       "        3.43281471e-02, 4.41669486e-02, 3.96409163e-02, 2.27463247e-01,\n",
       "        9.61538462e-02, 3.84615385e-02, 3.63636364e-02, 6.96686160e-01,\n",
       "        7.72000000e+02, 4.81175003e+01, 4.66452560e+01],\n",
       "       [4.67324982e+01, 4.66899986e+01, 4.72500000e+01, 1.31516400e+08,\n",
       "        2.72584686e-02, 3.92198634e-02, 3.70895298e-02, 2.25864557e-01,\n",
       "        9.61538462e-02, 7.69230769e-02, 1.81818182e-02, 5.12670565e-01,\n",
       "        7.71000000e+02, 4.77249985e+01, 4.63802299e+01],\n",
       "       [4.58800011e+01, 4.50699997e+01, 4.57724991e+01, 1.54449200e+08,\n",
       "        1.91687262e-02, 2.38078138e-02, 2.31277910e-02, 2.86045840e-01,\n",
       "        0.00000000e+00, 7.69230769e-02, 5.45454545e-02, 2.47953216e-01,\n",
       "        7.68000000e+02, 4.60875015e+01, 4.49299316e+01],\n",
       "       [4.63050003e+01, 4.61749992e+01, 4.66500015e+01, 1.13459200e+08,\n",
       "        2.32017421e-02, 3.43203564e-02, 3.14198061e-02, 1.78478043e-01,\n",
       "        5.76923077e-02, 1.15384615e-01, 7.27272727e-02, 4.00389864e-01,\n",
       "        7.67000000e+02, 4.70000000e+01, 4.57912750e+01],\n",
       "       [4.61650009e+01, 4.56375008e+01, 4.56949997e+01, 1.18994400e+08,\n",
       "        2.18732226e-02, 2.92068017e-02, 2.23954556e-02, 1.93003763e-01,\n",
       "        3.84615385e-02, 1.53846154e-01, 1.09090909e-01, 3.41910331e-01,\n",
       "        7.66000000e+02, 4.64275017e+01, 4.48538589e+01],\n",
       "       [4.49500008e+01, 4.44524994e+01, 4.49150009e+01, 1.46118800e+08,\n",
       "        1.03435197e-02, 1.79331523e-02, 1.50248075e-02, 2.64184831e-01,\n",
       "        1.92307692e-02, 3.84615385e-02, 9.09090909e-02, 5.85964912e-01,\n",
       "        7.65000000e+02, 4.51349983e+01, 4.40882149e+01],\n",
       "       [4.50499992e+01, 4.46549988e+01, 4.47425003e+01, 9.48588000e+07,\n",
       "        1.12924518e-02, 1.98596540e-02, 1.33947520e-02, 1.29666039e-01,\n",
       "        9.61538462e-02, 7.69230769e-02, 9.09090909e-02, 5.96101365e-01,\n",
       "        7.64000000e+02, 4.55349998e+01, 4.39188881e+01],\n",
       "       [4.47299995e+01, 4.44775009e+01, 4.45574989e+01, 1.11792800e+08,\n",
       "        8.25582550e-03, 1.81710073e-02, 1.16465698e-02, 1.74105001e-01,\n",
       "        1.53846154e-01, 1.73076923e-01, 9.09090909e-02, 4.77192982e-01,\n",
       "        7.60000000e+02, 4.51474991e+01, 4.37372932e+01],\n",
       "       [4.41049995e+01, 4.40000000e+01, 4.43450012e+01, 1.13924800e+08,\n",
       "        2.32490910e-03, 1.36282464e-02, 9.63855917e-03, 1.79699891e-01,\n",
       "        1.34615385e-01, 5.76923077e-02, 1.09090909e-01, 7.07602339e-01,\n",
       "        7.59000000e+02, 4.48375015e+01, 4.35287056e+01],\n",
       "       [4.44874992e+01, 4.41674995e+01, 4.45750008e+01, 8.48736000e+07,\n",
       "        5.95462704e-03, 1.52217729e-02, 1.18119545e-02, 1.03462429e-01,\n",
       "        1.73076923e-01, 1.15384615e-01, 7.27272727e-02, 5.89473684e-01,\n",
       "        7.58000000e+02, 4.48074989e+01, 4.37544746e+01],\n",
       "       [4.40574989e+01, 4.37475014e+01, 4.37675018e+01, 1.08174400e+08,\n",
       "        1.87415366e-03, 1.12260711e-02, 4.18144197e-03, 1.64609434e-01,\n",
       "        5.76923077e-02, 1.92307692e-02, 9.09090909e-02, 7.61793372e-01,\n",
       "        7.57000000e+02, 4.44975014e+01, 4.29618416e+01],\n",
       "       [4.39000015e+01, 4.25675011e+01, 4.33250008e+01, 1.61584400e+08,\n",
       "        3.79587338e-04, 0.00000000e+00, 0.00000000e+00, 3.04770352e-01,\n",
       "        7.88461538e-01, 2.69230769e-01, 3.81818182e-01, 7.30604288e-01,\n",
       "        7.54000000e+02, 4.44799995e+01, 4.25274811e+01],\n",
       "       [4.38600006e+01, 4.36300011e+01, 4.49099998e+01, 1.23872000e+08,\n",
       "        0.00000000e+00, 1.01082182e-02, 1.49775496e-02, 2.05803780e-01,\n",
       "        2.30769231e-01, 2.69230769e-01, 1.63636364e-01, 4.81871345e-01,\n",
       "        7.53000000e+02, 4.49575005e+01, 4.40833015e+01],\n",
       "       [4.60699997e+01, 4.52849998e+01, 4.56349983e+01, 1.19093600e+08,\n",
       "        2.09717117e-02, 2.58532429e-02, 2.18284688e-02, 1.93264088e-01,\n",
       "        2.11538462e-01, 2.50000000e-01, 1.45454545e-01, 4.76023392e-01,\n",
       "        7.52000000e+02, 4.62475014e+01, 4.47949562e+01],\n",
       "       [4.57700005e+01, 4.55374985e+01, 4.63050003e+01, 9.01052000e+07,\n",
       "        1.81248791e-02, 2.82554182e-02, 2.81596951e-02, 1.17191428e-01,\n",
       "        2.11538462e-01, 9.61538462e-02, 7.27272727e-02, 6.68615984e-01,\n",
       "        7.51000000e+02, 4.63675003e+01, 4.54526253e+01],\n",
       "       [4.66274986e+01, 4.64425011e+01, 4.75374985e+01, 1.22737600e+08,\n",
       "        2.62620790e-02, 3.68652664e-02, 3.98062649e-02, 2.02826837e-01,\n",
       "        1.53846154e-01, 3.84615385e-02, 1.27272727e-01, 7.82066277e-01,\n",
       "        7.50000000e+02, 4.79799995e+01, 4.66624413e+01],\n",
       "       [4.79524994e+01, 4.79049988e+01, 4.81450005e+01, 1.04883600e+08,\n",
       "        3.88356291e-02, 5.07789096e-02, 4.55468935e-02, 1.55973569e-01,\n",
       "        1.15384615e-01, 1.15384615e-01, 1.81818182e-02, 4.45224172e-01,\n",
       "        7.47000000e+02, 4.88424988e+01, 4.72587585e+01],\n",
       "       [4.87150002e+01, 4.84000015e+01, 4.87024994e+01, 1.07731600e+08,\n",
       "        4.60713543e-02, 5.54881762e-02, 5.08150151e-02, 1.63447418e-01,\n",
       "        1.73076923e-01, 7.69230769e-02, 7.27272727e-02, 6.78752437e-01,\n",
       "        7.46000000e+02, 4.90000000e+01, 4.78059959e+01],\n",
       "       [4.84874992e+01, 4.83474998e+01, 4.85475006e+01, 7.30128000e+07,\n",
       "        4.39124921e-02, 5.49886954e-02, 4.93503443e-02, 7.23367851e-02,\n",
       "        1.34615385e-01, 1.34615385e-01, 1.09090909e-01, 5.32163743e-01,\n",
       "        7.45000000e+02, 4.89925003e+01, 4.76538467e+01],\n",
       "       [4.86749992e+01, 4.84000015e+01, 4.85374985e+01, 8.66984000e+07,\n",
       "        4.56917670e-02, 5.54881762e-02, 4.92558285e-02, 1.08251151e-01,\n",
       "        9.61538462e-02, 1.15384615e-01, 1.45454545e-01, 5.48538012e-01,\n",
       "        7.44000000e+02, 4.91974983e+01, 4.76440315e+01],\n",
       "       [4.78875008e+01, 4.75750008e+01, 4.81850014e+01, 7.50460000e+07,\n",
       "        3.82188268e-02, 4.76394348e-02, 4.59248847e-02, 7.76723998e-02,\n",
       "        3.84615385e-02, 9.61538462e-02, 1.09090909e-01, 4.60038986e-01,\n",
       "        7.43000000e+02, 4.83974991e+01, 4.72980270e+01],\n",
       "       [4.82249985e+01, 4.80424995e+01, 4.84724998e+01, 5.86764000e+07,\n",
       "        4.14214999e-02, 5.20870392e-02, 4.86416198e-02, 3.47145609e-02,\n",
       "        1.53846154e-01, 9.61538462e-02, 9.09090909e-02, 6.21052632e-01,\n",
       "        7.40000000e+02, 4.87400017e+01, 4.75802231e+01],\n",
       "       [4.90125008e+01, 4.88025017e+01, 4.96124992e+01, 1.06204000e+08,\n",
       "        4.88944763e-02, 5.93174086e-02, 5.94141165e-02, 1.59438622e-01,\n",
       "        1.53846154e-01, 7.69230769e-02, 3.63636364e-02, 6.37816764e-01,\n",
       "        7.39000000e+02, 5.00724983e+01, 4.86992493e+01],\n",
       "       [4.99199982e+01, 4.93274994e+01, 4.94674988e+01, 8.44968000e+07,\n",
       "        5.75061423e-02, 6.43120358e-02, 5.80439255e-02, 1.02473613e-01,\n",
       "        2.11538462e-01, 1.92307692e-02, 2.00000000e-01, 8.55750487e-01,\n",
       "        7.38000000e+02, 4.99700012e+01, 4.85569115e+01],\n",
       "       [5.00924988e+01, 4.95074997e+01, 4.98650017e+01, 8.60560000e+07,\n",
       "        5.91430810e-02, 6.60244898e-02, 6.18001544e-02, 1.06565336e-01,\n",
       "        7.69230769e-02, 2.50000000e-01, 1.63636364e-01, 3.47758285e-01,\n",
       "        7.37000000e+02, 5.01525002e+01, 4.89470978e+01],\n",
       "       [4.97000008e+01, 4.95374985e+01, 4.96949997e+01, 1.91202400e+08,\n",
       "        5.54184844e-02, 6.63098867e-02, 6.01937099e-02, 3.82495237e-01,\n",
       "        9.61538462e-02, 3.84615385e-02, 5.45454545e-02, 7.07602339e-01,\n",
       "        7.36000000e+02, 5.02125015e+01, 4.87802238e+01],\n",
       "       [4.96349983e+01, 4.95424995e+01, 4.96450005e+01, 7.28816000e+07,\n",
       "        5.48016459e-02, 6.63574649e-02, 5.97212389e-02, 7.19924842e-02,\n",
       "        2.69230769e-01, 7.69230769e-02, 1.81818182e-01, 7.63352827e-01,\n",
       "        7.33000000e+02, 5.00400009e+01, 4.87311440e+01],\n",
       "       [4.96074982e+01, 4.88224983e+01, 4.88925018e+01, 8.42812000e+07,\n",
       "        5.45406841e-02, 5.95076490e-02, 5.26104553e-02, 1.01907826e-01,\n",
       "        7.69230769e-02, 3.84615385e-02, 1.09090909e-01, 7.07602339e-01,\n",
       "        7.32000000e+02, 4.98149986e+01, 4.79925003e+01],\n",
       "       [4.94425011e+01, 4.93375015e+01, 4.99500008e+01, 1.04270000e+08,\n",
       "        5.29749497e-02, 6.44071923e-02, 6.26033587e-02, 1.54363332e-01,\n",
       "        1.53846154e-01, 3.84615385e-02, 9.09090909e-02, 7.78947368e-01,\n",
       "        7.31000000e+02, 5.02475014e+01, 4.90305328e+01]])"
      ]
     },
     "execution_count": 19,
     "metadata": {},
     "output_type": "execute_result"
    }
   ],
   "source": [
    "X[0:60]"
   ]
  },
  {
   "cell_type": "code",
   "execution_count": 20,
   "id": "919d2793",
   "metadata": {},
   "outputs": [
    {
     "name": "stdout",
     "output_type": "stream",
     "text": [
      "(577,)\n",
      "(577, 15)\n"
     ]
    }
   ],
   "source": [
    "print(y.shape)\n",
    "print(X.shape)"
   ]
  },
  {
   "cell_type": "code",
   "execution_count": 21,
   "id": "1883b3f4",
   "metadata": {},
   "outputs": [],
   "source": [
    "X_train = []\n",
    "y_train = []\n",
    "for i in range(10, 547):\n",
    "    X_train.append(X[i-10:i])\n",
    "    y_train.append(y[i])"
   ]
  },
  {
   "cell_type": "code",
   "execution_count": 19,
   "id": "ca21a1f9",
   "metadata": {},
   "outputs": [],
   "source": [
    "# X_train = X[:-30,:]\n",
    "# y_train = y[:-30]\n",
    "# X_test = X[-30:,]\n",
    "# y_test = y[-30:]\n"
   ]
  },
  {
   "cell_type": "code",
   "execution_count": null,
   "id": "a11a866f",
   "metadata": {},
   "outputs": [],
   "source": []
  },
  {
   "cell_type": "code",
   "execution_count": 22,
   "id": "99a5e5bd",
   "metadata": {},
   "outputs": [],
   "source": [
    "X_train, y_train = np.array(X_train), np.array(y_train)"
   ]
  },
  {
   "cell_type": "code",
   "execution_count": 23,
   "id": "041a4139",
   "metadata": {},
   "outputs": [
    {
     "data": {
      "text/plain": [
       "(537, 10, 15)"
      ]
     },
     "execution_count": 23,
     "metadata": {},
     "output_type": "execute_result"
    }
   ],
   "source": [
    "X_train.shape"
   ]
  },
  {
   "cell_type": "code",
   "execution_count": 24,
   "id": "5991b884",
   "metadata": {},
   "outputs": [
    {
     "data": {
      "text/plain": [
       "(537,)"
      ]
     },
     "execution_count": 24,
     "metadata": {},
     "output_type": "execute_result"
    }
   ],
   "source": [
    "y_train.shape"
   ]
  },
  {
   "cell_type": "code",
   "execution_count": 25,
   "id": "e550f4c6",
   "metadata": {},
   "outputs": [],
   "source": [
    "from tensorflow.keras import models\n",
    "from tensorflow.keras import layers, Sequential\n",
    "from tensorflow.keras.layers import LSTM, Dropout, Dense\n",
    "from tensorflow.keras.optimizers import RMSprop\n",
    "from tensorflow.keras.layers.experimental.preprocessing import Normalization\n",
    "from tensorflow.keras.callbacks import EarlyStopping\n",
    "def init_article_model():\n",
    "    model = Sequential()\n",
    "    #Adding the first LSTM layer and some Dropout regularisation\n",
    "    model.add(LSTM(units = 50, return_sequences = True))\n",
    "    model.add(Dropout(0.2))\n",
    "    # Adding a second LSTM layer and some Dropout regularisation\n",
    "    model.add(LSTM(units = 50, return_sequences = True))\n",
    "    model.add(Dropout(0.2))\n",
    "    # Adding a third LSTM layer and some Dropout regularisation\n",
    "    model.add(LSTM(units = 50, return_sequences = True))\n",
    "    model.add(Dropout(0.2))\n",
    "    # Adding a fourth LSTM layer and some Dropout regularisation\n",
    "    model.add(LSTM(units = 50))\n",
    "    model.add(Dropout(0.2))\n",
    "    # Adding the output layer\n",
    "    model.add(Dense(units = 1))\n",
    "\n",
    "    # Compiling the RNN\n",
    "    model.compile(optimizer = 'adam', loss = 'mse')\n",
    "    \n",
    "    return model\n",
    "\n",
    "def tanise_model():\n",
    "    #normalizar o x train\n",
    "    model = models.Sequential()\n",
    "    model.add(layers.Masking(mask_value=-1000.))\n",
    "    model.add(layers.LSTM(20, return_sequences=True, activation='tanh'))\n",
    "    model.add(layers.LSTM(10, return_sequences=False, activation='tanh'))\n",
    "    model.add(layers.Dense(8, activation='relu'))\n",
    "    model.add(layers.Dense(30, activation='linear'))\n",
    "    \n",
    "  #  model.compile(loss='mse', \n",
    "  #                optimizer='rmsprop', \n",
    "  #                metrics=['mae'])\n",
    "    model.compile(loss='mse', \n",
    "                  optimizer=RMSprop(learning_rate=0.003), \n",
    "                  metrics=['mae'])\n",
    "    \n",
    "    return model"
   ]
  },
  {
   "cell_type": "code",
   "execution_count": 26,
   "id": "ed14c921",
   "metadata": {},
   "outputs": [
    {
     "data": {
      "text/plain": [
       "(537, 10, 15)"
      ]
     },
     "execution_count": 26,
     "metadata": {},
     "output_type": "execute_result"
    }
   ],
   "source": [
    "X_train.shape"
   ]
  },
  {
   "cell_type": "code",
   "execution_count": 27,
   "id": "4db3697d",
   "metadata": {},
   "outputs": [
    {
     "data": {
      "text/plain": [
       "(537,)"
      ]
     },
     "execution_count": 27,
     "metadata": {},
     "output_type": "execute_result"
    }
   ],
   "source": [
    "y_train.shape"
   ]
  },
  {
   "cell_type": "code",
   "execution_count": 28,
   "id": "5e08ca45",
   "metadata": {},
   "outputs": [
    {
     "name": "stderr",
     "output_type": "stream",
     "text": [
      "2021-08-08 19:44:21.472046: I tensorflow/core/platform/cpu_feature_guard.cc:142] This TensorFlow binary is optimized with oneAPI Deep Neural Network Library (oneDNN) to use the following CPU instructions in performance-critical operations:  AVX2 FMA\n",
      "To enable them in other operations, rebuild TensorFlow with the appropriate compiler flags.\n",
      "2021-08-08 19:44:21.595708: I tensorflow/compiler/mlir/mlir_graph_optimization_pass.cc:176] None of the MLIR Optimization Passes are enabled (registered 2)\n"
     ]
    },
    {
     "name": "stdout",
     "output_type": "stream",
     "text": [
      "Epoch 1/5\n",
      "45/45 [==============================] - 10s 13ms/step - loss: 8.9909e-04 - mae: 0.0193\n",
      "Epoch 2/5\n",
      "45/45 [==============================] - 1s 14ms/step - loss: 5.6252e-04 - mae: 0.0165\n",
      "Epoch 3/5\n",
      "45/45 [==============================] - 1s 13ms/step - loss: 5.5758e-04 - mae: 0.0164\n",
      "Epoch 4/5\n",
      "45/45 [==============================] - 1s 14ms/step - loss: 5.6635e-04 - mae: 0.0166\n",
      "Epoch 5/5\n",
      "45/45 [==============================] - 1s 13ms/step - loss: 5.6248e-04 - mae: 0.0165\n"
     ]
    }
   ],
   "source": [
    "# Fitting the RNN to the Training set\n",
    "tesla_model = tanise_model()\n",
    "callback = EarlyStopping(monitor='loss', patience=3)\n",
    "fitted = tesla_model.fit(X_train, y_train, epochs = 5, batch_size = 12, callbacks=[callback])"
   ]
  },
  {
   "cell_type": "code",
   "execution_count": null,
   "id": "5dd23aee",
   "metadata": {},
   "outputs": [],
   "source": [
    "# # Getting the predicted stock price of 2017\n",
    "# dataset_train = X.iloc[:780, :]\n",
    "# dataset_test = y.iloc[780,:]\n",
    "# dataset_total = pd.concat((dataset_train, dataset_test), axis = 0)\n",
    "# # inputs = dataset_total[len(dataset_total) - len(dataset_test) - 60:].values\n",
    "# # inputs = inputs.reshape(-1,1)\n",
    "# # inputs = sc.transform(inputs)\n",
    "# # X_test = []\n",
    "# for i in range(60, 519):\n",
    "#     X_test.append(inputs[i-60:i, 0])\n",
    "# X_test = np.array(X_test)\n",
    "# X_test = np.reshape(X_test, (X_test.shape[0], X_test.shape[1], 1))\n",
    "# print(X_test.shape)"
   ]
  },
  {
   "cell_type": "code",
   "execution_count": 29,
   "id": "c4819414",
   "metadata": {},
   "outputs": [
    {
     "data": {
      "text/plain": [
       "577"
      ]
     },
     "execution_count": 29,
     "metadata": {},
     "output_type": "execute_result"
    }
   ],
   "source": [
    "len(X)"
   ]
  },
  {
   "cell_type": "code",
   "execution_count": 30,
   "id": "702b9672",
   "metadata": {},
   "outputs": [
    {
     "data": {
      "text/plain": [
       "537"
      ]
     },
     "execution_count": 30,
     "metadata": {},
     "output_type": "execute_result"
    }
   ],
   "source": [
    "len(X_train)"
   ]
  },
  {
   "cell_type": "code",
   "execution_count": 31,
   "id": "f7a3fcd7",
   "metadata": {},
   "outputs": [],
   "source": [
    "X_test = []\n",
    "y_test = []\n",
    "for i in range(547, len(X)):\n",
    "    X_test.append(X[i-10:i])\n",
    "    y_test.append(y[i])"
   ]
  },
  {
   "cell_type": "code",
   "execution_count": 32,
   "id": "3a03ecf6",
   "metadata": {},
   "outputs": [
    {
     "data": {
      "text/plain": [
       "array([[[123.16000366, 122.86000061, 124.69000244, ...,  54.        ,\n",
       "         124.91999817, 124.69000244],\n",
       "        [125.23000336, 125.09999847, 127.30999756, ...,  53.        ,\n",
       "         127.72000122, 127.30999756],\n",
       "        [127.81999969, 125.20999908, 125.43000031, ...,  52.        ,\n",
       "         128.        , 125.43000031],\n",
       "        ...,\n",
       "        [125.56999969, 124.55000305, 124.61000061, ...,  45.        ,\n",
       "         125.80000305, 124.61000061],\n",
       "        [125.08000183, 123.94000244, 124.27999878, ...,  41.        ,\n",
       "         125.34999847, 124.27999878],\n",
       "        [124.27999878, 124.05000305, 125.05999756, ...,  40.        ,\n",
       "         125.23999786, 125.05999756]],\n",
       "\n",
       "       [[125.23000336, 125.09999847, 127.30999756, ...,  53.        ,\n",
       "         127.72000122, 127.30999756],\n",
       "        [127.81999969, 125.20999908, 125.43000031, ...,  52.        ,\n",
       "         128.        , 125.43000031],\n",
       "        [126.01000214, 125.94000244, 127.09999847, ...,  49.        ,\n",
       "         127.94000244, 127.09999847],\n",
       "        ...,\n",
       "        [125.08000183, 123.94000244, 124.27999878, ...,  41.        ,\n",
       "         125.34999847, 124.27999878],\n",
       "        [124.27999878, 124.05000305, 125.05999756, ...,  40.        ,\n",
       "         125.23999786, 125.05999756],\n",
       "        [124.68000031, 123.12999725, 123.54000092, ...,  39.        ,\n",
       "         124.84999847, 123.54000092]],\n",
       "\n",
       "       [[127.81999969, 125.20999908, 125.43000031, ...,  52.        ,\n",
       "         128.        , 125.43000031],\n",
       "        [126.01000214, 125.94000244, 127.09999847, ...,  49.        ,\n",
       "         127.94000244, 127.09999847],\n",
       "        [127.81999969, 126.31999969, 126.90000153, ...,  48.        ,\n",
       "         128.32000732, 126.90000153],\n",
       "        ...,\n",
       "        [124.27999878, 124.05000305, 125.05999756, ...,  40.        ,\n",
       "         125.23999786, 125.05999756],\n",
       "        [124.68000031, 123.12999725, 123.54000092, ...,  39.        ,\n",
       "         124.84999847, 123.54000092],\n",
       "        [124.06999969, 123.84999847, 125.88999939, ...,  38.        ,\n",
       "         126.16000366, 125.88999939]],\n",
       "\n",
       "       ...,\n",
       "\n",
       "       [[133.41000366, 133.3500061 , 134.77999878, ...,  15.        ,\n",
       "         135.25      , 134.77999878],\n",
       "        [134.80000305, 134.3500061 , 136.33000183, ...,  14.        ,\n",
       "         136.49000549, 136.33000183],\n",
       "        [136.16999817, 135.86999512, 136.96000671, ...,  13.        ,\n",
       "         137.41000366, 136.96000671],\n",
       "        ...,\n",
       "        [141.58000183, 140.66999817, 143.24000549, ...,   7.        ,\n",
       "         144.05999756, 143.24000549],\n",
       "        [142.75      , 142.6499939 , 145.11000061, ...,   6.        ,\n",
       "         145.6499939 , 145.11000061],\n",
       "        [146.21000671, 144.        , 144.5       , ...,   3.        ,\n",
       "         146.32000732, 144.5       ]],\n",
       "\n",
       "       [[134.80000305, 134.3500061 , 136.33000183, ...,  14.        ,\n",
       "         136.49000549, 136.33000183],\n",
       "        [136.16999817, 135.86999512, 136.96000671, ...,  13.        ,\n",
       "         137.41000366, 136.96000671],\n",
       "        [136.6000061 , 135.75999451, 137.27000427, ...,  12.        ,\n",
       "         137.33000183, 137.27000427],\n",
       "        ...,\n",
       "        [142.75      , 142.6499939 , 145.11000061, ...,   6.        ,\n",
       "         145.6499939 , 145.11000061],\n",
       "        [146.21000671, 144.        , 144.5       , ...,   3.        ,\n",
       "         146.32000732, 144.5       ],\n",
       "        [144.02999878, 143.63000488, 145.63999939, ...,   2.        ,\n",
       "         147.46000671, 145.63999939]],\n",
       "\n",
       "       [[136.16999817, 135.86999512, 136.96000671, ...,  13.        ,\n",
       "         137.41000366, 136.96000671],\n",
       "        [136.6000061 , 135.75999451, 137.27000427, ...,  12.        ,\n",
       "         137.33000183, 137.27000427],\n",
       "        [137.8999939 , 137.75      , 139.96000671, ...,  11.        ,\n",
       "         140.        , 139.96000671],\n",
       "        ...,\n",
       "        [146.21000671, 144.        , 144.5       , ...,   3.        ,\n",
       "         146.32000732, 144.5       ],\n",
       "        [144.02999878, 143.63000488, 145.63999939, ...,   2.        ,\n",
       "         147.46000671, 145.63999939],\n",
       "        [148.1000061 , 147.67999268, 149.1499939 , ...,   1.        ,\n",
       "         149.57000732, 149.1499939 ]]])"
      ]
     },
     "execution_count": 32,
     "metadata": {},
     "output_type": "execute_result"
    }
   ],
   "source": [
    "X_test = np.array(X_test)\n",
    "X_test"
   ]
  },
  {
   "cell_type": "code",
   "execution_count": 33,
   "id": "4a7be047",
   "metadata": {},
   "outputs": [
    {
     "data": {
      "text/plain": [
       "(30, 10, 15)"
      ]
     },
     "execution_count": 33,
     "metadata": {},
     "output_type": "execute_result"
    }
   ],
   "source": [
    "X_test.shape"
   ]
  },
  {
   "cell_type": "code",
   "execution_count": 34,
   "id": "5081c4cf",
   "metadata": {},
   "outputs": [],
   "source": [
    "previsao = tesla_model.predict(X_test)"
   ]
  },
  {
   "cell_type": "code",
   "execution_count": 35,
   "id": "0ee3914b",
   "metadata": {},
   "outputs": [
    {
     "data": {
      "text/plain": [
       "(30, 30)"
      ]
     },
     "execution_count": 35,
     "metadata": {},
     "output_type": "execute_result"
    }
   ],
   "source": [
    "tesla_model.predict(X_test).shape"
   ]
  },
  {
   "cell_type": "code",
   "execution_count": 36,
   "id": "bc9224dc",
   "metadata": {},
   "outputs": [
    {
     "data": {
      "text/plain": [
       "array([-0.0053075, -0.0053075, -0.0053075, -0.0053075, -0.0053075,\n",
       "       -0.0053075, -0.0053075, -0.0053075, -0.0053075, -0.0053075,\n",
       "       -0.0053075, -0.0053075, -0.0053075, -0.0053075, -0.0053075,\n",
       "       -0.0053075, -0.0053075, -0.0053075, -0.0053075, -0.0053075,\n",
       "       -0.0053075, -0.0053075, -0.0053075, -0.0053075, -0.0053075,\n",
       "       -0.0053075, -0.0053075, -0.0053075, -0.0053075, -0.0053075],\n",
       "      dtype=float32)"
      ]
     },
     "execution_count": 36,
     "metadata": {},
     "output_type": "execute_result"
    }
   ],
   "source": [
    "previsao[0]"
   ]
  },
  {
   "cell_type": "code",
   "execution_count": 37,
   "id": "bf674fc2",
   "metadata": {},
   "outputs": [
    {
     "data": {
      "text/plain": [
       "[<matplotlib.lines.Line2D at 0x158603760>]"
      ]
     },
     "execution_count": 37,
     "metadata": {},
     "output_type": "execute_result"
    },
    {
     "data": {
      "image/png": "[encoded data removed]",
      "text/plain": [
       "<Figure size 432x288 with 1 Axes>"
      ]
     },
     "metadata": {
      "needs_background": "light"
     },
     "output_type": "display_data"
    }
   ],
   "source": [
    "plt.plot(tsla_df['retorno'])"
   ]
  },
  {
   "cell_type": "code",
   "execution_count": 39,
   "id": "7460b14d",
   "metadata": {},
   "outputs": [
    {
     "data": {
      "text/plain": [
       "[<matplotlib.lines.Line2D at 0x1587aafa0>]"
      ]
     },
     "execution_count": 39,
     "metadata": {},
     "output_type": "execute_result"
    },
    {
     "data": {
      "image/png": "[encoded data removed]",
      "text/plain": [
       "<Figure size 432x288 with 1 Axes>"
      ]
     },
     "metadata": {
      "needs_background": "light"
     },
     "output_type": "display_data"
    }
   ],
   "source": [
    "plt.plot(previsao[0])\n",
    "plt.plot(y_test)"
   ]
  },
  {
   "cell_type": "code",
   "execution_count": 34,
   "id": "eeaad162",
   "metadata": {},
   "outputs": [
    {
     "data": {
      "text/plain": [
       "array([ 6.0000550e-03,  6.6770427e-04,  8.8357888e-03, -4.3984540e-03,\n",
       "        4.0360708e-03,  5.4935301e-03,  6.8415450e-03,  8.0767460e-03,\n",
       "        8.6272452e-03,  7.2241053e-03, -1.2025610e-03,  5.5446401e-03,\n",
       "        6.2487684e-03,  6.1882092e-03, -2.2658715e-03, -1.3665073e-03,\n",
       "        6.4451955e-03,  7.9403371e-03,  9.1592651e-03,  4.1969307e-04,\n",
       "        9.2163216e-05,  1.0435515e-02,  7.1953703e-03,  9.4576534e-03,\n",
       "        8.1165181e-04,  1.8875040e-03, -4.1180290e-05, -4.2155315e-04,\n",
       "        4.6143681e-03,  4.1573653e-03], dtype=float32)"
      ]
     },
     "execution_count": 34,
     "metadata": {},
     "output_type": "execute_result"
    }
   ],
   "source": [
    "previsao[0]"
   ]
  },
  {
   "cell_type": "code",
   "execution_count": 40,
   "id": "6a0eafdc",
   "metadata": {},
   "outputs": [
    {
     "data": {
      "text/plain": [
       "array([-0.0053075, -0.0053075, -0.0053075, -0.0053075, -0.0053075,\n",
       "       -0.0053075, -0.0053075, -0.0053075, -0.0053075, -0.0053075,\n",
       "       -0.0053075, -0.0053075, -0.0053075, -0.0053075, -0.0053075,\n",
       "       -0.0053075, -0.0053075, -0.0053075, -0.0053075, -0.0053075,\n",
       "       -0.0053075, -0.0053075, -0.0053075, -0.0053075, -0.0053075,\n",
       "       -0.0053075, -0.0053075, -0.0053075, -0.0053075, -0.0053075],\n",
       "      dtype=float32)"
      ]
     },
     "execution_count": 40,
     "metadata": {},
     "output_type": "execute_result"
    }
   ],
   "source": [
    "previsao[0]"
   ]
  },
  {
   "cell_type": "code",
   "execution_count": null,
   "id": "890c28c6",
   "metadata": {},
   "outputs": [],
   "source": []
  }
 ],
 "metadata": {
  "kernelspec": {
   "display_name": "Python 3 (ipykernel)",
   "language": "python",
   "name": "python3"
  },
  "language_info": {
   "codemirror_mode": {
    "name": "ipython",
    "version": 3
   },
   "file_extension": ".py",
   "mimetype": "text/x-python",
   "name": "python",
   "nbconvert_exporter": "python",
   "pygments_lexer": "ipython3",
   "version": "3.8.6"
  }
 },
 "nbformat": 4,
 "nbformat_minor": 5
}
