{
 "cells": [
  {
   "cell_type": "code",
   "execution_count": 1,
   "id": "7af3b719",
   "metadata": {},
   "outputs": [
    {
     "name": "stdout",
     "output_type": "stream",
     "text": [
      "Collecting yahoo-finance\n",
      "  Downloading yahoo-finance-1.4.0.tar.gz (8.9 kB)\n",
      "Requirement already satisfied: pytz in /Users/netoconcon/.pyenv/versions/3.8.6/envs/next_trend/lib/python3.8/site-packages (from yahoo-finance) (2021.1)\n",
      "Collecting simplejson\n",
      "  Downloading simplejson-3.17.3-cp38-cp38-macosx_10_9_x86_64.whl (74 kB)\n",
      "\u001b[K     |████████████████████████████████| 74 kB 418 kB/s eta 0:00:01\n",
      "\u001b[?25hBuilding wheels for collected packages: yahoo-finance\n",
      "  Building wheel for yahoo-finance (setup.py) ... \u001b[?25ldone\n",
      "\u001b[?25h  Created wheel for yahoo-finance: filename=yahoo_finance-1.4.0-py3-none-any.whl size=7232 sha256=e39097119f89f92a9be45441fcb49c27a71599e0270949e94aab9f66f5bc4fc9\n",
      "  Stored in directory: /Users/netoconcon/Library/Caches/pip/wheels/80/c8/73/b05bf4d7f056ee7be447dedbc38e2acaf923e2c70828605f34\n",
      "Successfully built yahoo-finance\n",
      "Installing collected packages: simplejson, yahoo-finance\n",
      "Successfully installed simplejson-3.17.3 yahoo-finance-1.4.0\n"
     ]
    }
   ],
   "source": [
    "# !pip install yahoo-finance"
   ]
  },
  {
   "cell_type": "code",
   "execution_count": 2,
   "id": "99bb0968",
   "metadata": {},
   "outputs": [],
   "source": [
    "# canonical import\n",
    "import pandas as pd"
   ]
  },
  {
   "cell_type": "code",
   "execution_count": 3,
   "id": "f3500133",
   "metadata": {},
   "outputs": [],
   "source": [
    "reddit_df = pd.read_csv('reddit_new_strategy.csv')"
   ]
  },
  {
   "cell_type": "code",
   "execution_count": 17,
   "id": "48445e36",
   "metadata": {},
   "outputs": [
    {
     "data": {
      "text/plain": [
       "ALLY    5297\n",
       "ACCO    2963\n",
       "ARES    1615\n",
       "ALLE    1253\n",
       "KING    1152\n",
       "ELLI     511\n",
       "ECOM     211\n",
       "RICE     206\n",
       "TIME     187\n",
       "LOCK     148\n",
       "STOR     128\n",
       "COUP     119\n",
       "STRI      84\n",
       "MILL      83\n",
       "STON      78\n",
       "STAY      71\n",
       "ALEX      68\n",
       "ATEN      54\n",
       "EMES      53\n",
       "CIEN      48\n",
       "ANET      47\n",
       "SERV      41\n",
       "MAIN      39\n",
       "DOOR      36\n",
       "ACRE      32\n",
       "CATO      31\n",
       "EXPR      29\n",
       "EHIC      29\n",
       "ATTO      27\n",
       "BABA      26\n",
       "GLOB      26\n",
       "IMPR      20\n",
       "RESI      20\n",
       "ESNT      20\n",
       "HASI      18\n",
       "AMID      16\n",
       "MITT      15\n",
       "DANG      15\n",
       "MANU      15\n",
       "BORN      15\n",
       "SCHW      15\n",
       "GRAM      14\n",
       "CIVI      14\n",
       "KEYS      14\n",
       "Name: stock_body, dtype: int64"
      ]
     },
     "execution_count": 17,
     "metadata": {},
     "output_type": "execute_result"
    }
   ],
   "source": []
  }
 ],
 "metadata": {
  "kernelspec": {
   "display_name": "Python 3 (ipykernel)",
   "language": "python",
   "name": "python3"
  },
  "language_info": {
   "codemirror_mode": {
    "name": "ipython",
    "version": 3
   },
   "file_extension": ".py",
   "mimetype": "text/x-python",
   "name": "python",
   "nbconvert_exporter": "python",
   "pygments_lexer": "ipython3",
   "version": "3.8.6"
  }
 },
 "nbformat": 4,
 "nbformat_minor": 5
}
