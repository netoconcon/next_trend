{
 "cells": [
  {
   "cell_type": "code",
   "execution_count": 1,
   "id": "8e06f70b",
   "metadata": {},
   "outputs": [],
   "source": [
    "# canonical import\n",
    "import pandas as pd\n",
    "import numpy as np"
   ]
  },
  {
   "cell_type": "code",
   "execution_count": 2,
   "id": "277d5d95",
   "metadata": {},
   "outputs": [],
   "source": [
    "# get data\n",
    "reddit_df = pd.read_csv('../raw_data/reddit_with_sentiments_finbert.csv')\n",
    "gme_df = pd.read_csv('../raw_data/GME.csv')"
   ]
  },
  {
   "cell_type": "code",
   "execution_count": 7,
   "id": "e5c2de79",
   "metadata": {},
   "outputs": [
    {
     "data": {
      "text/plain": [
       "'2021-01-28'"
      ]
     },
     "execution_count": 7,
     "metadata": {},
     "output_type": "execute_result"
    }
   ],
   "source": [
    "reddit_df['timestamp'][0].split()[0]"
   ]
  },
  {
   "cell_type": "code",
   "execution_count": 9,
   "id": "9c921228",
   "metadata": {},
   "outputs": [],
   "source": [
    "reddit_df['Date'] = reddit_df['timestamp'][0].split()[0]"
   ]
  },
  {
   "cell_type": "code",
   "execution_count": 10,
   "id": "5f2f22a6",
   "metadata": {},
   "outputs": [],
   "source": []
  },
  {
   "cell_type": "code",
   "execution_count": 11,
   "id": "58c6842a",
   "metadata": {},
   "outputs": [],
   "source": [
    "final_df = reddit_df[['Date', 'body_sentiment', 'Volume_x', 'Close_x']]"
   ]
  },
  {
   "cell_type": "code",
   "execution_count": null,
   "id": "1e9d2aed",
   "metadata": {},
   "outputs": [],
   "source": [
    "final_df = final_df.dropna"
   ]
  },
  {
   "cell_type": "code",
   "execution_count": null,
   "id": "48de743f",
   "metadata": {},
   "outputs": [],
   "source": [
    "\n",
    "reddit_df['Date'] = reddit_df['timestamp'][0].split()[0]\n",
    "reddit_df = reddit_df.merge(gme_df, how='outer', on='Date')\n"
   ]
  },
  {
   "cell_type": "code",
   "execution_count": 32,
   "id": "92323162",
   "metadata": {},
   "outputs": [],
   "source": [
    "def average_sentiment(x):\n",
    "    if x == \"negative\":\n",
    "        return -1\n",
    "    return 1"
   ]
  },
  {
   "cell_type": "code",
   "execution_count": 35,
   "id": "842cb362",
   "metadata": {},
   "outputs": [],
   "source": [
    "final_df['average_feeling'] = final_df['body_sentiment'].map(lambda x: average_sentiment(x))"
   ]
  }
 ],
 "metadata": {
  "kernelspec": {
   "display_name": "Python 3 (ipykernel)",
   "language": "python",
   "name": "python3"
  },
  "language_info": {
   "codemirror_mode": {
    "name": "ipython",
    "version": 3
   },
   "file_extension": ".py",
   "mimetype": "text/x-python",
   "name": "python",
   "nbconvert_exporter": "python",
   "pygments_lexer": "ipython3",
   "version": "3.8.6"
  }
 },
 "nbformat": 4,
 "nbformat_minor": 5
}
